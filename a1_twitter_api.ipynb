{
 "cells": [
  {
   "cell_type": "markdown",
   "source": [
    "*****************************************************************\n",
    "#  The Social Web \n",
    "- Instructors Jacco van Ossenbruggen, Dayana Spagnuelo\n",
    "- TAs Michael Accetto, Oktay Kavi, Abhirup Mukherjee, Nihat Uzunalioğlu\n",
    "*****************************************************************"
   ],
   "metadata": {}
  },
  {
   "cell_type": "markdown",
   "source": [
    "Prerequisites:\n",
    "- Python 3.8\n",
    "- Python packages: twitter, prettytable, matplotlib\n",
    "\n",
    "First you need to know how to retrieve some social web data. Exercises 1 and 2 will show you how to retrieve trends and search results from Twitter. \n",
    "\n",
    "But let's check first if we're running a sufficiently new version of Python:"
   ],
   "metadata": {}
  },
  {
   "cell_type": "code",
   "execution_count": 28,
   "source": [
    "import platform\n",
    "import sys\n",
    "print(\"This jupyter notebook is running on Python \" + platform.python_version())\n",
    "# It's good practice to assert packages requirements at the beginning of a script:\n",
    "assert sys.version_info >= (3, 6) # Tested with Python==3.7.5"
   ],
   "outputs": [
    {
     "name": "stdout",
     "output_type": "stream",
     "text": [
      "This jupyter notebook is running on Python 3.8.0\n"
     ]
    }
   ],
   "metadata": {}
  },
  {
   "cell_type": "markdown",
   "source": [
    "Let's install now the required packages for this hands on session:"
   ],
   "metadata": {}
  },
  {
   "cell_type": "code",
   "execution_count": 29,
   "source": [
    "# If you're using a virtualenv, make sure its activated before running \n",
    "# this cell!\n",
    "!pip install twitter PrettyTable matplotlib"
   ],
   "outputs": [
    {
     "name": "stdout",
     "output_type": "stream",
     "text": [
      "Requirement already satisfied: twitter in u:\\courses\\social web\\sw_virtual_environment\\lib\\site-packages (1.19.3)\n",
      "Requirement already satisfied: PrettyTable in u:\\courses\\social web\\sw_virtual_environment\\lib\\site-packages (2.2.1)\n",
      "Requirement already satisfied: matplotlib in u:\\courses\\social web\\sw_virtual_environment\\lib\\site-packages (3.4.3)\n",
      "Requirement already satisfied: wcwidth in u:\\courses\\social web\\sw_virtual_environment\\lib\\site-packages (from PrettyTable) (0.2.5)\n",
      "Requirement already satisfied: pyparsing>=2.2.1 in u:\\courses\\social web\\sw_virtual_environment\\lib\\site-packages (from matplotlib) (2.4.7)\n",
      "Requirement already satisfied: pillow>=6.2.0 in u:\\courses\\social web\\sw_virtual_environment\\lib\\site-packages (from matplotlib) (8.4.0)\n",
      "Requirement already satisfied: cycler>=0.10 in u:\\courses\\social web\\sw_virtual_environment\\lib\\site-packages (from matplotlib) (0.11.0)\n",
      "Requirement already satisfied: numpy>=1.16 in u:\\courses\\social web\\sw_virtual_environment\\lib\\site-packages (from matplotlib) (1.21.3)\n",
      "Requirement already satisfied: python-dateutil>=2.7 in u:\\courses\\social web\\sw_virtual_environment\\lib\\site-packages (from matplotlib) (2.8.2)\n",
      "Requirement already satisfied: kiwisolver>=1.0.1 in u:\\courses\\social web\\sw_virtual_environment\\lib\\site-packages (from matplotlib) (1.3.2)\n",
      "Requirement already satisfied: six>=1.5 in u:\\courses\\social web\\sw_virtual_environment\\lib\\site-packages (from python-dateutil>=2.7->matplotlib) (1.16.0)\n"
     ]
    }
   ],
   "metadata": {}
  },
  {
   "cell_type": "markdown",
   "source": [
    "## Part 1: Authorizing an application to access Twitter account data (from Example 1-1/9-1 in Mining the Social Web):\n",
    "\n",
    "1. Make sure to add your mobile phone number to your private twitter profile.\n",
    "2. Go to https://apps.twitter.com/ and click on \"create an app\". Twitter will prompt you to create a *developer account*.\n",
    "3. You'll receive an *account confirmation* email with a link. Follow it and create an app. \n",
    "4. Once the app is created, you'll see a \"Keys and Token\" item on the top left-hand side corner of the webpage. These values will be needed to fill in the next cell.\n",
    "5. Please delete all your keys before submission."
   ],
   "metadata": {}
  },
  {
   "cell_type": "code",
   "execution_count": 30,
   "source": [
    "import twitter # Tell Python to use the twitter package\n",
    "CONSUMER_KEY = 'FAbqbVdJayi3yKuaUcZf9hrmn'\n",
    "CONSUMER_SECRET = 'lmXhbcqVBEps6lMULr4QsQUDn3NPGPQB8dSRAnHphUG8Uq3qaN'\n",
    "# to get the oauth credential you need to click on the 'Generate access token' button:\n",
    "OAUTH_TOKEN = '1454475914511794185-ZfyTUMZ92mUFGDlYnJxUTEllebp5Zx'\n",
    "OAUTH_TOKEN_SECRET = 'BShxMUZQQ7I2CGDqwnWhwFZ8nEsHSuCzoPVXM9PofRFYo'\n",
    "auth = twitter.oauth.OAuth(OAUTH_TOKEN, OAUTH_TOKEN_SECRET,CONSUMER_KEY, CONSUMER_SECRET)\n",
    "twitter_api = twitter.Twitter(auth=auth)\n",
    "print(twitter_api) \n",
    "# Nothing to see by displaying twitter_api except that it's now a defined variable\n"
   ],
   "outputs": [
    {
     "name": "stdout",
     "output_type": "stream",
     "text": [
      "<twitter.api.Twitter object at 0x000002D4204CC070>\n"
     ]
    }
   ],
   "metadata": {}
  },
  {
   "cell_type": "markdown",
   "source": [
    "### 1.1: Retrieving twitter search trends (from Example 1-2/9-2 in Mining the Social Web)"
   ],
   "metadata": {}
  },
  {
   "cell_type": "code",
   "execution_count": 31,
   "source": [
    "WORLD_WOE_ID = 1 # The \"Yahoo! Where On Earth ID\" for the entire world\n",
    "world_trends = twitter_api.trends.place(_id=WORLD_WOE_ID) # get back a callable\n",
    "print(world_trends)"
   ],
   "outputs": [
    {
     "name": "stdout",
     "output_type": "stream",
     "text": [
      "[{'trends': [{'name': '#Favorite2ndWin', 'url': 'http://twitter.com/search?q=%23Favorite2ndWin', 'promoted_content': None, 'query': '%23Favorite2ndWin', 'tweet_volume': 339047}, {'name': '#ホロライブ大運動会2021', 'url': 'http://twitter.com/search?q=%23%E3%83%9B%E3%83%AD%E3%83%A9%E3%82%A4%E3%83%96%E5%A4%A7%E9%81%8B%E5%8B%95%E4%BC%9A2021', 'promoted_content': None, 'query': '%23%E3%83%9B%E3%83%AD%E3%83%A9%E3%82%A4%E3%83%96%E5%A4%A7%E9%81%8B%E5%8B%95%E4%BC%9A2021', 'tweet_volume': 194717}, {'name': '#njpst', 'url': 'http://twitter.com/search?q=%23njpst', 'promoted_content': None, 'query': '%23njpst', 'tweet_volume': 10405}, {'name': '#chibalotte', 'url': 'http://twitter.com/search?q=%23chibalotte', 'promoted_content': None, 'query': '%23chibalotte', 'tweet_volume': 53527}, {'name': '#ASTROWORLDFest', 'url': 'http://twitter.com/search?q=%23ASTROWORLDFest', 'promoted_content': None, 'query': '%23ASTROWORLDFest', 'tweet_volume': 51655}, {'name': 'まりほー', 'url': 'http://twitter.com/search?q=%E3%81%BE%E3%82%8A%E3%81%BB%E3%83%BC', 'promoted_content': None, 'query': '%E3%81%BE%E3%82%8A%E3%81%BB%E3%83%BC', 'tweet_volume': None}, {'name': 'マリノス', 'url': 'http://twitter.com/search?q=%E3%83%9E%E3%83%AA%E3%83%8E%E3%82%B9', 'promoted_content': None, 'query': '%E3%83%9E%E3%83%AA%E3%83%8E%E3%82%B9', 'tweet_volume': 11344}, {'name': 'John Major', 'url': 'http://twitter.com/search?q=%22John+Major%22', 'promoted_content': None, 'query': '%22John+Major%22', 'tweet_volume': None}, {'name': 'RESPECT KISSES DELAVIN', 'url': 'http://twitter.com/search?q=%22RESPECT+KISSES+DELAVIN%22', 'promoted_content': None, 'query': '%22RESPECT+KISSES+DELAVIN%22', 'tweet_volume': 63427}, {'name': 'CT INTIME Live with TEN', 'url': 'http://twitter.com/search?q=%22CT+INTIME+Live+with+TEN%22', 'promoted_content': None, 'query': '%22CT+INTIME+Live+with+TEN%22', 'tweet_volume': 100999}, {'name': 'FC東京', 'url': 'http://twitter.com/search?q=FC%E6%9D%B1%E4%BA%AC', 'promoted_content': None, 'query': 'FC%E6%9D%B1%E4%BA%AC', 'tweet_volume': None}, {'name': 'うさほー', 'url': 'http://twitter.com/search?q=%E3%81%86%E3%81%95%E3%81%BB%E3%83%BC', 'promoted_content': None, 'query': '%E3%81%86%E3%81%95%E3%81%BB%E3%83%BC', 'tweet_volume': None}, {'name': 'ONEDREAM THE BINI&BGYO CONCERT', 'url': 'http://twitter.com/search?q=%22ONEDREAM+THE+BINI%26BGYO+CONCERT%22', 'promoted_content': None, 'query': '%22ONEDREAM+THE+BINI%26BGYO+CONCERT%22', 'tweet_volume': 64746}, {'name': 'エチェバリア', 'url': 'http://twitter.com/search?q=%E3%82%A8%E3%83%81%E3%82%A7%E3%83%90%E3%83%AA%E3%82%A2', 'promoted_content': None, 'query': '%E3%82%A8%E3%83%81%E3%82%A7%E3%83%90%E3%83%AA%E3%82%A2', 'tweet_volume': 12097}, {'name': 'Travis Scott', 'url': 'http://twitter.com/search?q=%22Travis+Scott%22', 'promoted_content': None, 'query': '%22Travis+Scott%22', 'tweet_volume': 60171}, {'name': 'ちゃまの3点', 'url': 'http://twitter.com/search?q=%E3%81%A1%E3%82%83%E3%81%BE%E3%81%AE3%E7%82%B9', 'promoted_content': None, 'query': '%E3%81%A1%E3%82%83%E3%81%BE%E3%81%AE3%E7%82%B9', 'tweet_volume': None}, {'name': '虹の向こう', 'url': 'http://twitter.com/search?q=%E8%99%B9%E3%81%AE%E5%90%91%E3%81%93%E3%81%86', 'promoted_content': None, 'query': '%E8%99%B9%E3%81%AE%E5%90%91%E3%81%93%E3%81%86', 'tweet_volume': None}, {'name': 'ウィーラー', 'url': 'http://twitter.com/search?q=%E3%82%A6%E3%82%A3%E3%83%BC%E3%83%A9%E3%83%BC', 'promoted_content': None, 'query': '%E3%82%A6%E3%82%A3%E3%83%BC%E3%83%A9%E3%83%BC', 'tweet_volume': 16365}, {'name': 'Hocalar NiyeGizliyor', 'url': 'http://twitter.com/search?q=%22Hocalar+NiyeGizliyor%22', 'promoted_content': None, 'query': '%22Hocalar+NiyeGizliyor%22', 'tweet_volume': None}, {'name': 'ビエイラ', 'url': 'http://twitter.com/search?q=%E3%83%93%E3%82%A8%E3%82%A4%E3%83%A9', 'promoted_content': None, 'query': '%E3%83%93%E3%82%A8%E3%82%A4%E3%83%A9', 'tweet_volume': None}, {'name': '引き分け', 'url': 'http://twitter.com/search?q=%E5%BC%95%E3%81%8D%E5%88%86%E3%81%91', 'promoted_content': None, 'query': '%E5%BC%95%E3%81%8D%E5%88%86%E3%81%91', 'tweet_volume': None}, {'name': 'スタメン', 'url': 'http://twitter.com/search?q=%E3%82%B9%E3%82%BF%E3%83%A1%E3%83%B3', 'promoted_content': None, 'query': '%E3%82%B9%E3%82%BF%E3%83%A1%E3%83%B3', 'tweet_volume': 15900}, {'name': 'まけほー', 'url': 'http://twitter.com/search?q=%E3%81%BE%E3%81%91%E3%81%BB%E3%83%BC', 'promoted_content': None, 'query': '%E3%81%BE%E3%81%91%E3%81%BB%E3%83%BC', 'tweet_volume': None}, {'name': '黒スーツ', 'url': 'http://twitter.com/search?q=%E9%BB%92%E3%82%B9%E3%83%BC%E3%83%84', 'promoted_content': None, 'query': '%E9%BB%92%E3%82%B9%E3%83%BC%E3%83%84', 'tweet_volume': None}, {'name': 'トシくん', 'url': 'http://twitter.com/search?q=%E3%83%88%E3%82%B7%E3%81%8F%E3%82%93', 'promoted_content': None, 'query': '%E3%83%88%E3%82%B7%E3%81%8F%E3%82%93', 'tweet_volume': None}, {'name': 'SANAOL MILYONARYO', 'url': 'http://twitter.com/search?q=%22SANAOL+MILYONARYO%22', 'promoted_content': None, 'query': '%22SANAOL+MILYONARYO%22', 'tweet_volume': None}, {'name': '短期決戦', 'url': 'http://twitter.com/search?q=%E7%9F%AD%E6%9C%9F%E6%B1%BA%E6%88%A6', 'promoted_content': None, 'query': '%E7%9F%AD%E6%9C%9F%E6%B1%BA%E6%88%A6', 'tweet_volume': None}, {'name': '木下都議', 'url': 'http://twitter.com/search?q=%E6%9C%A8%E4%B8%8B%E9%83%BD%E8%AD%B0', 'promoted_content': None, 'query': '%E6%9C%A8%E4%B8%8B%E9%83%BD%E8%AD%B0', 'tweet_volume': None}, {'name': 'ボーナス200万円支給', 'url': 'http://twitter.com/search?q=%E3%83%9C%E3%83%BC%E3%83%8A%E3%82%B9200%E4%B8%87%E5%86%86%E6%94%AF%E7%B5%A6', 'promoted_content': None, 'query': '%E3%83%9C%E3%83%BC%E3%83%8A%E3%82%B9200%E4%B8%87%E5%86%86%E6%94%AF%E7%B5%A6', 'tweet_volume': None}, {'name': 'YOURS MAIN OST', 'url': 'http://twitter.com/search?q=%22YOURS+MAIN+OST%22', 'promoted_content': None, 'query': '%22YOURS+MAIN+OST%22', 'tweet_volume': 21855}, {'name': 'YOURS BY JIN TEASER', 'url': 'http://twitter.com/search?q=%22YOURS+BY+JIN+TEASER%22', 'promoted_content': None, 'query': '%22YOURS+BY+JIN+TEASER%22', 'tweet_volume': None}, {'name': 'MohitExposes NCP', 'url': 'http://twitter.com/search?q=%22MohitExposes+NCP%22', 'promoted_content': None, 'query': '%22MohitExposes+NCP%22', 'tweet_volume': None}, {'name': 'エッちゃん', 'url': 'http://twitter.com/search?q=%E3%82%A8%E3%83%83%E3%81%A1%E3%82%83%E3%82%93', 'promoted_content': None, 'query': '%E3%82%A8%E3%83%83%E3%81%A1%E3%82%83%E3%82%93', 'tweet_volume': None}, {'name': 'TEAM BETA', 'url': 'http://twitter.com/search?q=%22TEAM+BETA%22', 'promoted_content': None, 'query': '%22TEAM+BETA%22', 'tweet_volume': 35070}, {'name': 'KOPW', 'url': 'http://twitter.com/search?q=KOPW', 'promoted_content': None, 'query': 'KOPW', 'tweet_volume': None}, {'name': 'トンデモワンダーズ', 'url': 'http://twitter.com/search?q=%E3%83%88%E3%83%B3%E3%83%87%E3%83%A2%E3%83%AF%E3%83%B3%E3%83%80%E3%83%BC%E3%82%BA', 'promoted_content': None, 'query': '%E3%83%88%E3%83%B3%E3%83%87%E3%83%A2%E3%83%AF%E3%83%B3%E3%83%80%E3%83%BC%E3%82%BA', 'tweet_volume': 12955}, {'name': 'キングエルメス', 'url': 'http://twitter.com/search?q=%E3%82%AD%E3%83%B3%E3%82%B0%E3%82%A8%E3%83%AB%E3%83%A1%E3%82%B9', 'promoted_content': None, 'query': '%E3%82%AD%E3%83%B3%E3%82%B0%E3%82%A8%E3%83%AB%E3%83%A1%E3%82%B9', 'tweet_volume': None}, {'name': '千枚通し', 'url': 'http://twitter.com/search?q=%E5%8D%83%E6%9E%9A%E9%80%9A%E3%81%97', 'promoted_content': None, 'query': '%E5%8D%83%E6%9E%9A%E9%80%9A%E3%81%97', 'tweet_volume': 11060}, {'name': 'Derby Day', 'url': 'http://twitter.com/search?q=%22Derby+Day%22', 'promoted_content': None, 'query': '%22Derby+Day%22', 'tweet_volume': None}, {'name': 'Astrofest', 'url': 'http://twitter.com/search?q=Astrofest', 'promoted_content': None, 'query': 'Astrofest', 'tweet_volume': 10311}, {'name': '소라고둥', 'url': 'http://twitter.com/search?q=%EC%86%8C%EB%9D%BC%EA%B3%A0%EB%91%A5', 'promoted_content': None, 'query': '%EC%86%8C%EB%9D%BC%EA%B3%A0%EB%91%A5', 'tweet_volume': None}, {'name': 'TWOgether WithDONBELLE', 'url': 'http://twitter.com/search?q=%22TWOgether+WithDONBELLE%22', 'promoted_content': None, 'query': '%22TWOgether+WithDONBELLE%22', 'tweet_volume': 23830}, {'name': '소절 보고', 'url': 'http://twitter.com/search?q=%22%EC%86%8C%EC%A0%88+%EB%B3%B4%EA%B3%A0%22', 'promoted_content': None, 'query': '%22%EC%86%8C%EC%A0%88+%EB%B3%B4%EA%B3%A0%22', 'tweet_volume': None}, {'name': 'グータッチ', 'url': 'http://twitter.com/search?q=%E3%82%B0%E3%83%BC%E3%82%BF%E3%83%83%E3%83%81', 'promoted_content': None, 'query': '%E3%82%B0%E3%83%BC%E3%82%BF%E3%83%83%E3%83%81', 'tweet_volume': None}, {'name': '보고 제목', 'url': 'http://twitter.com/search?q=%22%EB%B3%B4%EA%B3%A0+%EC%A0%9C%EB%AA%A9%22', 'promoted_content': None, 'query': '%22%EB%B3%B4%EA%B3%A0+%EC%A0%9C%EB%AA%A9%22', 'tweet_volume': None}, {'name': '#وفاه_الشيخ_عبدالعزيز_الربيعه', 'url': 'http://twitter.com/search?q=%23%D9%88%D9%81%D8%A7%D9%87_%D8%A7%D9%84%D8%B4%D9%8A%D8%AE_%D8%B9%D8%A8%D8%AF%D8%A7%D9%84%D8%B9%D8%B2%D9%8A%D8%B2_%D8%A7%D9%84%D8%B1%D8%A8%D9%8A%D8%B9%D9%87', 'promoted_content': None, 'query': '%23%D9%88%D9%81%D8%A7%D9%87_%D8%A7%D9%84%D8%B4%D9%8A%D8%AE_%D8%B9%D8%A8%D8%AF%D8%A7%D9%84%D8%B9%D8%B2%D9%8A%D8%B2_%D8%A7%D9%84%D8%B1%D8%A8%D9%8A%D8%B9%D9%87', 'tweet_volume': None}, {'name': '#TENxCharlotteTilburyLive', 'url': 'http://twitter.com/search?q=%23TENxCharlotteTilburyLive', 'promoted_content': None, 'query': '%23TENxCharlotteTilburyLive', 'tweet_volume': 117285}, {'name': '#SideM6th_神戸day1', 'url': 'http://twitter.com/search?q=%23SideM6th_%E7%A5%9E%E6%88%B8day1', 'promoted_content': None, 'query': '%23SideM6th_%E7%A5%9E%E6%88%B8day1', 'tweet_volume': 31914}, {'name': '#ひなちょい生特番', 'url': 'http://twitter.com/search?q=%23%E3%81%B2%E3%81%AA%E3%81%A1%E3%82%87%E3%81%84%E7%94%9F%E7%89%B9%E7%95%AA', 'promoted_content': None, 'query': '%23%E3%81%B2%E3%81%AA%E3%81%A1%E3%82%87%E3%81%84%E7%94%9F%E7%89%B9%E7%95%AA', 'tweet_volume': 13874}, {'name': '#cumartesi', 'url': 'http://twitter.com/search?q=%23cumartesi', 'promoted_content': None, 'query': '%23cumartesi', 'tweet_volume': None}], 'as_of': '2021-11-06T09:35:43Z', 'created_at': '2021-11-05T07:44:13Z', 'locations': [{'name': 'Worldwide', 'woeid': 1}]}]\n"
     ]
    }
   ],
   "metadata": {}
  },
  {
   "cell_type": "markdown",
   "source": [
    "### Task 1\n",
    "Twitter uses WOEIDs. Find out how WORLD_WOE_IDs were originally defined by Yahoo! and try to use others in a query. What kind of differences do you find between the worldwide trends and the local trends? \n"
   ],
   "metadata": {}
  },
  {
   "cell_type": "code",
   "execution_count": 32,
   "source": [
    "#\n",
    "# since we are currently in amsterdam we consider the term \"local\" as Amsterdam and Netherlands\n",
    "LOCAL_Amsterdam_WOE_ID = 727232\n",
    "LOCAL_Netherlands_WOE_ID = 23424909\n",
    "local_Amsterdam_trends = twitter_api.trends.place(_id=LOCAL_Amsterdam_WOE_ID)\n",
    "local_Netherlands_trends = twitter_api.trends.place(_id=LOCAL_Netherlands_WOE_ID)\n",
    "print(local_Amsterdam_trends)\n",
    "print(local_Netherlands_trends)\n",
    "# at the time of running this code, #coronadebat, #BVBAJA, #dorAja and etc. are the trends in Amsterdam and Netherlands. while in world trend '#いい推しの日', 'Elden Ring', 'I VOTE' ane etc. are trends.\n",
    "# it seems top 50 trends which is returned by Twitter API is different than our 2 local trends.\n",
    "# Another interesting is the amsterdam and Netherlands have same trends but different in \"twitter_volume\". And some of the trends in Amsterdam have more twitter_volume which makes no sense (We discussed it with you in the classroom)\n",
    "# Another interesting thing was some trends had \"twitter_volume\" of none."
   ],
   "outputs": [
    {
     "name": "stdout",
     "output_type": "stream",
     "text": [
      "[{'trends': [{'name': '#Klimaatmars', 'url': 'http://twitter.com/search?q=%23Klimaatmars', 'promoted_content': None, 'query': '%23Klimaatmars', 'tweet_volume': None}, {'name': 'Goedemorgen', 'url': 'http://twitter.com/search?q=Goedemorgen', 'promoted_content': None, 'query': 'Goedemorgen', 'tweet_volume': None}, {'name': '#TheMaskedSinger', 'url': 'http://twitter.com/search?q=%23TheMaskedSinger', 'promoted_content': None, 'query': '%23TheMaskedSinger', 'tweet_volume': None}, {'name': '#terugvolgvrijdag', 'url': 'http://twitter.com/search?q=%23terugvolgvrijdag', 'promoted_content': None, 'query': '%23terugvolgvrijdag', 'tweet_volume': None}, {'name': '#tweher', 'url': 'http://twitter.com/search?q=%23tweher', 'promoted_content': None, 'query': '%23tweher', 'tweet_volume': None}, {'name': 'Travis Scott', 'url': 'http://twitter.com/search?q=%22Travis+Scott%22', 'promoted_content': None, 'query': '%22Travis+Scott%22', 'tweet_volume': 60093}, {'name': '#AnambraDecides2021', 'url': 'http://twitter.com/search?q=%23AnambraDecides2021', 'promoted_content': None, 'query': '%23AnambraDecides2021', 'tweet_volume': None}, {'name': 'Gecondoleerd', 'url': 'http://twitter.com/search?q=Gecondoleerd', 'promoted_content': None, 'query': 'Gecondoleerd', 'tweet_volume': None}, {'name': 'Piet S.', 'url': 'http://twitter.com/search?q=%22Piet+S.%22', 'promoted_content': None, 'query': '%22Piet+S.%22', 'tweet_volume': None}, {'name': 'Karin Bloemen', 'url': 'http://twitter.com/search?q=%22Karin+Bloemen%22', 'promoted_content': None, 'query': '%22Karin+Bloemen%22', 'tweet_volume': None}, {'name': 'Houston', 'url': 'http://twitter.com/search?q=Houston', 'promoted_content': None, 'query': 'Houston', 'tweet_volume': 56122}, {'name': 'Astroworld', 'url': 'http://twitter.com/search?q=Astroworld', 'promoted_content': None, 'query': 'Astroworld', 'tweet_volume': 63609}, {'name': 'edwin evers', 'url': 'http://twitter.com/search?q=%22edwin+evers%22', 'promoted_content': None, 'query': '%22edwin+evers%22', 'tweet_volume': None}, {'name': 'Sierra Leone', 'url': 'http://twitter.com/search?q=%22Sierra+Leone%22', 'promoted_content': None, 'query': '%22Sierra+Leone%22', 'tweet_volume': None}, {'name': 'Eneco', 'url': 'http://twitter.com/search?q=Eneco', 'promoted_content': None, 'query': 'Eneco', 'tweet_volume': None}, {'name': 'Wesley Sneijder', 'url': 'http://twitter.com/search?q=%22Wesley+Sneijder%22', 'promoted_content': None, 'query': '%22Wesley+Sneijder%22', 'tweet_volume': None}, {'name': 'Trojan', 'url': 'http://twitter.com/search?q=Trojan', 'promoted_content': None, 'query': 'Trojan', 'tweet_volume': 11783}, {'name': 'Illy', 'url': 'http://twitter.com/search?q=Illy', 'promoted_content': None, 'query': 'Illy', 'tweet_volume': None}, {'name': 'Portugal', 'url': 'http://twitter.com/search?q=Portugal', 'promoted_content': None, 'query': 'Portugal', 'tweet_volume': 34996}, {'name': 'Dirk Kuyt', 'url': 'http://twitter.com/search?q=%22Dirk+Kuyt%22', 'promoted_content': None, 'query': '%22Dirk+Kuyt%22', 'tweet_volume': None}, {'name': 'Mogge', 'url': 'http://twitter.com/search?q=Mogge', 'promoted_content': None, 'query': 'Mogge', 'tweet_volume': None}, {'name': 'sadie', 'url': 'http://twitter.com/search?q=sadie', 'promoted_content': None, 'query': 'sadie', 'tweet_volume': 77330}, {'name': 'Lil Kleine', 'url': 'http://twitter.com/search?q=%22Lil+Kleine%22', 'promoted_content': None, 'query': '%22Lil+Kleine%22', 'tweet_volume': None}, {'name': 'Eternals', 'url': 'http://twitter.com/search?q=Eternals', 'promoted_content': None, 'query': 'Eternals', 'tweet_volume': 271114}, {'name': 'Rinu', 'url': 'http://twitter.com/search?q=Rinu', 'promoted_content': None, 'query': 'Rinu', 'tweet_volume': 37609}, {'name': 'Summer Walker', 'url': 'http://twitter.com/search?q=%22Summer+Walker%22', 'promoted_content': None, 'query': '%22Summer+Walker%22', 'tweet_volume': 496634}, {'name': 'INEC', 'url': 'http://twitter.com/search?q=INEC', 'promoted_content': None, 'query': 'INEC', 'tweet_volume': None}, {'name': 'Tijs', 'url': 'http://twitter.com/search?q=Tijs', 'promoted_content': None, 'query': 'Tijs', 'tweet_volume': None}, {'name': 'bilal wahib', 'url': 'http://twitter.com/search?q=%22bilal+wahib%22', 'promoted_content': None, 'query': '%22bilal+wahib%22', 'tweet_volume': None}, {'name': 'Luuk Ikink', 'url': 'http://twitter.com/search?q=%22Luuk+Ikink%22', 'promoted_content': None, 'query': '%22Luuk+Ikink%22', 'tweet_volume': None}, {'name': 'Derksen', 'url': 'http://twitter.com/search?q=Derksen', 'promoted_content': None, 'query': 'Derksen', 'tweet_volume': None}, {'name': 'Wall Street', 'url': 'http://twitter.com/search?q=%22Wall+Street%22', 'promoted_content': None, 'query': '%22Wall+Street%22', 'tweet_volume': 10243}, {'name': 'Australië', 'url': 'http://twitter.com/search?q=Australi%C3%AB', 'promoted_content': None, 'query': 'Australi%C3%AB', 'tweet_volume': None}, {'name': 'emma heesters', 'url': 'http://twitter.com/search?q=%22emma+heesters%22', 'promoted_content': None, 'query': '%22emma+heesters%22', 'tweet_volume': None}, {'name': 'Ivermectine', 'url': 'http://twitter.com/search?q=Ivermectine', 'promoted_content': None, 'query': 'Ivermectine', 'tweet_volume': None}, {'name': 'zahavi', 'url': 'http://twitter.com/search?q=zahavi', 'promoted_content': None, 'query': 'zahavi', 'tweet_volume': None}, {'name': 'QR-controle', 'url': 'http://twitter.com/search?q=QR-controle', 'promoted_content': None, 'query': 'QR-controle', 'tweet_volume': None}, {'name': 'Rijkste 1', 'url': 'http://twitter.com/search?q=%22Rijkste+1%22', 'promoted_content': None, 'query': '%22Rijkste+1%22', 'tweet_volume': None}, {'name': 'Xavi', 'url': 'http://twitter.com/search?q=Xavi', 'promoted_content': None, 'query': 'Xavi', 'tweet_volume': 369239}, {'name': 'de graafschap', 'url': 'http://twitter.com/search?q=%22de+graafschap%22', 'promoted_content': None, 'query': '%22de+graafschap%22', 'tweet_volume': None}, {'name': 'Andries', 'url': 'http://twitter.com/search?q=Andries', 'promoted_content': None, 'query': 'Andries', 'tweet_volume': None}, {'name': 'Roda JC', 'url': 'http://twitter.com/search?q=%22Roda+JC%22', 'promoted_content': None, 'query': '%22Roda+JC%22', 'tweet_volume': None}, {'name': 'Baudet', 'url': 'http://twitter.com/search?q=Baudet', 'promoted_content': None, 'query': 'Baudet', 'tweet_volume': None}, {'name': 'Kanye', 'url': 'http://twitter.com/search?q=Kanye', 'promoted_content': None, 'query': 'Kanye', 'tweet_volume': 151999}, {'name': 'bijna 11.000', 'url': 'http://twitter.com/search?q=%22bijna+11.000%22', 'promoted_content': None, 'query': '%22bijna+11.000%22', 'tweet_volume': None}, {'name': 'Osinbajo', 'url': 'http://twitter.com/search?q=Osinbajo', 'promoted_content': None, 'query': 'Osinbajo', 'tweet_volume': 16056}, {'name': 'Debo', 'url': 'http://twitter.com/search?q=Debo', 'promoted_content': None, 'query': 'Debo', 'tweet_volume': 27438}, {'name': 'Sterkte Piet', 'url': 'http://twitter.com/search?q=%22Sterkte+Piet%22', 'promoted_content': None, 'query': '%22Sterkte+Piet%22', 'tweet_volume': None}, {'name': 'Kroatië', 'url': 'http://twitter.com/search?q=Kroati%C3%AB', 'promoted_content': None, 'query': 'Kroati%C3%AB', 'tweet_volume': None}, {'name': 'Taooma', 'url': 'http://twitter.com/search?q=Taooma', 'promoted_content': None, 'query': 'Taooma', 'tweet_volume': 10044}], 'as_of': '2021-11-06T09:35:43Z', 'created_at': '2021-10-18T07:42:51Z', 'locations': [{'name': 'Amsterdam', 'woeid': 727232}]}]\n",
      "[{'trends': [{'name': '#Klimaatmars', 'url': 'http://twitter.com/search?q=%23Klimaatmars', 'promoted_content': None, 'query': '%23Klimaatmars', 'tweet_volume': None}, {'name': 'Goedemorgen', 'url': 'http://twitter.com/search?q=Goedemorgen', 'promoted_content': None, 'query': 'Goedemorgen', 'tweet_volume': None}, {'name': '#TheMaskedSinger', 'url': 'http://twitter.com/search?q=%23TheMaskedSinger', 'promoted_content': None, 'query': '%23TheMaskedSinger', 'tweet_volume': None}, {'name': '#terugvolgvrijdag', 'url': 'http://twitter.com/search?q=%23terugvolgvrijdag', 'promoted_content': None, 'query': '%23terugvolgvrijdag', 'tweet_volume': None}, {'name': '#tweher', 'url': 'http://twitter.com/search?q=%23tweher', 'promoted_content': None, 'query': '%23tweher', 'tweet_volume': None}, {'name': 'Travis Scott', 'url': 'http://twitter.com/search?q=%22Travis+Scott%22', 'promoted_content': None, 'query': '%22Travis+Scott%22', 'tweet_volume': 60171}, {'name': '#stanaastsylvana', 'url': 'http://twitter.com/search?q=%23stanaastsylvana', 'promoted_content': None, 'query': '%23stanaastsylvana', 'tweet_volume': None}, {'name': 'Gecondoleerd', 'url': 'http://twitter.com/search?q=Gecondoleerd', 'promoted_content': None, 'query': 'Gecondoleerd', 'tweet_volume': None}, {'name': 'Piet S.', 'url': 'http://twitter.com/search?q=%22Piet+S.%22', 'promoted_content': None, 'query': '%22Piet+S.%22', 'tweet_volume': None}, {'name': 'Karin Bloemen', 'url': 'http://twitter.com/search?q=%22Karin+Bloemen%22', 'promoted_content': None, 'query': '%22Karin+Bloemen%22', 'tweet_volume': None}, {'name': 'Houston', 'url': 'http://twitter.com/search?q=Houston', 'promoted_content': None, 'query': 'Houston', 'tweet_volume': 56122}, {'name': 'Astroworld', 'url': 'http://twitter.com/search?q=Astroworld', 'promoted_content': None, 'query': 'Astroworld', 'tweet_volume': 63741}, {'name': 'edwin evers', 'url': 'http://twitter.com/search?q=%22edwin+evers%22', 'promoted_content': None, 'query': '%22edwin+evers%22', 'tweet_volume': None}, {'name': 'Sierra Leone', 'url': 'http://twitter.com/search?q=%22Sierra+Leone%22', 'promoted_content': None, 'query': '%22Sierra+Leone%22', 'tweet_volume': None}, {'name': 'Eneco', 'url': 'http://twitter.com/search?q=Eneco', 'promoted_content': None, 'query': 'Eneco', 'tweet_volume': None}, {'name': 'Wesley Sneijder', 'url': 'http://twitter.com/search?q=%22Wesley+Sneijder%22', 'promoted_content': None, 'query': '%22Wesley+Sneijder%22', 'tweet_volume': None}, {'name': 'Trojan', 'url': 'http://twitter.com/search?q=Trojan', 'promoted_content': None, 'query': 'Trojan', 'tweet_volume': 11783}, {'name': 'Illy', 'url': 'http://twitter.com/search?q=Illy', 'promoted_content': None, 'query': 'Illy', 'tweet_volume': None}, {'name': 'INEC', 'url': 'http://twitter.com/search?q=INEC', 'promoted_content': None, 'query': 'INEC', 'tweet_volume': None}, {'name': 'Portugal', 'url': 'http://twitter.com/search?q=Portugal', 'promoted_content': None, 'query': 'Portugal', 'tweet_volume': 35007}, {'name': 'Dirk Kuyt', 'url': 'http://twitter.com/search?q=%22Dirk+Kuyt%22', 'promoted_content': None, 'query': '%22Dirk+Kuyt%22', 'tweet_volume': None}, {'name': 'Mogge', 'url': 'http://twitter.com/search?q=Mogge', 'promoted_content': None, 'query': 'Mogge', 'tweet_volume': None}, {'name': 'sadie', 'url': 'http://twitter.com/search?q=sadie', 'promoted_content': None, 'query': 'sadie', 'tweet_volume': 77330}, {'name': 'Lil Kleine', 'url': 'http://twitter.com/search?q=%22Lil+Kleine%22', 'promoted_content': None, 'query': '%22Lil+Kleine%22', 'tweet_volume': None}, {'name': 'Rinu', 'url': 'http://twitter.com/search?q=Rinu', 'promoted_content': None, 'query': 'Rinu', 'tweet_volume': 37541}, {'name': 'Summer Walker', 'url': 'http://twitter.com/search?q=%22Summer+Walker%22', 'promoted_content': None, 'query': '%22Summer+Walker%22', 'tweet_volume': 496634}, {'name': 'Tijs', 'url': 'http://twitter.com/search?q=Tijs', 'promoted_content': None, 'query': 'Tijs', 'tweet_volume': None}, {'name': 'bilal wahib', 'url': 'http://twitter.com/search?q=%22bilal+wahib%22', 'promoted_content': None, 'query': '%22bilal+wahib%22', 'tweet_volume': None}, {'name': 'Eternals', 'url': 'http://twitter.com/search?q=Eternals', 'promoted_content': None, 'query': 'Eternals', 'tweet_volume': 271114}, {'name': 'Luuk Ikink', 'url': 'http://twitter.com/search?q=%22Luuk+Ikink%22', 'promoted_content': None, 'query': '%22Luuk+Ikink%22', 'tweet_volume': None}, {'name': 'Derksen', 'url': 'http://twitter.com/search?q=Derksen', 'promoted_content': None, 'query': 'Derksen', 'tweet_volume': None}, {'name': 'Australië', 'url': 'http://twitter.com/search?q=Australi%C3%AB', 'promoted_content': None, 'query': 'Australi%C3%AB', 'tweet_volume': None}, {'name': 'emma heesters', 'url': 'http://twitter.com/search?q=%22emma+heesters%22', 'promoted_content': None, 'query': '%22emma+heesters%22', 'tweet_volume': None}, {'name': 'Ivermectine', 'url': 'http://twitter.com/search?q=Ivermectine', 'promoted_content': None, 'query': 'Ivermectine', 'tweet_volume': None}, {'name': 'zahavi', 'url': 'http://twitter.com/search?q=zahavi', 'promoted_content': None, 'query': 'zahavi', 'tweet_volume': None}, {'name': 'QR-controle', 'url': 'http://twitter.com/search?q=QR-controle', 'promoted_content': None, 'query': 'QR-controle', 'tweet_volume': None}, {'name': 'Rijkste 1', 'url': 'http://twitter.com/search?q=%22Rijkste+1%22', 'promoted_content': None, 'query': '%22Rijkste+1%22', 'tweet_volume': None}, {'name': 'Xavi', 'url': 'http://twitter.com/search?q=Xavi', 'promoted_content': None, 'query': 'Xavi', 'tweet_volume': 369118}, {'name': 'de graafschap', 'url': 'http://twitter.com/search?q=%22de+graafschap%22', 'promoted_content': None, 'query': '%22de+graafschap%22', 'tweet_volume': None}, {'name': 'Andries', 'url': 'http://twitter.com/search?q=Andries', 'promoted_content': None, 'query': 'Andries', 'tweet_volume': None}, {'name': 'Roda JC', 'url': 'http://twitter.com/search?q=%22Roda+JC%22', 'promoted_content': None, 'query': '%22Roda+JC%22', 'tweet_volume': None}, {'name': 'Baudet', 'url': 'http://twitter.com/search?q=Baudet', 'promoted_content': None, 'query': 'Baudet', 'tweet_volume': None}, {'name': 'Kanye', 'url': 'http://twitter.com/search?q=Kanye', 'promoted_content': None, 'query': 'Kanye', 'tweet_volume': 151980}, {'name': 'bijna 11.000', 'url': 'http://twitter.com/search?q=%22bijna+11.000%22', 'promoted_content': None, 'query': '%22bijna+11.000%22', 'tweet_volume': None}, {'name': 'Osinbajo', 'url': 'http://twitter.com/search?q=Osinbajo', 'promoted_content': None, 'query': 'Osinbajo', 'tweet_volume': 16056}, {'name': 'Den Helder', 'url': 'http://twitter.com/search?q=%22Den+Helder%22', 'promoted_content': None, 'query': '%22Den+Helder%22', 'tweet_volume': None}, {'name': 'Debo', 'url': 'http://twitter.com/search?q=Debo', 'promoted_content': None, 'query': 'Debo', 'tweet_volume': 27427}, {'name': 'Sterkte Piet', 'url': 'http://twitter.com/search?q=%22Sterkte+Piet%22', 'promoted_content': None, 'query': '%22Sterkte+Piet%22', 'tweet_volume': None}, {'name': 'Kroatië', 'url': 'http://twitter.com/search?q=Kroati%C3%AB', 'promoted_content': None, 'query': 'Kroati%C3%AB', 'tweet_volume': None}, {'name': 'Taooma', 'url': 'http://twitter.com/search?q=Taooma', 'promoted_content': None, 'query': 'Taooma', 'tweet_volume': 10044}], 'as_of': '2021-11-06T09:35:43Z', 'created_at': '2021-10-18T07:42:51Z', 'locations': [{'name': 'Netherlands', 'woeid': 23424909}]}]\n"
     ]
    }
   ],
   "metadata": {}
  },
  {
   "cell_type": "markdown",
   "source": [
    "### 1.2: Retrieving search results (from Example 1-5/9-3 in Mining the Social Web):"
   ],
   "metadata": {}
  },
  {
   "cell_type": "code",
   "execution_count": 33,
   "source": [
    "q = '#ThrowbackThursday' # XXX: Set this variable to a trending topic, or anything else you like. \n",
    "count = 100 # number of results to retrieve\n",
    "\n",
    "# See https://dev.twitter.com/docs/api/1.1/get/search/tweets for more info\n",
    "\n",
    "search_results = twitter_api.search.tweets(q=q, count=count) # search for your query 'q' 100 times\n",
    "statuses = search_results['statuses'] # extract the tweets found\n",
    "\n",
    "# The following code allows you to print in a nice format the contents of search_results\n",
    "import json\n",
    "print(type(statuses))\n",
    "print(json.dumps(statuses[0], indent=1))"
   ],
   "outputs": [
    {
     "name": "stdout",
     "output_type": "stream",
     "text": [
      "<class 'list'>\n",
      "{\n",
      " \"created_at\": \"Sat Nov 06 09:34:46 +0000 2021\",\n",
      " \"id\": 1456917968059830272,\n",
      " \"id_str\": \"1456917968059830272\",\n",
      " \"text\": \"RT @TroubleNTheGang: #ThrowbackThursday to this summer when I tried to kiss a \\ud83d\\udc1d,it turns out that not everyone wants to be my friend.\\ud83d\\ude2c\\ud83d\\ude1eI ga\\u2026\",\n",
      " \"truncated\": false,\n",
      " \"entities\": {\n",
      "  \"hashtags\": [\n",
      "   {\n",
      "    \"text\": \"ThrowbackThursday\",\n",
      "    \"indices\": [\n",
      "     21,\n",
      "     39\n",
      "    ]\n",
      "   }\n",
      "  ],\n",
      "  \"symbols\": [],\n",
      "  \"user_mentions\": [\n",
      "   {\n",
      "    \"screen_name\": \"TroubleNTheGang\",\n",
      "    \"name\": \"Ms.Understood \\ud83c\\udf41 \\ud83c\\udde8\\ud83c\\udde6 \\ud83c\\uddfa\\ud83c\\uddf8\",\n",
      "    \"id\": 4847301607,\n",
      "    \"id_str\": \"4847301607\",\n",
      "    \"indices\": [\n",
      "     3,\n",
      "     19\n",
      "    ]\n",
      "   }\n",
      "  ],\n",
      "  \"urls\": []\n",
      " },\n",
      " \"metadata\": {\n",
      "  \"iso_language_code\": \"en\",\n",
      "  \"result_type\": \"recent\"\n",
      " },\n",
      " \"source\": \"<a href=\\\"http://twitter.com/download/iphone\\\" rel=\\\"nofollow\\\">Twitter for iPhone</a>\",\n",
      " \"in_reply_to_status_id\": null,\n",
      " \"in_reply_to_status_id_str\": null,\n",
      " \"in_reply_to_user_id\": null,\n",
      " \"in_reply_to_user_id_str\": null,\n",
      " \"in_reply_to_screen_name\": null,\n",
      " \"user\": {\n",
      "  \"id\": 532120057,\n",
      "  \"id_str\": \"532120057\",\n",
      "  \"name\": \"melamelo\",\n",
      "  \"screen_name\": \"melamelo3\",\n",
      "  \"location\": \"Brit living in Germany \",\n",
      "  \"description\": \"\\\"The greatness of a nation can be judged by the way its animals are treated.\\\" - Mahatma Gandhi \\nalso love cooking, wine, books, good company & animals  \\ud83d\\udc3e \\ud83d\\udc93\",\n",
      "  \"url\": null,\n",
      "  \"entities\": {\n",
      "   \"description\": {\n",
      "    \"urls\": []\n",
      "   }\n",
      "  },\n",
      "  \"protected\": false,\n",
      "  \"followers_count\": 397,\n",
      "  \"friends_count\": 467,\n",
      "  \"listed_count\": 1,\n",
      "  \"created_at\": \"Wed Mar 21 10:42:35 +0000 2012\",\n",
      "  \"favourites_count\": 46358,\n",
      "  \"utc_offset\": null,\n",
      "  \"time_zone\": null,\n",
      "  \"geo_enabled\": false,\n",
      "  \"verified\": false,\n",
      "  \"statuses_count\": 12319,\n",
      "  \"lang\": null,\n",
      "  \"contributors_enabled\": false,\n",
      "  \"is_translator\": false,\n",
      "  \"is_translation_enabled\": false,\n",
      "  \"profile_background_color\": \"C0DEED\",\n",
      "  \"profile_background_image_url\": \"http://abs.twimg.com/images/themes/theme1/bg.png\",\n",
      "  \"profile_background_image_url_https\": \"https://abs.twimg.com/images/themes/theme1/bg.png\",\n",
      "  \"profile_background_tile\": false,\n",
      "  \"profile_image_url\": \"http://pbs.twimg.com/profile_images/1435189171887411205/CtR6rmce_normal.jpg\",\n",
      "  \"profile_image_url_https\": \"https://pbs.twimg.com/profile_images/1435189171887411205/CtR6rmce_normal.jpg\",\n",
      "  \"profile_banner_url\": \"https://pbs.twimg.com/profile_banners/532120057/1522624797\",\n",
      "  \"profile_link_color\": \"1DA1F2\",\n",
      "  \"profile_sidebar_border_color\": \"C0DEED\",\n",
      "  \"profile_sidebar_fill_color\": \"DDEEF6\",\n",
      "  \"profile_text_color\": \"333333\",\n",
      "  \"profile_use_background_image\": true,\n",
      "  \"has_extended_profile\": true,\n",
      "  \"default_profile\": true,\n",
      "  \"default_profile_image\": false,\n",
      "  \"following\": false,\n",
      "  \"follow_request_sent\": false,\n",
      "  \"notifications\": false,\n",
      "  \"translator_type\": \"none\",\n",
      "  \"withheld_in_countries\": []\n",
      " },\n",
      " \"geo\": null,\n",
      " \"coordinates\": null,\n",
      " \"place\": null,\n",
      " \"contributors\": null,\n",
      " \"retweeted_status\": {\n",
      "  \"created_at\": \"Thu Nov 04 18:42:11 +0000 2021\",\n",
      "  \"id\": 1456330956256825344,\n",
      "  \"id_str\": \"1456330956256825344\",\n",
      "  \"text\": \"#ThrowbackThursday to this summer when I tried to kiss a \\ud83d\\udc1d,it turns out that not everyone wants to be my friend.\\ud83d\\ude2c\\ud83d\\ude1eI\\u2026 https://t.co/AKajh22iIC\",\n",
      "  \"truncated\": true,\n",
      "  \"entities\": {\n",
      "   \"hashtags\": [\n",
      "    {\n",
      "     \"text\": \"ThrowbackThursday\",\n",
      "     \"indices\": [\n",
      "      0,\n",
      "      18\n",
      "     ]\n",
      "    }\n",
      "   ],\n",
      "   \"symbols\": [],\n",
      "   \"user_mentions\": [],\n",
      "   \"urls\": [\n",
      "    {\n",
      "     \"url\": \"https://t.co/AKajh22iIC\",\n",
      "     \"expanded_url\": \"https://twitter.com/i/web/status/1456330956256825344\",\n",
      "     \"display_url\": \"twitter.com/i/web/status/1\\u2026\",\n",
      "     \"indices\": [\n",
      "      117,\n",
      "      140\n",
      "     ]\n",
      "    }\n",
      "   ]\n",
      "  },\n",
      "  \"metadata\": {\n",
      "   \"iso_language_code\": \"en\",\n",
      "   \"result_type\": \"recent\"\n",
      "  },\n",
      "  \"source\": \"<a href=\\\"https://mobile.twitter.com\\\" rel=\\\"nofollow\\\">Twitter Web App</a>\",\n",
      "  \"in_reply_to_status_id\": null,\n",
      "  \"in_reply_to_status_id_str\": null,\n",
      "  \"in_reply_to_user_id\": null,\n",
      "  \"in_reply_to_user_id_str\": null,\n",
      "  \"in_reply_to_screen_name\": null,\n",
      "  \"user\": {\n",
      "   \"id\": 4847301607,\n",
      "   \"id_str\": \"4847301607\",\n",
      "   \"name\": \"Ms.Understood \\ud83c\\udf41 \\ud83c\\udde8\\ud83c\\udde6 \\ud83c\\uddfa\\ud83c\\uddf8\",\n",
      "   \"screen_name\": \"TroubleNTheGang\",\n",
      "   \"location\": \"A Little South Of Sanity\",\n",
      "   \"description\": \"Canine Cancer and Canine Epilepsy mom.Animals are like children,they aren't born to hate or be mean,they are taught. It's time to break the cycle of all abuse.\",\n",
      "   \"url\": null,\n",
      "   \"entities\": {\n",
      "    \"description\": {\n",
      "     \"urls\": []\n",
      "    }\n",
      "   },\n",
      "   \"protected\": false,\n",
      "   \"followers_count\": 1904,\n",
      "   \"friends_count\": 1859,\n",
      "   \"listed_count\": 3,\n",
      "   \"created_at\": \"Tue Feb 02 02:35:41 +0000 2016\",\n",
      "   \"favourites_count\": 34028,\n",
      "   \"utc_offset\": null,\n",
      "   \"time_zone\": null,\n",
      "   \"geo_enabled\": false,\n",
      "   \"verified\": false,\n",
      "   \"statuses_count\": 3560,\n",
      "   \"lang\": null,\n",
      "   \"contributors_enabled\": false,\n",
      "   \"is_translator\": false,\n",
      "   \"is_translation_enabled\": false,\n",
      "   \"profile_background_color\": \"F5F8FA\",\n",
      "   \"profile_background_image_url\": null,\n",
      "   \"profile_background_image_url_https\": null,\n",
      "   \"profile_background_tile\": false,\n",
      "   \"profile_image_url\": \"http://pbs.twimg.com/profile_images/1450873655651614722/qbOnSwQj_normal.jpg\",\n",
      "   \"profile_image_url_https\": \"https://pbs.twimg.com/profile_images/1450873655651614722/qbOnSwQj_normal.jpg\",\n",
      "   \"profile_banner_url\": \"https://pbs.twimg.com/profile_banners/4847301607/1629498110\",\n",
      "   \"profile_link_color\": \"1DA1F2\",\n",
      "   \"profile_sidebar_border_color\": \"C0DEED\",\n",
      "   \"profile_sidebar_fill_color\": \"DDEEF6\",\n",
      "   \"profile_text_color\": \"333333\",\n",
      "   \"profile_use_background_image\": true,\n",
      "   \"has_extended_profile\": false,\n",
      "   \"default_profile\": true,\n",
      "   \"default_profile_image\": false,\n",
      "   \"following\": false,\n",
      "   \"follow_request_sent\": false,\n",
      "   \"notifications\": false,\n",
      "   \"translator_type\": \"none\",\n",
      "   \"withheld_in_countries\": []\n",
      "  },\n",
      "  \"geo\": null,\n",
      "  \"coordinates\": null,\n",
      "  \"place\": null,\n",
      "  \"contributors\": null,\n",
      "  \"is_quote_status\": false,\n",
      "  \"retweet_count\": 7,\n",
      "  \"favorite_count\": 149,\n",
      "  \"favorited\": false,\n",
      "  \"retweeted\": false,\n",
      "  \"possibly_sensitive\": false,\n",
      "  \"lang\": \"en\"\n",
      " },\n",
      " \"is_quote_status\": false,\n",
      " \"retweet_count\": 7,\n",
      " \"favorite_count\": 0,\n",
      " \"favorited\": false,\n",
      " \"retweeted\": false,\n",
      " \"lang\": \"en\"\n",
      "}\n"
     ]
    }
   ],
   "metadata": {}
  },
  {
   "cell_type": "markdown",
   "source": [
    "### Task 2\n",
    "\n",
    "In the cell below, create a second variable (e.g. `statuses2`) that holds the results of a query other than the one presented above. Think about a query that would yield very different results than the first one, for example one that may yield a shorter output or about a different topic."
   ],
   "metadata": {}
  },
  {
   "cell_type": "code",
   "execution_count": 34,
   "source": [
    "q = '#Burger' # XXX: Set this variable to a trending topic, or anything else you like.\n",
    "count = 20 # number of results to retrieve\n",
    "\n",
    "# See https://dev.twitter.com/docs/api/1.1/get/search/tweets for more info\n",
    "\n",
    "search_results = twitter_api.search.tweets(q=q, count=count) # search for your query 'q' 100 times\n",
    "statuses2 = search_results['statuses'] # extract the tweets found\n",
    "\n",
    "# The following code allows you to print in a nice format the contents of search_results\n",
    "import json\n",
    "print(type(statuses2))\n",
    "print(json.dumps(statuses2[0], indent=1))"
   ],
   "outputs": [
    {
     "name": "stdout",
     "output_type": "stream",
     "text": [
      "<class 'list'>\n",
      "{\n",
      " \"created_at\": \"Sat Nov 06 09:27:43 +0000 2021\",\n",
      " \"id\": 1456916194020114432,\n",
      " \"id_str\": \"1456916194020114432\",\n",
      " \"text\": \"La promo est toujours l\\u00e0 \\ud83e\\udd73\\ud83e\\udd73\\n\\nD\\u00e9couvrez les meilleurs burgers et cheeseburgers \\u00e0 la ch\\u00e8vre de #Ubuntu \\u00e0 seulement 10\\u2026 https://t.co/7RHXtfhlNI\",\n",
      " \"truncated\": true,\n",
      " \"entities\": {\n",
      "  \"hashtags\": [\n",
      "   {\n",
      "    \"text\": \"Ubuntu\",\n",
      "    \"indices\": [\n",
      "     93,\n",
      "     100\n",
      "    ]\n",
      "   }\n",
      "  ],\n",
      "  \"symbols\": [],\n",
      "  \"user_mentions\": [],\n",
      "  \"urls\": [\n",
      "   {\n",
      "    \"url\": \"https://t.co/7RHXtfhlNI\",\n",
      "    \"expanded_url\": \"https://twitter.com/i/web/status/1456916194020114432\",\n",
      "    \"display_url\": \"twitter.com/i/web/status/1\\u2026\",\n",
      "    \"indices\": [\n",
      "     117,\n",
      "     140\n",
      "    ]\n",
      "   }\n",
      "  ]\n",
      " },\n",
      " \"metadata\": {\n",
      "  \"iso_language_code\": \"fr\",\n",
      "  \"result_type\": \"recent\"\n",
      " },\n",
      " \"source\": \"<a href=\\\"http://twitter.com/download/android\\\" rel=\\\"nofollow\\\">Twitter for Android</a>\",\n",
      " \"in_reply_to_status_id\": null,\n",
      " \"in_reply_to_status_id_str\": null,\n",
      " \"in_reply_to_user_id\": null,\n",
      " \"in_reply_to_user_id_str\": null,\n",
      " \"in_reply_to_screen_name\": null,\n",
      " \"user\": {\n",
      "  \"id\": 1444981635473154049,\n",
      "  \"id_str\": \"1444981635473154049\",\n",
      "  \"name\": \"Restaurant Ubuntu\",\n",
      "  \"screen_name\": \"RestaurantUbun2\",\n",
      "  \"location\": \"\",\n",
      "  \"description\": \"\\ud835\\udc11\\ud835\\udc1e\\ud835\\udc2c\\ud835\\udc2d\\ud835\\udc1a\\ud835\\udc2e\\ud835\\udc2b\\ud835\\udc1a\\ud835\\udc27\\ud835\\udc2d & \\ud835\\udc01\\ud835\\udc22\\ud835\\udc2c\\ud835\\udc2d\\ud835\\udc2b\\ud835\\udc28\\n\\ud83c\\udf36 \\u2102\\ud835\\udd66\\ud835\\udd5a\\ud835\\udd64\\ud835\\udd5a\\ud835\\udd5f\\ud835\\udd56 \\ud835\\udd61\\ud835\\udd52\\ud835\\udd5f\\ud835\\udd52\\ud835\\udd57\\ud835\\udd63\\ud835\\udd5a\\ud835\\udd54\\ud835\\udd52\\ud835\\udd5a\\ud835\\udd5f\\ud835\\udd56 & \\ud835\\udd54\\ud835\\udd60\\ud835\\udd64\\ud835\\udd5e\\ud835\\udd60\\ud835\\udd61\\ud835\\udd60\\ud835\\udd5d\\ud835\\udd5a\\ud835\\udd65\\u025b. \\ud835\\udd43\\ud835\\udd52 \\ud835\\udd63\\ud835\\udd56\\ud835\\udd5f\\ud835\\udd54\\ud835\\udd60\\ud835\\udd5f\\ud835\\udd65\\ud835\\udd63\\ud835\\udd56 \\ud835\\udd55\\ud835\\udd56\\ud835\\udd64 \\ud835\\udd64\\ud835\\udd52\\ud835\\udd67\\ud835\\udd56\\ud835\\udd66\\ud835\\udd63\\ud835\\udd64 \\ud835\\udd65\\ud835\\udd63\\ud835\\udd52\\ud835\\udd55\\ud835\\udd5a\",\n",
      "  \"url\": null,\n",
      "  \"entities\": {\n",
      "   \"description\": {\n",
      "    \"urls\": []\n",
      "   }\n",
      "  },\n",
      "  \"protected\": false,\n",
      "  \"followers_count\": 51,\n",
      "  \"friends_count\": 82,\n",
      "  \"listed_count\": 0,\n",
      "  \"created_at\": \"Mon Oct 04 11:04:19 +0000 2021\",\n",
      "  \"favourites_count\": 79,\n",
      "  \"utc_offset\": null,\n",
      "  \"time_zone\": null,\n",
      "  \"geo_enabled\": true,\n",
      "  \"verified\": false,\n",
      "  \"statuses_count\": 33,\n",
      "  \"lang\": null,\n",
      "  \"contributors_enabled\": false,\n",
      "  \"is_translator\": false,\n",
      "  \"is_translation_enabled\": false,\n",
      "  \"profile_background_color\": \"F5F8FA\",\n",
      "  \"profile_background_image_url\": null,\n",
      "  \"profile_background_image_url_https\": null,\n",
      "  \"profile_background_tile\": false,\n",
      "  \"profile_image_url\": \"http://pbs.twimg.com/profile_images/1444983052531286018/z1Vs7yl0_normal.jpg\",\n",
      "  \"profile_image_url_https\": \"https://pbs.twimg.com/profile_images/1444983052531286018/z1Vs7yl0_normal.jpg\",\n",
      "  \"profile_link_color\": \"1DA1F2\",\n",
      "  \"profile_sidebar_border_color\": \"C0DEED\",\n",
      "  \"profile_sidebar_fill_color\": \"DDEEF6\",\n",
      "  \"profile_text_color\": \"333333\",\n",
      "  \"profile_use_background_image\": true,\n",
      "  \"has_extended_profile\": true,\n",
      "  \"default_profile\": true,\n",
      "  \"default_profile_image\": false,\n",
      "  \"following\": false,\n",
      "  \"follow_request_sent\": false,\n",
      "  \"notifications\": false,\n",
      "  \"translator_type\": \"none\",\n",
      "  \"withheld_in_countries\": []\n",
      " },\n",
      " \"geo\": null,\n",
      " \"coordinates\": null,\n",
      " \"place\": null,\n",
      " \"contributors\": null,\n",
      " \"is_quote_status\": false,\n",
      " \"retweet_count\": 0,\n",
      " \"favorite_count\": 0,\n",
      " \"favorited\": false,\n",
      " \"retweeted\": false,\n",
      " \"possibly_sensitive\": false,\n",
      " \"lang\": \"fr\"\n",
      "}\n"
     ]
    }
   ],
   "metadata": {}
  },
  {
   "cell_type": "markdown",
   "source": [
    "## Part 2: Extracting text, screen names, and hashtags from tweets (from Example 1-6 in Mining the Social Web)\n",
    "\n",
    "Simply printing all the search results to screen is nice, but to really start analysing them, it is handy to select the interesting parts and store them in a different structure such as a list. \n",
    "\n",
    "In this example you are using a thing called \"List Comprehension\".\n",
    "\n",
    "### 2.1 List Comprehensions\n",
    "List comprehension is a powerful construct that allows to succinctly build a list.\n",
    "With it you can process items from any iterable (e.g. dictionaries, lists, tuples, iterators...) and output a list while optionally performing an operation on each value.\n",
    "\n",
    "Here's a few examples:"
   ],
   "metadata": {}
  },
  {
   "cell_type": "code",
   "execution_count": 35,
   "source": [
    "# double all values from 0 to 9\n",
    "double_list = [i*2 for i in range(10)]\n",
    "# raise to the power of 2, but only if the number is uneven\n",
    "power_even_list = [i**2 for i in range(10) if i%2!=0]\n",
    "# clean strings in a tuple\n",
    "stripped_lines = [x.strip() for x in ('The\\n', 'Social\\n', 'Web\\n')]\n",
    "# return length of each string in stripped_lines\n",
    "len_str_lines = [len(s) for s in stripped_lines]\n",
    "# finally, we can nest list comprehensions to flatten a list of lists:\n",
    "list_of_lists = [[1, 2, 3], [4, 5, 6], [7, 8, 9]]\n",
    "range_9 = [x for y in list_of_lists for x in y]\n",
    "\n",
    "print(double_list)\n",
    "print(power_even_list)\n",
    "print(stripped_lines)\n",
    "print(len_str_lines)\n",
    "print(range_9)"
   ],
   "outputs": [
    {
     "name": "stdout",
     "output_type": "stream",
     "text": [
      "[0, 2, 4, 6, 8, 10, 12, 14, 16, 18]\n",
      "[1, 9, 25, 49, 81]\n",
      "['The', 'Social', 'Web']\n",
      "[3, 6, 3]\n",
      "[1, 2, 3, 4, 5, 6, 7, 8, 9]\n"
     ]
    }
   ],
   "metadata": {}
  },
  {
   "cell_type": "markdown",
   "source": [
    "### 2.2 Parsing text, screen names and hashtags from tweets\n",
    "*(from Example 1-6 in Mining the Social Web)*\n",
    "\n",
    "Hereafter, we'll be creating a variable `status_texts` of type list. \\\n",
    "The list will be filled with the `text` elements from each `status`, whereas `status` comes from looping through all `statuses` in the `search_results` list (1.2). \\\n",
    "Look up the list comprehensions in your Python reference materials to make sure you understand what's happening here. "
   ],
   "metadata": {}
  },
  {
   "cell_type": "code",
   "execution_count": 36,
   "source": [
    "status_texts = [ status['text'] for status in statuses ]\n",
    "# the escape character \"\\\" allows for the list comprehension to continue\n",
    "# on a new line. While not strictly necessary, it makes code more readable\n",
    "# for your fellow programmers.\n",
    "screen_names = [ user_mention['screen_name'] for status in statuses \\\n",
    "                for user_mention in status['entities']['user_mentions'] ]\n",
    "\n",
    "hashtags = [ hashtag['text'] for status in statuses \\\n",
    "        for hashtag in status['entities']['hashtags'] ]\n",
    "\n",
    "# Compute a collection of all words from all tweets\n",
    "words = [ w for t in status_texts for w in t.split() ] #split the string on the empty spaces\n",
    "\n",
    "# Explore the first 5 items for each...\n",
    "print(json.dumps(status_texts[0:5], indent=1))\n",
    "print(json.dumps(screen_names[0:5], indent=1))\n",
    "print(json.dumps(hashtags[0:5], indent=1))\n",
    "print(json.dumps(words[0:5], indent=1))"
   ],
   "outputs": [
    {
     "name": "stdout",
     "output_type": "stream",
     "text": [
      "[\n",
      " \"RT @TroubleNTheGang: #ThrowbackThursday to this summer when I tried to kiss a \\ud83d\\udc1d,it turns out that not everyone wants to be my friend.\\ud83d\\ude2c\\ud83d\\ude1eI ga\\u2026\",\n",
      " \"RT @GDSFoundation: #TBT to when #AcademyAward nominee and GLOBAL supporter @JeremyRenner walked the #BeBeautifulBeYourself Fashion Show run\\u2026\",\n",
      " \"RT @ABTOT_UK: #ThrowbackThursday The Franchise ATOL remains the most straightforward and cost effective way for SMEs to sell flight inclusi\\u2026\",\n",
      " \"RT @bulutbagci: #ThrowbackThursday \\n\\n#Amdjarass #Chad #Tchad https://t.co/CefrdKeHrd\",\n",
      " \"RT @HTAFCWomen: #ThrowbackThursday | We look back to 2019 where we beat Bradford City Women 11-0 at home!\\n\\n\\ud83d\\udc40 Watch the game here: https://t\\u2026\"\n",
      "]\n",
      "[\n",
      " \"TroubleNTheGang\",\n",
      " \"GDSFoundation\",\n",
      " \"JeremyRenner\",\n",
      " \"ABTOT_UK\",\n",
      " \"bulutbagci\"\n",
      "]\n",
      "[\n",
      " \"ThrowbackThursday\",\n",
      " \"TBT\",\n",
      " \"AcademyAward\",\n",
      " \"BeBeautifulBeYourself\",\n",
      " \"ThrowbackThursday\"\n",
      "]\n",
      "[\n",
      " \"RT\",\n",
      " \"@TroubleNTheGang:\",\n",
      " \"#ThrowbackThursday\",\n",
      " \"to\",\n",
      " \"this\"\n",
      "]\n"
     ]
    }
   ],
   "metadata": {}
  },
  {
   "cell_type": "markdown",
   "source": [
    "### Task 3\n",
    "\n",
    "You are now ready to parse usernames, hashtags and text from the results you previously obtained in Task 2 (e.g. `statuses_2`). While doing it, make sure to leave the variables created in 2.2 untouched. Instead, create your own variable names, which you'll be using soon.\n"
   ],
   "metadata": {}
  },
  {
   "cell_type": "code",
   "execution_count": 37,
   "source": [
    "#\n",
    "#\n",
    "status2_usernames = [ user_mention['screen_name'] for status in statuses2 \\\n",
    "                for user_mention in status['entities']['user_mentions'] ]\n",
    "\n",
    "status2_hashtags = [ hashtag['text'] for status in statuses2 \\\n",
    "        for hashtag in status['entities']['hashtags'] ]\n",
    "\n",
    "status2_texts = [ status['text'] for status in statuses2 ]\n",
    "\n",
    "status2_words = [ w for t in status2_texts for w in t.split() ]\n",
    "\n",
    "#\n",
    "#\n",
    "print(json.dumps(status2_texts[0:5], indent=1))\n",
    "print(json.dumps(status2_usernames[0:5], indent=1))\n",
    "print(json.dumps(status2_hashtags[0:5], indent=1))\n",
    "print(json.dumps(status2_words[0:5], indent=1))"
   ],
   "outputs": [
    {
     "name": "stdout",
     "output_type": "stream",
     "text": [
      "[\n",
      " \"La promo est toujours l\\u00e0 \\ud83e\\udd73\\ud83e\\udd73\\n\\nD\\u00e9couvrez les meilleurs burgers et cheeseburgers \\u00e0 la ch\\u00e8vre de #Ubuntu \\u00e0 seulement 10\\u2026 https://t.co/7RHXtfhlNI\",\n",
      " \"The other day I made a homemade burger and I wanna show y'all\\n#food #burger https://t.co/WG7XP8ZPy5\",\n",
      " \"\\ud83c\\udf54\\ud83c\\udf54\\ud83c\\udf54 Hangi en yak\\u0131n iki arkada\\u015f\\u0131nla beraber bu hafta sonu Ohannes Burger\\u2019desin? \\ud83e\\udd21 Hadi onlar\\u0131 yoruma etiketle \\ud83d\\udc47\\ud83c\\udffb\\u2026 https://t.co/GIljH1hoXh\",\n",
      " \"1lb all natural beef burger on organic mixed greens with mozzarella, Korean chili aioli, fresh jalapenos and avocado. #burger #nom\",\n",
      " \"I just enjoyed a deal on #Burger King  with #SmilesByEtisalat. Enjoy great deals. Visit the Smiles app\\u2026 https://t.co/PxDdJHRfTB\"\n",
      "]\n",
      "[\n",
      " \"veganfuture\",\n",
      " \"pickyfork\",\n",
      " \"newbie_codes\",\n",
      " \"raz037_ra\",\n",
      " \"IncTaha\"\n",
      "]\n",
      "[\n",
      " \"Ubuntu\",\n",
      " \"food\",\n",
      " \"burger\",\n",
      " \"burger\",\n",
      " \"nom\"\n",
      "]\n",
      "[\n",
      " \"La\",\n",
      " \"promo\",\n",
      " \"est\",\n",
      " \"toujours\",\n",
      " \"l\\u00e0\"\n",
      "]\n"
     ]
    }
   ],
   "metadata": {}
  },
  {
   "cell_type": "markdown",
   "source": [
    "## Part 3: Creating a basic frequency distribution from words in tweets\n",
    "*(from Examples 1-7 in Mining the Social Web)* \n",
    "\n",
    "\n",
    "In the cell below we display the 10 most common hashtag instances:"
   ],
   "metadata": {}
  },
  {
   "cell_type": "code",
   "execution_count": 49,
   "source": [
    "from collections import Counter\n",
    "\n",
    "for item in [words, screen_names, hashtags]:\n",
    "    c = Counter(item)\n",
    "\n",
    "print(c.most_common()[:10]) # top 10"
   ],
   "outputs": [
    {
     "name": "stdout",
     "output_type": "stream",
     "text": [
      "[('bonifacemwangi', 16), ('OshoJnr', 6), ('PicsDaGoat', 5), ('MarcoBr53061365', 3), ('christoph_dimke', 3), ('mjbyers333', 3), ('oliveri_pablo1', 3), ('bulutbagci', 2), ('WTofficial', 2), ('NAkufoAddo', 2)]\n"
     ]
    }
   ],
   "metadata": {}
  },
  {
   "cell_type": "markdown",
   "source": [
    "Your output should look something like this: \\\n",
    "`[('ThrowbackThursday', 34), ('throwbackthursday', 11), ('TBT', 6), ('ThrowBackThursday', 6), ('Trivia', 3), ('madoka_magica', 2), ('New', 2), ('EURO2020', 2), ('artists', 2)]`\n",
    "\n",
    "### Task 4\n",
    "Show hashtags frequency for results that you obtained in Task 3. Think about possible explanations for the different results you get from the analyses for the different queries.\n"
   ],
   "metadata": {}
  },
  {
   "cell_type": "code",
   "execution_count": 51,
   "source": [
    "#\n",
    "#\n",
    "for item in [status2_words, status2_usernames, status2_hashtags]:\n",
    "    counter2 = Counter(item)\n",
    "print(counter2.most_common()[:10])\n",
    "#\n",
    "# Based on the trending topic that we used at task 2, we will get different hashtags related to the trending topic we used.\n",
    "# For example, we used #burger as trending topic. So, In the result, we got hashtags related to burger like food, restaurant, drink and etc.\n",
    "\n",
    "# the code that you presented in the part 3. just outputs the results of hashtags. There is no need to put \"words\", \"screen_names\" in the array.\n",
    "# for that purpose the code below is enough:\n",
    "\n",
    "#   counter3 = Counter(status2_hashtags)\n",
    "#   print(counter3.most_common()[:10])\n",
    "\n",
    "# or you meant to print most_commons for all \"words\", \"screen_name\" and \"hashtags\" (just like example 1-7). for that the print should be inside the for loop."
   ],
   "outputs": [
    {
     "name": "stdout",
     "output_type": "stream",
     "text": [
      "[('burger', 15), ('food', 8), ('restaurant', 5), ('drink', 5), ('bbq', 5), ('pizza', 5), ('cafe', 5), ('nom', 2), ('Burger', 2), ('picture', 2)]\n"
     ]
    }
   ],
   "metadata": {}
  },
  {
   "cell_type": "markdown",
   "source": [
    "### 3.1 Storing your results\n",
    "So far, we have been storing the data in working memory. Often it's handy to store your data to disk so you can retrieve it in a next session. \n",
    "\n",
    "The pickle module lets you do exactly that, by serializing data in a binary format.\n"
   ],
   "metadata": {}
  },
  {
   "cell_type": "code",
   "execution_count": 52,
   "source": [
    "import pickle\n",
    "\n",
    "filepath = \"my_data.pickle\"\n",
    "# this indented python syntax is broadly defined as \"context manager\".\n",
    "# This means that everything happening under its indentation will use f\n",
    "# as file handle to filepath. The Shortand `wb` stands for \"write binary\",\n",
    "# which is how we serialize data to disk.\n",
    "with open(filepath, \"wb\") as f:\n",
    "    pickle.dump(words, f) # write the contents of list 'words' to file 'f'\n",
    "    \n",
    "# Note that, after the end of the indented block, the file is automatically closed.\n",
    "# Hence, no memory resource on your system is wasted idly."
   ],
   "outputs": [],
   "metadata": {}
  },
  {
   "cell_type": "markdown",
   "source": [
    "If you browse to your working directory, you should find a file there named \"myData.pickle\". You can open this in a text editor, or load its contents back into a variable to do some more analyses on.\n"
   ],
   "metadata": {}
  },
  {
   "cell_type": "code",
   "execution_count": 53,
   "source": [
    "# open the myData.pickle file and store its contents into variable 'words'\n",
    "\n",
    "with open(filepath, \"rb\") as f:\n",
    "    words = pickle.load(f)\n",
    "print(words)"
   ],
   "outputs": [
    {
     "name": "stdout",
     "output_type": "stream",
     "text": [
      "['RT', '@TroubleNTheGang:', '#ThrowbackThursday', 'to', 'this', 'summer', 'when', 'I', 'tried', 'to', 'kiss', 'a', '🐝,it', 'turns', 'out', 'that', 'not', 'everyone', 'wants', 'to', 'be', 'my', 'friend.😬😞I', 'ga…', 'RT', '@GDSFoundation:', '#TBT', 'to', 'when', '#AcademyAward', 'nominee', 'and', 'GLOBAL', 'supporter', '@JeremyRenner', 'walked', 'the', '#BeBeautifulBeYourself', 'Fashion', 'Show', 'run…', 'RT', '@ABTOT_UK:', '#ThrowbackThursday', 'The', 'Franchise', 'ATOL', 'remains', 'the', 'most', 'straightforward', 'and', 'cost', 'effective', 'way', 'for', 'SMEs', 'to', 'sell', 'flight', 'inclusi…', 'RT', '@bulutbagci:', '#ThrowbackThursday', '#Amdjarass', '#Chad', '#Tchad', 'https://t.co/CefrdKeHrd', 'RT', '@HTAFCWomen:', '#ThrowbackThursday', '|', 'We', 'look', 'back', 'to', '2019', 'where', 'we', 'beat', 'Bradford', 'City', 'Women', '11-0', 'at', 'home!', '👀', 'Watch', 'the', 'game', 'here:', 'https://t…', 'RT', '@WTofficial:', \"Here's\", 'a', 'little', '#ThrowbackThursday', 'to', 'one', 'of', 'the', 'songs', 'we', 'love', 'to', 'play', 'live.', 'How', 'many', 'times', 'have', 'you', 'sang', 'along', 'to', 'this', 'one…', 'RT', '@OshoJnr:', '🇳🇬', '🇦🇷', '1', 'Photo...', '2', 'ABSOLUTE', 'LEGENDS', 'Jay', 'Jay', 'Okocha', 'and', 'Diego', 'Maradona...', 'Snapped', 'at', 'the', '1994', 'FIFA', 'WORLD', 'CUP', 'game', 'Argentina', '2-1…', 'RT', '@NAkufoAddo:', '#ThrowbackThursday', '…', '#COP26', 'Let', 'us', 'use', 'this', 'Summit', 'as', 'a', 'turning', 'point', 'to', 'create', 'a', 'more', 'prosperous,', 'greener', 'and', 'fairer', 'wor…', 'RT', '@WTofficial:', \"Today's\", 'a', 'great', 'day', 'to', 'shed', 'some', 'light', 'on', 'this', 'music', 'video', 'as', \"it's\", 'passed', 'the', '250', 'MILLION', 'VIEWS', '🚀!', '#ThrowbackThursday', 'to', '@a…', 'RT', '@CERN:', 'Cycling', 'around', 'particles', 'in', '1980?', '🚴\\u200d♂️', 'This', '#ThrowbackThursday', 'isn’t', 'about', 'bikes', 'but', 'about', 'the', 'Rapid', 'Cycling', 'Bubble', 'Chamber,', 'a', 'm…', 'RT', '@wildstein:', 'President', 'Nixon,', 'Gov.', 'Bill', 'Cahill,', 'and', 'Newark', 'Mayor', 'Ken', 'Gibson', 'on', 'a', 'helicopter', 'in', '1971', 'surveying', \"Nixon's\", 'proposal', 'to', 'create…', 'RT', '@stockportgs:', 'We', 'love', 'this', 'video', 'from', '@singforpleasure!', 'The', 'national', '#choral', '#charity', 'spent', 'a', 'week', 'at', 'SGS', 'during', 'the', 'summer', 'break', 'for', 'a…', 'RT', '@marklangleyart:', 'What', 'type', 'of', 'landscape', 'paintings', 'do', 'you', 'like?', '#ThrowbackThursday', \"'Snow\", 'Covered', 'Laneside', 'at', \"Wormhill'\", 'Oil', 'on', 'canvas', '-', '30…', 'RT', '@bonifacemwangi:', '5', 'years', 'ago', 'this', 'month', 'l', 'walked', 'out', 'of', 'Jeff', 'Koinange', 'Live.', 'I', 'still', 'refuse', 'to', 'share', 'a', 'platform', 'with', 'hate-mongers,', 'thieve…', 'RT', '@N_Amberfield:', 'The', 'Belfast', 'Boat', 'Express', 'at', 'Manchester', 'Exchange', '24th', 'April', '1968', '#ThrowbackThursday', '📸', 'George', 'Woods', 'https://t.co/oVVxUlR1Eh', 'RT', '@BIGDera_:', '#Throwbackthursday', 'Dj', 'Spinall', 'x', 'Wizkid', 'x', 'video', 'vixen', '-', 'Dis', 'Love', '🎶', '❤️\\u200d🔥', 'https://t.co/1R5ipCPDQ5', 'RT', '@DestinyComiX:', '#throwbackThursday', 'is', 'honestly', 'just', 'an', 'excuse', 'to', 'post', 'fun', 'sketches', 'of', 'old', '#T.V', 'shows', 'and', '#movies.', 'Its', 'a', 'throwback.', 'lets', 't…', 'RT', '@OshoJnr:', '🇳🇬', '🇦🇷', '1', 'Photo...', '2', 'ABSOLUTE', 'LEGENDS', 'Jay', 'Jay', 'Okocha', 'and', 'Diego', 'Maradona...', 'Snapped', 'at', 'the', '1994', 'FIFA', 'WORLD', 'CUP', 'game', 'Argentina', '2-1…', 'RT', '@bonifacemwangi:', '5', 'years', 'ago', 'this', 'month', 'l', 'walked', 'out', 'of', 'Jeff', 'Koinange', 'Live.', 'I', 'still', 'refuse', 'to', 'share', 'a', 'platform', 'with', 'hate-mongers,', 'thieve…', 'RT', '@beezyandco:', '12', 'Days', 'of', 'Christmas', 'ornaments', 'by', 'Jan', 'Brett', '-', 'find', 'this', 'vintage', 'item', 'on', '@Etsy', 'at', 'BeezyAndCo', '-', 'link', 'in', 'bio', '#vintage', '#etsy', '#C…', 'RT', '@JanetBu54757009:', '#ThrowbackThursday', 'When', 'Florence', 'got', 'stuck', 'under', 'the', 'chair!', '😊😅🥰', 'https://t.co/lERpZBU6Fx', 'RT', '@OshoJnr:', '🇳🇬', '🇦🇷', '1', 'Photo...', '2', 'ABSOLUTE', 'LEGENDS', 'Jay', 'Jay', 'Okocha', 'and', 'Diego', 'Maradona...', 'Snapped', 'at', 'the', '1994', 'FIFA', 'WORLD', 'CUP', 'game', 'Argentina', '2-1…', 'RT', '@beezyandco:', '12', 'Days', 'of', 'Christmas', 'ornaments', 'by', 'Jan', 'Brett', '-', 'find', 'this', 'vintage', 'item', 'on', '@Etsy', 'at', 'BeezyAndCo', '-', 'link', 'in', 'bio', '#vintage', '#etsy', '#C…', 'RT', '@zrh_airport:', '#ThrowbackThursday', 'In', '1953', 'Zurich', 'Airport', 'has', 'had', 'its', 'opening', 'with', 'only', 'a', 'small', 'amount', 'of', 'buildings.', 'Did', 'you', 'know', 'that', 'tod…', 'RT', '@bonifacemwangi:', '5', 'years', 'ago', 'this', 'month', 'l', 'walked', 'out', 'of', 'Jeff', 'Koinange', 'Live.', 'I', 'still', 'refuse', 'to', 'share', 'a', 'platform', 'with', 'hate-mongers,', 'thieve…', 'RT', '@learothawms:', 'The', 'Colored', 'YMCA', '#northnashville', '#ThrowbackThursday', 'https://t.co/kZqIutSxpx', 'RT', '@MarcoBr53061365:', '@jlcooke99', '@AndreasRichter_', '@christoph_dimke', '@Rinoire', '@bourdyot_', '@gmracingblue', '@mjbyers333', '@oliveri_pablo1', '@Carolinewh…', 'RT', '@MarcoBr53061365:', '@pjlm2', '@christoph_dimke', '@orsoladelzenero', '@Oscarol95842891', '@oliveri_pablo1', '@JoestJ', '@nzo125547', '@mjbyers333', '@HitoshiH5', '@H…', 'RT', '@MarcoBr53061365:', '@christoph_dimke', '@oliveri_pablo1', '@mjbyers333', '@Rinoire', '@bourdyot_', '@pjlm2', '@AngelMelodie2', '@ren_119', '@Oscarol95842891', '@Hmp9…', 'RT', '@FansTribeHQ:', '🇳🇬', '🇦🇷', '1', 'Photo...', '2', 'ABSOLUTE', 'LEGENDS...', 'Snapped', 'at', 'the', '1994', 'FIFA', 'WORLD', 'CUP', 'game', 'Argentina', '2-1', 'Nigeria.', 'Too', 'much', 'greatness…', 'RT', '@telugufilmnagar:', '#Throwback', 'to', 'this', 'still', 'of', 'Superstar', '#MaheshBabu', 'from', 'the', 'cult', 'classic', '#Khaleja', '!', '#11YearsForKhaleja', '#ThrowbackThurs…', 'RT', '@maheshvamsi9:', '#Throwback', 'to', 'this', 'still', 'of', 'Superstar', '#MaheshBabu', 'from', 'the', 'cult', 'classic', '#Khaleja', '!', '#11YearsForKhaleja', '#ThrowbackThursday…', 'RT', '@RIAZtheboss:', '#RevisitingWithRiaz', 'Day-96', '#Nostalgia', '#nostalgic', '#throwbackpicture', '#Throwback', '#Flashback', '#flashbackmemories', '#ThrowbackTh…', 'RT', '@cgbosslady1:', 'Happy', '#ThrowbackThursday!', 'Happy', 'Diwali!', 'The', 'little', 'humans', 'next', 'door', 'are', 'teaching', 'me', 'all', 'about', 'Diwali.', 'I', 'love', 'our', 'chats…', 'an…', 'RT', '@zrh_airport:', '#ThrowbackThursday', 'In', '1953', 'Zurich', 'Airport', 'has', 'had', 'its', 'opening', 'with', 'only', 'a', 'small', 'amount', 'of', 'buildings.', 'Did', 'you', 'know', 'that', 'tod…', 'RT', '@bonifacemwangi:', '5', 'years', 'ago', 'this', 'month', 'l', 'walked', 'out', 'of', 'Jeff', 'Koinange', 'Live.', 'I', 'still', 'refuse', 'to', 'share', 'a', 'platform', 'with', 'hate-mongers,', 'thieve…', 'RT', '@PrettyGonzo:', 'Happy', '#ThrowbackThursday', 'to', 'all', 'our', 'sweet', 'furpals', 'from', 'Sir', 'Gonze', '&amp;', 'me!', '😻❤️😁🌻🐿️🎃🐾', '#AdoptDontShop', '#CatsOfTwitter', '#cats', '#thur…', 'RT', '@GlobalLogic_IN:', '#GlobalLogicWaliDiwali', '2021', 'is', 'in', 'full', 'swing!', 'This', '#throwbackthursday', 'is', 'a', 'continuation', 'of', 'our', '#Diwali', 'celebration', 'seri…', 'RT', '@VR_tulun96:', '#ThrowbackThursday', 'The', 'Bangles,', 'Антверпен,', 'Бельгия,', '18', 'ноября', '1988', 'года.', '@DebbiMPeterson', '@VickiBangle', '#MickiSteele', '@Susanna…', 'RT', '@bonifacemwangi:', '5', 'years', 'ago', 'this', 'month', 'l', 'walked', 'out', 'of', 'Jeff', 'Koinange', 'Live.', 'I', 'still', 'refuse', 'to', 'share', 'a', 'platform', 'with', 'hate-mongers,', 'thieve…', 'RT', '@rederijdoeksen:', '#TBT', 'Achter', 'bijna', 'elke', '#scheepsnaam', 'gaat', 'wel', 'een', 'mooi', 'verhaal', 'schuil.', 'Zo', 'werd', 'de', 'huidige', 'vrachtcatamaran', '#NoordNederlan…', 'RT', '@PicsDaGoat:', 'For', '#ThrowbackThursday', 'this', 'week,', 'here’s', 'a', 'further', 'selection', 'of', 'pics', 'from', 'Scotiacon', '2018.', 'The', 'con', 'was', 'once', 'again', 'held', 'at', 't…', 'RT', '@merlin_moo:', 'Mawnings', 'puppas,', 'just', 'back', 'from', '4am', 'meander', 'to', 'check', 'all', 'ok', 'in', 'our', 'neighbourhood', 'and', 'glad', 'to', 'report', 'no', 'problems.', 'Had', 'my', 'lic…', 'RT', '@carlosradioguy:', 'Long', 'before', 'I', 'spent', 'most', 'of', 'my', 'time', 'sat', 'in', 'a', 'deckchair', 'I', 'was', 'wearing', '’em!', 'For', '#ThrowbackThursday', 'a', 'retro', 'Heart', 'shot', 'f…', 'RT', '@bonifacemwangi:', '5', 'years', 'ago', 'this', 'month', 'l', 'walked', 'out', 'of', 'Jeff', 'Koinange', 'Live.', 'I', 'still', 'refuse', 'to', 'share', 'a', 'platform', 'with', 'hate-mongers,', 'thieve…', 'RT', '@bonifacemwangi:', '5', 'years', 'ago', 'this', 'month', 'l', 'walked', 'out', 'of', 'Jeff', 'Koinange', 'Live.', 'I', 'still', 'refuse', 'to', 'share', 'a', 'platform', 'with', 'hate-mongers,', 'thieve…', '#RevisitingWithRiaz', 'Day-96', '#Nostalgia', '#nostalgic', '#throwbackpicture', '#Throwback', '#Flashback', '#flashbackmemories…', 'https://t.co/uYl3hvkMU0', 'RT', '@ChampionsLeague:', '🟢', 'Giorgos', 'Karagounis', 'in', '2008', '🎯', '#UCL', '|', '#ThrowbackThursday', '|', '@paofc_', 'https://t.co/lwuUdY2OlF', 'RT', '@holeshotaward:', '#WhipitWednesday', 'en', '#ThrowbackThursday', 'in', '1', 'foto!', 'Terug', 'naar', '2001', 'met', 'Carmichael', 'en', 'McGrath', 'tijdens', 'Anaheim', '3', '!!', '#TheHol…', 'RT', '@bonifacemwangi:', '5', 'years', 'ago', 'this', 'month', 'l', 'walked', 'out', 'of', 'Jeff', 'Koinange', 'Live.', 'I', 'still', 'refuse', 'to', 'share', 'a', 'platform', 'with', 'hate-mongers,', 'thieve…', 'RT', '@bonifacemwangi:', '5', 'years', 'ago', 'this', 'month', 'l', 'walked', 'out', 'of', 'Jeff', 'Koinange', 'Live.', 'I', 'still', 'refuse', 'to', 'share', 'a', 'platform', 'with', 'hate-mongers,', 'thieve…', 'RT', '@bonifacemwangi:', '5', 'years', 'ago', 'this', 'month', 'l', 'walked', 'out', 'of', 'Jeff', 'Koinange', 'Live.', 'I', 'still', 'refuse', 'to', 'share', 'a', 'platform', 'with', 'hate-mongers,', 'thieve…', 'RT', '@SCSsoftware:', \"It's\", '#ThrowbackThursday', '😎', \"We're\", '#RetroTrucking', 'in', 'style', 'with', 'the', 'Retrowave', 'Paint', 'Jobs', 'Pack', 'for', 'American', 'Truck', 'Simulator', '🌴…', 'RT', '@UrbanPop_up_:', 'If', 'TGIF', 'is', 'Thank', 'God', 'It’s', 'Friday,', 'then', 'today', 'must', 'be', 'SH*T,', 'Sure', 'Happy', 'It’s', 'Thursday🤘🏽🤘🏽🤘🏽', '#urbanexperience', '#HappyDeepava…', 'RT', '@bonifacemwangi:', '5', 'years', 'ago', 'this', 'month', 'l', 'walked', 'out', 'of', 'Jeff', 'Koinange', 'Live.', 'I', 'still', 'refuse', 'to', 'share', 'a', 'platform', 'with', 'hate-mongers,', 'thieve…', 'RT', '@bonifacemwangi:', '5', 'years', 'ago', 'this', 'month', 'l', 'walked', 'out', 'of', 'Jeff', 'Koinange', 'Live.', 'I', 'still', 'refuse', 'to', 'share', 'a', 'platform', 'with', 'hate-mongers,', 'thieve…', 'RT', '@MarkoSilberhand:', 'Hello', 'World,', \"it's\", '#ThrowbackThursday', '.', '.', '.', 'So,', 'here', 'is', 'a', 'video', 'from', '6-29-2021,', 'Landshut,', 'Bavaria.', '#climate', 'change', 'i…', 'RT', '@BigBlueSass:', 'Is', '#ThrowbackThursday', 'still', 'a', 'thing?', 'I', 'was', '17', 'here.', 'https://t.co/temofhmq97', 'RT', '@ChampionsLeague:', '🟢', 'Giorgos', 'Karagounis', 'in', '2008', '🎯', '#UCL', '|', '#ThrowbackThursday', '|', '@paofc_', 'https://t.co/lwuUdY2OlF', 'RT', '@koshaid1:', '#ThrowbackThursday', '#Castle', 'https://t.co/APErONizGK', 'RT', '@koshaid1:', '#ThrowbackThursday', '#ROAR', '🦁🤣', 'https://t.co/aXjQgTPbfL', 'RT', '@PicsDaGoat:', 'For', '#ThrowbackThursday', 'this', 'week,', 'here’s', 'a', 'further', 'selection', 'of', 'pics', 'from', 'Scotiacon', '2018.', 'The', 'con', 'was', 'once', 'again', 'held', 'at', 't…', 'RT', '@bulutbagci:', '#ThrowbackThursday', '#Amdjarass', '#Chad', '#Tchad', 'https://t.co/CefrdKeHrd', 'RT', '@TragicClarity:', 'Fetus', 'Jess', '#ThrowbackThursday', 'https://t.co/AnO6oCC0kV', 'RT', '@TragicClarity:', '90s', 'JC', \"Penny's\", 'photoshoot', 'things', '#ThrowbackThursday', 'https://t.co/bdJ60mQ98M', 'RT', '@iomttpics:', 'A', 'little', '#ThrowbackThursday', 'with', 'Hutchy', 'in', '2016', 'in', 'the', 'Supersport', 'Race', 'https://t.co/myItLeuDSJ', 'RT', '@bonifacemwangi:', '5', 'years', 'ago', 'this', 'month', 'l', 'walked', 'out', 'of', 'Jeff', 'Koinange', 'Live.', 'I', 'still', 'refuse', 'to', 'share', 'a', 'platform', 'with', 'hate-mongers,', 'thieve…', 'RT', '@SelaWard:', '#ThrowbackThursday…', 'Can', 'I', 'get', 'a', 'Roll', 'Tide?!', '🐘❤️', 'https://t.co/5vP6BaHFPm', 'RT', '@TheHardyBoyCats:', 'The', 'boy’s', 'first', 'profile', 'picture', '😻😻', '#ThrowbackThursday', '#ClassicCatsOfTwitter', 'https://t.co/NNyUJVfEGf', 'RT', '@PicsDaGoat:', 'For', '#ThrowbackThursday', 'this', 'week,', 'here’s', 'a', 'further', 'selection', 'of', 'pics', 'from', 'Scotiacon', '2018.', 'The', 'con', 'was', 'once', 'again', 'held', 'at', 't…', '#ThrowbackThursday:', 'Then', 'Vs', 'Now', 'Photos', 'Of', 'Sola', 'Sobowale', 'https://t.co/zuQf9wVnvC', '#tbt', 'RT', '@gerrintee:', '#ThrowbackThursday', '\"Throw', 'Your', 'Stuff', 'In', 'The', 'Back', '&amp;', \"Let's\", 'Riiide!\"', '🖤', 'https://t.co/mMG0hNGT2t', 'RT', '@OshoJnr:', '🇳🇬', '🇦🇷', '1', 'Photo...', '2', 'ABSOLUTE', 'LEGENDS', 'Jay', 'Jay', 'Okocha', 'and', 'Diego', 'Maradona...', 'Snapped', 'at', 'the', '1994', 'FIFA', 'WORLD', 'CUP', 'game', 'Argentina', '2-1…', 'RT', '@PicsDaGoat:', 'For', '#ThrowbackThursday', 'this', 'week,', 'here’s', 'a', 'further', 'selection', 'of', 'pics', 'from', 'Scotiacon', '2018.', 'The', 'con', 'was', 'once', 'again', 'held', 'at', 't…', 'RT', '@PicsDaGoat:', 'For', '#ThrowbackThursday', 'this', 'week,', 'here’s', 'a', 'further', 'selection', 'of', 'pics', 'from', 'Scotiacon', '2018.', 'The', 'con', 'was', 'once', 'again', 'held', 'at', 't…', 'RT', '@bonifacemwangi:', '5', 'years', 'ago', 'this', 'month', 'l', 'walked', 'out', 'of', 'Jeff', 'Koinange', 'Live.', 'I', 'still', 'refuse', 'to', 'share', 'a', 'platform', 'with', 'hate-mongers,', 'thieve…', 'RT', '@OshoJnr:', '🇳🇬', '🇦🇷', '1', 'Photo...', '2', 'ABSOLUTE', 'LEGENDS', 'Jay', 'Jay', 'Okocha', 'and', 'Diego', 'Maradona...', 'Snapped', 'at', 'the', '1994', 'FIFA', 'WORLD', 'CUP', 'game', 'Argentina', '2-1…', 'RT', '@NAkufoAddo:', '#ThrowbackThursday', '…', '#COP26', 'Let', 'us', 'use', 'this', 'Summit', 'as', 'a', 'turning', 'point', 'to', 'create', 'a', 'more', 'prosperous,', 'greener', 'and', 'fairer', 'wor…', 'RT', '@OshoJnr:', '🇳🇬', '🇦🇷', '1', 'Photo...', '2', 'ABSOLUTE', 'LEGENDS', 'Jay', 'Jay', 'Okocha', 'and', 'Diego', 'Maradona...', 'Snapped', 'at', 'the', '1994', 'FIFA', 'WORLD', 'CUP', 'game', 'Argentina', '2-1…', 'RT', '@bonifacemwangi:', '5', 'years', 'ago', 'this', 'month', 'l', 'walked', 'out', 'of', 'Jeff', 'Koinange', 'Live.', 'I', 'still', 'refuse', 'to', 'share', 'a', 'platform', 'with', 'hate-mongers,', 'thieve…', 'RT', '@bonifacemwangi:', '5', 'years', 'ago', 'this', 'month', 'l', 'walked', 'out', 'of', 'Jeff', 'Koinange', 'Live.', 'I', 'still', 'refuse', 'to', 'share', 'a', 'platform', 'with', 'hate-mongers,', 'thieve…', 'RT', '@IrmaOudeBreuil:', '#Hearties', '💕', '#ThrowbackThursday', 'one', 'of', 'the', 'hottest', 'scenes❤🔥❤🔥', 'between', 'Elizabeth', 'and', 'Lucas,', 'if', 'you', \"didn't\", 'know', 'by', 'now', 'tha…', 'RT', '@Photo_Rutland:', 'That', 'old', 'oak', 'tree', 'just', 'over', 'the', 'border', 'of', '#rutland', '#throwbackthursday', '#photography', 'https://t.co/FPS3rifZlz']\n"
     ]
    }
   ],
   "metadata": {}
  },
  {
   "cell_type": "markdown",
   "source": [
    "### 3.2 Using prettytable to display tuples in a nice way\n",
    "\n"
   ],
   "metadata": {}
  },
  {
   "cell_type": "code",
   "execution_count": 42,
   "source": [
    "from prettytable import PrettyTable\n",
    "for label, data in (('Word', words),\n",
    "                    ('Screen Name', screen_names),\n",
    "                    ('Hashtag', hashtags)):\n",
    "    pt = PrettyTable(field_names=[label, 'Count'])\n",
    "    c = Counter(data)\n",
    "    [ pt.add_row(kv) for kv in c.most_common()[:10] ]\n",
    "    pt.align[label], pt.align['Count'] = 'l', 'r' # Set column alignment\n",
    "    print(pt) "
   ],
   "outputs": [
    {
     "name": "stdout",
     "output_type": "stream",
     "text": [
      "+--------------------+-------+\n",
      "| Word               | Count |\n",
      "+--------------------+-------+\n",
      "| RT                 |    81 |\n",
      "| a                  |    40 |\n",
      "| #ThrowbackThursday |    38 |\n",
      "| to                 |    36 |\n",
      "| of                 |    34 |\n",
      "| this               |    31 |\n",
      "| I                  |    22 |\n",
      "| the                |    21 |\n",
      "| with               |    20 |\n",
      "| still              |    19 |\n",
      "+--------------------+-------+\n",
      "+-----------------+-------+\n",
      "| Screen Name     | Count |\n",
      "+-----------------+-------+\n",
      "| bonifacemwangi  |    16 |\n",
      "| OshoJnr         |     6 |\n",
      "| PicsDaGoat      |     5 |\n",
      "| MarcoBr53061365 |     3 |\n",
      "| christoph_dimke |     3 |\n",
      "| mjbyers333      |     3 |\n",
      "| oliveri_pablo1  |     3 |\n",
      "| bulutbagci      |     2 |\n",
      "| WTofficial      |     2 |\n",
      "| NAkufoAddo      |     2 |\n",
      "+-----------------+-------+\n",
      "+-------------------+-------+\n",
      "| Hashtag           | Count |\n",
      "+-------------------+-------+\n",
      "| ThrowbackThursday |    42 |\n",
      "| Throwback         |     4 |\n",
      "| TBT               |     2 |\n",
      "| Amdjarass         |     2 |\n",
      "| Chad              |     2 |\n",
      "| Tchad             |     2 |\n",
      "| COP26             |     2 |\n",
      "| vintage           |     2 |\n",
      "| etsy              |     2 |\n",
      "| MaheshBabu        |     2 |\n",
      "+-------------------+-------+\n"
     ]
    }
   ],
   "metadata": {}
  },
  {
   "cell_type": "markdown",
   "source": [
    "### 3.3 Calculating lexical diversity for tweets \n",
    "*(from Example 1-9 in Mining the Social Web)*:"
   ],
   "metadata": {}
  },
  {
   "cell_type": "code",
   "execution_count": 57,
   "source": [
    "# Define a function for computing lexical diversity\n",
    "def lexical_diversity(tokens):\n",
    "    return 1.0*len(set(tokens))/len(tokens)\n",
    "\n",
    "# Define a function for computing the average number of words per tweet\n",
    "def average_words(statuses):\n",
    "    total_words = sum([ len(s.split()) for s in statuses ])\n",
    "    return 1.0*total_words/len(statuses)\n",
    "\n",
    "# Let's use these functions:\n",
    "\n",
    "print(lexical_diversity(words))\n",
    "print(lexical_diversity(screen_names))\n",
    "print(lexical_diversity(hashtags))\n",
    "print(average_words(status_texts))"
   ],
   "outputs": [
    {
     "name": "stdout",
     "output_type": "stream",
     "text": [
      "0.38317757009345793\n",
      "0.6\n",
      "0.43119266055045874\n",
      "19.337349397590362\n"
     ]
    }
   ],
   "metadata": {}
  },
  {
   "cell_type": "markdown",
   "source": [
    "### Task 5: What do the printed numbers indicate? Try to explain them.\n",
    "\n",
    "The first printed lines (lexical_diversity):\n",
    "\n",
    "Ratio of unique tokens to total number of tokens. tokens can be words, screen names and hashtags. Which means if the result is 0 it means no tokens were found and if result is 1. all tokens in the context is unique.\n",
    "for instance, in ['burger', 'food', 'is', 'delicious', 'food'], we have 4 unique tokens (burger, food, is, delicious) while we have 5 tokens. That makes lexical diversity 4/5=0.8.\n",
    "\n",
    "The last printed lines (average_words):\n",
    "\n",
    "This shows average number of words in each tweet. For example in last sections there were 83 tweets which contained 1605 words. so by dividing 1605 by 83, we find that in average each tweet has 19.33 words."
   ],
   "metadata": {}
  },
  {
   "cell_type": "markdown",
   "source": [
    "### 3.4 Finding the most popular retweets \n",
    "*(from Example 1-10 in Mining the Social Web):*"
   ],
   "metadata": {}
  },
  {
   "cell_type": "code",
   "execution_count": 44,
   "source": [
    "retweet_cnt_un_txt = [(status['retweet_count'],\n",
    "    status['retweeted_status']['user']['screen_name'],\n",
    "    status['text'])# Store out a tuple of these three values\n",
    "    for status in statuses # for each status\n",
    "    if 'retweeted_status' in status # ... so long as the status meets this condition.\n",
    "    ]\n",
    "\n",
    "# Slice off the first 5 from the sorted results and display each item in the tuple\n",
    "pt = PrettyTable(field_names=['Count', 'Screen Name', 'Text'])\n",
    "[ pt.add_row(row) for row in sorted(retweet_cnt_un_txt, reverse=True)[:5] ]\n",
    "pt.max_width['Text'] = 50\n",
    "pt.align= 'l'\n",
    "print(pt)"
   ],
   "outputs": [
    {
     "name": "stdout",
     "output_type": "stream",
     "text": [
      "+-------+----------------+----------------------------------------------------+\n",
      "| Count | Screen Name    | Text                                               |\n",
      "+-------+----------------+----------------------------------------------------+\n",
      "| 998   | bonifacemwangi | RT @bonifacemwangi: 5 years ago this month l       |\n",
      "|       |                | walked out of Jeff Koinange Live. I still refuse   |\n",
      "|       |                | to share a platform with hate-mongers, thieve…     |\n",
      "| 998   | bonifacemwangi | RT @bonifacemwangi: 5 years ago this month l       |\n",
      "|       |                | walked out of Jeff Koinange Live. I still refuse   |\n",
      "|       |                | to share a platform with hate-mongers, thieve…     |\n",
      "| 998   | bonifacemwangi | RT @bonifacemwangi: 5 years ago this month l       |\n",
      "|       |                | walked out of Jeff Koinange Live. I still refuse   |\n",
      "|       |                | to share a platform with hate-mongers, thieve…     |\n",
      "| 998   | bonifacemwangi | RT @bonifacemwangi: 5 years ago this month l       |\n",
      "|       |                | walked out of Jeff Koinange Live. I still refuse   |\n",
      "|       |                | to share a platform with hate-mongers, thieve…     |\n",
      "| 998   | bonifacemwangi | RT @bonifacemwangi: 5 years ago this month l       |\n",
      "|       |                | walked out of Jeff Koinange Live. I still refuse   |\n",
      "|       |                | to share a platform with hate-mongers, thieve…     |\n",
      "+-------+----------------+----------------------------------------------------+\n"
     ]
    }
   ],
   "metadata": {}
  },
  {
   "cell_type": "markdown",
   "source": [
    "### 3.5 Looking up users who have retweeted a status \n",
    "*(from Example 1-11 in Mining the Social Web):*"
   ],
   "metadata": {}
  },
  {
   "cell_type": "code",
   "execution_count": 58,
   "source": [
    "retweets = twitter_api.statuses.retweets(id=1224140327688249349) # Get the original tweet id for a tweet from its retweeted_status node and insert it here\n",
    "print(\"Users who've retweeted the tweet:\\n\")\n",
    "print([r['user']['screen_name'] for r in retweets])"
   ],
   "outputs": [
    {
     "name": "stdout",
     "output_type": "stream",
     "text": [
      "Users who've retweeted the tweet:\n",
      "\n",
      "['mblandnc', 'Connormccoolman', 'DarnMilk', 'coy_holt', 'QueenHarleyBee', 'MARKOPOLO100', 'SHAK_08', 'saabooboo', 'notJacksonfish', 'MartinFaced', 'cestkisa', 'abrewer18', 'ChrEEstosK', 'McCormacSpices', 'MahomieTrent', 'ChrisMcElfresh1']\n"
     ]
    }
   ],
   "metadata": {}
  },
  {
   "cell_type": "markdown",
   "source": [
    "### Task 6 (advanced)\n",
    "\n",
    "If you have a Twitter account with a nontrivial number of tweets, request your historical tweet archive from your account settings and analyze it. \\\n",
    "The export of your account data includes files organized by time period in a convenient JSON format. See the README.txt file included in the downloaded archive for more details. \n",
    "\n",
    "\n",
    "\n",
    "What are the most common terms that appear in your tweets? \\\n",
    "Who do you retweet the most often? \\\n",
    "How many of your tweets are retweeted (and why do you think this is the case)?"
   ],
   "metadata": {}
  },
  {
   "cell_type": "markdown",
   "source": [
    "### 3.6 Plotting frequencies of words \n",
    "*(from Example 1-12 in Mining the Social Web)*\n",
    "\n",
    "\n",
    "In the previous exercises we have been looking at the text from the tweets, but when you retrieved the results, you retrieved much more information about the tweets, such as the username of the person who shared this tweet with the world. \n",
    "\n",
    "\n",
    "You can use this information to find out who retweets whom in our examples. "
   ],
   "metadata": {}
  },
  {
   "cell_type": "code",
   "execution_count": null,
   "source": [
    "word_counts = sorted(Counter(words).values(), reverse=True)\n",
    "import matplotlib.pyplot as plt\n",
    "plt.loglog(word_counts)\n",
    "plt.ylabel(\"Freq\")\n",
    "plt.xlabel(\"Word Rank\")\n",
    "plt.show()"
   ],
   "outputs": [],
   "metadata": {}
  },
  {
   "cell_type": "markdown",
   "source": [
    "### Generating histograms of words, screen names, and hashtags \n",
    "*(from Example 1-13 in Mining the Social Web):*"
   ],
   "metadata": {}
  },
  {
   "cell_type": "code",
   "execution_count": null,
   "source": [
    "for label, data in (('Word', words),\n",
    "                    ('Screen Name', screen_names),\n",
    "                    ('Hashtag', hashtags)):\n",
    "    c = Counter(data)\n",
    "    plt.hist(c.values())\n",
    "    \n",
    "    plt.title(label)\n",
    "    plt.ylabel(\"Number of items in bin\")\n",
    "    plt.xlabel(\"Bins (number of times an item appeared)\")\n",
    "    \n",
    "    plt.figure()"
   ],
   "outputs": [],
   "metadata": {}
  },
  {
   "cell_type": "code",
   "execution_count": null,
   "source": [
    "# extra: seaborn plots with a one-liner.\n",
    "!pip install seaborn\n",
    "import seaborn as sns\n",
    "\n",
    "sns.distplot(word_counts, kde=False, rug=True)\n"
   ],
   "outputs": [],
   "metadata": {}
  }
 ],
 "metadata": {
  "kernelspec": {
   "display_name": "Python 3 (ipykernel)",
   "language": "python",
   "name": "python3"
  },
  "language_info": {
   "codemirror_mode": {
    "name": "ipython",
    "version": 3
   },
   "file_extension": ".py",
   "mimetype": "text/x-python",
   "name": "python",
   "nbconvert_exporter": "python",
   "pygments_lexer": "ipython3",
   "version": "3.8.0"
  }
 },
 "nbformat": 4,
 "nbformat_minor": 2
}