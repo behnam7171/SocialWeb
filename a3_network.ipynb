{
  "nbformat": 4,
  "nbformat_minor": 0,
  "metadata": {
    "kernelspec": {
      "display_name": "Python 3 (ipykernel)",
      "language": "python",
      "name": "python3"
    },
    "language_info": {
      "codemirror_mode": {
        "name": "ipython",
        "version": 3
      },
      "file_extension": ".py",
      "mimetype": "text/x-python",
      "name": "python",
      "nbconvert_exporter": "python",
      "pygments_lexer": "ipython3",
      "version": "3.8.10"
    },
    "colab": {
      "name": "Copy of a3_network.ipynb",
      "provenance": [],
      "collapsed_sections": [
        "Vej0HSo2V7sb",
        "W8JETWgBV7sc",
        "hoCaU4qpV7sc",
        "fhQc_AZ4V7sc",
        "2_woHFjoV7sc"
      ]
    }
  },
  "cells": [
    {
      "cell_type": "markdown",
      "metadata": {
        "id": "xyxdtHAxV7sL"
      },
      "source": [
        "# The Social Web Assignment 3: Network Analysis\n",
        "\n",
        "- Instructors: Jacco van Ossenbruggen.\n",
        "- TAs: Ayesha Noorain, Alex Boyko, Caio Silva, Elena Beretta, Mirthe Dankloff.\n",
        "- Exercises for Hands-on session 3 (original notebook design by Michael Accetto)\n",
        "\n",
        "Many interesting data on the Social Web is structured as a graph or network. This notebook will guide you through the use of the networkx library and the construction of a basic network object, made of nodes and edges. After it you will have learned how to measure basic network properties and how to analyse the structure of a network. \n",
        "\n",
        "1. Make sure you followed the instructions in the 'GettingStarted.pdf' guide.\n",
        "2. Activate your virtual environment\n",
        "3. Install the networkX as by running the following cell. We will also install matplotlib, needed to show the graph created with networkx."
      ]
    },
    {
      "cell_type": "code",
      "metadata": {
        "id": "N0Lw5ofkV7sM",
        "colab": {
          "base_uri": "https://localhost:8080/"
        },
        "outputId": "cfc50d1c-05d1-4974-ac1a-5d604c388814"
      },
      "source": [
        "!pip install networkx\n",
        "!pip install matplotlib\n",
        "!pip install scipy\n"
      ],
      "execution_count": 483,
      "outputs": [
        {
          "output_type": "stream",
          "name": "stdout",
          "text": [
            "Requirement already satisfied: networkx in /usr/local/lib/python3.7/dist-packages (2.6.3)\n",
            "Requirement already satisfied: matplotlib in /usr/local/lib/python3.7/dist-packages (3.2.2)\n",
            "Requirement already satisfied: python-dateutil>=2.1 in /usr/local/lib/python3.7/dist-packages (from matplotlib) (2.8.2)\n",
            "Requirement already satisfied: numpy>=1.11 in /usr/local/lib/python3.7/dist-packages (from matplotlib) (1.19.5)\n",
            "Requirement already satisfied: kiwisolver>=1.0.1 in /usr/local/lib/python3.7/dist-packages (from matplotlib) (1.3.2)\n",
            "Requirement already satisfied: pyparsing!=2.0.4,!=2.1.2,!=2.1.6,>=2.0.1 in /usr/local/lib/python3.7/dist-packages (from matplotlib) (2.4.7)\n",
            "Requirement already satisfied: cycler>=0.10 in /usr/local/lib/python3.7/dist-packages (from matplotlib) (0.11.0)\n",
            "Requirement already satisfied: six>=1.5 in /usr/local/lib/python3.7/dist-packages (from python-dateutil>=2.1->matplotlib) (1.15.0)\n",
            "Requirement already satisfied: scipy in /usr/local/lib/python3.7/dist-packages (1.4.1)\n",
            "Requirement already satisfied: numpy>=1.13.3 in /usr/local/lib/python3.7/dist-packages (from scipy) (1.19.5)\n"
          ]
        }
      ]
    },
    {
      "cell_type": "markdown",
      "metadata": {
        "id": "EuZyVfMKV7sN"
      },
      "source": [
        "## Background\n",
        "Classic social network analysis studies a network's structure. In a social network, a person is considered a *node* or *vertex*, and a relationship between people is a *link* or *edge*. \n",
        "Many network statystics can yield insights on the underlying social structure. At the same time, their intuitive visual representation aids in developing working hypothesis explaining their dynamics.\n",
        "\n",
        "Statystics can quantify the importance of a social agent and how different communities cluster together.\n",
        "Others can uncover the routes through which information spreads, as well as the origin of a specific disease or rumor in a group.  \n",
        "\n",
        "Let's import all the packages needed for the notebook (note: this should run without output):"
      ]
    },
    {
      "cell_type": "code",
      "metadata": {
        "id": "MPTAP7k9V7sO"
      },
      "source": [
        "import networkx as nx\n",
        "from matplotlib import pyplot as plt\n",
        "import scipy\n",
        "import pickle\n",
        "import random"
      ],
      "execution_count": 484,
      "outputs": []
    },
    {
      "cell_type": "markdown",
      "metadata": {
        "id": "6aO_U2vVV7sO"
      },
      "source": [
        "## Making a graph\n",
        "In this part, a few simple exemples will be presented to get familiar with the python constructs used throughout the notebook(s).\n",
        "\n",
        "We will start here by making a graph. Here we use the basic Graph Object to instantiate our graph: `G`. "
      ]
    },
    {
      "cell_type": "code",
      "metadata": {
        "id": "kbgqLiM6V7sP"
      },
      "source": [
        "G = nx.Graph()"
      ],
      "execution_count": 485,
      "outputs": []
    },
    {
      "cell_type": "markdown",
      "metadata": {
        "id": "d_KNyVW-V7sP"
      },
      "source": [
        "Let's add nodes. We can use `add_node` for a one-off node addition. \\\n",
        "We can also add nodes in bulk with the `add_nodes_from` method, which takes an iterable (e.g. list, tuple, list of dictionaries) as main argument.  "
      ]
    },
    {
      "cell_type": "code",
      "metadata": {
        "id": "rSrwnzJUV7sP"
      },
      "source": [
        "# Add one node:\n",
        "G.add_node(1)\n",
        "# Add multiple nodes 2, 3, 4, .. 8:\n",
        "G.add_nodes_from([i for i in range(2, 9)])"
      ],
      "execution_count": 486,
      "outputs": []
    },
    {
      "cell_type": "markdown",
      "metadata": {
        "id": "WqPcRirdV7sQ"
      },
      "source": [
        "Coding Tip: *If you are not familiar with list comprehensions, such as the following:*   `list = [i for i in range(10)]`\n",
        "\n",
        "*Please check out this page: https://runestone.academy/runestone/books/published/thinkcspy/Lists/ListComprehensions.html*"
      ]
    },
    {
      "cell_type": "code",
      "metadata": {
        "id": "uRU6z1YdV7sQ",
        "colab": {
          "base_uri": "https://localhost:8080/"
        },
        "outputId": "1902cda3-1083-495d-8bf6-72795562b995"
      },
      "source": [
        "# Visualize all graph nodes:\n",
        "G.nodes()"
      ],
      "execution_count": 487,
      "outputs": [
        {
          "output_type": "execute_result",
          "data": {
            "text/plain": [
              "NodeView((1, 2, 3, 4, 5, 6, 7, 8))"
            ]
          },
          "metadata": {},
          "execution_count": 487
        }
      ]
    },
    {
      "cell_type": "markdown",
      "metadata": {
        "id": "diHK2A7_V7sR"
      },
      "source": [
        "Attributes can be useful for storing data of interest to our research. We will will provide some dummy \"score\" data  for the moment, just for demonstration purposes. \\\n",
        "Later, we will retrieve real data from external sources."
      ]
    },
    {
      "cell_type": "code",
      "metadata": {
        "id": "INNBFZH6V7sR",
        "colab": {
          "base_uri": "https://localhost:8080/"
        },
        "outputId": "1f355051-97bc-4249-d0fd-3c48153fc3cf"
      },
      "source": [
        "n = 9\n",
        "\n",
        "node_info = {'ID': 'user_' + str(9), 'score': 80}\n",
        "\n",
        "G.add_node(9, **node_info)\n",
        "# nx.set_node_attributes(G, name='ID', values='user_9')\n",
        "G.nodes(data=True)"
      ],
      "execution_count": 488,
      "outputs": [
        {
          "output_type": "execute_result",
          "data": {
            "text/plain": [
              "NodeDataView({1: {}, 2: {}, 3: {}, 4: {}, 5: {}, 6: {}, 7: {}, 8: {}, 9: {'ID': 'user_9', 'score': 80}})"
            ]
          },
          "metadata": {},
          "execution_count": 488
        }
      ]
    },
    {
      "cell_type": "code",
      "metadata": {
        "id": "Y1MqkYevV7sR",
        "colab": {
          "base_uri": "https://localhost:8080/"
        },
        "outputId": "b4015815-4879-48e6-a4a6-77420894e8fd"
      },
      "source": [
        "from random import randrange\n",
        "# create 5 more users, giving them corresponding IDs and random scores.\n",
        "# this will be used in the following cell to insert information in the graph.\n",
        "nodes_with_attributes = [(i, {'ID': 'user_' + str(i), 'score': randrange(40, 100)}) for i in range(10, 15)]\n",
        "\n",
        "print(nodes_with_attributes)\n",
        "\n",
        "print('\\nThis dictionary will provide the following information to the graph:\\n')\n",
        "for node_and_attributes in nodes_with_attributes:\n",
        "    print(f'node: {node_and_attributes[0]}')\n",
        "    \n",
        "    for key, value in node_and_attributes[1].items():\n",
        "        print(f'\\t{key}:\\t{value}')"
      ],
      "execution_count": 489,
      "outputs": [
        {
          "output_type": "stream",
          "name": "stdout",
          "text": [
            "[(10, {'ID': 'user_10', 'score': 40}), (11, {'ID': 'user_11', 'score': 65}), (12, {'ID': 'user_12', 'score': 53}), (13, {'ID': 'user_13', 'score': 40}), (14, {'ID': 'user_14', 'score': 68})]\n",
            "\n",
            "This dictionary will provide the following information to the graph:\n",
            "\n",
            "node: 10\n",
            "\tID:\tuser_10\n",
            "\tscore:\t40\n",
            "node: 11\n",
            "\tID:\tuser_11\n",
            "\tscore:\t65\n",
            "node: 12\n",
            "\tID:\tuser_12\n",
            "\tscore:\t53\n",
            "node: 13\n",
            "\tID:\tuser_13\n",
            "\tscore:\t40\n",
            "node: 14\n",
            "\tID:\tuser_14\n",
            "\tscore:\t68\n"
          ]
        }
      ]
    },
    {
      "cell_type": "code",
      "metadata": {
        "id": "MsLk10CYV7sS"
      },
      "source": [
        "# add the nodes and attributes:\n",
        "G.add_nodes_from(nodes_with_attributes)"
      ],
      "execution_count": 490,
      "outputs": []
    },
    {
      "cell_type": "code",
      "metadata": {
        "id": "Cs6DwC-TV7sS",
        "colab": {
          "base_uri": "https://localhost:8080/"
        },
        "outputId": "30c212c3-36ef-4129-84fb-4c8cbb524ab3"
      },
      "source": [
        "G.nodes() # show only nodes"
      ],
      "execution_count": 491,
      "outputs": [
        {
          "output_type": "execute_result",
          "data": {
            "text/plain": [
              "NodeView((1, 2, 3, 4, 5, 6, 7, 8, 9, 10, 11, 12, 13, 14))"
            ]
          },
          "metadata": {},
          "execution_count": 491
        }
      ]
    },
    {
      "cell_type": "code",
      "metadata": {
        "id": "iw-gPjt_V7sS",
        "colab": {
          "base_uri": "https://localhost:8080/"
        },
        "outputId": "b21f9ecc-48d8-468e-a48d-588a7236b92b"
      },
      "source": [
        "G.nodes(data=True) # show everything "
      ],
      "execution_count": 492,
      "outputs": [
        {
          "output_type": "execute_result",
          "data": {
            "text/plain": [
              "NodeDataView({1: {}, 2: {}, 3: {}, 4: {}, 5: {}, 6: {}, 7: {}, 8: {}, 9: {'ID': 'user_9', 'score': 80}, 10: {'ID': 'user_10', 'score': 40}, 11: {'ID': 'user_11', 'score': 65}, 12: {'ID': 'user_12', 'score': 53}, 13: {'ID': 'user_13', 'score': 40}, 14: {'ID': 'user_14', 'score': 68}})"
            ]
          },
          "metadata": {},
          "execution_count": 492
        }
      ]
    },
    {
      "cell_type": "code",
      "metadata": {
        "id": "Wp9uKPfaV7sT",
        "colab": {
          "base_uri": "https://localhost:8080/"
        },
        "outputId": "88cecffb-8d80-48d8-e887-87e62067b2a4"
      },
      "source": [
        "for k, v in dict(G.nodes(data=True)).items():\n",
        "    print(k, v)"
      ],
      "execution_count": 493,
      "outputs": [
        {
          "output_type": "stream",
          "name": "stdout",
          "text": [
            "1 {}\n",
            "2 {}\n",
            "3 {}\n",
            "4 {}\n",
            "5 {}\n",
            "6 {}\n",
            "7 {}\n",
            "8 {}\n",
            "9 {'ID': 'user_9', 'score': 80}\n",
            "10 {'ID': 'user_10', 'score': 40}\n",
            "11 {'ID': 'user_11', 'score': 65}\n",
            "12 {'ID': 'user_12', 'score': 53}\n",
            "13 {'ID': 'user_13', 'score': 40}\n",
            "14 {'ID': 'user_14', 'score': 68}\n"
          ]
        }
      ]
    },
    {
      "cell_type": "markdown",
      "metadata": {
        "id": "Fgyp1FDOV7sT"
      },
      "source": [
        "### Task 1.a\n",
        "There seem to be missing information for some of the nodes in `G`. \\\n",
        "\n",
        "* add those attributes to the incomplete nodes. \n",
        "* Add a third attribute of your own choice containing a value of type `string`, `integer` or `float`. \\\n",
        "   Some ideas could be: `favourite_pet`, `number_of_cakes_eaten_on_a_single_day`, or `probability_of_survival`\n",
        "* At the end, show the complete set of nodes along with their attributes, fetching directly from the graph."
      ]
    },
    {
      "cell_type": "code",
      "metadata": {
        "id": "51TfK2T3V7sT",
        "colab": {
          "base_uri": "https://localhost:8080/"
        },
        "outputId": "66af8128-ed0b-4bb0-c580-cc38500ba471"
      },
      "source": [
        "# your code here\n",
        "# Library names: Generates random names. We use it as the third attribute needed for task 1a.\n",
        "!pip install names \n",
        "import names\n",
        "\n",
        "\n",
        "# this will be used in the following cell to complete nodes' information (1 to 8) in the graph.\n",
        "nodes_with_attributes_1to8 = [(i, {'ID': 'user_' + str(i), 'score': randrange(40, 100)}) for i in range(1, 9)]\n",
        "G.add_nodes_from(nodes_with_attributes_1to8)\n",
        "\n",
        "# this will be used in the following cell to add new information about users' frind for all nodes in the graph.\n",
        "nodes_with_third_attribute = [(i, {'Friend_name':  'Friend\\'s name: ' + names.get_first_name()}) for i in range(1, 15)]\n",
        "G.add_nodes_from(nodes_with_third_attribute)\n",
        "\n",
        "# show everything\n",
        "G.nodes(data=True) \n",
        "\n",
        "for k, v in dict(G.nodes(data=True)).items():\n",
        "    print(k, v)"
      ],
      "execution_count": 494,
      "outputs": [
        {
          "output_type": "stream",
          "name": "stdout",
          "text": [
            "Requirement already satisfied: names in /usr/local/lib/python3.7/dist-packages (0.3.0)\n",
            "1 {'ID': 'user_1', 'score': 62, 'Friend_name': \"Friend's name: Doris\"}\n",
            "2 {'ID': 'user_2', 'score': 59, 'Friend_name': \"Friend's name: Rona\"}\n",
            "3 {'ID': 'user_3', 'score': 41, 'Friend_name': \"Friend's name: Maribeth\"}\n",
            "4 {'ID': 'user_4', 'score': 46, 'Friend_name': \"Friend's name: Alane\"}\n",
            "5 {'ID': 'user_5', 'score': 45, 'Friend_name': \"Friend's name: Erika\"}\n",
            "6 {'ID': 'user_6', 'score': 51, 'Friend_name': \"Friend's name: Christopher\"}\n",
            "7 {'ID': 'user_7', 'score': 50, 'Friend_name': \"Friend's name: Mary\"}\n",
            "8 {'ID': 'user_8', 'score': 57, 'Friend_name': \"Friend's name: Connie\"}\n",
            "9 {'ID': 'user_9', 'score': 80, 'Friend_name': \"Friend's name: Jean\"}\n",
            "10 {'ID': 'user_10', 'score': 40, 'Friend_name': \"Friend's name: Jacob\"}\n",
            "11 {'ID': 'user_11', 'score': 65, 'Friend_name': \"Friend's name: Bonnie\"}\n",
            "12 {'ID': 'user_12', 'score': 53, 'Friend_name': \"Friend's name: Ella\"}\n",
            "13 {'ID': 'user_13', 'score': 40, 'Friend_name': \"Friend's name: Darlene\"}\n",
            "14 {'ID': 'user_14', 'score': 68, 'Friend_name': \"Friend's name: Della\"}\n"
          ]
        }
      ]
    },
    {
      "cell_type": "markdown",
      "metadata": {
        "id": "LLcRDP89V7sT"
      },
      "source": [
        "## adding edges"
      ]
    },
    {
      "cell_type": "markdown",
      "metadata": {
        "id": "ufNVEMsCV7sT"
      },
      "source": [
        "The same thing can be done with edges, establishing new relations between vertices (synonym of nodes) in your graph."
      ]
    },
    {
      "cell_type": "code",
      "metadata": {
        "id": "onTZ1NFYV7sT"
      },
      "source": [
        "G.add_edge(1, 5)"
      ],
      "execution_count": 495,
      "outputs": []
    },
    {
      "cell_type": "markdown",
      "metadata": {
        "id": "ww_cQN2pV7sT"
      },
      "source": [
        "To visualize the graph, we can call the nx.draw_networkx function."
      ]
    },
    {
      "cell_type": "code",
      "metadata": {
        "id": "0wv1-NdYV7sU",
        "colab": {
          "base_uri": "https://localhost:8080/",
          "height": 265
        },
        "outputId": "4df5dabf-3da1-407e-a875-d80ecf84c4f7"
      },
      "source": [
        "nx.draw_networkx(G)\n",
        "print(f'The number of connections present in this graph is: {G.number_of_edges()}')"
      ],
      "execution_count": 496,
      "outputs": [
        {
          "output_type": "stream",
          "name": "stdout",
          "text": [
            "The number of connections present in this graph is: 1\n"
          ]
        },
        {
          "output_type": "display_data",
          "data": {
            "image/png": "[encoded data removed]",
            "text/plain": [
              "<Figure size 432x288 with 1 Axes>"
            ]
          },
          "metadata": {}
        }
      ]
    },
    {
      "cell_type": "markdown",
      "metadata": {
        "id": "YOuwjLFqV7sU"
      },
      "source": [
        "To add more than one edge at the time, we use the \"add_edges_from\" method. \\\n",
        "We provide an *edge list* or *adjacency list*, listing the pair of nodes that are connected."
      ]
    },
    {
      "cell_type": "code",
      "metadata": {
        "id": "AMZfkPTfV7sU"
      },
      "source": [
        "# Define a connection from each node N to its neighbour N + 1.\n",
        "connections = [(n, n+1) for n in range(max(G.nodes()))] \n",
        "G.add_edges_from(connections)"
      ],
      "execution_count": 497,
      "outputs": []
    },
    {
      "cell_type": "code",
      "metadata": {
        "id": "_aUXdxvWV7sU",
        "colab": {
          "base_uri": "https://localhost:8080/"
        },
        "outputId": "b2476f74-80a5-46e1-c030-805a8483bc68"
      },
      "source": [
        "G.edges()"
      ],
      "execution_count": 498,
      "outputs": [
        {
          "output_type": "execute_result",
          "data": {
            "text/plain": [
              "EdgeView([(1, 5), (1, 0), (1, 2), (2, 3), (3, 4), (4, 5), (5, 6), (6, 7), (7, 8), (8, 9), (9, 10), (10, 11), (11, 12), (12, 13), (13, 14)])"
            ]
          },
          "metadata": {},
          "execution_count": 498
        }
      ]
    },
    {
      "cell_type": "code",
      "metadata": {
        "id": "BHvbddAQV7sU",
        "colab": {
          "base_uri": "https://localhost:8080/",
          "height": 248
        },
        "outputId": "a73a7350-7e6c-4500-851c-d7b1f9bc0474"
      },
      "source": [
        "nx.draw_networkx(G)"
      ],
      "execution_count": 499,
      "outputs": [
        {
          "output_type": "display_data",
          "data": {
            "image/png": "[encoded data removed]",
            "text/plain": [
              "<Figure size 432x288 with 1 Axes>"
            ]
          },
          "metadata": {}
        }
      ]
    },
    {
      "cell_type": "code",
      "metadata": {
        "id": "RQItOSTFV7sU",
        "colab": {
          "base_uri": "https://localhost:8080/"
        },
        "outputId": "c1b1fade-0c47-48c5-93d2-83c1a3e020cb"
      },
      "source": [
        "print(f'number of nodes: {G.number_of_nodes()}')\n",
        "print(f'number of edges: {G.number_of_edges()}')"
      ],
      "execution_count": 500,
      "outputs": [
        {
          "output_type": "stream",
          "name": "stdout",
          "text": [
            "number of nodes: 15\n",
            "number of edges: 15\n"
          ]
        }
      ]
    },
    {
      "cell_type": "markdown",
      "metadata": {
        "id": "qeBoVS8BV7sV"
      },
      "source": [
        "### Task 1.b\n",
        "\n",
        "How many nodes and edges does the graph `G` now have?\n",
        "\n",
        "Make a function taking G as argument, that prints the number of edges and nodes for the provided graph.\n",
        "\n",
        "(tip: you can use the `count_graph_elements` function we made before).\n",
        "\n",
        "**Answer:** |V| = |E| = 15\n",
        "\n",
        "We tried to make a function which receives a graph as an input, then use **Len** to count the number of nodes and edges, before returning the result.\n",
        "\n",
        "\n"
      ]
    },
    {
      "cell_type": "code",
      "metadata": {
        "id": "wjBkxT9FV7sV"
      },
      "source": [
        "def count_graph_elements(G):\n",
        "    # Your code here\n",
        "    CountingResult = \"Number of Nodes is \" + str(len(G.nodes())) + \" & \" + \"Number of edges is \" + str(len(G.edges()))\n",
        "    return CountingResult\n",
        "    \n",
        "    \n",
        "    "
      ],
      "execution_count": 501,
      "outputs": []
    },
    {
      "cell_type": "code",
      "metadata": {
        "id": "v5L3QH8bV7sV",
        "colab": {
          "base_uri": "https://localhost:8080/",
          "height": 38
        },
        "outputId": "57d73b01-22da-403d-dc1c-8ae05e20241c"
      },
      "source": [
        "count_graph_elements(G)"
      ],
      "execution_count": 502,
      "outputs": [
        {
          "output_type": "execute_result",
          "data": {
            "application/vnd.google.colaboratory.intrinsic+json": {
              "type": "string"
            },
            "text/plain": [
              "'Number of Nodes is 15 & Number of edges is 15'"
            ]
          },
          "metadata": {},
          "execution_count": 502
        }
      ]
    },
    {
      "cell_type": "markdown",
      "metadata": {
        "id": "iDwDqBVWV7sV"
      },
      "source": [
        "To clear your graph, you can use:"
      ]
    },
    {
      "cell_type": "code",
      "metadata": {
        "id": "z0KwXFgAV7sV"
      },
      "source": [
        "G.clear()"
      ],
      "execution_count": 503,
      "outputs": []
    },
    {
      "cell_type": "markdown",
      "metadata": {
        "id": "x-ac-80XV7sV"
      },
      "source": [
        "We can verify whether the graph was freed of all its elements by calling `G.nodes()` and `G.edges()` again. \\\n",
        "Or we can define a function that will save us some time in the long run:"
      ]
    },
    {
      "cell_type": "code",
      "metadata": {
        "id": "MFhB0JD_V7sV",
        "colab": {
          "base_uri": "https://localhost:8080/",
          "height": 38
        },
        "outputId": "3dfea85a-8834-45d0-b98e-5f4319359311"
      },
      "source": [
        "count_graph_elements(G)"
      ],
      "execution_count": 504,
      "outputs": [
        {
          "output_type": "execute_result",
          "data": {
            "application/vnd.google.colaboratory.intrinsic+json": {
              "type": "string"
            },
            "text/plain": [
              "'Number of Nodes is 0 & Number of edges is 0'"
            ]
          },
          "metadata": {},
          "execution_count": 504
        }
      ]
    },
    {
      "cell_type": "markdown",
      "metadata": {
        "id": "dIMoL6RtV7sV"
      },
      "source": [
        "### A Network of People\n",
        "We will start now by adding people to our network. "
      ]
    },
    {
      "cell_type": "code",
      "metadata": {
        "id": "TS8HsnNgV7sW"
      },
      "source": [
        "G.add_edge('Toran', 'Bayta')"
      ],
      "execution_count": 505,
      "outputs": []
    },
    {
      "cell_type": "code",
      "metadata": {
        "id": "0GX5P6ydV7sW",
        "colab": {
          "base_uri": "https://localhost:8080/"
        },
        "outputId": "242b2cb8-a23b-42cf-e411-82a9cb1639c4"
      },
      "source": [
        "print(G.edges())\n",
        "print(G.nodes()) # nodes are added automatically when edges are added."
      ],
      "execution_count": 506,
      "outputs": [
        {
          "output_type": "stream",
          "name": "stdout",
          "text": [
            "[('Toran', 'Bayta')]\n",
            "['Toran', 'Bayta']\n"
          ]
        }
      ]
    },
    {
      "cell_type": "code",
      "metadata": {
        "id": "PEd-WwBQV7sW"
      },
      "source": [
        "e = [('Milo', 'Yossarian'), ('Toran', 'Mis'), ('Toran', 'Jord')]\n",
        "G.add_edges_from(e)"
      ],
      "execution_count": 507,
      "outputs": []
    },
    {
      "cell_type": "markdown",
      "metadata": {
        "id": "0wi77UjjV7sW"
      },
      "source": [
        "As you can see above, nodes don't need to be explicitly defined. "
      ]
    },
    {
      "cell_type": "code",
      "metadata": {
        "id": "WRvYpVx-V7sW",
        "colab": {
          "base_uri": "https://localhost:8080/"
        },
        "outputId": "2998f145-c622-4892-8b7e-9a3eeab56fd0"
      },
      "source": [
        "G.edges()"
      ],
      "execution_count": 508,
      "outputs": [
        {
          "output_type": "execute_result",
          "data": {
            "text/plain": [
              "EdgeView([('Toran', 'Bayta'), ('Toran', 'Mis'), ('Toran', 'Jord'), ('Milo', 'Yossarian')])"
            ]
          },
          "metadata": {},
          "execution_count": 508
        }
      ]
    },
    {
      "cell_type": "markdown",
      "metadata": {
        "id": "vLy9IEPKV7sW"
      },
      "source": [
        "### Task 2\n",
        "Add 10 edges with different people to the graph G. To do so, you can user `add_edges_from`, and provide an iterable as shown above. (an iterable is anything that can be 'looped over', in this case you likely want to use a list of tuples as shown above).\n",
        "\n",
        "The groups of people to add are: \n",
        " - group 1:\n",
        "     - Toran\n",
        "     - Mis\n",
        "     - Hardin\n",
        "     - Mallow\n",
        "     - Hari\n",
        "     - Jord\n",
        "     - Lathan\n",
        " - group 2:\n",
        "     - Milo\n",
        "     - Yossarian\n",
        "     - Orr\n",
        "     - Nately\n",
        "     - Dobbs\n",
        "     - Duckett\n",
        "     \n",
        "Make sure that people in the first group are not connected to the second group. Also make sure that each person in one group is connected to at least one other person within the same group."
      ]
    },
    {
      "cell_type": "code",
      "metadata": {
        "id": "kssPX7JcV7sW"
      },
      "source": [
        "# Your code here:\n",
        "\n",
        "nodes_group_1 = ['Toran', 'Mis', 'Hardin', 'Mallow', 'Hari', 'Jord', 'Lathan']\n",
        "edges_group_1 = [('Toran','Mis'),('Mis','Hardin'),('Toran', 'Mallow'),('Mis','Lathan'),('Lathan', 'Jord'),('Hari', 'Jord')]\n",
        "\n",
        "nodes_group_2 = ['Milo', 'Yossarian', 'Orr', 'Nately', 'Dobbs', 'Duckett']\n",
        "edges_group_2 = [('Milo','Yossarian'),('Milo','Orr'),('Milo', 'Nately'),('Nately','Duckett'),('Orr', 'Dobbs')]\n",
        "\n",
        "G.add_edges_from(edges_group_1)\n",
        "G.add_edges_from(edges_group_2)"
      ],
      "execution_count": 509,
      "outputs": []
    },
    {
      "cell_type": "code",
      "metadata": {
        "id": "b15KNK5zV7sW"
      },
      "source": [
        "# adding the groups\n",
        "# your code here (unanswered)"
      ],
      "execution_count": 510,
      "outputs": []
    },
    {
      "cell_type": "code",
      "metadata": {
        "id": "yi9Nc5FsV7sX",
        "colab": {
          "base_uri": "https://localhost:8080/"
        },
        "outputId": "7025ad89-1a15-4fc4-be04-b2d6ae3ddf0b"
      },
      "source": [
        "G.edges()"
      ],
      "execution_count": 511,
      "outputs": [
        {
          "output_type": "execute_result",
          "data": {
            "text/plain": [
              "EdgeView([('Toran', 'Bayta'), ('Toran', 'Mis'), ('Toran', 'Jord'), ('Toran', 'Mallow'), ('Milo', 'Yossarian'), ('Milo', 'Orr'), ('Milo', 'Nately'), ('Mis', 'Hardin'), ('Mis', 'Lathan'), ('Jord', 'Lathan'), ('Jord', 'Hari'), ('Orr', 'Dobbs'), ('Nately', 'Duckett')])"
            ]
          },
          "metadata": {},
          "execution_count": 511
        }
      ]
    },
    {
      "cell_type": "markdown",
      "metadata": {
        "id": "txDUsJkKV7sX"
      },
      "source": [
        "Let's visualize the state of the graph:"
      ]
    },
    {
      "cell_type": "code",
      "metadata": {
        "id": "0p2kq4sLV7sX",
        "colab": {
          "base_uri": "https://localhost:8080/",
          "height": 248
        },
        "outputId": "21baa14f-d9e3-4519-a4de-ba81ea87fa7e"
      },
      "source": [
        "nx.spring_layout(G)\n",
        "nx.draw_networkx(G)"
      ],
      "execution_count": 512,
      "outputs": [
        {
          "output_type": "display_data",
          "data": {
            "image/png": "[encoded data removed]",
            "text/plain": [
              "<Figure size 432x288 with 1 Axes>"
            ]
          },
          "metadata": {}
        }
      ]
    },
    {
      "cell_type": "markdown",
      "metadata": {
        "id": "xYflITz7V7sX"
      },
      "source": [
        "### Edge attributes\n",
        "Edges can also have attributes. One important attribute is 'weight', we can add weight to the graphs with the same syntax we used to add a normal edge.\n",
        "\n",
        "We can add a weight to an edge by providing the argument `weight` to the function `add_edge`:"
      ]
    },
    {
      "cell_type": "code",
      "metadata": {
        "id": "4tHujnLCV7sX"
      },
      "source": [
        "G.add_edge('Milo', 'Hari', weight=0.1)"
      ],
      "execution_count": 513,
      "outputs": []
    },
    {
      "cell_type": "markdown",
      "metadata": {
        "id": "SJThmhmNV7sX"
      },
      "source": [
        "More conveniently, we can use the `add_edges_from` method to add a collection of edges and attributes.\n",
        "Any attribute can be provided as a dictionary in a format such as:\n",
        "    \n",
        "    [\n",
        "     (edge_1a, edge_1b, {'attribute_name': 'value_1a}),\n",
        "     (edge_2a, edge_2b, {'attribute_name': 'value_2a}),\n",
        "     ...\n",
        "     (edge_Na, edge_Nb, {'attribute_name': 'value_Na})\n",
        "    ]"
      ]
    },
    {
      "cell_type": "code",
      "metadata": {
        "id": "jF9PGIQRV7sX"
      },
      "source": [
        "from random import random\n",
        "# for now, we add random weights normalized in range [0.3, 1.0]\n",
        "weighted_edges = [(p1, p2, {'weight': round((random() + .5) / 1.5, 1)}) for w, (p1, p2) in enumerate(G.edges())]\n",
        "G.add_edges_from(weighted_edges)"
      ],
      "execution_count": 514,
      "outputs": []
    },
    {
      "cell_type": "code",
      "metadata": {
        "id": "V1Yptph6V7sX",
        "colab": {
          "base_uri": "https://localhost:8080/"
        },
        "outputId": "0bda2b78-b1cf-4faf-b192-ea282e372f6e"
      },
      "source": [
        "G.edges(data=True) # by using data=True, we can visualize edge attributes."
      ],
      "execution_count": 515,
      "outputs": [
        {
          "output_type": "execute_result",
          "data": {
            "text/plain": [
              "EdgeDataView([('Toran', 'Bayta', {'weight': 0.4}), ('Toran', 'Mis', {'weight': 0.9}), ('Toran', 'Jord', {'weight': 0.6}), ('Toran', 'Mallow', {'weight': 0.4}), ('Milo', 'Yossarian', {'weight': 0.6}), ('Milo', 'Orr', {'weight': 1.0}), ('Milo', 'Nately', {'weight': 0.4}), ('Milo', 'Hari', {'weight': 0.8}), ('Mis', 'Hardin', {'weight': 0.5}), ('Mis', 'Lathan', {'weight': 0.7}), ('Jord', 'Lathan', {'weight': 0.7}), ('Jord', 'Hari', {'weight': 0.9}), ('Orr', 'Dobbs', {'weight': 0.7}), ('Nately', 'Duckett', {'weight': 0.6})])"
            ]
          },
          "metadata": {},
          "execution_count": 515
        }
      ]
    },
    {
      "cell_type": "code",
      "metadata": {
        "id": "iLul86wSV7sX",
        "colab": {
          "base_uri": "https://localhost:8080/",
          "height": 248
        },
        "outputId": "4fe3dcb2-c62c-4dd3-94e0-9aea88178557"
      },
      "source": [
        "nx.draw_networkx(G)"
      ],
      "execution_count": 516,
      "outputs": [
        {
          "output_type": "display_data",
          "data": {
            "image/png": "[encoded data removed]",
            "text/plain": [
              "<Figure size 432x288 with 1 Axes>"
            ]
          },
          "metadata": {}
        }
      ]
    },
    {
      "cell_type": "markdown",
      "metadata": {
        "id": "zt_2dvX3V7sX"
      },
      "source": [
        "### visualizing the information\n",
        "In order to create more informative visualizations, there are slightly more advanced techniques.\n",
        "\n",
        "By iterating through the edges attributes, we can directly represent weights and other information in our graph."
      ]
    },
    {
      "cell_type": "code",
      "metadata": {
        "id": "dRPfzUOBV7sX"
      },
      "source": [
        "# comprehension list: loop over edges, separating them in two subset (lower vs. greater or equal 0.5)\n",
        "edges_L = [(u, v) for (u, v, d) in G.edges(data=True) if d[\"weight\"] > 0.5]\n",
        "edges_S = [(u, v) for (u, v, d) in G.edges(data=True) if d[\"weight\"] <= 0.5]"
      ],
      "execution_count": 517,
      "outputs": []
    },
    {
      "cell_type": "markdown",
      "metadata": {
        "id": "Ah2JkAfxV7sY"
      },
      "source": [
        "Here we will use one layout to plot vertices and edges separately.\n",
        "\n",
        "The layout function `spring_layout` returns positions for each node present in the network. \n",
        "\n",
        "In this way we will be able to plot different components of the network separately, providing more control on various characteristics we may want to represent.\n",
        "\n"
      ]
    },
    {
      "cell_type": "code",
      "metadata": {
        "id": "T5JoQuSuV7sY",
        "colab": {
          "base_uri": "https://localhost:8080/"
        },
        "outputId": "43b383b7-1165-47f1-b7d2-9ed70d21c78a"
      },
      "source": [
        "\n",
        "pos = nx.spring_layout(G) # obtain edges pos(ition)\n",
        "print('Graph nodes coordinates')\n",
        "print(pos)"
      ],
      "execution_count": 518,
      "outputs": [
        {
          "output_type": "stream",
          "name": "stdout",
          "text": [
            "Graph nodes coordinates\n",
            "{'Toran': array([0.50380652, 0.30172791]), 'Bayta': array([0.50900044, 0.61108272]), 'Milo': array([-0.42593424, -0.21774292]), 'Yossarian': array([-0.35106753, -0.43704375]), 'Mis': array([0.65902536, 0.13262243]), 'Jord': array([0.20698967, 0.08274912]), 'Hardin': array([0.93078655, 0.04513951]), 'Mallow': array([0.75410481, 0.50020071]), 'Lathan': array([0.44427484, 0.04601506]), 'Hari': array([-0.10175584, -0.05997323]), 'Orr': array([-0.60121501, -0.40742246]), 'Nately': array([-0.77377251, -0.05169075]), 'Duckett': array([-1.        ,  0.05136071]), 'Dobbs': array([-0.75424306, -0.59702506])}\n"
          ]
        }
      ]
    },
    {
      "cell_type": "code",
      "metadata": {
        "id": "uivDqQR4V7sY",
        "colab": {
          "base_uri": "https://localhost:8080/",
          "height": 319
        },
        "outputId": "8682766a-b5da-42f3-8a5a-9b43bed35ae2"
      },
      "source": [
        "# Drawing the graph in the traditional way only provides connectivity topology:\n",
        "nx.draw(G, pos)"
      ],
      "execution_count": 519,
      "outputs": [
        {
          "output_type": "display_data",
          "data": {
            "image/png": "[encoded data removed]",
            "text/plain": [
              "<Figure size 432x288 with 1 Axes>"
            ]
          },
          "metadata": {}
        }
      ]
    },
    {
      "cell_type": "code",
      "metadata": {
        "id": "W39KQTHQV7sY",
        "colab": {
          "base_uri": "https://localhost:8080/",
          "height": 265
        },
        "outputId": "1146c838-d2dc-4518-e7d3-b73c1a95dd74"
      },
      "source": [
        "nx.draw_networkx_nodes(G, pos, node_size=200)"
      ],
      "execution_count": 520,
      "outputs": [
        {
          "output_type": "execute_result",
          "data": {
            "text/plain": [
              "<matplotlib.collections.PathCollection at 0x7f97720fe750>"
            ]
          },
          "metadata": {},
          "execution_count": 520
        },
        {
          "output_type": "display_data",
          "data": {
            "image/png": "[encoded data removed]",
            "text/plain": [
              "<Figure size 432x288 with 1 Axes>"
            ]
          },
          "metadata": {}
        }
      ]
    },
    {
      "cell_type": "code",
      "metadata": {
        "id": "JvGwhL_fV7sY",
        "colab": {
          "base_uri": "https://localhost:8080/",
          "height": 265
        },
        "outputId": "8eee685d-8f6d-4333-95ff-37721fd927b0"
      },
      "source": [
        "nx.draw_networkx_nodes(G, pos, node_size=200)\n",
        "nx.draw_networkx_edges(G, pos, edgelist=edges_L, width=4)\n",
        "nx.draw_networkx_edges(\n",
        "    G, pos, edgelist=edges_S, width=2, edge_color=\"r\", style=\"dashed\"\n",
        ")"
      ],
      "execution_count": 521,
      "outputs": [
        {
          "output_type": "execute_result",
          "data": {
            "text/plain": [
              "<matplotlib.collections.LineCollection at 0x7f97722b8750>"
            ]
          },
          "metadata": {},
          "execution_count": 521
        },
        {
          "output_type": "display_data",
          "data": {
            "image/png": "[encoded data removed]",
            "text/plain": [
              "<Figure size 432x288 with 1 Axes>"
            ]
          },
          "metadata": {}
        }
      ]
    },
    {
      "cell_type": "markdown",
      "metadata": {
        "id": "KVgiqGTsV7sY"
      },
      "source": [
        "Something seems off with this plot. The plot has axes ranging values [0, 1], while our positions occur beyond the provided window.\n",
        "To fix this, we can instantiate provide axes to the draw_network_element functions:"
      ]
    },
    {
      "cell_type": "code",
      "metadata": {
        "id": "cpBwHjH8V7sY",
        "colab": {
          "base_uri": "https://localhost:8080/"
        },
        "outputId": "4691b30f-f3f7-4ccb-9b4e-31151f8622a6"
      },
      "source": [
        "{k: (u, v) for k, (u, v) in pos.items()}"
      ],
      "execution_count": 522,
      "outputs": [
        {
          "output_type": "execute_result",
          "data": {
            "text/plain": [
              "{'Bayta': (0.5090004400025472, 0.6110827187423654),\n",
              " 'Dobbs': (-0.7542430645803506, -0.5970250615226906),\n",
              " 'Duckett': (-1.0, 0.05136071250024263),\n",
              " 'Hardin': (0.9307865520716213, 0.045139510161775545),\n",
              " 'Hari': (-0.10175584431381682, -0.05997323169104591),\n",
              " 'Jord': (0.20698967157204615, 0.08274911842242083),\n",
              " 'Lathan': (0.44427484025333674, 0.046015060194503944),\n",
              " 'Mallow': (0.7541048050289895, 0.5002007097197554),\n",
              " 'Milo': (-0.4259342439652371, -0.21774291586725142),\n",
              " 'Mis': (0.6590253573126422, 0.13262243196859905),\n",
              " 'Nately': (-0.773772506106332, -0.051690752453569376),\n",
              " 'Orr': (-0.6012150051683913, -0.4074224600781463),\n",
              " 'Toran': (0.5038065248890393, 0.3017279055013217),\n",
              " 'Yossarian': (-0.351067526996095, -0.4370437455982811)}"
            ]
          },
          "metadata": {},
          "execution_count": 522
        }
      ]
    },
    {
      "cell_type": "code",
      "metadata": {
        "id": "Rsb3yQ1aV7sY",
        "colab": {
          "base_uri": "https://localhost:8080/",
          "height": 411
        },
        "outputId": "6db1f315-130e-46ad-b9cd-ead0a0db3b6d"
      },
      "source": [
        "\n",
        "\n",
        "# instantiate pyplot axis to plot everything (internally used by all the `nx.draw...` functions)\n",
        "fig, ax = plt.subplots(figsize=(7, 7))\n",
        "\n",
        "nx.draw_networkx_nodes(G, pos, node_size=200, node_color='red')\n",
        "nx.draw_networkx_edges(G, pos, edgelist=edges_L, width=4, edge_color='grey')\n",
        "nx.draw_networkx_edges(\n",
        "    G, pos, edgelist=edges_S, width=2, edge_color=\"b\", style=\"dashed\"\n",
        ")\n",
        "\n",
        "label_offset = 0.06 # we insert the label for each node slightly above it.\n",
        "nx.draw_networkx_labels(G, {k: (u, v + label_offset) for k, (u, v) in pos.items()}) # dictionary comprehension expression\n",
        "\n",
        "## centre plot, leave margin around the graph\n",
        "\n",
        "\n",
        "xs = [p[0] for p in pos.values()] # extract all x...\n",
        "ys = [p[1] for p in pos.values()] # ...and y values from edges positions\n",
        "\n",
        "margin = 0.1\n",
        "ax.set_xlim((min(xs) - 0.1, max(xs) + 0.1))\n",
        "ax.set_ylim((min(ys) - 0.1, max(ys) + 0.1))\n",
        "plt.show()\n"
      ],
      "execution_count": 523,
      "outputs": [
        {
          "output_type": "display_data",
          "data": {
            "image/png": "[encoded data removed]",
            "text/plain": [
              "<Figure size 504x504 with 1 Axes>"
            ]
          },
          "metadata": {}
        }
      ]
    },
    {
      "cell_type": "markdown",
      "metadata": {
        "id": "KYEYIiZaV7sY"
      },
      "source": [
        "### Task 3\n",
        "Can you make a function plotting a given graph, exhibiting like thickness *proportional to the weight* attribute of each edge?\n",
        "\n",
        "To do so you will need to:\n",
        "\n",
        "0. Take G, label_offset and show_edge_attributes as arguments of your function\n",
        "1. Instantiate pyplot figure and axis with `plt.subplots()`\n",
        "3. obtain nodes position via `nx.spring_layout(G)`\n",
        "3. Show nodes with `nx.draw_networkx_nodes(G, pos, node_size=..., node_color=...)`\n",
        "4. Show edges by:\n",
        "     1. getting all (scaled) weights by: `[d['weight']*scaling_factor for (u, v, d) in graph.edges(data=True)]` \\\n",
        "        where scaling_factor is an arbitrarily chosen integer to make the difference in weights visible.\n",
        "     2. call the function below: \n",
        "             nx.draw_networkx_edges(G, pos, edge_list=G.edges(), width=weights, edge_color=...)\n",
        "         by providing the array `weights` as width argument.\n",
        "      \n",
        "      \n",
        "5. For each node, show its name above it, calling `draw_networkx_labels` with an offset to the y coordinate. \n",
        "6. add the option to display edge attributes with `nx.draw_networkx_edge_label`. \\\n",
        "    i. Make this dependent on an argument: (`if show_edge_attributes:`). \\\n",
        "    ii. create the adjacency list to show only the weight with:\n",
        "        edge_labels = {(u, v): d['weight'] for (u, v, d) in G.edges(data=True)}\n",
        "    iii. Then:\n",
        "        nx.draw_networkx_edge_labels(G, pos, edge_labels)\n",
        "7. increase graph margins by: \\\n",
        "    i. obtaining x and y coordinates for each item in `pos` \\\n",
        "    ii. set xlim and ylim accordingly\n",
        "\n",
        "Of the points here outlined, 6. is the only task not shown previously in this notebook. The workings of `nx.draw_networkx_edge_labels`, however, are similar to `draw_networkx_labels`. More information can be found [reading the docs](https://networkx.org/documentation/stable/reference/generated/networkx.drawing.nx_pylab.draw_networkx_edge_labels.html)."
      ]
    },
    {
      "cell_type": "code",
      "metadata": {
        "id": "RQHwDOw3V7sZ"
      },
      "source": [
        "\n",
        "def show_graph(G, label_offset=0.5, plot_margin=0.4, show_edge_attribute=True):\n",
        "    # Your code here\n",
        "    # instantiate pyplot axis to plot everything (internally used by all the `nx.draw...` functions)\n",
        "    weights = []\n",
        "    fig, ax = plt.subplots(figsize=(15, 10))\n",
        "    nx.spring_layout(G)\n",
        "    nx.draw_networkx_nodes(G, pos, node_size=500, node_color='green')\n",
        "\n",
        "    for item in range(0, len(list(G.edges(data=True)))):\n",
        "        weights.append(list(G.edges(data=True))[item][2]['weight']*10)\n",
        "    print(weights)\n",
        "\n",
        "    nx.draw_networkx_edges(G, pos, G.edges(), width=weights, edge_color=\"blue\")\n",
        "    edge_labels = {(u, v): d['weight'] for (u, v, d) in G.edges(data=True)}\n",
        "    nx.draw_networkx_edge_labels(G, pos, edge_labels, horizontalalignment='center', verticalalignment= 'top')\n",
        "\n",
        "    label_offset = 0.06 # we insert the label for each node slightly above it.\n",
        "    nx.draw_networkx_labels(G, {k: (u, v + label_offset) for k, (u, v) in pos.items()}) # dictionary comprehension expression\n",
        "    \n",
        "    \n",
        "    ## centre plot, leave margin around the graph\n",
        "    xs = [p[0] for p in pos.values()] # extract all x...\n",
        "    ys = [p[1] for p in pos.values()] # ...and y values from edges positions\n",
        "\n",
        "    margin = 0.1\n",
        "    ax.set_xlim((min(xs) - 0.1, max(xs) + 0.1))\n",
        "    ax.set_ylim((min(ys) - 0.1, max(ys) + 0.1))\n",
        "    plt.show()\n",
        "    pass"
      ],
      "execution_count": 524,
      "outputs": []
    },
    {
      "cell_type": "code",
      "metadata": {
        "id": "0b7H77ywV7sZ",
        "colab": {
          "base_uri": "https://localhost:8080/",
          "height": 592
        },
        "outputId": "ff49924a-6a51-46e4-87ef-82573ea8382a"
      },
      "source": [
        "show_graph(G)\n"
      ],
      "execution_count": 481,
      "outputs": [
        {
          "output_type": "stream",
          "name": "stdout",
          "text": [
            "[5.0, 5.0, 4.0, 10.0, 5.0, 4.0, 8.0, 4.0, 9.0, 6.0, 6.0, 6.0, 5.0, 7.0]\n"
          ]
        },
        {
          "output_type": "display_data",
          "data": {
            "image/png": "[encoded data removed]",
            "text/plain": [
              "<Figure size 1080x720 with 1 Axes>"
            ]
          },
          "metadata": {}
        }
      ]
    },
    {
      "cell_type": "code",
      "metadata": {
        "id": "Y96qCJHCV7sZ",
        "colab": {
          "base_uri": "https://localhost:8080/",
          "height": 38
        },
        "outputId": "43dbff40-111e-4ba6-aff0-c7845e3c43b7"
      },
      "source": [
        "count_graph_elements(G)"
      ],
      "execution_count": null,
      "outputs": [
        {
          "output_type": "execute_result",
          "data": {
            "application/vnd.google.colaboratory.intrinsic+json": {
              "type": "string"
            },
            "text/plain": [
              "'Number of Nodes is 13 & Number of edges is 11'"
            ]
          },
          "metadata": {},
          "execution_count": 195
        }
      ]
    },
    {
      "cell_type": "markdown",
      "metadata": {
        "id": "ebc3Sd-oV7sZ"
      },
      "source": [
        "## Time for Data\n",
        "\n",
        "<img src=\"attachment:image.png\" width=\"400\"> </img>\n",
        "\n",
        "We will now show how to apply this graphing techniques to real world data, building a network to gain an understanding of the underlying social dynamics."
      ]
    },
    {
      "cell_type": "markdown",
      "metadata": {
        "id": "SWE5sGtdV7sZ"
      },
      "source": [
        "### Task 4\n",
        "1. Download [Stanford's example facebook network data](https://snap.stanford.edu/data/egonets-Facebook.html).\n",
        "2. Extract the archive file named `facebook.tar.gz`.  \n",
        "    * on Linux or Mac:\n",
        "        1. `Ctrl+Alt+T`;\n",
        "        2.  `tar -xvzf /path/to/file.tar.gz`.\n",
        "      \n",
        "    * on Windows (just use [7zip](https://www.7-zip.org/)).\n",
        "2. replace the variable filename with the relative or absolute path of the file named \"`0.edges`\". "
      ]
    },
    {
      "cell_type": "code",
      "metadata": {
        "id": "0Y2B5H0lV7sZ"
      },
      "source": [
        "# Your code here\n",
        "edges_filename = 'path/to/0.edges'\n",
        "G_fb = nx.read_edgelist(edges_filename, nodetype=int)"
      ],
      "execution_count": null,
      "outputs": []
    },
    {
      "cell_type": "code",
      "metadata": {
        "id": "5M9N0BW1V7sZ"
      },
      "source": [
        "print(nx.info(G_fb))"
      ],
      "execution_count": null,
      "outputs": []
    },
    {
      "cell_type": "code",
      "metadata": {
        "id": "XKmXupVDV7sa"
      },
      "source": [
        "nx.draw_networkx(G_fb)"
      ],
      "execution_count": null,
      "outputs": []
    },
    {
      "cell_type": "markdown",
      "metadata": {
        "id": "L3Qj2VNkV7sa"
      },
      "source": [
        "### Connectedness\n",
        "Is this graph connected? Why?"
      ]
    },
    {
      "cell_type": "code",
      "metadata": {
        "id": "h98kI25gV7sa"
      },
      "source": [
        "# to answer the question above, we can use the functions provided by networkx:\n",
        "if nx.is_connected(G_fb):\n",
        "    print(\"the graph is connected\")\n",
        "    print(f'because there is only {nx.connected_components(G_fb)} ')\n",
        "else:\n",
        "    print(\"the graph is not connected\")\n",
        "    print(f'because there are n {len([c for c in nx.connected_components(G_fb)])} separate components.')"
      ],
      "execution_count": null,
      "outputs": []
    },
    {
      "cell_type": "markdown",
      "metadata": {
        "id": "PFe3D12pV7sa"
      },
      "source": [
        "There seem to be a few components disconnected to the whole.\n",
        "\n",
        "Let's extract the greatest component and define a stand-alone network from it."
      ]
    },
    {
      "cell_type": "code",
      "metadata": {
        "id": "T8iw6tsGV7sa"
      },
      "source": [
        "# return connected components\n",
        "components = nx.connected_components(G_fb)\n",
        "# find the largest, sorting by size (len)\n",
        "largest_comp = max(components, key=len)\n",
        "# obtain subgraph `sG` from `G_fb`\n",
        "sG = G_fb.subgraph(largest_comp)\n",
        "# quickly visualize\n",
        "nx.draw_networkx(sG)"
      ],
      "execution_count": null,
      "outputs": []
    },
    {
      "cell_type": "markdown",
      "metadata": {
        "id": "0Q7lM4m-V7sb"
      },
      "source": [
        "### Manipulating graph attributes: adding, saving, loading and visualizing attribute data\n",
        "\n",
        "Often you want to be able to associate a specific attribute to all the nodes or edges in your graph. Make sure you understand the example code below. Here, we use a random nuber generator to generate the values for an example `weight` attribute for all edges in our graph. We than use the pickle package to write down the resulting data structure, so we may quickly load it back from disk when needed later (or to use it in the notebook of your group members!). We then add the new weight attribute values to the edges of the graph and vizualize the result: \n"
      ]
    },
    {
      "cell_type": "code",
      "metadata": {
        "id": "KKJ_7iwkV7sb"
      },
      "source": [
        "# generate random weights for all edges:\n",
        "adj_d = {(u, v): {'weight': round((random() + .05)/1.05, 2)} for (u, v) in sG.edges()}\n",
        "\n",
        "# save to disk:\n",
        "with open('weights.pkl', 'wb') as f:\n",
        "    pickle.dump(adj_d, f)\n",
        "\n",
        "# load from disk \n",
        "with open('weights.pkl', 'rb') as f:\n",
        "    adjacency_dictionary_with_attributes = pickle.load(f)"
      ],
      "execution_count": null,
      "outputs": []
    },
    {
      "cell_type": "code",
      "metadata": {
        "id": "CnhVGKfmV7sb"
      },
      "source": [
        "nx.set_edge_attributes(sG, values = adjacency_dictionary_with_attributes)"
      ],
      "execution_count": null,
      "outputs": []
    },
    {
      "cell_type": "code",
      "metadata": {
        "id": "r-KkEL2DV7sb"
      },
      "source": [
        "show_graph(sG)"
      ],
      "execution_count": null,
      "outputs": []
    },
    {
      "cell_type": "markdown",
      "metadata": {
        "id": "nq7MZaTpV7sb"
      },
      "source": [
        "## Measures of graph centrality / eccentricity\n",
        "\n",
        "### Degree & degree centrality\n",
        "\n",
        "The total number of edges of a node is known as its **degree**. A node with a realtive high degree can be seen as playing a more *central* role in the graph and is said to have a high **degree centrality**. \n",
        "\n",
        "For networks with directed edges, it is common to count incoming edges (indegree) and outgoing (outdegree) edges seperately. For example, on twitter, a node with a high indegree corresponds to an account with many followers, while a node with a high outdegree represents an account that follows many others. Note that direclty interpreting these numbers as properties of the account owners in the real world maybe dangerous (e.g. \"Alice is more popular person than Bob because of her higher indegree\" or \"Bob has a high outdegree, typically someone who is afraid to be alone\")\n",
        "\n",
        "On facebook, the friend relation is not directed so we focus just on the degree metric in the examples below.\n",
        "\n",
        "To make it easy to use degrees in your data analysis, it is often handy to pre-compute the degrees and make the results an explicit attribute of each node. For example: "
      ]
    },
    {
      "cell_type": "code",
      "metadata": {
        "id": "o3mmJUdqV7sb"
      },
      "source": [
        "# find the degree of each node\n",
        "degree_dict = dict(sG.degree(sG.nodes()))\n",
        "# add the attribute 'degree' to the respective node.\n",
        "nx.set_node_attributes(sG, degree_dict, 'degree')"
      ],
      "execution_count": null,
      "outputs": []
    },
    {
      "cell_type": "markdown",
      "metadata": {
        "id": "Vej0HSo2V7sb"
      },
      "source": [
        "### Task 5\n",
        "\n",
        "Can you create a variant of the above function `show_graph` named '`show_graph_node_degrees`'\n",
        "\n",
        "This time:\n",
        "\n",
        "1. Don't show node names\n",
        "2. Color-code each node by looking at its 'degree' attribute. \n",
        "\n",
        "Tips:\n",
        "\n",
        "1. You can obtain the 'degree' attribute for each node similarly to what was done before for 'weights' of each node. Namely, using a comprehension list while indexing the desired attribute, and then providing the resulting array to the `draw_networkx_nodes` function as 'node_color' argument. \n",
        "2. Make nodes smaller to be able to see all the nodes (even in the most crowded clusters)."
      ]
    },
    {
      "cell_type": "code",
      "metadata": {
        "id": "VjHcP4n4V7sc"
      },
      "source": [
        "def show_graph_node_degrees(graph, label_offset=0.08, plot_margin=0.1, show_edge_attribute=True):\n",
        "    # Your code here.\n",
        "    pass"
      ],
      "execution_count": null,
      "outputs": []
    },
    {
      "cell_type": "code",
      "metadata": {
        "id": "FdrmN2RvV7sc"
      },
      "source": [
        "show_graph_node_degrees(sG)"
      ],
      "execution_count": null,
      "outputs": []
    },
    {
      "cell_type": "markdown",
      "metadata": {
        "id": "W8JETWgBV7sc"
      },
      "source": [
        "### Centrality measures\n",
        "\n",
        "Degree centrality is not the only metric related to centrality. Another intuitively common intepretation of centrality is that a central node is relatively close to most other nodes in the network. **Closeness centrality**  of a node is (the reciprocal of) the average length of the shortest path between the node and all other nodes in the network. Note that central nodes have shorter paths, so to make sure that lower averages result in higher centrality, often the reciprocal of the average is used i.s.o. the average itself. \n",
        "\n",
        "Yet another notion of centrality, ofent used in social network analysis, is the intuition that more central nodes often play the role of being the *bridge* between two other nodes, e.g. they are more often on the shortest path that connects other pairs. The number of times a node is on the shortest path relative to the total number of shortest paths is knowns as the **betweeness centrality**. \n",
        "\n",
        "Another metric you may find in the literature is **eigenvector centrality**, which is centered around the idea that the *influence* of a node in the network increases if it influences other nodes with a high eigenvector centrality. This metric is closely related to metrics such as Pagerank. \n",
        "\n",
        "There are, however, many more notions of centrality. Which one is *best* depends on your research question and data used. You are recommended to explore the other centrality metrics available in the [networkx library](https://networkx.org/documentation/stable/reference/algorithms/centrality.html)."
      ]
    },
    {
      "cell_type": "markdown",
      "metadata": {
        "id": "hoCaU4qpV7sc"
      },
      "source": [
        "### Task 6\n",
        "\n",
        "To each node, add the attributes: \n",
        "\n",
        "- betweenness centrality (`nx.betweenness_centrality(graph_object)`)\n",
        "- eigenvector centrality (`nx.eigenvector_centrality(graph_object)`)\n",
        "- closeness centrality (`nx.closeness_centrality(g_o)`)"
      ]
    },
    {
      "cell_type": "code",
      "metadata": {
        "id": "QUvYqCPMV7sc"
      },
      "source": [
        "# For instance:\n",
        "\n",
        "## find the between centrality of each node\n",
        "between_centrality = nx.betweenness_centrality(sG)\n",
        "## add the attribute 'betweenness' to the respective node.\n",
        "nx.set_node_attributes(sG, between_centrality, 'betweenness')"
      ],
      "execution_count": null,
      "outputs": []
    },
    {
      "cell_type": "code",
      "metadata": {
        "id": "qobfJST6V7sc"
      },
      "source": [
        "# Your code here"
      ],
      "execution_count": null,
      "outputs": []
    },
    {
      "cell_type": "code",
      "metadata": {
        "id": "2ZnOLHxtV7sc"
      },
      "source": [
        "# Your code here"
      ],
      "execution_count": null,
      "outputs": []
    },
    {
      "cell_type": "markdown",
      "metadata": {
        "id": "fhQc_AZ4V7sc"
      },
      "source": [
        "### Task 7\n",
        "Write a function akin to show_graph_node_degree called `show_graph_node_centrality` taking an argument (among others) called 'centrality_measure'. \n",
        "\n",
        "Plot the graph by color-coding each node with the desired centrality measure. "
      ]
    },
    {
      "cell_type": "code",
      "metadata": {
        "id": "cQue4weGV7sc"
      },
      "source": [
        "def show_graph_node_centrality(graph, centrality_measure, show_edge_attribute=True):\n",
        "    \n",
        "    if centrality_measure not in ['betweenness', 'eigenvector', 'degree', 'closeness']:\n",
        "        raise ValueError\n",
        "    \n",
        "    label_offset=0.08\n",
        "    plot_margin=0.1\n",
        "    \n",
        "    # your code here\n",
        "    \n",
        "    # Repeat the usual steps, but consider user input for 'centrality_measure' to color-code each node. "
      ],
      "execution_count": null,
      "outputs": []
    },
    {
      "cell_type": "markdown",
      "metadata": {
        "id": "2_woHFjoV7sc"
      },
      "source": [
        "### Question\n",
        "What is the difference the presented centrality measures? Discuss the tradeoff between computational complexity and usefulness of each."
      ]
    },
    {
      "cell_type": "markdown",
      "metadata": {
        "id": "kygWdqZxV7sd"
      },
      "source": [
        "*Your answer here*"
      ]
    }
  ]
}