{
 "cells": [
  {
   "cell_type": "markdown",
   "metadata": {},
   "source": [
    "*****************************************************\n",
    "# The Social Web Assignment 4: Recommendation\n",
    "\n",
    "- Instructors: Jacco van Ossenbruggen.\n",
    "- TAs: Ayesha Noorain, Alex Boyko, Caio Silva, Elena Beretta, Mirthe Dankloff.\n",
    "- Exercises for Hands-on session 4 \n",
    "*****************************************************\n",
    "\n",
    "In this notebook you will use the similarity measures to provide recommendations by comparing users and content based on expressed preferences (ratings). You will also explore textual similarity using a very popular natural language processing library, NLTK. Finally, you will explore recommendations on the Reddit platform."
   ]
  },
  {
   "cell_type": "markdown",
   "metadata": {},
   "source": [
    "Required packages:\n",
    "* feedparser, praw,  nltk"
   ]
  },
  {
   "cell_type": "code",
   "execution_count": 1734,
   "metadata": {
    "scrolled": true
   },
   "outputs": [
    {
     "name": "stdout",
     "output_type": "stream",
     "text": [
      "Requirement already satisfied: feedparser in /Users/alirezasoltaninezhad/opt/anaconda3/lib/python3.8/site-packages (6.0.8)\r\n",
      "Requirement already satisfied: sgmllib3k in /Users/alirezasoltaninezhad/opt/anaconda3/lib/python3.8/site-packages (from feedparser) (1.0.0)\r\n",
      "Requirement already satisfied: praw in /Users/alirezasoltaninezhad/opt/anaconda3/lib/python3.8/site-packages (7.5.0)\r\n",
      "Requirement already satisfied: prawcore<3,>=2.1 in /Users/alirezasoltaninezhad/opt/anaconda3/lib/python3.8/site-packages (from praw) (2.3.0)\r\n",
      "Requirement already satisfied: update-checker>=0.18 in /Users/alirezasoltaninezhad/opt/anaconda3/lib/python3.8/site-packages (from praw) (0.18.0)\r\n",
      "Requirement already satisfied: websocket-client>=0.54.0 in /Users/alirezasoltaninezhad/opt/anaconda3/lib/python3.8/site-packages (from praw) (1.2.1)\r\n",
      "Requirement already satisfied: requests<3.0,>=2.6.0 in /Users/alirezasoltaninezhad/opt/anaconda3/lib/python3.8/site-packages (from prawcore<3,>=2.1->praw) (2.26.0)\r\n",
      "Requirement already satisfied: certifi>=2017.4.17 in /Users/alirezasoltaninezhad/opt/anaconda3/lib/python3.8/site-packages (from requests<3.0,>=2.6.0->prawcore<3,>=2.1->praw) (2021.10.8)\r\n",
      "Requirement already satisfied: charset-normalizer~=2.0.0 in /Users/alirezasoltaninezhad/opt/anaconda3/lib/python3.8/site-packages (from requests<3.0,>=2.6.0->prawcore<3,>=2.1->praw) (2.0.4)\r\n",
      "Requirement already satisfied: idna<4,>=2.5 in /Users/alirezasoltaninezhad/opt/anaconda3/lib/python3.8/site-packages (from requests<3.0,>=2.6.0->prawcore<3,>=2.1->praw) (3.2)\r\n",
      "Requirement already satisfied: urllib3<1.27,>=1.21.1 in /Users/alirezasoltaninezhad/opt/anaconda3/lib/python3.8/site-packages (from requests<3.0,>=2.6.0->prawcore<3,>=2.1->praw) (1.26.7)\r\n",
      "Requirement already satisfied: nltk in /Users/alirezasoltaninezhad/opt/anaconda3/lib/python3.8/site-packages (3.6.1)\r\n",
      "Requirement already satisfied: tqdm in /Users/alirezasoltaninezhad/opt/anaconda3/lib/python3.8/site-packages (from nltk) (4.62.3)\r\n",
      "Requirement already satisfied: click in /Users/alirezasoltaninezhad/opt/anaconda3/lib/python3.8/site-packages (from nltk) (8.0.3)\r\n",
      "Requirement already satisfied: joblib in /Users/alirezasoltaninezhad/opt/anaconda3/lib/python3.8/site-packages (from nltk) (1.0.1)\r\n",
      "Requirement already satisfied: regex in /Users/alirezasoltaninezhad/opt/anaconda3/lib/python3.8/site-packages (from nltk) (2021.8.3)\r\n"
     ]
    }
   ],
   "source": [
    "import sys\n",
    "\n",
    "!pip install feedparser\n",
    "!pip install praw\n",
    "!pip install nltk"
   ]
  },
  {
   "cell_type": "markdown",
   "metadata": {},
   "source": [
    "In the snippets below, you can find:\n",
    "* creation of a small toy database in form of a dictionary of dictionaries;\n",
    "* issuing several similarity measures based on critics' preferences; and\n",
    "* use those values to obtain meaningful statistics pertaining a user."
   ]
  },
  {
   "cell_type": "markdown",
   "metadata": {},
   "source": [
    "# Movie preferences of movie critics\n",
    "As example data, let us define a python dictionary of movie critics and their ratings of a small set of movies\n"
   ]
  },
  {
   "cell_type": "code",
   "execution_count": 1735,
   "metadata": {},
   "outputs": [],
   "source": [
    "\n",
    "critics = {\n",
    "    'Lisa Rose': {\n",
    "        'Lady in the Water': 2.5,\n",
    "        'Snakes on a Plane': 3.5,\n",
    "        'Just My Luck': 3.0,\n",
    "        'Superman Returns': 3.5,\n",
    "        'You, Me and Dupree': 2.5,\n",
    "        'The Night Listener': 3.0,\n",
    "    },\n",
    "    'Gene Seymour': {\n",
    "        'Lady in the Water': 3.0,\n",
    "        'Snakes on a Plane': 3.5,\n",
    "        'Just My Luck': 1.5,\n",
    "        'Superman Returns': 5.0,\n",
    "        'The Night Listener': 3.0,\n",
    "        'You, Me and Dupree': 3.5,\n",
    "    },\n",
    "    'Michael Phillips': {\n",
    "        'Lady in the Water': 2.5,\n",
    "        'Snakes on a Plane': 3.0,\n",
    "        'Superman Returns': 3.5,\n",
    "        'The Night Listener': 4.0,\n",
    "    },\n",
    "    'Claudia Puig': {\n",
    "        'Snakes on a Plane': 3.5,\n",
    "        'Just My Luck': 3.0,\n",
    "        'The Night Listener': 4.5,\n",
    "        'Superman Returns': 4.0,\n",
    "        'You, Me and Dupree': 2.5,\n",
    "    },\n",
    "    'Mick LaSalle': {\n",
    "        'Lady in the Water': 3.0,\n",
    "        'Snakes on a Plane': 4.0,\n",
    "        'Just My Luck': 2.0,\n",
    "        'Superman Returns': 3.0,\n",
    "        'The Night Listener': 3.0,\n",
    "        'You, Me and Dupree': 2.0,\n",
    "    },\n",
    "    'Jack Matthews': {\n",
    "        'Lady in the Water': 3.0,\n",
    "        'Snakes on a Plane': 4.0,\n",
    "        'The Night Listener': 3.0,\n",
    "        'Superman Returns': 5.0,\n",
    "        'You, Me and Dupree': 3.5,\n",
    "    },\n",
    "    'Toby': {'Snakes on a Plane': 4.5,\n",
    "             'You, Me and Dupree': 1.0,\n",
    "             'Superman Returns': 4.0},\n",
    "}"
   ]
  },
  {
   "cell_type": "markdown",
   "metadata": {},
   "source": [
    "# **Exercise 1: Finding Similar Users**\n",
    "\n",
    "In the code below, two different simililarity measures are used: Euclidean distance and the Pearson correlation. If you are not familiar with them, we recommend you look them up to deepen your understanding."
   ]
  },
  {
   "cell_type": "markdown",
   "metadata": {},
   "source": [
    "## Euclidian distance"
   ]
  },
  {
   "attachments": {
    "image.png": {
     "image/png": "[encoded data removed]"
    }
   },
   "cell_type": "markdown",
   "metadata": {},
   "source": [
    "To assess the degree similarity between critics given their respective preferences, we can use the euclidian distance.\n",
    "Its formula for an N-dimensional space is is: ![image.png](attachment:image.png)\n",
    "Because we want a smaller distance to indicate a larger similarity, we will use 1/d(p,q) as our similarity value:"
   ]
  },
  {
   "cell_type": "code",
   "execution_count": 1736,
   "metadata": {},
   "outputs": [],
   "source": [
    "from math import sqrt\n",
    "\n",
    "\n",
    "def sim_distance(p1, p2, show_common_dims=False, prefs=critics):\n",
    "    '''\n",
    "    Returns a distance-based similarity score between two critics.\n",
    "    '''\n",
    "\n",
    "    # Get the list of shared_items\n",
    "    common_items = []\n",
    "    for movie in prefs[p1]:\n",
    "        if movie in prefs[p2]:\n",
    "            common_items.append(movie)\n",
    "    # If they have no ratings in common, return 0\n",
    "    if len(common_items) == 0:\n",
    "        return 0\n",
    "    if show_common_dims:\n",
    "        print(\"common dimensions between {} and {}: \".format(p1, p2) + str(len(common_items)))\n",
    "    # Add up the squares of all the differences\n",
    "    sum_of_squares = sum([pow(prefs[p1][movie] - prefs[p2][movie], 2) for movie in common_items])\n",
    "\n",
    "    # return sqrt(sum_of_squares)\n",
    "    return 1 / sqrt(sum_of_squares)"
   ]
  },
  {
   "cell_type": "markdown",
   "metadata": {},
   "source": [
    "Using this simple formula, you can calculate a similarity between two critics:"
   ]
  },
  {
   "cell_type": "code",
   "execution_count": 1737,
   "metadata": {},
   "outputs": [
    {
     "name": "stdout",
     "output_type": "stream",
     "text": [
      "common dimensions between Lisa Rose and Gene Seymour: 6\n"
     ]
    },
    {
     "data": {
      "text/plain": "0.41702882811414954"
     },
     "execution_count": 1737,
     "metadata": {},
     "output_type": "execute_result"
    }
   ],
   "source": [
    "# get the distance between 'Lisa Rose' and 'Gene Seymour'\n",
    "sim_distance('Lisa Rose', 'Gene Seymour', True)"
   ]
  },
  {
   "cell_type": "markdown",
   "metadata": {},
   "source": [
    "Try this with other names so you can see who is closer or further."
   ]
  },
  {
   "cell_type": "markdown",
   "metadata": {},
   "source": [
    "Name at least two problems with the sim_distance function as it is defined above. "
   ]
  },
  {
   "cell_type": "markdown",
   "metadata": {},
   "source": [
    "Problems:\n",
    "1. first problem is what funciton returns. Imagine the distance of 2 person is 0. we can not perform division to 0. Our suggestion is to change result as follows:\n",
    "    return 1 / (1 + sqrt(sum_of_squares))\n",
    "2. Second problem is existence of \"sqrt\". If the sum_of_squares is between 0 and 1, the sqrt increases the distance unwillingly. So it is better to remove the sqrt. So the final result would be:\n",
    "    1/ (1 + sum_of_squares)\n",
    "    "
   ]
  },
  {
   "attachments": {
    "image.png": {
     "image/png": "[encoded data removed]"
    }
   },
   "cell_type": "markdown",
   "metadata": {},
   "source": [
    "A different measure of similarity can be given by pearson correlation.\n",
    "Which follows: ![image.png](attachment:image.png)\n",
    "\n",
    "Where the dividend represents a measure of covariance between dimensions, whereas the divisor is the product of the standard deviation of the scores given by each user."
   ]
  },
  {
   "cell_type": "code",
   "execution_count": 1738,
   "metadata": {},
   "outputs": [],
   "source": [
    "def sim_pearson(p1, p2, prefs=critics, verbose=False):\n",
    "    '''\n",
    "    Returns the Pearson correlation coefficient for p1 and p2.\n",
    "    '''\n",
    "\n",
    "    '''Step 1: Get the list of mutually rated items'''\n",
    "    common_items = []\n",
    "    dic = {}\n",
    "    for movie in prefs[p1]:\n",
    "        if movie in prefs[p2]:\n",
    "            common_items.append(movie)\n",
    "    # If they are no ratings in common, return 0\n",
    "    if len(common_items) == 0:\n",
    "        return 0\n",
    "    '''Step 2: Sum calculations'''\n",
    "    n_common_items = len(common_items)\n",
    "    sum1 = sum([prefs[p1][movie] for movie in common_items])\n",
    "    sum2 = sum([prefs[p2][movie] for movie in common_items])\n",
    "    # Sums of squares\n",
    "    sum1Sq = sum([pow(prefs[p1][movie], 2) for movie in common_items])\n",
    "    sum2Sq = sum([pow(prefs[p2][movie], 2) for movie in common_items])\n",
    "    # Sum of the products\n",
    "    pSum = sum([prefs[p1][movie] * prefs[p2][movie] for movie in common_items])\n",
    "    # Calculate r (Pearson score)\n",
    "    num = pSum - sum1 * sum2 / n_common_items\n",
    "    den = sqrt((sum1Sq - pow(sum1, 2) / n_common_items) * (sum2Sq - pow(sum2, 2) / n_common_items))\n",
    "    if den == 0:\n",
    "        return 0\n",
    "    r = num / den\n",
    "    if verbose:\n",
    "        print(\"common dimensions: %s\" % len(common_items))\n",
    "        print(\"Similarity Score for {} and {}: {}\".format(p1, p2, r))\n",
    "    return r\n",
    "\n",
    "\n",
    "#for k in critics.keys():\n",
    "#    sim_pearson('Michael Phillips', k, verbose=True)"
   ]
  },
  {
   "cell_type": "markdown",
   "metadata": {},
   "source": [
    "Try the examples you used for the eucledian distance again, but now using the pearson correlation:"
   ]
  },
  {
   "cell_type": "code",
   "execution_count": 1739,
   "metadata": {},
   "outputs": [
    {
     "data": {
      "text/plain": "0.39605901719066977"
     },
     "execution_count": 1739,
     "metadata": {},
     "output_type": "execute_result"
    }
   ],
   "source": [
    "sim_pearson('Lisa Rose', 'Gene Seymour')"
   ]
  },
  {
   "cell_type": "markdown",
   "metadata": {},
   "source": [
    "### Ranking critics on similarity\n",
    "The topMatches function below calculates all similarities of a given critic with his peers:"
   ]
  },
  {
   "cell_type": "code",
   "execution_count": 1740,
   "metadata": {},
   "outputs": [],
   "source": [
    "def topMatches(person, n=5, similarity=sim_pearson, prefs=critics):\n",
    "    '''\n",
    "    Returns the best matches for person from the prefs dictionary. \n",
    "    Number of results and similarity function are optional params.\n",
    "    '''\n",
    "    if similarity not in [sim_distance, sim_pearson]:\n",
    "        # NB: here we are comparing FUNCTION DEFINITION.\n",
    "        # We do that only in a jupyter notebook for the sake of simplicity.\n",
    "        raise ValueError(\"Callback functions should be: 'sim_pearson' or 'sim_distance'.\")\n",
    "\n",
    "    scores = [(similarity(person, other, prefs=prefs), other) for other in prefs\n",
    "              if other != person]\n",
    "    scores.sort()\n",
    "    scores.reverse()\n",
    "    return scores[0:n]"
   ]
  },
  {
   "cell_type": "markdown",
   "metadata": {},
   "source": [
    "So you can now get the 3 critics closest to Toby by calling:"
   ]
  },
  {
   "cell_type": "code",
   "execution_count": 1741,
   "metadata": {},
   "outputs": [
    {
     "data": {
      "text/plain": "[(0.9912407071619299, 'Lisa Rose'),\n (0.9244734516419049, 'Mick LaSalle'),\n (0.8934051474415647, 'Claudia Puig')]"
     },
     "execution_count": 1741,
     "metadata": {},
     "output_type": "execute_result"
    }
   ],
   "source": [
    "topMatches('Toby', n=3)"
   ]
  },
  {
   "cell_type": "markdown",
   "metadata": {},
   "source": [
    "*****************************************************\n",
    "### Task: Effect of similarity function used\n",
    "Call the topMatches function on a number of critics with both the default sim_pearson, but also with the sim_distance function. Would you have preference of one over the other? \n",
    "*****************************************************"
   ]
  },
  {
   "cell_type": "markdown",
   "metadata": {},
   "source": [
    "<b style=\"color: red\">Answer:</b>\n",
    "the Euclidean distance or Euclidean metric is the \"ordinary\" straight-line distance between two points in Euclidean space while Pearson Correlation measures the similarity in shape between two profiles.\n",
    "\n",
    "The pearson considers which movie is the most favorable to a user. for example if 3 movies A B C are respectively most favorable movies of user1, and A B C also in same order are respectively the most favorable movies of user2, These 2 users have pearson similarity of 1. while in the Euclidean similarity only simple linear distance is calculated.\n",
    "\n",
    "So based on the our research and trying the topMatch function, we prefer the pearson similarity."
   ]
  },
  {
   "cell_type": "markdown",
   "metadata": {},
   "source": [
    "### **Exercise 2: Recommending Items**\n",
    "\n",
    "One way to recommend movies to a person would be to rate the movies she has not seen yet by using the scores of the others weighted by the similarity."
   ]
  },
  {
   "cell_type": "code",
   "execution_count": 1742,
   "metadata": {},
   "outputs": [],
   "source": [
    "def getRecommendations(person, similarity=sim_pearson, prefs=critics):\n",
    "    '''\n",
    "    Gets recommendations for a person by using a weighted average\n",
    "    of every other user's rankings\n",
    "    '''\n",
    "    if similarity not in [sim_distance, sim_pearson]:\n",
    "        raise ValueError(\"Callback functions should be: 'sim_pearson' or 'sim_distance'.\")\n",
    "\n",
    "    totals = {}\n",
    "    simSums = {}\n",
    "    for other in prefs:\n",
    "        # Don't compare me to myself\n",
    "        if other == person:\n",
    "            continue\n",
    "        sim = similarity(person, other, prefs=prefs)\n",
    "        # Ignore scores of zero or lower\n",
    "        if sim <= 0:\n",
    "            continue\n",
    "        for item in prefs[other]:\n",
    "            # Only score movies I haven't seen yet\n",
    "            if item not in prefs[person] or prefs[person][item] == 0:\n",
    "                # Similarity * Score\n",
    "                totals.setdefault(item, 0)\n",
    "                # The final score is calculated by multiplying each item by the\n",
    "                #   similarity and adding these products together\n",
    "                totals[item] += prefs[other][item] * sim\n",
    "                # Sum of similarities\n",
    "                simSums.setdefault(item, 0)\n",
    "                simSums[item] += sim\n",
    "    # Create the normalized list\n",
    "    rankings = [(total / simSums[item], item) for (item, total) in\n",
    "                totals.items()]\n",
    "    # Return the sorted list\n",
    "    rankings.sort()\n",
    "    rankings.reverse()\n",
    "    return rankings"
   ]
  },
  {
   "cell_type": "code",
   "execution_count": 1743,
   "metadata": {},
   "outputs": [
    {
     "data": {
      "text/plain": "[(3.4721701369256524, 'The Night Listener'),\n (2.7709066207646793, 'Lady in the Water'),\n (2.4349456273856207, 'Just My Luck')]"
     },
     "execution_count": 1743,
     "metadata": {},
     "output_type": "execute_result"
    }
   ],
   "source": [
    "getRecommendations('Toby', similarity=sim_distance)"
   ]
  },
  {
   "cell_type": "code",
   "execution_count": 1744,
   "metadata": {},
   "outputs": [
    {
     "data": {
      "text/plain": "[(3.3477895267131017, 'The Night Listener'),\n (2.8325499182641614, 'Lady in the Water'),\n (2.530980703765565, 'Just My Luck')]"
     },
     "execution_count": 1744,
     "metadata": {},
     "output_type": "execute_result"
    }
   ],
   "source": [
    "getRecommendations('Toby')\n"
   ]
  },
  {
   "cell_type": "markdown",
   "metadata": {},
   "source": [
    "Note that the output does not only consist of a movie title, but also a guess at what the user's rating for each movie would be.\n",
    "\n",
    "*****************************************************\n",
    "### Task: Explainable recommendations\n",
    "Can you also find out how to give information on how the recommendation is built up. For example about the 'closest' person that also watched this movie?\n",
    "*****************************************************"
   ]
  },
  {
   "cell_type": "code",
   "execution_count": 1745,
   "metadata": {},
   "outputs": [
    {
     "data": {
      "text/plain": "[(3.3477895267131017,\n  'The Night Listener',\n  ['Lisa Rose', 'Gene Seymour', 'Mick LaSalle', 'Jack Matthews']),\n (2.8325499182641614,\n  'Lady in the Water',\n  ['Gene Seymour', 'Mick LaSalle', 'Jack Matthews']),\n (2.530980703765565, 'Just My Luck', ['Lisa Rose', 'Claudia Puig'])]"
     },
     "execution_count": 1745,
     "metadata": {},
     "output_type": "execute_result"
    }
   ],
   "source": [
    "# so based on what we understood of this task we need to write a function\n",
    "# that not only returns score and movie, but also more information like closest people that also watched that movie\n",
    "\n",
    "def getCompleteRecommendation(person, similarity=sim_pearson, prefs=critics):\n",
    "    '''\n",
    "    Gets recommendations for a person by using a weighted average\n",
    "    of every other user's rankings\n",
    "    '''\n",
    "    if similarity not in [sim_distance, sim_pearson]:\n",
    "        raise ValueError(\"Callback functions should be: 'sim_pearson' or 'sim_distance'.\")\n",
    "\n",
    "    totals = {}\n",
    "    simSums = {}\n",
    "    for other in prefs:\n",
    "        # Don't compare me to myself\n",
    "        if other == person:\n",
    "            continue\n",
    "        sim = similarity(person, other, prefs=prefs)\n",
    "        # Ignore scores of zero or lower\n",
    "        if sim <= 0:\n",
    "            continue\n",
    "\n",
    "        closest_person = ''\n",
    "        for item in prefs[other]:\n",
    "            # Only score movies I haven't seen yet\n",
    "            if item not in prefs[person] or prefs[person][item] == 0:\n",
    "                # Similarity * Score\n",
    "                totals.setdefault(item, 0)\n",
    "                # The final score is calculated by multiplying each item by the\n",
    "                #   similarity and adding these products together\n",
    "                totals[item] += prefs[other][item] * sim\n",
    "                # Sum of similarities\n",
    "                simSums.setdefault(item, 0)\n",
    "                simSums[item] += sim\n",
    "\n",
    "    # Create the normalized list\n",
    "    rankings = [(total / simSums[item], item, close_person(person, item, total / simSums[item])) for (item, total) in\n",
    "                totals.items()]\n",
    "\n",
    "\n",
    "    # Return the sorted list\n",
    "    rankings.sort()\n",
    "    rankings.reverse()\n",
    "    return rankings\n",
    "\n",
    "def close_person(person, movie_name, person_score, prefs=critics):\n",
    "    storage = {}\n",
    "    for other in prefs:\n",
    "        if other == person:\n",
    "            continue\n",
    "        for movie in prefs[other]:\n",
    "            if movie == movie_name:\n",
    "                diff = abs(person_score - prefs[other][movie]);\n",
    "                # there could be multiple people with minimum difference in score\n",
    "                if diff not in storage:\n",
    "                    storage[diff] = []\n",
    "                storage[diff].append(other)\n",
    "    minimum_diff = min(storage.keys())\n",
    "    return storage[minimum_diff]\n",
    "\n",
    "getCompleteRecommendation('Toby')\n",
    "\n",
    "# above line returns movies that Toby did not rate and also closest people related to each movie to toby. (those people have exact same closeness to toby in specified movie)"
   ]
  },
  {
   "cell_type": "markdown",
   "metadata": {
    "pycharm": {
     "name": "#%% md\n"
    }
   },
   "source": [
    "### **Exercise 3: Transformations** \n",
    "**You have been building recommendations based on similar users in Exercise 2, but you could of course also build recommendations based on similar items. In this exercise you will do this.** \n",
    "\n",
    "The function is essentially the same, but you need to transfer your data, from:\n",
    "\n",
    "<code>{'Lisa Rose': {'Lady in the Water': 2.5, 'Snakes on a Plane': 3.5},\n",
    "'Gene Seymour': {'Lady in the Water': 3.0, 'Snakes on a Plane': 3.5}}</code>\n",
    "\n",
    "to\n",
    "\n",
    "<code>{'Lady in the Water': {'Lisa Rose': 2.5,'Gene Seymour': 3.0},\n",
    "'Snakes on a Plane': {'Lisa Rose': 3.5,'Gene Seymour': 3.5}}</code>\n",
    "\n",
    "This is what the transformPrefs function does. \n",
    "\n",
    "You can now create a dictionary for movies with their scores assigned by different people by invoking:"
   ]
  },
  {
   "cell_type": "code",
   "execution_count": 1746,
   "metadata": {},
   "outputs": [],
   "source": [
    "def transformPrefs(prefs=critics):\n",
    "    '''\n",
    "    Transform the recommendations into a mapping where persons are described\n",
    "    with interest scores for a given title e.g. {title: person} instead of\n",
    "    {person: title}.\n",
    "    '''\n",
    "    result = {}\n",
    "    for person in prefs:\n",
    "        for item in prefs[person]:\n",
    "            result.setdefault(item, {})\n",
    "            # Flip item and person\n",
    "            result[item][person] = prefs[person][item]\n",
    "    return result"
   ]
  },
  {
   "cell_type": "code",
   "execution_count": 1747,
   "metadata": {},
   "outputs": [
    {
     "name": "stdout",
     "output_type": "stream",
     "text": [
      "{'Lady in the Water': {'Lisa Rose': 2.5, 'Gene Seymour': 3.0, 'Michael Phillips': 2.5, 'Mick LaSalle': 3.0, 'Jack Matthews': 3.0}, 'Snakes on a Plane': {'Lisa Rose': 3.5, 'Gene Seymour': 3.5, 'Michael Phillips': 3.0, 'Claudia Puig': 3.5, 'Mick LaSalle': 4.0, 'Jack Matthews': 4.0, 'Toby': 4.5}, 'Just My Luck': {'Lisa Rose': 3.0, 'Gene Seymour': 1.5, 'Claudia Puig': 3.0, 'Mick LaSalle': 2.0}, 'Superman Returns': {'Lisa Rose': 3.5, 'Gene Seymour': 5.0, 'Michael Phillips': 3.5, 'Claudia Puig': 4.0, 'Mick LaSalle': 3.0, 'Jack Matthews': 5.0, 'Toby': 4.0}, 'You, Me and Dupree': {'Lisa Rose': 2.5, 'Gene Seymour': 3.5, 'Claudia Puig': 2.5, 'Mick LaSalle': 2.0, 'Jack Matthews': 3.5, 'Toby': 1.0}, 'The Night Listener': {'Lisa Rose': 3.0, 'Gene Seymour': 3.0, 'Michael Phillips': 4.0, 'Claudia Puig': 4.5, 'Mick LaSalle': 3.0, 'Jack Matthews': 3.0}}\n"
     ]
    }
   ],
   "source": [
    "movies = transformPrefs()\n",
    "print(movies)"
   ]
  },
  {
   "cell_type": "markdown",
   "metadata": {},
   "source": [
    "And find similar items for a particular movie like this:"
   ]
  },
  {
   "cell_type": "code",
   "execution_count": 1748,
   "metadata": {},
   "outputs": [
    {
     "data": {
      "text/plain": "[(0.6579516949597695, 'You, Me and Dupree'),\n (0.4879500364742689, 'Lady in the Water'),\n (0.11180339887498941, 'Snakes on a Plane'),\n (-0.1798471947990544, 'The Night Listener'),\n (-0.42289003161103106, 'Just My Luck')]"
     },
     "execution_count": 1748,
     "metadata": {},
     "output_type": "execute_result"
    }
   ],
   "source": [
    "topMatches('Superman Returns', prefs=movies)"
   ]
  },
  {
   "cell_type": "markdown",
   "metadata": {},
   "source": [
    "Or find people who may like a particular movie:"
   ]
  },
  {
   "cell_type": "code",
   "execution_count": 1749,
   "metadata": {},
   "outputs": [
    {
     "data": {
      "text/plain": "[(4.0, 'Michael Phillips'), (3.0, 'Jack Matthews')]"
     },
     "execution_count": 1749,
     "metadata": {},
     "output_type": "execute_result"
    }
   ],
   "source": [
    "getRecommendations('Just My Luck', prefs=movies)"
   ]
  },
  {
   "cell_type": "markdown",
   "metadata": {},
   "source": [
    "*****************************************************\n",
    "#### Task: why does the example above work?\n",
    "Try to follow exactly what is going on in the last call. Notice that Michael and Jack did not rate 'Just my Luck'. How is their rating for it built up?\n",
    "*****************************************************"
   ]
  },
  {
   "cell_type": "markdown",
   "metadata": {
    "pycharm": {
     "name": "#%% md\n"
    }
   },
   "source": [
    "<b style=\"color: red\">Answer:</b>\n",
    "In the last task, We were recommending movies to people who did not watch them and tried to predict what would be their rating for those movies.\n",
    "But in this task we transformed the dictionary and basically exchanged movies and people. So we are now recommending the audience for a specific movie and predict their ratings for that movie.\n",
    "\n",
    "So the code works because we simply just exchanged people and movies. And lack of movie in dictionary of specific person in last assignment is the same as lack of person in dictionary of movies in this task. And both means that the user did not rate the movie.\n",
    "\n",
    "for example: for micheal and movie called 'Just my Luck' we have following dictionaries:\n",
    "\n",
    "<code>'Michael Phillips': {\n",
    "        'Lady in the Water': 2.5,\n",
    "        'Snakes on a Plane': 3.0,\n",
    "        'Superman Returns': 3.5,\n",
    "        'The Night Listener': 4.0,\n",
    "    }</code>\n",
    "\n",
    "and transformed one is:\n",
    "\n",
    "<code>\"Just My Luck\":{\n",
    "      \"Lisa Rose\":3.0,\n",
    "      \"Gene Seymour\":1.5,\n",
    "      \"Claudia Puig\":3.0,\n",
    "      \"Mick LaSalle\":2.0\n",
    "   }</code>\n",
    "\n",
    "so in first case \"Just My Luck\" movie does not exist in list of movies that Michael watched. In the second case, Michael is not in the list of people that saw movie \"Just My Luck\".\n",
    "\n",
    "So the result of this excersise ([(4.0, 'Michael Phillips'), (3.0, 'Jack Matthews')]) predicts that Michael will rate \"Just My Luck\" with score of 4."
   ]
  },
  {
   "cell_type": "markdown",
   "metadata": {},
   "source": [
    "### **Exercise 4: Sentence Similarity**"
   ]
  },
  {
   "cell_type": "code",
   "execution_count": 1750,
   "metadata": {},
   "outputs": [],
   "source": [
    "# import natural language processing software we need later.\n",
    "import nltk\n",
    "from nltk.stem import WordNetLemmatizer\n"
   ]
  },
  {
   "cell_type": "code",
   "execution_count": 1751,
   "metadata": {},
   "outputs": [
    {
     "name": "stderr",
     "output_type": "stream",
     "text": [
      "[nltk_data] Downloading package wordnet to\n",
      "[nltk_data]     /Users/alirezasoltaninezhad/nltk_data...\n",
      "[nltk_data]   Package wordnet is already up-to-date!\n",
      "[nltk_data] Downloading package punkt to\n",
      "[nltk_data]     /Users/alirezasoltaninezhad/nltk_data...\n",
      "[nltk_data]   Package punkt is already up-to-date!\n"
     ]
    },
    {
     "data": {
      "text/plain": "True"
     },
     "execution_count": 1751,
     "metadata": {},
     "output_type": "execute_result"
    }
   ],
   "source": [
    "# Download wordnet and punkt sentence tokenizer\n",
    "nltk.download('wordnet')\n",
    "nltk.download('punkt')\n"
   ]
  },
  {
   "cell_type": "markdown",
   "metadata": {},
   "source": [
    "Below we have some example sentences to compare later on."
   ]
  },
  {
   "cell_type": "code",
   "execution_count": 1752,
   "metadata": {},
   "outputs": [],
   "source": [
    "movies = [\"I saw a really good movie last night.\",\n",
    "          \"The movie is based on the director's life.\",\n",
    "          \"The movie starts at ten.\",\n",
    "          \"I took her to a movie.\",\n",
    "          \"The movie stars Al Pacino.\",\n",
    "          \"The movie opened last weekend.\",\n",
    "          \"The movie lasted two hours.\",\n",
    "          \"He directed several movies.\",\n",
    "          \"We just shot another movie.\",\n",
    "          \"The movie was set in New York.\"]"
   ]
  },
  {
   "cell_type": "markdown",
   "metadata": {},
   "source": []
  },
  {
   "cell_type": "code",
   "execution_count": 1753,
   "metadata": {},
   "outputs": [],
   "source": [
    "def get_jaccard_sim(str1, str2):\n",
    "    a = set(str1.split())\n",
    "    b = set(str2.split())\n",
    "    c = a.intersection(b)\n",
    "    return float(len(c)) / (len(a) + len(b) - len(c))"
   ]
  },
  {
   "cell_type": "markdown",
   "metadata": {},
   "source": []
  },
  {
   "cell_type": "code",
   "execution_count": 1754,
   "metadata": {},
   "outputs": [],
   "source": [
    "def compare(s1, s2):\n",
    "    #Import a Lemmatizer to get the root form of certain words\n",
    "    lemmatizer = WordNetLemmatizer()\n",
    "\n",
    "    #Tokenize both sentences to get each word separately\n",
    "    word_list1 = nltk.word_tokenize(s1)\n",
    "    word_list2 = nltk.word_tokenize(s2)\n",
    "\n",
    "    #     print(\"Tokenized sentence\", word_list1) #Uncomment to see an example of the tokenized sentence\n",
    "\n",
    "    #Lemmatize both sentences\n",
    "    lemmatized_output1 = ' '.join([lemmatizer.lemmatize(w, 'v') for w in word_list1])\n",
    "    lemmatized_output2 = ' '.join([lemmatizer.lemmatize(w, 'v') for w in word_list2])\n",
    "\n",
    "    return lemmatized_output1, lemmatized_output2"
   ]
  },
  {
   "cell_type": "code",
   "execution_count": 1755,
   "metadata": {
    "scrolled": true
   },
   "outputs": [
    {
     "name": "stdout",
     "output_type": "stream",
     "text": [
      "Sentence 1: I saw a really good movie last night . \n",
      " Sentence 2: I saw a really good movie last night . \n",
      " Similarity Score: 1.0\n",
      "Sentence 1: I saw a really good movie last night . \n",
      " Sentence 2: The movie be base on the director 's life . \n",
      " Similarity Score: 0.11764705882352941\n",
      "Sentence 1: I saw a really good movie last night . \n",
      " Sentence 2: The movie start at ten . \n",
      " Similarity Score: 0.15384615384615385\n",
      "Sentence 1: I saw a really good movie last night . \n",
      " Sentence 2: I take her to a movie . \n",
      " Similarity Score: 0.3333333333333333\n",
      "Sentence 1: I saw a really good movie last night . \n",
      " Sentence 2: The movie star Al Pacino . \n",
      " Similarity Score: 0.15384615384615385\n",
      "Sentence 1: I saw a really good movie last night . \n",
      " Sentence 2: The movie open last weekend . \n",
      " Similarity Score: 0.25\n",
      "Sentence 1: I saw a really good movie last night . \n",
      " Sentence 2: The movie last two hours . \n",
      " Similarity Score: 0.25\n",
      "Sentence 1: I saw a really good movie last night . \n",
      " Sentence 2: He direct several movies . \n",
      " Similarity Score: 0.07692307692307693\n",
      "Sentence 1: I saw a really good movie last night . \n",
      " Sentence 2: We just shoot another movie . \n",
      " Similarity Score: 0.15384615384615385\n",
      "Sentence 1: I saw a really good movie last night . \n",
      " Sentence 2: The movie be set in New York . \n",
      " Similarity Score: 0.13333333333333333\n"
     ]
    }
   ],
   "source": [
    "from nltk.stem import WordNetLemmatizer\n",
    "\n",
    "for x in range(len(movies)):\n",
    "    l1, l2 = compare(movies[0], movies[x])\n",
    "    print(\"Sentence 1:\", l1, '\\n', \"Sentence 2:\", l2, '\\n', \"Similarity Score:\", get_jaccard_sim(l1, l2))"
   ]
  },
  {
   "cell_type": "markdown",
   "metadata": {},
   "source": [
    "*****************************************************\n",
    "#### Task: In what scenario's could the Jaccard Similarity be more useful than the Euclidean distance and the Pearson Similarity metrics? Why is that? \n",
    "*****************************************************"
   ]
  },
  {
   "cell_type": "markdown",
   "metadata": {
    "pycharm": {
     "name": "#%% md\n"
    }
   },
   "source": [
    "<b style=\"color: red\">Answer:</b>\n",
    "The Jaccard similarity function compares two binary vectors (sets). Jaccard similarity is a widely used metric for determining text similarity. Calculating the Jaccard similarity is more computationally expensive because it compares all of the terms in one document to others. The Jaccard similarity proves useful in detecting duplicates. Euclidean distance is less commonly used in natural language processing  (NLP)  than Jaccard similarity. It is appropriate for continuous numerical variables. Because the Euclidean distance is not scale invariant, the data should be scaled before computing the distance. The redundant information impact in the dataset is also multiplied by Euclidean distance. We would weigh the redundancy effect n times if I had n highly correlated variables and used all variables as input. WordNetLemmatizer is used to normalize speech parts in sentences, reducing the effects of redundant vocabulary. For example, be can be used instead of am/is/are to find more relevant sentences. The distance between two data vectors that have no attribute values in common may be smaller than the distance between another pair of data vectors that have the same attribute values. Although WordNetLemmatizer reduce precision, it increases recall."
   ]
  },
  {
   "cell_type": "markdown",
   "metadata": {},
   "source": [
    "### **Exercise 5: Building a Reddit Recommender**\n",
    "\n",
    "After having created your Reddit account, go to User Settings -> Safety & Privacy -> Manage third-party app authorization.\n",
    "Here, you will create your own app. Give it a name, and add \"https://www.reddit.com/prefs/apps/\" to the redirect uri. Keep the other settings as they are.\n",
    "\n",
    "* replace the '???' in the user_agent string with your name (or any unique string).\n",
    "* replace the '???' in the client_id with the id right underneath your web app name.\n",
    "* replace the '???' in the client_secret with the key next to 'secret'.\n",
    "\n",
    "NOTE: install praw v. 3.5 \n"
   ]
  },
  {
   "cell_type": "code",
   "execution_count": 1756,
   "metadata": {},
   "outputs": [],
   "source": [
    "# -*- coding: utf-8 -*-\n",
    "\n",
    "import praw\n",
    "import time\n",
    "\n",
    "#Delete keys before handing in the notebook\n",
    "r = praw.Reddit(user_agent='behnam', client_id='FUF106C4ntH8mTYHzyA17Q',\n",
    "                client_secret='s0Bcm8lVyKA8nkHsm45bfVV_LEiv6Q',\n",
    "                redirect_url='https://www.reddit.com/prefs/apps/'\n",
    "                             'authorize_callback')\n",
    "\n",
    "\n",
    "def initializeUserDict(subreddit, count=10):\n",
    "    user_dict = {}\n",
    "    # get the top count' popular posts\n",
    "    for post in r.subreddit(subreddit).top(limit=count):\n",
    "        # find all users who commented in this\n",
    "        flat_comments = post.comments.list()\n",
    "        for comment in flat_comments:\n",
    "            try:\n",
    "                user = comment.author.name\n",
    "                user_dict[user] = {}\n",
    "            except AttributeError:\n",
    "                pass\n",
    "    return user_dict\n",
    "\n",
    "\n",
    "def fillItems(user_dict, count=100):\n",
    "    all_items = {}\n",
    "    # Find links posted by all users\n",
    "    for user in user_dict:\n",
    "        # print(\"finding subreddits where user \" + user + \"has commented\")\n",
    "        # find new comments for given user\n",
    "        comments = r.redditor(user).comments.new(limit=count)\n",
    "        for c in comments:\n",
    "            # Get the subreddit where the comment was made\n",
    "            subreddit = c.subreddit\n",
    "            sub_name = subreddit.display_name\n",
    "            # print(sub_name)\n",
    "            if sub_name in user_dict[user]:\n",
    "                user_dict[user][sub_name] += 1.0\n",
    "            else:\n",
    "                user_dict[user][sub_name] = 1.0\n",
    "\n",
    "            all_items[sub_name] = 1\n",
    "    #     Fill in missing items with 0\n",
    "    #     for subr_counts in user_dict.values():\n",
    "    #         for item in all_items:\n",
    "    #             if item not in subr_counts:\n",
    "    #                 subr_counts[item]=0.0\n",
    "\n",
    "    return user_dict\n"
   ]
  },
  {
   "cell_type": "markdown",
   "metadata": {},
   "source": [
    "You can get a list of popular recent posts about programming from the programming subreddit (https://www.reddit.com/r/VUAmsterdam) by invoking the code below.  Don't forget to replace the '???' in the user_agent string with your name (or any unique string)."
   ]
  },
  {
   "cell_type": "code",
   "execution_count": 1757,
   "metadata": {
    "scrolled": true
   },
   "outputs": [
    {
     "name": "stdout",
     "output_type": "stream",
     "text": [
      "praw version == 7.5.0\n",
      "\n",
      " * There’s a reason that programmers always want to throw away old code and start over: they think the old code is a mess. They are probably wrong. The reason that they think the old code is a mess is because of a cardinal, fundamental law of programming: It’s harder to read code than to write it.\n",
      "\n",
      " * YouTube page load is 5x slower in Firefox and Edge than in Chrome because YouTube's Polymer redesign relies on the deprecated Shadow DOM v0 API only implemented in Chrome.\n",
      "\n",
      " * How I Got Paid $0 From the Uber Security Bug Bounty\n",
      "\n",
      " * Google wins trial against Oracle as jury finds Android is “fair use”\n",
      "\n",
      " * TIL there's a community called \"dwitter\" where people compose 140 character JavaScript programs that produce interesting visuals\n",
      "\n",
      " * Eye tracking software for sufferers of ALS/MND can cost tens of thousands of dollars, so I've spent 3.5 years of my spare time writing a free & open-source alternative - meet OptiKey (C#, Rx, WPF) (x-post from r/Software)\n",
      "\n",
      " * Cool website that explains algorithms as if they are IKEA instruction manuals\n",
      "\n",
      " * How I cut GTA Online loading times by 70%\n",
      "\n",
      " * Linus Torvalds: I think somebody inside of Intel needs to really take a long hard look at their CPU's, and actually admit that they have issues instead of writing PR blurbs that say that everything works as designed.\n",
      "\n",
      " * Inventor says Google is patenting work he put in the public domain\n",
      "\n",
      " * GitHub now gives free users unlimited private repositories\n",
      "\n",
      " * Reddit's main code is no longer open-source.\n",
      "\n",
      " * How We Built r/Place\n",
      "\n",
      " * 18yo arrested for reporting a bug in the new Budapest e-Ticket system\n",
      "\n",
      " * Severe flaw in WPA2 protocol leaves Wi-Fi traffic open to eavesdropping\n"
     ]
    }
   ],
   "source": [
    "print(\"praw version == \" + praw.__version__)\n",
    "\n",
    "# subreddit = r.subreddit(\"programming\")\n",
    "for post in r.subreddit('programming').top(limit=15):\n",
    "    print(end='\\n * ')\n",
    "    print(post.title)"
   ]
  },
  {
   "cell_type": "markdown",
   "metadata": {},
   "source": [
    "See here a list of other subreddits you can explore with this code: https://www.reddit.com/reddits/\n",
    "\n",
    "To automatically create a data set of reddit users similar to the movie watchers you can invoke the initializeUserDict function in redditrec.py "
   ]
  },
  {
   "cell_type": "code",
   "execution_count": 1758,
   "metadata": {},
   "outputs": [
    {
     "name": "stdout",
     "output_type": "stream",
     "text": [
      "{'Curlyzza': {}, 'theshavedyeti': {}, 'xekatinaz': {}, 'Leprol': {}, 'rubot78': {}, 'airbornemint': {}, 'Sagittarius712': {}, 'hellothere96_2': {}, 'ImperialDiet': {}, 'HappySebs': {}, 'DamnYouRichardParker': {}, 'lexi2706': {}, 'anonymoususer762': {}, 'Waaarrrggghhh': {}, 'LISK2AC': {}, 'divingforducks': {}, 'Meshuggah1166': {}, 'sovietanada': {}, 'reverse_mango': {}, 'harolddawizard': {}, 'Matt14451': {}, 'SirHurDurr': {}, 'scoffburn': {}, '1Killag123': {}, 'bombarclart': {}, 'EFDcoach': {}, 'dizzyhazza': {}, 'BiteMeMaybe': {}, 'ultralillers': {}, 'rheetkd': {}, 'qarxyna': {}, 'Filsafat': {}, 'RSCyka': {}, 'BadDadBot': {}, 'thelifesponge': {}, 'sweetcandyfloss': {}, 'dr_LauraM': {}, 'juanjuansilvasilva': {}, '_Grotesque_': {}, 'serennow': {}, 'worldofbooks444': {}, 'laken_alexandra': {}, 'lordofthepages': {}, 'Oblivious_Chicken': {}, 'auzierrichard': {}, 'aanamt': {}, 'sir_ramen': {}, 'SighFTL': {}, 'nadamama': {}, 'triplezeroAR': {}, 'crimpmaveric': {}, 'Illustrious-Brother': {}, 'Siraps': {}, 'agree-with-you': {}, 'OatmealNomeal': {}, 'BlueChequeredShirt': {}, 'Mental-Fly-8008': {}, 'Isyadoi': {}, 'SamSpayedPI': {}, 'PeteyBoPetey': {}, 'BlabliGam': {}, 'Dark_Lord_Mr_B': {}, 'WhiteTrashTiger': {}, 'lagerttha': {}, 'wooperdo': {}, 'inspire1672': {}, 'OfAThievishDemeanor': {}, 'SciencebitchGB': {}, 'Sh1neS0Br1ght': {}, 'g_netic': {}, 'ajstormy': {}, 'HauntingArmadillo519': {}, 'MiseraCale': {}, 'secretfreakout': {}, 'SuperResponse6': {}, 'Sally143': {}, 'PyroKeith': {}, 'EssayWritersHub': {}, 'True_Mountain5949': {}, 'MarinaHexyl': {}, 'terralacia': {}, 'Samurai_Rachaek': {}, 'Somewhere_E': {}, 'ificouldtellher': {}, 'das_Keks': {}, 'tezziepop': {}, 'feuthermist': {}, 'notclever2': {}, 'xlez': {}, 'BDAKsss': {}, 'ObjectiveMeal': {}, 'younglemon4': {}, 'mxcle': {}, 'ZeroKurow': {}, 'meeseri': {}, 'ben12336': {}, 'ylata': {}, 'Plus-Owl4151': {}, 'aybrunette': {}, 'Brand0n_C': {}, 'poursomesugaronu2': {}, 'LeSUTHU': {}, 'itsmels2019': {}, 'cuckinfasual': {}, 'fresh-cucumbers': {}, 'MisteryMyster': {}, 'LordZeman': {}, 'madeo216': {}, 'AlbertusM': {}, 'Socasx7': {}, 'TeMeHope': {}, 'leithariuz': {}, 'RandomDanishKvinde': {}, 'Poetic_Terrorism': {}, 'Bluejay_Single': {}, 'toomuchoverthinking1': {}, 'B0-Katan': {}, 'TheToxicTeddy': {}, 'Curious_Tie_9397': {}, 'U_Know_The_Name_G': {}, 'blackrainbows76': {}, 'her__line': {}, 'SomeAvocado': {}, 'Jex-92': {}, 'hooksarchives9303': {}, 'bryxny': {}, 'dancingfeet999': {}, 'm_iawia': {}, 'Aadeshwar': {}, 'BamaSOH': {}, 'VoronSock': {}, 'bossycloud': {}, 'imdad_bot': {}, 'Should_Be': {}, 'potatchips22': {}, 'Birrabenzina': {}, 'MartAres': {}, 'thatslifeisuppose': {}, 'bigfatrat2': {}, 'siol981': {}, 'hey_hey_helloo': {}, 'courtnieee2': {}, 'tacospambitch': {}, 'fancy-feasti': {}, 'Melos_Paladin': {}, 'bumblebee222212': {}, 'comatose_papaya': {}, 'No_Cauliflower8579': {}, 'mattttttttt97': {}, 'alwaysxsleeping': {}, 'thetiniestsquirrel': {}, 'dadbot_3000': {}, 'acp174': {}, 'thatsok00': {}, 'Alexa302': {}, 'CY-1111': {}, 'Nardman1': {}, 'SecretBackground': {}, 'WowSuchName21': {}, 'forever_flying': {}, 'Robert_H_': {}, 'prinkipissakratos': {}, 'WhiskyandSour': {}, 'tyerapist': {}, 'Senorjordan': {}, 'Ghx57': {}, 'amguiltyguiltyguilty': {}, 'HardcoreBandit': {}, 'vali241': {}, 'NikitaRetro80': {}, 'bgroovyb': {}, 'pnweiner': {}, 'Yolodunni': {}, 'BobIsBusy': {}, 'princessharu06': {}, 'Kocia-ska': {}, 'ExcidiaWolf': {}, 'fragilehumanity': {}, 'fwipfwop': {}, 'caz1426': {}, 'Joe_PTN': {}, 'iconic_ironic_trash': {}, 'simplysez': {}, 'Hopeful-Mortgage2408': {}, 'Nice-Woodpecker-9197': {}, '_deathrattle': {}, 'dirty_soup': {}, 'justanotherworm': {}, 'paige_8': {}, 'jason_connor': {}, 'houseplantfortheroad': {}, 'sarayab1': {}, 'otuob1': {}, 'SnooWords2089': {}, 'amelie94210': {}, 'poofandfloof': {}, 'Scarz541': {}, 'vampirescarlett': {}, 'Torpid_Onism': {}, 'musiknits': {}, 'Danie99': {}, 'samcaval': {}, 'ArchAngel515': {}, 'jayatcsus': {}, 'dry_bucko': {}, 'Griffie': {}, 'Open_Influence': {}, 'Akvned': {}, 'ClarinetMaster117': {}, 'Lapinfort': {}, 'zola129': {}, 'LooksAtClouds': {}, 'thienthanhtran97': {}, 'Author_Mission': {}, 'RevolutionaryChef319': {}, 'Cat-dude-': {}, 'Ok_Employ_4459': {}}\n"
     ]
    }
   ],
   "source": [
    "red_users = initializeUserDict('university', count=50)  # or for any other subreddit\n",
    "print(red_users)"
   ]
  },
  {
   "cell_type": "markdown",
   "metadata": {},
   "source": [
    "Now initializeUserDict has only created the user keys. We of course also want to know what subreddits they posted comments on. You can pull those in through:"
   ]
  },
  {
   "cell_type": "code",
   "execution_count": 1759,
   "metadata": {},
   "outputs": [
    {
     "data": {
      "text/plain": "{'Curlyzza': {'thenetherlands': 1.0, 'University': 3.0},\n 'theshavedyeti': {'CellToSingularity': 1.0,\n  'Showerthoughts': 1.0,\n  'AbruptChaos': 1.0,\n  'nextfuckinglevel': 1.0,\n  'TIHI': 2.0,\n  'mildlyinteresting': 1.0,\n  'Wellthatsucks': 2.0,\n  'technicallythetruth': 2.0,\n  'ConvenientCop': 2.0,\n  'IdiotsInCars': 2.0},\n 'xekatinaz': {'MovieSuggestions': 2.0,\n  'cinematography': 1.0,\n  'TrueFilm': 5.0,\n  'AskProfessors': 2.0,\n  'scifi': 2.0,\n  'assholedesign': 1.0,\n  'minimalism': 2.0},\n 'Leprol': {'cwru': 1.0,\n  'University': 1.0,\n  'ApplyingToCollege': 2.0,\n  'college': 1.0},\n 'rubot78': {'funny': 2.0,\n  'blessedimages': 1.0,\n  'pics': 1.0,\n  'Damnthatsinteresting': 1.0,\n  'TheDepthsBelow': 1.0,\n  'nextfuckinglevel': 2.0,\n  'ScarlettJohansson': 1.0,\n  'BeAmazed': 1.0,\n  'WTF': 2.0,\n  'interestingasfuck': 2.0,\n  'aww': 1.0},\n 'airbornemint': {'biology': 8.0,\n  'prephysicianassistant': 6.0,\n  'NewToEMS': 1.0},\n 'Sagittarius712': {'africanparents': 1.0,\n  'MechanicalEngineering': 1.0,\n  'banned': 5.0,\n  'PersonalFinanceCanada': 6.0,\n  'blackladies': 2.0},\n 'hellothere96_2': {'RoyaleHigh_Roblox': 8.0,\n  'MakeNewFriendsHere': 3.0,\n  'stationery': 1.0,\n  'Needafriend': 1.0,\n  'Bloxburg': 1.0,\n  'socialanxiety': 1.0},\n 'ImperialDiet': {'kaiserredux': 1.0,\n  'hoi4modding': 5.0,\n  'KRGmod': 1.0,\n  'RedLetterMedia': 1.0,\n  'BTWHmod': 1.0,\n  'rightistvexillology': 1.0,\n  'TheLostEmperor': 1.0,\n  'Nordichistorymemes': 1.0,\n  'NewWaysMod': 1.0,\n  'nextwemoveforward': 1.0,\n  'TheRedOrder': 1.0},\n 'HappySebs': {'AskReddit': 9.0,\n  'Students': 1.0,\n  'University': 2.0,\n  'study': 3.0},\n 'DamnYouRichardParker': {'PeopleFuckingDying': 1.0,\n  'IfIFitsISits': 1.0,\n  'dankmemes': 2.0,\n  'barelegs': 1.0,\n  'AbruptChaos': 1.0,\n  'prettyaltgirls': 1.0,\n  'beholdthemasterrace': 3.0,\n  'AskReddit': 1.0,\n  'ToiletPaperUSA': 2.0,\n  'Instagramreality': 1.0,\n  'dataisugly': 1.0},\n 'lexi2706': {'neutralnews': 1.0,\n  'WTF': 1.0,\n  'mixedrace': 2.0,\n  'askscience': 1.0,\n  'technews': 1.0,\n  'nba': 2.0,\n  'Bitcoin': 1.0,\n  'LosAngeles': 1.0,\n  'antiwork': 1.0,\n  'AskAnAmerican': 1.0,\n  'moderatepolitics': 1.0,\n  'StockMarket': 2.0},\n 'anonymoususer762': {'college': 3.0,\n  'ufc': 1.0,\n  'EngineeringStudents': 3.0,\n  'buffalobills': 1.0,\n  'Cornell': 2.0,\n  'WatchPeopleDieInside': 1.0,\n  'ApplyingToCollege': 1.0,\n  'chanceme': 3.0},\n 'Waaarrrggghhh': {'worldnews': 2.0,\n  'gaming': 1.0,\n  'AskReddit': 4.0,\n  'europe': 4.0,\n  'Wales': 2.0,\n  'MotoUK': 2.0},\n 'LISK2AC': {'RoastMe': 14.0, 'FanTheories': 1.0},\n 'divingforducks': {'dankmemes': 1.0,\n  'jordan': 1.0,\n  'HolUp': 1.0,\n  'arabs': 3.0,\n  'Palestine': 4.0,\n  'ToyotaTacoma': 1.0,\n  'GenZedong': 1.0,\n  '2Arabicforyou': 2.0,\n  'EngineeringStudents': 1.0},\n 'Meshuggah1166': {'COMPLETEANARCHY': 2.0,\n  'cringepics': 1.0,\n  'PokemonGoFriends': 1.0,\n  'TOTALCOMMUNALISM': 1.0,\n  'antifastonetoss': 4.0,\n  'starwarsmemes': 1.0,\n  'SelfAwarewolves': 1.0,\n  'shittyrainbow6': 3.0,\n  'The_Leftorium': 1.0},\n 'sovietanada': {'relationship_advice': 2.0,\n  'University': 4.0,\n  'learndutch': 2.0,\n  'Damnthatsinteresting': 2.0,\n  'Anatomy': 1.0,\n  'MB2Bannerlord': 1.0,\n  'Scams': 3.0},\n 'reverse_mango': {'MadeMeSmile': 2.0,\n  'etymology': 1.0,\n  'fakedisordercringe': 2.0,\n  'lotr': 1.0,\n  'NameThatSong': 1.0,\n  'whatsthatsong': 1.0,\n  'GreekMythology': 2.0,\n  'interestingasfuck': 1.0,\n  'AskUK': 2.0,\n  'confidentlyincorrect': 1.0,\n  'MurderedByWords': 1.0},\n 'harolddawizard': {'FL_Studio': 3.0,\n  'Drumkits': 1.0,\n  'memes': 2.0,\n  'starterpacks': 1.0,\n  'college': 1.0,\n  'AskReddit': 2.0,\n  'oddlysatisfying': 1.0,\n  'MadeMeSmile': 1.0,\n  'HellsItch': 1.0,\n  'WatchPeopleDieInside': 1.0,\n  'SnapchatHelp': 1.0},\n 'Matt14451': {'PlayAvengers': 5.0,\n  'DisneyPlus': 1.0,\n  'PS4': 1.0,\n  '911FOX': 2.0,\n  'StargirlTV': 1.0,\n  'technicallythetruth': 2.0,\n  'FallGuys': 1.0,\n  'panelshow': 1.0,\n  'roosterteeth': 1.0},\n 'SirHurDurr': {'mtg': 1.0,\n  'BudgetBrews': 3.0,\n  'wholesomememes': 1.0,\n  'magicTCG': 3.0,\n  'EDH': 4.0,\n  'mtgrules': 1.0,\n  'PrequelMemes': 1.0,\n  'magicthecirclejerking': 1.0},\n 'scoffburn': {'perl': 1.0,\n  'AskAnAustralian': 4.0,\n  'QAnonCasualties': 3.0,\n  'tasmania': 1.0,\n  'talesfromtechsupport': 1.0,\n  'gstrings': 3.0,\n  'HermanCainAward': 1.0,\n  'antiMLM': 1.0},\n '1Killag123': {'Tools': 1.0,\n  'food': 6.0,\n  'Iamactuallyverybadass': 1.0,\n  'memes': 1.0,\n  'FoodPorn': 3.0,\n  'politics': 2.0,\n  'oddlysatisfying': 1.0},\n 'bombarclart': {'malamute': 1.0,\n  'WoT': 8.0,\n  'ImaginaryWarhammer': 1.0,\n  'im14andthisisdeep': 1.0,\n  'wholesomememes': 1.0,\n  'wheeloftime': 1.0,\n  'antifeminists': 1.0,\n  'WoTshow': 1.0},\n 'EFDcoach': {'wlu': 3.0,\n  'AskParents': 1.0,\n  'school': 1.0,\n  'LifeAfterSchool': 1.0,\n  'raisingkids': 1.0,\n  'college': 1.0,\n  'OntarioUniversities': 2.0,\n  'University': 2.0,\n  'internetparents': 1.0,\n  'Advice': 2.0},\n 'dizzyhazza': {'PokemonGoFriends': 9.0,\n  'Sims4': 1.0,\n  'BingeEatingDisorder': 5.0},\n 'BiteMeMaybe': {'whatisthisthing': 1.0,\n  'TooAfraidToAsk': 4.0,\n  'velvethippos': 3.0,\n  'religion': 1.0,\n  'uCinci': 5.0,\n  'funny': 1.0},\n 'ultralillers': {'ChoosingBeggars': 3.0,\n  'weed': 2.0,\n  'notliketheothergirls': 1.0,\n  'antinatalism': 1.0,\n  'videos': 1.0,\n  'dankmemes': 4.0,\n  'NotHowGirlsWork': 3.0},\n 'rheetkd': {'geology': 1.0,\n  'ChronicIllness': 4.0,\n  'AskDocs': 1.0,\n  'Aquariums': 1.0,\n  'auckland': 2.0,\n  'DowntonAbbey': 1.0,\n  'GilmoreGirls': 1.0,\n  'AskReddit': 1.0,\n  'IndoorGarden': 1.0,\n  'DogAdvice': 2.0},\n 'qarxyna': {'University': 1.0,\n  'GetStudying': 1.0,\n  'insomnia': 1.0,\n  'Needafriend': 3.0},\n 'Filsafat': {'depression': 1.0,\n  'Damnthatsinteresting': 1.0,\n  'AmItheAsshole': 1.0,\n  'wollongong': 1.0,\n  'PlusSize': 1.0,\n  'bipolar': 4.0,\n  'AskReddit': 1.0,\n  'UOW': 1.0,\n  'University': 4.0},\n 'RSCyka': {'apple': 1.0,\n  'canadahousing': 1.0,\n  'gadgets': 1.0,\n  'AskReddit': 2.0,\n  'economy': 1.0,\n  'RealEstate': 1.0,\n  'Entrepreneur': 1.0,\n  'WorkOnline': 1.0,\n  'airpods': 6.0},\n 'BadDadBot': {'Damnthatsinteresting': 1.0,\n  'horror': 1.0,\n  'Northgard': 1.0,\n  'freelytalkaboutjimmy': 1.0,\n  'SingaporeRaw': 1.0,\n  'PLASTT': 1.0,\n  'FreeKarma4U': 1.0,\n  'saltierthankrait': 1.0,\n  'onebag': 1.0,\n  'nbatopshot': 1.0,\n  'Faces': 1.0,\n  'SHIBArmy': 1.0,\n  'Anxietyhelp': 1.0,\n  'weed': 1.0,\n  'ManifestNBC': 1.0},\n 'thelifesponge': {'books': 1.0,\n  'tattoos': 1.0,\n  'natureismetal': 1.0,\n  'interestingasfuck': 1.0,\n  'AreTheStraightsOK': 1.0,\n  'squishmallow': 5.0,\n  'self': 2.0,\n  'AskReddit': 2.0,\n  'teenagers': 1.0},\n 'sweetcandyfloss': {'Animesuggest': 1.0,\n  'University': 1.0,\n  'Jokes': 2.0,\n  'funny': 1.0,\n  'AskReddit': 1.0,\n  'YouShouldKnow': 1.0},\n 'dr_LauraM': {'manchester': 1.0,\n  'Showerthoughts': 1.0,\n  'AskAcademia': 3.0,\n  'york': 3.0,\n  'LARP': 1.0,\n  'boardgames': 1.0,\n  'University': 1.0,\n  'HistoricalCostuming': 2.0,\n  'AskProfessors': 2.0},\n 'juanjuansilvasilva': {'oddlysatisfying': 1.0, 'AskReddit': 13.0, 'es': 1.0},\n '_Grotesque_': {'ask': 6.0,\n  'sad': 1.0,\n  'berlin': 4.0,\n  'worldnews': 1.0,\n  'germany': 3.0},\n 'serennow': {'CryptoCurrency': 3.0,\n  'NUFC': 7.0,\n  'AskUK': 1.0,\n  'academia': 2.0,\n  'unitedkingdom': 2.0},\n 'worldofbooks444': {'AskReddit': 4.0,\n  'fantasywriters': 1.0,\n  'booksuggestions': 1.0,\n  'Fantasy': 1.0,\n  'MovieSuggestions': 5.0,\n  'scifi': 1.0,\n  'books': 2.0},\n 'laken_alexandra': {'NameNerdCirclejerk': 7.0,\n  'PokemonSwordAndShield': 1.0,\n  'torties': 2.0,\n  'AskReddit': 1.0,\n  'tonsilstones': 2.0,\n  'Hedgehog': 1.0,\n  'namenerds': 1.0},\n 'lordofthepages': {'AnimalCrossingNewHor': 5.0,\n  'acnh': 1.0,\n  'BuddyCrossing': 2.0,\n  'NoFeeAC': 1.0,\n  'AnimalCrossing': 1.0,\n  'dune': 2.0,\n  'kpophelp': 1.0,\n  'ChoosingBeggars': 1.0,\n  'asexuality': 1.0},\n 'Oblivious_Chicken': {'euphoria': 1.0,\n  'wheeloftime': 2.0,\n  'TheMorningShow': 2.0,\n  'MotherlandFortSalem': 6.0,\n  'TheNevers': 2.0,\n  'tipofmytongue': 2.0},\n 'auzierrichard': {'brasil': 15.0},\n 'aanamt': {'DoesAnybodyElse': 2.0,\n  'mechmarket': 1.0,\n  'UofT': 6.0,\n  'University': 5.0,\n  'personalfinance': 1.0},\n 'sir_ramen': {'DeepRockGalactic': 3.0,\n  'TrueOffMyChest': 1.0,\n  'Edmonton': 4.0,\n  'vancouver': 1.0,\n  'arcane': 1.0,\n  'FalloutMods': 1.0,\n  'mildlyinteresting': 1.0,\n  'goodanimemes': 2.0,\n  'cats': 1.0},\n 'SighFTL': {'University': 1.0, 'OldSchoolCool': 3.0},\n 'nadamama': {'Finanzen': 1.0, 'University': 1.0, 'KillingStalking': 1.0},\n 'triplezeroAR': {'University': 1.0},\n 'crimpmaveric': {'AmItheAsshole': 1.0,\n  'newzealand': 1.0,\n  'Wellington': 7.0,\n  'UnsentLetters': 2.0,\n  'adultery': 1.0,\n  'University': 1.0,\n  'AskReddit': 1.0,\n  'unpopularopinion': 1.0},\n 'Illustrious-Brother': {'Genshin_Impact': 5.0,\n  'ChurchOfMineta': 1.0,\n  'CookieRunKingdoms': 2.0,\n  'FanFiction': 3.0,\n  'Genshin_Lore': 1.0,\n  'AO3': 1.0,\n  'houkai3rd': 1.0,\n  'childemains': 1.0},\n 'Siraps': {'Invincible': 1.0,\n  'ProgrammerHumor': 1.0,\n  'GradSchool': 2.0,\n  'ShitAmericansSay': 1.0,\n  'math': 3.0,\n  'ShitEuropeansSay': 1.0,\n  'europe': 1.0,\n  'menwritingwomen': 1.0,\n  'University': 1.0,\n  'harrypotter': 1.0,\n  'seinfeld': 2.0},\n 'agree-with-you': {'DrawForMe': 1.0,\n  'Fishing': 1.0,\n  'dancegavindance': 1.0,\n  'beef_flaps': 1.0,\n  'TwoXADHD': 1.0,\n  'rustylake': 1.0,\n  'HairyArmpits': 1.0,\n  'UcheMba': 1.0,\n  'TgirlHUB': 1.0,\n  'assinthong': 1.0,\n  'PokeMoonSun': 1.0,\n  'Trading': 1.0,\n  'rangersfc': 1.0,\n  'mycleavage': 1.0,\n  'u_WildGoddessTeffy': 1.0},\n 'OatmealNomeal': {'PenmanshipPorn': 3.0,\n  'BeAmazed': 1.0,\n  'FragReddit': 1.0,\n  'nextfuckinglevel': 1.0,\n  'frankfurt': 2.0,\n  'FoodPorn': 1.0,\n  'aww': 1.0,\n  'Calligraphy': 2.0,\n  'Baking': 1.0,\n  'DessertPorn': 1.0,\n  'AskReddit': 1.0},\n 'BlueChequeredShirt': {'PhD': 1.0,\n  'houseplants': 2.0,\n  'worldnews': 1.0,\n  'cactus': 1.0,\n  'propagation': 2.0,\n  'Kalanchoe': 2.0,\n  'scihub': 2.0,\n  'IndoorGarden': 2.0,\n  'progressive_islam': 1.0,\n  'plantclinic': 1.0},\n 'Mental-Fly-8008': {'NoFap': 4.0,\n  'dating_advice': 2.0,\n  'CoronavirusDownunder': 1.0,\n  'facepalm': 1.0,\n  'blackmagicfuckery': 1.0,\n  'dating': 1.0,\n  'HistoryMemes': 1.0,\n  'australia': 1.0,\n  'Showerthoughts': 1.0,\n  'civilengineering': 1.0,\n  'Tinder': 1.0},\n 'Isyadoi': {'AskUK': 1.0,\n  'football': 3.0,\n  'queen': 1.0,\n  'fut': 3.0,\n  'DunderMifflin': 2.0,\n  'Guitar': 1.0,\n  'footballmanagergames': 3.0,\n  'TheOldZealand': 1.0},\n 'SamSpayedPI': {'University': 3.0, 'AmItheAsshole': 12.0},\n 'PeteyBoPetey': {'jetski': 2.0,\n  'University': 4.0,\n  'AusFinance': 6.0,\n  'unRAID': 3.0},\n 'BlabliGam': {'macgaming': 1.0,\n  'Tinder': 1.0,\n  'ObsidianMD': 1.0,\n  'askspain': 1.0,\n  'University': 4.0,\n  'Notion': 3.0,\n  'ITCareerQuestions': 1.0,\n  'AppleWatch': 1.0,\n  'googlehome': 1.0,\n  'lifehacks': 1.0},\n 'Dark_Lord_Mr_B': {'auckland': 4.0,\n  'cat': 1.0,\n  'Teachers': 2.0,\n  'Bass': 1.0,\n  'Tyr': 1.0,\n  'autism': 1.0,\n  'X4Foundations': 2.0,\n  'ARK': 1.0,\n  'Bossfight': 1.0,\n  'BassGuitar': 1.0},\n 'WhiteTrashTiger': {'books': 1.0,\n  'NoFap': 2.0,\n  'itookapicture': 2.0,\n  'personalfinance': 1.0,\n  'CryptoCurrency': 1.0,\n  'castiron': 1.0,\n  'TheDepthsBelow': 1.0,\n  'VaporwaveAesthetics': 1.0,\n  'Cooking': 1.0,\n  'ADHD': 1.0,\n  'whatsthisplant': 1.0,\n  'preppers': 1.0,\n  'CasualConversation': 1.0},\n 'lagerttha': {'dating_advice': 4.0,\n  'Tinder': 4.0,\n  'starterpacks': 1.0,\n  'relationship_advice': 2.0,\n  'technicallythetruth': 1.0,\n  'TattooRemoval': 1.0,\n  'LDR': 1.0,\n  'relationships_advice': 1.0},\n 'wooperdo': {'WeirdEggs': 1.0,\n  'shittyfoodporn': 1.0,\n  'teenagers': 10.0,\n  '6thForm': 3.0},\n 'inspire1672': {'GetStudying': 1.0,\n  'University': 1.0,\n  'romani': 6.0,\n  'socialskills': 1.0,\n  'unpopularopinion': 6.0},\n 'OfAThievishDemeanor': {'Advice': 3.0,\n  'CasualConversation': 1.0,\n  'Random_Acts_of_Etsy': 1.0,\n  'tumblr': 1.0,\n  'ainbow': 3.0,\n  'gifs': 1.0,\n  'mbti': 1.0,\n  'mendrawingwomen': 1.0,\n  'ENFP': 2.0,\n  'cursedcomments': 1.0},\n 'SciencebitchGB': {'miniminter': 1.0, 'University': 2.0},\n 'Sh1neS0Br1ght': {'YUROP': 2.0,\n  'IASIP': 1.0,\n  'FostTalicska': 1.0,\n  'PKA': 1.0,\n  'PoliticalCompassMemes': 1.0,\n  'Anarcho_Capitalism': 1.0,\n  'gaming': 1.0,\n  'teenagers': 2.0,\n  'thanosdidnothingwrong': 1.0,\n  'dogelore': 1.0,\n  'GymMemes': 1.0,\n  'budapest': 1.0,\n  'hungary': 1.0},\n 'g_netic': {'darksouls3': 4.0,\n  'news': 1.0,\n  'SkincareAddiction': 2.0,\n  'Eldenring': 1.0,\n  'HaircareScience': 2.0,\n  'University': 1.0,\n  'brandnew': 1.0,\n  'Amphibians': 3.0},\n 'ajstormy': {'Biochemistry': 1.0,\n  'amiibo': 2.0,\n  'University': 11.0,\n  'labrats': 1.0},\n 'HauntingArmadillo519': {'Professors': 1.0,\n  'UniUK': 2.0,\n  'askTO': 1.0,\n  'paralegal': 1.0,\n  'legaladvice': 1.0,\n  'LawCanada': 2.0,\n  'instacart': 1.0,\n  'luckypatcher': 1.0,\n  'college': 1.0,\n  'textbookrequest': 1.0,\n  'britishproblems': 1.0,\n  'Humber': 1.0,\n  'slavelabour': 1.0},\n 'MiseraCale': {'firstimpression': 1.0,\n  'Paleontology': 5.0,\n  'OUTFITS': 1.0,\n  'fossilid': 3.0,\n  'castlevania': 1.0,\n  'ColumbiYEAH': 1.0,\n  'geology': 1.0,\n  'Dinosaurs': 1.0,\n  'pics': 1.0},\n 'secretfreakout': {'childfree': 3.0,\n  'Vermiculture': 1.0,\n  '30PlusSkinCare': 1.0,\n  'smallbusiness': 4.0,\n  'Pottery': 1.0,\n  'Teachers': 1.0,\n  'Eugene': 2.0,\n  'SpaceBuckets': 2.0},\n 'SuperResponse6': {'FriendshipAdvice': 6.0,\n  'University': 1.0,\n  'Depop': 6.0,\n  'bereavement': 2.0},\n 'Sally143': {'McMaster': 14.0, 'ryerson': 1.0},\n 'PyroKeith': {'AskReddit': 2.0,\n  'University': 4.0,\n  'LeagueOfMemes': 1.0,\n  'relationship_advice': 4.0,\n  'cosplaygirls': 1.0,\n  'Cringetopia': 1.0,\n  'Netherlands': 2.0},\n 'EssayWritersHub': {'study': 1.0,\n  'GetStudying': 1.0,\n  'memes': 1.0,\n  'CollegeEssays': 1.0,\n  'soccer': 10.0,\n  'Cornell': 1.0},\n 'True_Mountain5949': {'AskReddit': 7.0,\n  'AmItheAsshole': 3.0,\n  'married': 1.0,\n  'dogecoin': 4.0},\n 'MarinaHexyl': {'arcane': 6.0,\n  'depression': 3.0,\n  'GossipGirl': 1.0,\n  'relationships': 1.0,\n  'AmItheAsshole': 3.0,\n  'findomfinder': 1.0},\n 'terralacia': {'autism': 2.0,\n  'Colorguard': 2.0,\n  'FanFiction': 3.0,\n  'University': 3.0,\n  'rurounikenshin': 2.0,\n  'itookapicture': 1.0,\n  'Christianity': 1.0,\n  'college': 1.0},\n 'Samurai_Rachaek': {'ehlersdanlos': 1.0,\n  'starterpacks': 1.0,\n  'aspiememes': 6.0,\n  'strandeddeep': 1.0,\n  'ChineseLanguage': 1.0,\n  'UniUK': 1.0,\n  'marvelcomics': 1.0,\n  'FallGuys': 1.0,\n  'AmItheAsshole': 1.0,\n  'TheSimpsons': 1.0},\n 'Somewhere_E': {'askswitzerland': 1.0,\n  'Switzerland': 3.0,\n  'kpophelp': 3.0,\n  'University': 6.0,\n  'cats': 1.0,\n  'memes': 1.0},\n 'ificouldtellher': {'BellsPalsy': 6.0,\n  'University': 1.0,\n  'windows': 1.0,\n  'TaylorSwift': 5.0,\n  'SwiftieMerch': 1.0,\n  'JustDanceFitness': 1.0},\n 'das_Keks': {'Guildwars2': 4.0,\n  'watercooling': 5.0,\n  'computers': 2.0,\n  'nvidia': 1.0,\n  'ProgrammerHumor': 2.0,\n  'Crysis': 1.0},\n 'tezziepop': {'CasualConversation': 15.0},\n 'feuthermist': {'EngineeringStudents': 1.0,\n  'toradora': 1.0,\n  'Durarara': 1.0,\n  'UniversityUK': 1.0,\n  'introvertmemes': 1.0,\n  'womenEngineers': 1.0,\n  'self': 1.0,\n  'introvert': 1.0,\n  'bi_irl': 1.0,\n  'AskWomen': 2.0,\n  'CrappyDesign': 1.0,\n  'MaidSama': 1.0,\n  'Wellthatsucks': 1.0,\n  'dating': 1.0},\n 'notclever2': {'lonely': 1.0,\n  'Celebs': 1.0,\n  'University': 1.0,\n  'neekolul': 2.0,\n  'ScarlettJohansson': 1.0,\n  'kpopfap': 2.0,\n  'AskReddit': 3.0,\n  'OnePiece': 1.0,\n  'spss': 2.0,\n  'college': 1.0},\n 'xlez': {'cheesemaking': 1.0,\n  'MobileLegendsGame': 1.0,\n  'malaysians': 3.0,\n  'saxophone': 1.0,\n  'University': 1.0,\n  'ThaiFood': 1.0,\n  'AskReddit': 1.0,\n  'running': 2.0,\n  'orangecats': 1.0,\n  'askSingapore': 2.0,\n  'NTU': 1.0},\n 'BDAKsss': {'MCFC': 6.0, 'NFTsMarketplace': 8.0, 'soccer': 1.0},\n 'ObjectiveMeal': {'alcohol': 5.0,\n  'Drugs': 4.0,\n  'AskReddit': 4.0,\n  'depression': 1.0,\n  'Christianity': 1.0},\n 'younglemon4': {'writers': 1.0,\n  'badwomensanatomy': 1.0,\n  'FuckYouKaren': 1.0,\n  'SluttyConfessions': 2.0,\n  'Nicegirls': 2.0,\n  'im14andthisisdeep': 1.0,\n  'Instagramreality': 2.0,\n  'mildlyinteresting': 1.0,\n  'Minecraft': 4.0},\n 'mxcle': {'Anxiety': 5.0, 'depression': 10.0},\n 'ZeroKurow': {'Assistance': 9.0,\n  'Favors': 1.0,\n  'lordofdiceGlobal': 1.0,\n  'HonkaiImpact3rd': 1.0,\n  'phantomofthekill': 1.0,\n  'University': 2.0},\n 'meeseri': {'SLOWLYapp': 6.0, 'BDSMcommunity': 2.0, 'Makeup': 7.0},\n 'ben12336': {'UniUK': 1.0, 'DeepThoughts': 1.0, 'University': 1.0},\n 'ylata': {'University': 1.0},\n 'Plus-Owl4151': {'depression': 6.0,\n  'University': 2.0,\n  'funny': 1.0,\n  'greenday': 1.0,\n  'weezer': 5.0},\n 'aybrunette': {'UniUK': 1.0,\n  'VeganFoodPorn': 2.0,\n  'University': 3.0,\n  'finnish': 1.0,\n  'LDR': 2.0,\n  'wholesomememes': 1.0,\n  'LongDistance': 2.0,\n  'suggestmeabook': 3.0},\n 'Brand0n_C': {'ksi': 3.0,\n  'ToolBand': 5.0,\n  'BringMeTheHorizon': 4.0,\n  'onewheel': 2.0,\n  'cats': 1.0},\n 'poursomesugaronu2': {'AskReddit': 2.0,\n  'AmItheAsshole': 1.0,\n  'Coronavirus_NZ': 1.0,\n  'trashy': 1.0,\n  'harrypotter': 1.0,\n  'chch': 1.0,\n  'LGBTWeddings': 2.0,\n  'cakeday': 2.0,\n  'Chonkers': 1.0,\n  'PizzaDrivers': 1.0,\n  'subway': 1.0,\n  'marton': 1.0},\n 'LeSUTHU': {'askphilosophy': 2.0, 'UofT': 5.0, 'ApplyingToCollege': 8.0},\n 'itsmels2019': {'sales': 1.0,\n  'relationship_advice': 1.0,\n  'WatchPeopleDieInside': 1.0,\n  'UniUK': 3.0,\n  'FemaleLevelUpStrategy': 1.0,\n  'fragrance': 1.0,\n  'selfhelp': 1.0,\n  'socialmedia': 1.0,\n  'UKPersonalFinance': 3.0,\n  'xxfitness': 1.0,\n  'FemaleDatingStrategy': 1.0},\n 'cuckinfasual': {'ffxiv': 15.0},\n 'fresh-cucumbers': {'BJJWomen': 3.0,\n  'EntitledBitch': 9.0,\n  'AskWomen': 1.0,\n  'bjj': 2.0},\n 'MisteryMyster': {'RocketLeague': 6.0,\n  'explainlikeimfive': 1.0,\n  'QuitVaping': 1.0,\n  'RoastMe': 2.0,\n  'happy': 1.0,\n  'RandomThoughts': 1.0,\n  'sixwordstories': 1.0,\n  'rickandmorty': 1.0,\n  'chess': 1.0},\n 'LordZeman': {'memes': 1.0,\n  'ShitAmericansSay': 1.0,\n  'SpaceXMasterrace': 1.0,\n  'University': 2.0,\n  'IBO': 2.0,\n  'TUDelft': 1.0,\n  'relationship_advice': 1.0},\n 'madeo216': {'Anxiety': 1.0,\n  'findapath': 1.0,\n  'productivity': 1.0,\n  'AskReddit': 3.0,\n  'britishproblems': 1.0,\n  'Damnthatsinteresting': 1.0,\n  'UniUK': 1.0,\n  'mildlyinteresting': 1.0,\n  'warsaw': 1.0,\n  'expats': 2.0,\n  'Tinder': 2.0},\n 'AlbertusM': {'dogs': 2.0, 'BALLET': 12.0, 'mathematics': 1.0},\n 'Socasx7': {'CourseHelper': 1.0,\n  'counter_strike': 1.0,\n  'Psychonaut': 1.0,\n  'nextfuckinglevel': 2.0,\n  'University': 2.0,\n  'progresspics': 2.0},\n 'TeMeHope': {'UTSC': 8.0,\n  'Wallstreetsilver': 1.0,\n  'Chadtopia': 3.0,\n  'me_irl': 2.0,\n  'socialanxiety': 1.0},\n 'leithariuz': {'University': 4.0,\n  'AskReddit': 1.0,\n  'UniversityOfHouston': 2.0,\n  'youtube': 1.0},\n 'RandomDanishKvinde': {'AskReddit': 3.0,\n  'University': 1.0,\n  'niceguys': 1.0,\n  'AmItheAsshole': 4.0,\n  'college': 3.0,\n  'plantsandpots': 1.0},\n 'Poetic_Terrorism': {'INFJmemes': 1.0,\n  'polandball': 2.0,\n  'europe': 3.0,\n  'brussels': 4.0,\n  'college': 1.0,\n  'study': 1.0,\n  'University': 2.0,\n  'ToeflAdvice': 1.0},\n 'Bluejay_Single': {'mildlyinfuriating': 4.0,\n  'troubledteens': 2.0,\n  'IdiotsInCars': 2.0,\n  'lucario': 2.0,\n  'shittyfoodporn': 2.0,\n  'starwarsmemes': 1.0,\n  'Damnthatsinteresting': 1.0,\n  'teenagers': 1.0},\n 'toomuchoverthinking1': {'University': 1.0,\n  'ThreshMains': 1.0,\n  'leagueoflegends': 1.0,\n  'HomeworkHelp': 5.0,\n  'Veterinary': 6.0},\n 'B0-Katan': {'RICE': 1.0,\n  'CasualUK': 2.0,\n  'toradora': 1.0,\n  'Jewish': 1.0,\n  'aww': 1.0,\n  'Judaism': 1.0,\n  'AskUK': 7.0,\n  'budgetfood': 1.0},\n 'TheToxicTeddy': {'endomemes': 1.0,\n  'endometriosis': 1.0,\n  'Endo': 11.0,\n  'RandomThoughts': 2.0},\n 'Curious_Tie_9397': {'Concordia': 2.0,\n  'getdisciplined': 1.0,\n  'gmu': 2.0,\n  'uwaterloo': 3.0,\n  'UWindsor': 2.0,\n  'uwinnipeg': 1.0,\n  'Fordham': 2.0,\n  'OKState': 2.0},\n 'U_Know_The_Name_G': {'AnimeFunny': 1.0,\n  'animememes': 1.0,\n  'Ripple': 1.0,\n  'Cringetopia': 12.0},\n 'blackrainbows76': {'egg_irl': 13.0, 'traaaaaaannnnnnnnnns': 1.0, '196': 1.0},\n 'her__line': {'exjw': 15.0},\n 'SomeAvocado': {'business': 1.0,\n  'IncrediblesMemes': 1.0,\n  'MCPE': 1.0,\n  'TrollYChromosome': 1.0,\n  'Unexpected': 1.0,\n  'airbrush': 1.0,\n  'dbrand': 2.0,\n  'R6SiegeFashionAdvice': 4.0,\n  'SiegeAcademy': 1.0,\n  'Amd': 1.0,\n  'PinkOmega': 1.0},\n 'Jex-92': {'AskReddit': 5.0,\n  'worldnews': 2.0,\n  'marinebiology': 1.0,\n  'avfc': 1.0,\n  'University': 2.0,\n  'ShroomID': 1.0,\n  'Coronavirus': 1.0,\n  'CasualUK': 1.0,\n  'lonely': 1.0},\n 'hooksarchives9303': {'TalkTherapy': 1.0,\n  'OUTFITS': 2.0,\n  'ENFP': 1.0,\n  'AmItheAsshole': 3.0,\n  'AskReddit': 1.0,\n  'tumblr': 1.0,\n  'Tinder': 1.0,\n  'Breath_of_the_Wild': 1.0,\n  'StarWars': 1.0,\n  'BeautyAddiction': 1.0,\n  'LongDistance': 1.0,\n  'socialwork': 1.0},\n 'bryxny': {'Anxiety': 1.0,\n  'vegan': 2.0,\n  'gaming': 1.0,\n  'EarStretching': 1.0,\n  'DigitalArt': 1.0,\n  'HungryArtists': 2.0,\n  'commissions': 1.0,\n  'hamsters': 4.0,\n  'AskUK': 1.0,\n  'Stretched': 1.0},\n 'dancingfeet999': {'jobsearchhacks': 2.0,\n  'jobsearch': 3.0,\n  'resumes': 3.0,\n  'Makeup': 2.0,\n  'AnimalCrossing': 5.0},\n 'm_iawia': {'AskReddit': 4.0,\n  'mildlyinfuriating': 1.0,\n  'LearnJapanese': 1.0,\n  'AnimalCrossing': 5.0,\n  'NewHorizonsAC': 2.0,\n  'relationship_advice': 1.0,\n  'mbti': 1.0},\n 'Aadeshwar': {'csgo': 2.0,\n  'Guildwars2': 11.0,\n  'ClashOfClans': 1.0,\n  'StarWarsBattlefront': 1.0},\n 'BamaSOH': {'startrek': 1.0,\n  'russia': 1.0,\n  'dankmemes': 2.0,\n  'dating_advice': 1.0,\n  'Sacramento': 3.0,\n  'JRPG': 1.0,\n  'ANormalDayInRussia': 1.0,\n  'castiron': 2.0,\n  'russian': 1.0,\n  'Damnthatsinteresting': 1.0,\n  'motorcycles': 1.0},\n 'VoronSock': {'tattooedgirls': 1.0,\n  'gothsluts': 2.0,\n  'AskReddit': 4.0,\n  'u_Leslielux95': 1.0,\n  'u_Lydiagh0st': 1.0,\n  'Weird': 1.0,\n  'BreedingMaterial': 2.0,\n  'pics': 1.0,\n  'theyknew': 1.0,\n  'Crypto_com': 1.0},\n 'bossycloud': {'IdiotsInCars': 3.0,\n  'CrappyDesign': 1.0,\n  'interestingasfuck': 1.0,\n  'nextfuckinglevel': 2.0,\n  'androidapps': 2.0,\n  'facepalm': 1.0,\n  'instantkarma': 1.0,\n  'blursedimages': 1.0,\n  'Wellthatsucks': 2.0,\n  'Showerthoughts': 1.0},\n 'imdad_bot': {'Cursed_Images': 1.0,\n  'Frenchbulldogs': 1.0,\n  'ILGuns': 1.0,\n  'PublicFreakout': 1.0,\n  'LegalAdviceUK': 1.0,\n  'iamveryrandom': 1.0,\n  'Bass': 1.0,\n  'gtaonline': 1.0,\n  'The100': 1.0,\n  'SmashBrosUltimate': 1.0,\n  'Retconned': 1.0,\n  'Animedubs': 1.0,\n  'modernwarfare': 1.0,\n  'AskUK': 1.0,\n  'HongKong': 1.0},\n 'Should_Be': {'TalkTherapy': 15.0},\n 'potatchips22': {'offmychest': 2.0,\n  'NoStupidQuestions': 5.0,\n  'LongDistance': 5.0,\n  'TrueOffMyChest': 1.0,\n  'AskReddit': 1.0,\n  'PublicFreakout': 1.0},\n 'Birrabenzina': {'chernobyl': 4.0,\n  'AncestryDNA': 1.0,\n  '23andme': 7.0,\n  'folkmetal': 2.0,\n  'MaliciousCompliance': 1.0},\n 'MartAres': {'University': 2.0, 'Python': 3.0, 'CanadianForces': 1.0},\n 'thatslifeisuppose': {'AskDocs': 1.0,\n  'depression': 1.0,\n  'University': 6.0,\n  'oddlysatisfying': 1.0,\n  'Accounting': 2.0,\n  'ksi': 1.0,\n  'spss': 2.0,\n  'Wellthatsucks': 1.0},\n 'bigfatrat2': {'TrueOffMyChest': 2.0,\n  'NewcastleUponTyne': 1.0,\n  'brooklynninenine': 1.0,\n  'britishproblems': 1.0,\n  'University': 2.0,\n  'technicallythetruth': 1.0,\n  'WhitePeopleTwitter': 2.0,\n  'AreTheStraightsOK': 1.0,\n  'AskReddit': 1.0,\n  'ShitAmericansSay': 3.0},\n 'siol981': {'startrek': 7.0,\n  'AskDocs': 1.0,\n  'conspiracy': 4.0,\n  'islam': 2.0,\n  'dating_advice': 1.0},\n 'hey_hey_helloo': {'AskReddit': 5.0,\n  'AskUK': 4.0,\n  'AskMen': 2.0,\n  'confidence': 1.0,\n  'FreeCompliments': 1.0,\n  'UniUK': 1.0,\n  'Tinder': 1.0},\n 'courtnieee2': {'pregnant': 11.0,\n  'thingsmykidsaid': 2.0,\n  'booksuggestions': 1.0,\n  'Cheese': 1.0},\n 'tacospambitch': {'University': 3.0, 'Instagram': 2.0, 'VeganFood': 1.0},\n 'fancy-feasti': {'selfharm': 4.0,\n  'queensuniversity': 1.0,\n  'SK8': 6.0,\n  'NewSkaters': 4.0},\n 'Melos_Paladin': {'regina': 4.0,\n  'sidehustle': 3.0,\n  'DungeonMasters': 2.0,\n  'povertyfinance': 1.0,\n  '3Dprinting': 1.0,\n  'bestof': 1.0,\n  'dice': 1.0,\n  'EtsySellers': 1.0,\n  'memes': 1.0},\n 'bumblebee222212': {'AskReddit': 1.0,\n  'CarTalkUK': 4.0,\n  'teenagers': 1.0,\n  'GalaxyFold': 4.0,\n  'cyberpunkgame': 1.0,\n  'PokemonBDSP': 3.0,\n  'DonutMedia': 1.0},\n 'comatose_papaya': {'MobileLegendsGame': 14.0, 'AskReddit': 1.0},\n 'No_Cauliflower8579': {'MentalHealthUK': 5.0,\n  'SuicideWatch': 1.0,\n  'Anxiety': 3.0,\n  'sex': 1.0,\n  'depression': 2.0,\n  'careerguidance': 1.0,\n  'HealthAnxiety': 1.0,\n  'philosophy': 1.0},\n 'mattttttttt97': {'aspergers': 3.0,\n  'harrypotter': 3.0,\n  'SocialDemocracy': 3.0,\n  'Crushes': 2.0,\n  'atunsheifilms': 1.0,\n  'forhonor': 1.0,\n  'monarchism': 1.0,\n  'Bumble': 1.0},\n 'alwaysxsleeping': {'TheMorningShow': 1.0,\n  'piercing': 2.0,\n  'greysanatomy': 3.0,\n  'hentai': 1.0,\n  'tuberous': 1.0,\n  'CrossStitch': 7.0},\n 'thetiniestsquirrel': {'Damnthatsinteresting': 1.0,\n  'GradSchool': 12.0,\n  'askswitzerland': 1.0,\n  'Switzerland': 1.0},\n 'dadbot_3000': {'profanitycounter': 1.0,\n  'SafeMoon': 1.0,\n  'NashvilleSwingersR4R': 1.0,\n  'formuladank': 1.0,\n  'AliensAmongUs': 1.0,\n  'Teenager_Polls': 1.0,\n  'devops': 1.0,\n  'ravens': 2.0,\n  'RogueCompany': 1.0,\n  'confessions': 1.0,\n  'pumparum': 1.0,\n  'u_HunnyWeed': 1.0,\n  'traps': 1.0,\n  'goodanimemes': 1.0},\n 'acp174': {'italianlearning': 1.0,\n  'SkincareAddictionUK': 3.0,\n  'Hair': 1.0,\n  'FancyFollicles': 1.0,\n  'Instagramreality': 4.0,\n  'Portuguese': 1.0,\n  'UniUK': 2.0,\n  'tooktoomuch': 1.0,\n  'endometriosis': 1.0},\n 'thatsok00': {'FreeCompliments': 1.0,\n  'Advice': 3.0,\n  'curlyhair': 1.0,\n  'AskReddit': 6.0,\n  'mentalhealth': 3.0,\n  'offmychest': 1.0},\n 'Alexa302': {'skyrim': 2.0,\n  'University': 1.0,\n  'britishproblems': 1.0,\n  'whatsthisrock': 1.0,\n  'hamstercare': 1.0,\n  'cats': 2.0,\n  'houseplants': 1.0,\n  'insects': 1.0,\n  'FamilyIssues': 3.0,\n  'coins': 2.0},\n 'CY-1111': {'University': 1.0,\n  'Sat': 4.0,\n  'APStudents': 2.0,\n  'AskUK': 1.0,\n  'writing': 3.0,\n  'AskReddit': 4.0},\n 'Nardman1': {'askdentists': 1.0,\n  'Entomology': 1.0,\n  'ecommerce': 1.0,\n  'AskReddit': 4.0,\n  'SpotifyPlaylists': 7.0,\n  'Fifa21': 1.0},\n 'SecretBackground': {'IdiotsInCars': 1.0,\n  'TwoXChromosomes': 5.0,\n  'Scotland': 2.0,\n  'unitedkingdom': 1.0,\n  'britishproblems': 2.0,\n  'aspiememes': 4.0},\n 'WowSuchName21': {'csgo': 1.0,\n  'spotted': 1.0,\n  'ForzaHorizon': 1.0,\n  'NZXT': 4.0,\n  'cycling': 2.0,\n  'offmychest': 1.0,\n  'nvidia': 1.0,\n  'pics': 1.0,\n  'Amd': 1.0,\n  'videogamedunkey': 1.0,\n  'ABoringDystopia': 1.0},\n 'forever_flying': {'googleplaydeals': 2.0,\n  'aspiememes': 1.0,\n  'WVU': 5.0,\n  'pcmasterrace': 1.0,\n  'SelfAwarewolves': 1.0,\n  'ChrisChanSonichu': 1.0,\n  'Surface': 1.0,\n  'Cringetopia': 1.0,\n  'facepalm': 1.0,\n  'ConservativeMemes': 1.0},\n 'Robert_H_': {'college': 8.0,\n  'CollegeRant': 1.0,\n  'careerguidance': 3.0,\n  'findapath': 2.0,\n  'University': 1.0},\n 'prinkipissakratos': {'assertivenesstraining': 1.0,\n  'AskUK': 3.0,\n  'AskReddit': 4.0,\n  'teenagers': 1.0,\n  'careerguidance': 2.0,\n  'NoStupidQuestions': 2.0,\n  'AMA': 1.0,\n  'unpopularopinion': 1.0},\n 'WhiskyandSour': {'millionairemakers': 1.0,\n  'University': 1.0,\n  'relationship_advice': 4.0,\n  'atheism': 1.0,\n  'WhitePeopleTwitter': 1.0,\n  'humblebundles': 1.0,\n  'personalfinance': 1.0,\n  'iamatotalpieceofshit': 1.0,\n  'pics': 1.0,\n  'buildapcforme': 1.0,\n  'wholesomememes': 2.0},\n 'tyerapist': {'wallstreetbets': 1.0,\n  'snowboarding': 1.0,\n  'FollowForFollow': 6.0,\n  'breakingbad': 2.0,\n  'ExposurePorn': 2.0,\n  'Psychonaut': 1.0,\n  'DidntKnowIWantedThat': 1.0,\n  'memes': 1.0},\n 'Senorjordan': {'HolUp': 3.0,\n  'Fishing': 1.0,\n  'goodanimemes': 2.0,\n  'onewordeach': 1.0,\n  'Genshin_Impact': 2.0,\n  'Aquariums': 1.0,\n  'Unexpected': 1.0,\n  'AyakaMains': 1.0,\n  'Bushcraft': 1.0,\n  'teenagers': 1.0,\n  'coolguides': 1.0},\n 'Ghx57': {'college': 15.0},\n 'amguiltyguiltyguilty': {'AusMemes': 2.0,\n  'DunderMifflin': 1.0,\n  'Needafriend': 2.0,\n  'homeless': 2.0,\n  'AustralianPolitics': 1.0,\n  'mildlyinfuriating': 1.0,\n  'AskMen': 1.0,\n  'University': 1.0,\n  'Money': 1.0,\n  'Frugal': 2.0,\n  'antinatalism': 1.0},\n 'HardcoreBandit': {'nattyorjuice': 1.0,\n  'VlogSquadGirls': 1.0,\n  'IBO': 12.0,\n  'usyd': 1.0},\n 'vali241': {'survivor': 3.0,\n  'fitmeals': 1.0,\n  'AskReddit': 2.0,\n  'EatCheapAndHealthy': 3.0,\n  'YAlit': 6.0},\n 'NikitaRetro80': {'stanford': 1.0,\n  'studytips': 4.0,\n  'GetStudying': 1.0,\n  'CollegeRant': 1.0,\n  'GradSchool': 7.0,\n  'u_NikitaRetro80': 1.0},\n 'bgroovyb': {'wingfoil': 2.0,\n  'sciencefiction': 1.0,\n  'MechanicalEngineering': 1.0,\n  'blogs': 1.0,\n  'finance': 1.0,\n  'UniUK': 2.0,\n  'engineering': 1.0,\n  'ArtificialInteligence': 2.0,\n  'AskReddit': 2.0,\n  'University': 2.0},\n 'pnweiner': {'ADHD': 1.0,\n  'KneadyCats': 2.0,\n  'FreeCompliments': 1.0,\n  'CozyPlaces': 1.0,\n  'WhiskerFireworks': 1.0,\n  'Temple': 4.0,\n  'TuxedoCats': 2.0,\n  'cathostage': 2.0,\n  'Fuckthealtright': 1.0},\n 'Yolodunni': {'3Dmodeling': 5.0,\n  'premiere': 1.0,\n  'NoMansSkyTheGame': 1.0,\n  'AwakenedTV': 1.0,\n  'web_design': 2.0,\n  'Surface': 1.0,\n  'AfterEffects': 1.0,\n  'webdev': 1.0,\n  'indesign': 2.0},\n 'BobIsBusy': {'AskUK': 3.0,\n  'london': 1.0,\n  'AskReddit': 1.0,\n  'britishproblems': 1.0,\n  'GCSE': 1.0,\n  'AskAnAmerican': 1.0,\n  'marvelstudios': 1.0,\n  'AmItheAsshole': 1.0,\n  'videos': 1.0,\n  'BritishSuccess': 3.0,\n  'CasualUK': 1.0},\n 'princessharu06': {'Barbie': 1.0,\n  'rollerblading': 2.0,\n  'TrueOffMyChest': 6.0,\n  'atheism': 4.0,\n  'Teachers': 1.0,\n  'borrow': 1.0},\n 'Kocia-ska': {'YUROP': 2.0,\n  'lingling40hrs': 3.0,\n  'AskReddit': 3.0,\n  'Anxiety': 2.0,\n  'college': 1.0,\n  'france': 2.0,\n  'AmItheAsshole': 1.0,\n  'dankmemes': 1.0},\n 'ExcidiaWolf': {'Genshin_Impact': 2.0,\n  'germany': 7.0,\n  'de': 3.0,\n  'socialanxiety': 3.0},\n 'fragilehumanity': {'Adelaide': 1.0,\n  'LockdownSkepticism': 1.0,\n  'CoronavirusDownunder': 2.0,\n  'AusFinance': 5.0,\n  'PoliticalHumor': 1.0,\n  'Unexpected': 1.0,\n  'australia': 1.0,\n  'AskReddit': 2.0,\n  'auslaw': 1.0},\n 'fwipfwop': {'stopdrinking': 1.0,\n  'OldSchoolCool': 1.0,\n  'unpopularopinion': 1.0,\n  'interestingasfuck': 1.0,\n  'AskReddit': 2.0,\n  'AskUK': 2.0,\n  'Damnthatsinteresting': 1.0,\n  'WhitePeopleTwitter': 1.0,\n  'boobs': 1.0,\n  'natureismetal': 1.0,\n  'Business_Ideas': 1.0,\n  'Entrepreneur': 2.0},\n 'caz1426': {'tipofmytongue': 1.0,\n  'AskReddit': 8.0,\n  'MathHelp': 1.0,\n  'Whatcouldgowrong': 1.0,\n  'CrappyDesign': 1.0,\n  'britishproblems': 1.0,\n  'University': 1.0,\n  'memes': 1.0},\n 'Joe_PTN': {'UniUK': 4.0,\n  'University': 3.0,\n  'GetStudying': 1.0,\n  'history': 2.0},\n 'iconic_ironic_trash': {'AskUK': 4.0,\n  'lotrmemes': 2.0,\n  'UniUK': 2.0,\n  'CasualUK': 1.0,\n  'NotHowGirlsWork': 1.0,\n  'creativewriting': 3.0,\n  'curlyhair': 1.0,\n  'Anxiety': 1.0},\n 'simplysez': {'questions': 1.0,\n  'BeautyGuruChatter': 4.0,\n  'Sub4Sub': 1.0,\n  'GetStudying': 4.0,\n  'University': 5.0},\n 'Hopeful-Mortgage2408': {'thegrandtour': 6.0,\n  'korea': 1.0,\n  'space': 1.0,\n  'technicallythetruth': 7.0},\n 'Nice-Woodpecker-9197': {'AskFeminists': 3.0,\n  'AskUK': 1.0,\n  'Feminism': 2.0,\n  'University': 3.0},\n '_deathrattle': {'CollegeRant': 1.0,\n  'greysanatomy': 5.0,\n  'AskUK': 1.0,\n  'UniUK': 4.0,\n  'University': 1.0,\n  'britishproblems': 1.0,\n  'confession': 1.0,\n  'DysfunctionalFamily': 1.0},\n 'dirty_soup': {'mcgill': 1.0,\n  'donaldglover': 2.0,\n  'uoguelph': 5.0,\n  'Kanye': 7.0},\n 'justanotherworm': {'EndMassIncarceration': 1.0,\n  'University': 4.0,\n  'relationship_advice': 1.0},\n 'paige_8': {'exeter': 1.0,\n  'veganuk': 5.0,\n  'UniUK': 2.0,\n  'Mindfulness': 1.0,\n  'vegan': 1.0,\n  'BeAmazed': 5.0},\n 'jason_connor': {'Gunners': 5.0,\n  'soccer': 2.0,\n  'mac': 2.0,\n  'wallstreetbets': 1.0,\n  'theJoeBuddenPodcast': 1.0,\n  'AskReddit': 3.0,\n  'BlackPeopleTwitter': 1.0},\n 'houseplantfortheroad': {'University': 5.0,\n  'AntiVaxxers': 1.0,\n  'DiWHY': 1.0,\n  'AskReddit': 2.0,\n  'WLW': 2.0,\n  'botw': 1.0,\n  'mildlyinteresting': 1.0,\n  'whisper': 1.0,\n  'AmItheAsshole': 1.0},\n 'sarayab1': {'Advice': 6.0,\n  'botany': 2.0,\n  'DoomPatrol': 2.0,\n  'CPBBD': 2.0,\n  'University': 3.0},\n 'otuob1': {'FIFA': 1.0, 'igcse': 2.0, 'University': 2.0},\n 'SnooWords2089': {'Advice': 6.0,\n  'relationship_advice': 3.0,\n  'Vent': 1.0,\n  'AskReddit': 4.0,\n  'MakeNewFriendsHere': 1.0},\n 'amelie94210': {'gwu': 5.0,\n  'askdentists': 1.0,\n  'wisdomteeth': 1.0,\n  'AskDocs': 3.0,\n  'AskReddit': 1.0,\n  'bocconi': 4.0},\n 'poofandfloof': {'Cooking': 2.0,\n  'AmItheAsshole': 1.0,\n  'sewing': 3.0,\n  'relationship_advice': 3.0,\n  'PublicFreakout': 1.0,\n  'vultureculture': 3.0,\n  'University': 1.0,\n  'AMA': 1.0},\n 'Scarz541': {'UniUK': 2.0,\n  'ManchesterUnited': 4.0,\n  'ukdrill': 4.0,\n  'london': 1.0,\n  'nonutnovember': 3.0,\n  'PremierLeague': 1.0},\n 'vampirescarlett': {'BattleJackets': 4.0,\n  'University': 2.0,\n  'relationship_advice': 1.0,\n  'MovieSuggestions': 1.0,\n  'punk': 1.0,\n  'Ghostbc': 1.0,\n  'alternativefashion': 2.0},\n 'Torpid_Onism': {'YouOnLifetime': 10.0,\n  'bathandbodyworks': 1.0,\n  'AmItheAsshole': 1.0,\n  'Austin': 1.0,\n  'puppy101': 2.0},\n 'musiknits': {'AmItheAsshole': 12.0,\n  'whatstheword': 1.0,\n  'knitting': 1.0,\n  'relationships': 1.0},\n 'Danie99': {'squidgame': 2.0,\n  'AmItheAsshole': 2.0,\n  'badwomensanatomy': 1.0,\n  'RATS': 1.0,\n  'pointlesslygendered': 1.0,\n  'greysanatomy': 7.0,\n  '1200isplenty': 1.0},\n 'samcaval': {'FREE': 1.0,\n  'TheOwlHouse': 1.0,\n  'PrincessesOfPower': 11.0,\n  'RecordThisForFree': 1.0,\n  'Catra': 1.0},\n 'ArchAngel515': {'mcservers': 2.0,\n  'Slipknot': 3.0,\n  'insomnia': 1.0,\n  'virgin': 4.0,\n  'melbourne': 1.0,\n  'dating': 2.0,\n  'sex': 1.0,\n  'bigdickproblems': 1.0},\n 'jayatcsus': {'CAStateWorkers': 6.0,\n  'UCDavis': 2.0,\n  'college': 1.0,\n  'CSUS': 5.0,\n  'academia': 1.0},\n 'dry_bucko': {'UnresolvedMysteries': 1.0,\n  'gentlemanboners': 1.0,\n  'Instagramreality': 1.0,\n  'NoStupidQuestions': 1.0,\n  'TooAfraidToAsk': 1.0,\n  'PartyParrot': 1.0,\n  'MakeMeSuffer': 1.0,\n  'streetwear': 2.0,\n  'Music': 1.0,\n  'australia': 1.0,\n  'rareinsults': 1.0,\n  'TwoXChromosomes': 1.0,\n  'bi_irl': 1.0,\n  'therewasanattempt': 1.0},\n 'Griffie': {'AskReddit': 1.0,\n  'aww': 1.0,\n  'Kitchenaid': 1.0,\n  'ypsi': 1.0,\n  'Justrolledintotheshop': 2.0,\n  'MechanicAdvice': 1.0,\n  'Dogtraining': 3.0,\n  'techtheatre': 2.0,\n  'Theatre': 1.0,\n  'hivaids': 1.0,\n  'nostalgia': 1.0},\n 'Open_Influence': {'Target': 3.0,\n  'University': 1.0,\n  'ApartmentHacks': 4.0,\n  'HomeImprovement': 1.0,\n  'MechanicAdvice': 6.0},\n 'Akvned': {'reactjs': 7.0,\n  'learnprogramming': 1.0,\n  'abudhabi': 2.0,\n  'dubai': 2.0,\n  'ProgrammingBuddies': 3.0},\n 'ClarinetMaster117': {'transformers': 8.0,\n  'modernwarfare': 3.0,\n  'DevilMayCry': 1.0,\n  'technology': 1.0,\n  'pics': 1.0,\n  'AnimalCrossing': 1.0},\n 'Lapinfort': {'AskReddit': 3.0,\n  'vancouverwa': 6.0,\n  'Theatre': 3.0,\n  'University': 1.0,\n  'Lovecraft': 1.0,\n  'freepatterns': 1.0},\n 'zola129': {'PoliticalHumor': 1.0,\n  'TooAfraidToAsk': 1.0,\n  'AskReddit': 8.0,\n  'AO3': 2.0,\n  'funny': 1.0,\n  'DanmeiNovels': 1.0,\n  'interestingasfuck': 1.0},\n 'LooksAtClouds': {'AskReddit': 4.0,\n  'cancer': 2.0,\n  'Cooking': 1.0,\n  'Theatre': 4.0,\n  'howto': 1.0,\n  'Archaeology': 1.0,\n  'houston': 1.0,\n  'personalfinance': 1.0},\n 'thienthanhtran97': {'sugarlifestyleforum': 2.0,\n  'relationship_advice': 8.0,\n  'SHIBArmy': 1.0,\n  'University': 2.0,\n  'Adoption': 2.0},\n 'Author_Mission': {'education': 2.0,\n  'college': 3.0,\n  'edtech': 1.0,\n  'University': 6.0,\n  'Professors': 1.0,\n  'GradSchool': 2.0},\n 'RevolutionaryChef319': {'Students': 2.0,\n  'AskReddit': 2.0,\n  'ECEProfessionals': 1.0,\n  'college': 2.0,\n  'University': 5.0,\n  'u_InvestigatorNo4043': 1.0,\n  'education': 2.0},\n 'Cat-dude-': {'MechanicalKeyboards': 2.0,\n  'AskRedditAfterDark': 2.0,\n  'University': 1.0,\n  'mangadex': 1.0,\n  'apexlegends': 1.0,\n  'gaystoriesgonewild': 1.0,\n  'UmbrellaAcademy': 1.0},\n 'Ok_Employ_4459': {'University': 2.0,\n  'findapath': 1.0,\n  'AskAcademia': 3.0,\n  'college': 3.0,\n  'CommunityColleges': 3.0,\n  'instructionaldesign': 2.0,\n  'education': 1.0}}"
     },
     "execution_count": 1759,
     "metadata": {},
     "output_type": "execute_result"
    }
   ],
   "source": [
    "fillItems(red_users, count=15)\n",
    "# here you can see how often each user commented in what sub."
   ]
  },
  {
   "cell_type": "markdown",
   "metadata": {},
   "source": [
    "This script may take a few minutes to collect all the data. Use this time to review what is going on in the code. Notice that users don't give ratings to subreddits, instead we are counting how many comments they posted in each subreddit. \n",
    "\n",
    "To recommend a similar user, we can use our topMatches function again.\n",
    "\n",
    "First choose a random user for whom you're going to find neighbours"
   ]
  },
  {
   "cell_type": "code",
   "execution_count": 1760,
   "metadata": {},
   "outputs": [
    {
     "name": "stdout",
     "output_type": "stream",
     "text": [
      "comatose_papaya\n"
     ]
    },
    {
     "data": {
      "text/plain": "[(0, 'zola129'),\n (0, 'younglemon4'),\n (0, 'ylata'),\n (0, 'xlez'),\n (0, 'xekatinaz')]"
     },
     "execution_count": 1760,
     "metadata": {},
     "output_type": "execute_result"
    }
   ],
   "source": [
    "import random\n",
    "\n",
    "user = random.choice(list(red_users.keys()))\n",
    "print(user)  # print the username\n",
    "topMatches(user, prefs=red_users)  # from all redditors, get the most similar to user"
   ]
  },
  {
   "cell_type": "markdown",
   "metadata": {},
   "source": [
    "If no similar user was found, you can try increasing the count of users or comments for each initializeUserDict and fillItems."
   ]
  },
  {
   "cell_type": "markdown",
   "metadata": {},
   "source": [
    "*****************************************************\n",
    "#### Task: Recommend subreddits for a user based on what subreddits similar users have commented in. Recommend posts for a user based on posts they have commented on. \n",
    "*****************************************************"
   ]
  },
  {
   "cell_type": "code",
   "execution_count": 1765,
   "metadata": {},
   "outputs": [
    {
     "name": "stdout",
     "output_type": "stream",
     "text": [
      "{'Curlyzza': {'thenetherlands': 1.0, 'University': 3.0}, 'theshavedyeti': {'CellToSingularity': 1.0, 'Showerthoughts': 1.0, 'AbruptChaos': 1.0, 'nextfuckinglevel': 1.0, 'TIHI': 2.0, 'mildlyinteresting': 1.0, 'Wellthatsucks': 2.0, 'technicallythetruth': 2.0, 'ConvenientCop': 2.0, 'IdiotsInCars': 2.0}, 'xekatinaz': {'MovieSuggestions': 2.0, 'cinematography': 1.0, 'TrueFilm': 5.0, 'AskProfessors': 2.0, 'scifi': 2.0, 'assholedesign': 1.0, 'minimalism': 2.0}, 'Leprol': {'cwru': 1.0, 'University': 1.0, 'ApplyingToCollege': 2.0, 'college': 1.0}, 'rubot78': {'funny': 2.0, 'blessedimages': 1.0, 'pics': 1.0, 'Damnthatsinteresting': 1.0, 'TheDepthsBelow': 1.0, 'nextfuckinglevel': 2.0, 'ScarlettJohansson': 1.0, 'BeAmazed': 1.0, 'WTF': 2.0, 'interestingasfuck': 2.0, 'aww': 1.0}, 'airbornemint': {'biology': 8.0, 'prephysicianassistant': 6.0, 'NewToEMS': 1.0}, 'Sagittarius712': {'africanparents': 1.0, 'MechanicalEngineering': 1.0, 'banned': 5.0, 'PersonalFinanceCanada': 6.0, 'blackladies': 2.0}, 'hellothere96_2': {'RoyaleHigh_Roblox': 8.0, 'MakeNewFriendsHere': 3.0, 'stationery': 1.0, 'Needafriend': 1.0, 'Bloxburg': 1.0, 'socialanxiety': 1.0}, 'ImperialDiet': {'kaiserredux': 1.0, 'hoi4modding': 5.0, 'KRGmod': 1.0, 'RedLetterMedia': 1.0, 'BTWHmod': 1.0, 'rightistvexillology': 1.0, 'TheLostEmperor': 1.0, 'Nordichistorymemes': 1.0, 'NewWaysMod': 1.0, 'nextwemoveforward': 1.0, 'TheRedOrder': 1.0}, 'HappySebs': {'AskReddit': 9.0, 'Students': 1.0, 'University': 2.0, 'study': 3.0}, 'DamnYouRichardParker': {'PeopleFuckingDying': 1.0, 'IfIFitsISits': 1.0, 'dankmemes': 2.0, 'barelegs': 1.0, 'AbruptChaos': 1.0, 'prettyaltgirls': 1.0, 'beholdthemasterrace': 3.0, 'AskReddit': 1.0, 'ToiletPaperUSA': 2.0, 'Instagramreality': 1.0, 'dataisugly': 1.0}, 'lexi2706': {'neutralnews': 1.0, 'WTF': 1.0, 'mixedrace': 2.0, 'askscience': 1.0, 'technews': 1.0, 'nba': 2.0, 'Bitcoin': 1.0, 'LosAngeles': 1.0, 'antiwork': 1.0, 'AskAnAmerican': 1.0, 'moderatepolitics': 1.0, 'StockMarket': 2.0}, 'anonymoususer762': {'college': 3.0, 'ufc': 1.0, 'EngineeringStudents': 3.0, 'buffalobills': 1.0, 'Cornell': 2.0, 'WatchPeopleDieInside': 1.0, 'ApplyingToCollege': 1.0, 'chanceme': 3.0}, 'Waaarrrggghhh': {'worldnews': 2.0, 'gaming': 1.0, 'AskReddit': 4.0, 'europe': 4.0, 'Wales': 2.0, 'MotoUK': 2.0}, 'LISK2AC': {'RoastMe': 14.0, 'FanTheories': 1.0}, 'divingforducks': {'dankmemes': 1.0, 'jordan': 1.0, 'HolUp': 1.0, 'arabs': 3.0, 'Palestine': 4.0, 'ToyotaTacoma': 1.0, 'GenZedong': 1.0, '2Arabicforyou': 2.0, 'EngineeringStudents': 1.0}, 'Meshuggah1166': {'COMPLETEANARCHY': 2.0, 'cringepics': 1.0, 'PokemonGoFriends': 1.0, 'TOTALCOMMUNALISM': 1.0, 'antifastonetoss': 4.0, 'starwarsmemes': 1.0, 'SelfAwarewolves': 1.0, 'shittyrainbow6': 3.0, 'The_Leftorium': 1.0}, 'sovietanada': {'relationship_advice': 2.0, 'University': 4.0, 'learndutch': 2.0, 'Damnthatsinteresting': 2.0, 'Anatomy': 1.0, 'MB2Bannerlord': 1.0, 'Scams': 3.0}, 'reverse_mango': {'MadeMeSmile': 2.0, 'etymology': 1.0, 'fakedisordercringe': 2.0, 'lotr': 1.0, 'NameThatSong': 1.0, 'whatsthatsong': 1.0, 'GreekMythology': 2.0, 'interestingasfuck': 1.0, 'AskUK': 2.0, 'confidentlyincorrect': 1.0, 'MurderedByWords': 1.0}, 'harolddawizard': {'FL_Studio': 3.0, 'Drumkits': 1.0, 'memes': 2.0, 'starterpacks': 1.0, 'college': 1.0, 'AskReddit': 2.0, 'oddlysatisfying': 1.0, 'MadeMeSmile': 1.0, 'HellsItch': 1.0, 'WatchPeopleDieInside': 1.0, 'SnapchatHelp': 1.0}, 'Matt14451': {'PlayAvengers': 5.0, 'DisneyPlus': 1.0, 'PS4': 1.0, '911FOX': 2.0, 'StargirlTV': 1.0, 'technicallythetruth': 2.0, 'FallGuys': 1.0, 'panelshow': 1.0, 'roosterteeth': 1.0}, 'SirHurDurr': {'mtg': 1.0, 'BudgetBrews': 3.0, 'wholesomememes': 1.0, 'magicTCG': 3.0, 'EDH': 4.0, 'mtgrules': 1.0, 'PrequelMemes': 1.0, 'magicthecirclejerking': 1.0}, 'scoffburn': {'perl': 1.0, 'AskAnAustralian': 4.0, 'QAnonCasualties': 3.0, 'tasmania': 1.0, 'talesfromtechsupport': 1.0, 'gstrings': 3.0, 'HermanCainAward': 1.0, 'antiMLM': 1.0}, '1Killag123': {'Tools': 1.0, 'food': 6.0, 'Iamactuallyverybadass': 1.0, 'memes': 1.0, 'FoodPorn': 3.0, 'politics': 2.0, 'oddlysatisfying': 1.0}, 'bombarclart': {'malamute': 1.0, 'WoT': 8.0, 'ImaginaryWarhammer': 1.0, 'im14andthisisdeep': 1.0, 'wholesomememes': 1.0, 'wheeloftime': 1.0, 'antifeminists': 1.0, 'WoTshow': 1.0}, 'EFDcoach': {'wlu': 3.0, 'AskParents': 1.0, 'school': 1.0, 'LifeAfterSchool': 1.0, 'raisingkids': 1.0, 'college': 1.0, 'OntarioUniversities': 2.0, 'University': 2.0, 'internetparents': 1.0, 'Advice': 2.0}, 'dizzyhazza': {'PokemonGoFriends': 9.0, 'Sims4': 1.0, 'BingeEatingDisorder': 5.0}, 'BiteMeMaybe': {'whatisthisthing': 1.0, 'TooAfraidToAsk': 4.0, 'velvethippos': 3.0, 'religion': 1.0, 'uCinci': 5.0, 'funny': 1.0}, 'ultralillers': {'ChoosingBeggars': 3.0, 'weed': 2.0, 'notliketheothergirls': 1.0, 'antinatalism': 1.0, 'videos': 1.0, 'dankmemes': 4.0, 'NotHowGirlsWork': 3.0}, 'rheetkd': {'geology': 1.0, 'ChronicIllness': 4.0, 'AskDocs': 1.0, 'Aquariums': 1.0, 'auckland': 2.0, 'DowntonAbbey': 1.0, 'GilmoreGirls': 1.0, 'AskReddit': 1.0, 'IndoorGarden': 1.0, 'DogAdvice': 2.0}, 'qarxyna': {'University': 1.0, 'GetStudying': 1.0, 'insomnia': 1.0, 'Needafriend': 3.0}, 'Filsafat': {'depression': 1.0, 'Damnthatsinteresting': 1.0, 'AmItheAsshole': 1.0, 'wollongong': 1.0, 'PlusSize': 1.0, 'bipolar': 4.0, 'AskReddit': 1.0, 'UOW': 1.0, 'University': 4.0}, 'RSCyka': {'apple': 1.0, 'canadahousing': 1.0, 'gadgets': 1.0, 'AskReddit': 2.0, 'economy': 1.0, 'RealEstate': 1.0, 'Entrepreneur': 1.0, 'WorkOnline': 1.0, 'airpods': 6.0}, 'BadDadBot': {'Damnthatsinteresting': 1.0, 'horror': 1.0, 'Northgard': 1.0, 'freelytalkaboutjimmy': 1.0, 'SingaporeRaw': 1.0, 'PLASTT': 1.0, 'FreeKarma4U': 1.0, 'saltierthankrait': 1.0, 'onebag': 1.0, 'nbatopshot': 1.0, 'Faces': 1.0, 'SHIBArmy': 1.0, 'Anxietyhelp': 1.0, 'weed': 1.0, 'ManifestNBC': 1.0}, 'thelifesponge': {'books': 1.0, 'tattoos': 1.0, 'natureismetal': 1.0, 'interestingasfuck': 1.0, 'AreTheStraightsOK': 1.0, 'squishmallow': 5.0, 'self': 2.0, 'AskReddit': 2.0, 'teenagers': 1.0}, 'sweetcandyfloss': {'Animesuggest': 1.0, 'University': 1.0, 'Jokes': 2.0, 'funny': 1.0, 'AskReddit': 1.0, 'YouShouldKnow': 1.0}, 'dr_LauraM': {'manchester': 1.0, 'Showerthoughts': 1.0, 'AskAcademia': 3.0, 'york': 3.0, 'LARP': 1.0, 'boardgames': 1.0, 'University': 1.0, 'HistoricalCostuming': 2.0, 'AskProfessors': 2.0}, 'juanjuansilvasilva': {'oddlysatisfying': 1.0, 'AskReddit': 13.0, 'es': 1.0}, '_Grotesque_': {'ask': 6.0, 'sad': 1.0, 'berlin': 4.0, 'worldnews': 1.0, 'germany': 3.0}, 'serennow': {'CryptoCurrency': 3.0, 'NUFC': 7.0, 'AskUK': 1.0, 'academia': 2.0, 'unitedkingdom': 2.0}, 'worldofbooks444': {'AskReddit': 4.0, 'fantasywriters': 1.0, 'booksuggestions': 1.0, 'Fantasy': 1.0, 'MovieSuggestions': 5.0, 'scifi': 1.0, 'books': 2.0}, 'laken_alexandra': {'NameNerdCirclejerk': 7.0, 'PokemonSwordAndShield': 1.0, 'torties': 2.0, 'AskReddit': 1.0, 'tonsilstones': 2.0, 'Hedgehog': 1.0, 'namenerds': 1.0}, 'lordofthepages': {'AnimalCrossingNewHor': 5.0, 'acnh': 1.0, 'BuddyCrossing': 2.0, 'NoFeeAC': 1.0, 'AnimalCrossing': 1.0, 'dune': 2.0, 'kpophelp': 1.0, 'ChoosingBeggars': 1.0, 'asexuality': 1.0}, 'Oblivious_Chicken': {'euphoria': 1.0, 'wheeloftime': 2.0, 'TheMorningShow': 2.0, 'MotherlandFortSalem': 6.0, 'TheNevers': 2.0, 'tipofmytongue': 2.0}, 'auzierrichard': {'brasil': 15.0}, 'aanamt': {'DoesAnybodyElse': 2.0, 'mechmarket': 1.0, 'UofT': 6.0, 'University': 5.0, 'personalfinance': 1.0}, 'sir_ramen': {'DeepRockGalactic': 3.0, 'TrueOffMyChest': 1.0, 'Edmonton': 4.0, 'vancouver': 1.0, 'arcane': 1.0, 'FalloutMods': 1.0, 'mildlyinteresting': 1.0, 'goodanimemes': 2.0, 'cats': 1.0}, 'SighFTL': {'University': 1.0, 'OldSchoolCool': 3.0}, 'nadamama': {'Finanzen': 1.0, 'University': 1.0, 'KillingStalking': 1.0}, 'triplezeroAR': {'University': 1.0}, 'crimpmaveric': {'AmItheAsshole': 1.0, 'newzealand': 1.0, 'Wellington': 7.0, 'UnsentLetters': 2.0, 'adultery': 1.0, 'University': 1.0, 'AskReddit': 1.0, 'unpopularopinion': 1.0}, 'Illustrious-Brother': {'Genshin_Impact': 5.0, 'ChurchOfMineta': 1.0, 'CookieRunKingdoms': 2.0, 'FanFiction': 3.0, 'Genshin_Lore': 1.0, 'AO3': 1.0, 'houkai3rd': 1.0, 'childemains': 1.0}, 'Siraps': {'Invincible': 1.0, 'ProgrammerHumor': 1.0, 'GradSchool': 2.0, 'ShitAmericansSay': 1.0, 'math': 3.0, 'ShitEuropeansSay': 1.0, 'europe': 1.0, 'menwritingwomen': 1.0, 'University': 1.0, 'harrypotter': 1.0, 'seinfeld': 2.0}, 'agree-with-you': {'DrawForMe': 1.0, 'Fishing': 1.0, 'dancegavindance': 1.0, 'beef_flaps': 1.0, 'TwoXADHD': 1.0, 'rustylake': 1.0, 'HairyArmpits': 1.0, 'UcheMba': 1.0, 'TgirlHUB': 1.0, 'assinthong': 1.0, 'PokeMoonSun': 1.0, 'Trading': 1.0, 'rangersfc': 1.0, 'mycleavage': 1.0, 'u_WildGoddessTeffy': 1.0}, 'OatmealNomeal': {'PenmanshipPorn': 3.0, 'BeAmazed': 1.0, 'FragReddit': 1.0, 'nextfuckinglevel': 1.0, 'frankfurt': 2.0, 'FoodPorn': 1.0, 'aww': 1.0, 'Calligraphy': 2.0, 'Baking': 1.0, 'DessertPorn': 1.0, 'AskReddit': 1.0}, 'BlueChequeredShirt': {'PhD': 1.0, 'houseplants': 2.0, 'worldnews': 1.0, 'cactus': 1.0, 'propagation': 2.0, 'Kalanchoe': 2.0, 'scihub': 2.0, 'IndoorGarden': 2.0, 'progressive_islam': 1.0, 'plantclinic': 1.0}, 'Mental-Fly-8008': {'NoFap': 4.0, 'dating_advice': 2.0, 'CoronavirusDownunder': 1.0, 'facepalm': 1.0, 'blackmagicfuckery': 1.0, 'dating': 1.0, 'HistoryMemes': 1.0, 'australia': 1.0, 'Showerthoughts': 1.0, 'civilengineering': 1.0, 'Tinder': 1.0}, 'Isyadoi': {'AskUK': 1.0, 'football': 3.0, 'queen': 1.0, 'fut': 3.0, 'DunderMifflin': 2.0, 'Guitar': 1.0, 'footballmanagergames': 3.0, 'TheOldZealand': 1.0}, 'SamSpayedPI': {'University': 3.0, 'AmItheAsshole': 12.0}, 'PeteyBoPetey': {'jetski': 2.0, 'University': 4.0, 'AusFinance': 6.0, 'unRAID': 3.0}, 'BlabliGam': {'macgaming': 1.0, 'Tinder': 1.0, 'ObsidianMD': 1.0, 'askspain': 1.0, 'University': 4.0, 'Notion': 3.0, 'ITCareerQuestions': 1.0, 'AppleWatch': 1.0, 'googlehome': 1.0, 'lifehacks': 1.0}, 'Dark_Lord_Mr_B': {'auckland': 4.0, 'cat': 1.0, 'Teachers': 2.0, 'Bass': 1.0, 'Tyr': 1.0, 'autism': 1.0, 'X4Foundations': 2.0, 'ARK': 1.0, 'Bossfight': 1.0, 'BassGuitar': 1.0}, 'WhiteTrashTiger': {'books': 1.0, 'NoFap': 2.0, 'itookapicture': 2.0, 'personalfinance': 1.0, 'CryptoCurrency': 1.0, 'castiron': 1.0, 'TheDepthsBelow': 1.0, 'VaporwaveAesthetics': 1.0, 'Cooking': 1.0, 'ADHD': 1.0, 'whatsthisplant': 1.0, 'preppers': 1.0, 'CasualConversation': 1.0}, 'lagerttha': {'dating_advice': 4.0, 'Tinder': 4.0, 'starterpacks': 1.0, 'relationship_advice': 2.0, 'technicallythetruth': 1.0, 'TattooRemoval': 1.0, 'LDR': 1.0, 'relationships_advice': 1.0}, 'wooperdo': {'WeirdEggs': 1.0, 'shittyfoodporn': 1.0, 'teenagers': 10.0, '6thForm': 3.0}, 'inspire1672': {'GetStudying': 1.0, 'University': 1.0, 'romani': 6.0, 'socialskills': 1.0, 'unpopularopinion': 6.0}, 'OfAThievishDemeanor': {'Advice': 3.0, 'CasualConversation': 1.0, 'Random_Acts_of_Etsy': 1.0, 'tumblr': 1.0, 'ainbow': 3.0, 'gifs': 1.0, 'mbti': 1.0, 'mendrawingwomen': 1.0, 'ENFP': 2.0, 'cursedcomments': 1.0}, 'SciencebitchGB': {'miniminter': 1.0, 'University': 2.0}, 'Sh1neS0Br1ght': {'YUROP': 2.0, 'IASIP': 1.0, 'FostTalicska': 1.0, 'PKA': 1.0, 'PoliticalCompassMemes': 1.0, 'Anarcho_Capitalism': 1.0, 'gaming': 1.0, 'teenagers': 2.0, 'thanosdidnothingwrong': 1.0, 'dogelore': 1.0, 'GymMemes': 1.0, 'budapest': 1.0, 'hungary': 1.0}, 'g_netic': {'darksouls3': 4.0, 'news': 1.0, 'SkincareAddiction': 2.0, 'Eldenring': 1.0, 'HaircareScience': 2.0, 'University': 1.0, 'brandnew': 1.0, 'Amphibians': 3.0}, 'ajstormy': {'Biochemistry': 1.0, 'amiibo': 2.0, 'University': 11.0, 'labrats': 1.0}, 'HauntingArmadillo519': {'Professors': 1.0, 'UniUK': 2.0, 'askTO': 1.0, 'paralegal': 1.0, 'legaladvice': 1.0, 'LawCanada': 2.0, 'instacart': 1.0, 'luckypatcher': 1.0, 'college': 1.0, 'textbookrequest': 1.0, 'britishproblems': 1.0, 'Humber': 1.0, 'slavelabour': 1.0}, 'MiseraCale': {'firstimpression': 1.0, 'Paleontology': 5.0, 'OUTFITS': 1.0, 'fossilid': 3.0, 'castlevania': 1.0, 'ColumbiYEAH': 1.0, 'geology': 1.0, 'Dinosaurs': 1.0, 'pics': 1.0}, 'secretfreakout': {'childfree': 3.0, 'Vermiculture': 1.0, '30PlusSkinCare': 1.0, 'smallbusiness': 4.0, 'Pottery': 1.0, 'Teachers': 1.0, 'Eugene': 2.0, 'SpaceBuckets': 2.0}, 'SuperResponse6': {'FriendshipAdvice': 6.0, 'University': 1.0, 'Depop': 6.0, 'bereavement': 2.0}, 'Sally143': {'McMaster': 14.0, 'ryerson': 1.0}, 'PyroKeith': {'AskReddit': 2.0, 'University': 4.0, 'LeagueOfMemes': 1.0, 'relationship_advice': 4.0, 'cosplaygirls': 1.0, 'Cringetopia': 1.0, 'Netherlands': 2.0}, 'EssayWritersHub': {'study': 1.0, 'GetStudying': 1.0, 'memes': 1.0, 'CollegeEssays': 1.0, 'soccer': 10.0, 'Cornell': 1.0}, 'True_Mountain5949': {'AskReddit': 7.0, 'AmItheAsshole': 3.0, 'married': 1.0, 'dogecoin': 4.0}, 'MarinaHexyl': {'arcane': 6.0, 'depression': 3.0, 'GossipGirl': 1.0, 'relationships': 1.0, 'AmItheAsshole': 3.0, 'findomfinder': 1.0}, 'terralacia': {'autism': 2.0, 'Colorguard': 2.0, 'FanFiction': 3.0, 'University': 3.0, 'rurounikenshin': 2.0, 'itookapicture': 1.0, 'Christianity': 1.0, 'college': 1.0}, 'Samurai_Rachaek': {'ehlersdanlos': 1.0, 'starterpacks': 1.0, 'aspiememes': 6.0, 'strandeddeep': 1.0, 'ChineseLanguage': 1.0, 'UniUK': 1.0, 'marvelcomics': 1.0, 'FallGuys': 1.0, 'AmItheAsshole': 1.0, 'TheSimpsons': 1.0}, 'Somewhere_E': {'askswitzerland': 1.0, 'Switzerland': 3.0, 'kpophelp': 3.0, 'University': 6.0, 'cats': 1.0, 'memes': 1.0}, 'ificouldtellher': {'BellsPalsy': 6.0, 'University': 1.0, 'windows': 1.0, 'TaylorSwift': 5.0, 'SwiftieMerch': 1.0, 'JustDanceFitness': 1.0}, 'das_Keks': {'Guildwars2': 4.0, 'watercooling': 5.0, 'computers': 2.0, 'nvidia': 1.0, 'ProgrammerHumor': 2.0, 'Crysis': 1.0}, 'tezziepop': {'CasualConversation': 15.0}, 'feuthermist': {'EngineeringStudents': 1.0, 'toradora': 1.0, 'Durarara': 1.0, 'UniversityUK': 1.0, 'introvertmemes': 1.0, 'womenEngineers': 1.0, 'self': 1.0, 'introvert': 1.0, 'bi_irl': 1.0, 'AskWomen': 2.0, 'CrappyDesign': 1.0, 'MaidSama': 1.0, 'Wellthatsucks': 1.0, 'dating': 1.0}, 'notclever2': {'lonely': 1.0, 'Celebs': 1.0, 'University': 1.0, 'neekolul': 2.0, 'ScarlettJohansson': 1.0, 'kpopfap': 2.0, 'AskReddit': 3.0, 'OnePiece': 1.0, 'spss': 2.0, 'college': 1.0}, 'xlez': {'cheesemaking': 1.0, 'MobileLegendsGame': 1.0, 'malaysians': 3.0, 'saxophone': 1.0, 'University': 1.0, 'ThaiFood': 1.0, 'AskReddit': 1.0, 'running': 2.0, 'orangecats': 1.0, 'askSingapore': 2.0, 'NTU': 1.0}, 'BDAKsss': {'MCFC': 6.0, 'NFTsMarketplace': 8.0, 'soccer': 1.0}, 'ObjectiveMeal': {'alcohol': 5.0, 'Drugs': 4.0, 'AskReddit': 4.0, 'depression': 1.0, 'Christianity': 1.0}, 'younglemon4': {'writers': 1.0, 'badwomensanatomy': 1.0, 'FuckYouKaren': 1.0, 'SluttyConfessions': 2.0, 'Nicegirls': 2.0, 'im14andthisisdeep': 1.0, 'Instagramreality': 2.0, 'mildlyinteresting': 1.0, 'Minecraft': 4.0}, 'mxcle': {'Anxiety': 5.0, 'depression': 10.0}, 'ZeroKurow': {'Assistance': 9.0, 'Favors': 1.0, 'lordofdiceGlobal': 1.0, 'HonkaiImpact3rd': 1.0, 'phantomofthekill': 1.0, 'University': 2.0}, 'meeseri': {'SLOWLYapp': 6.0, 'BDSMcommunity': 2.0, 'Makeup': 7.0}, 'ben12336': {'UniUK': 1.0, 'DeepThoughts': 1.0, 'University': 1.0}, 'ylata': {'University': 1.0}, 'Plus-Owl4151': {'depression': 6.0, 'University': 2.0, 'funny': 1.0, 'greenday': 1.0, 'weezer': 5.0}, 'aybrunette': {'UniUK': 1.0, 'VeganFoodPorn': 2.0, 'University': 3.0, 'finnish': 1.0, 'LDR': 2.0, 'wholesomememes': 1.0, 'LongDistance': 2.0, 'suggestmeabook': 3.0}, 'Brand0n_C': {'ksi': 3.0, 'ToolBand': 5.0, 'BringMeTheHorizon': 4.0, 'onewheel': 2.0, 'cats': 1.0}, 'poursomesugaronu2': {'AskReddit': 2.0, 'AmItheAsshole': 1.0, 'Coronavirus_NZ': 1.0, 'trashy': 1.0, 'harrypotter': 1.0, 'chch': 1.0, 'LGBTWeddings': 2.0, 'cakeday': 2.0, 'Chonkers': 1.0, 'PizzaDrivers': 1.0, 'subway': 1.0, 'marton': 1.0}, 'LeSUTHU': {'askphilosophy': 2.0, 'UofT': 5.0, 'ApplyingToCollege': 8.0}, 'itsmels2019': {'sales': 1.0, 'relationship_advice': 1.0, 'WatchPeopleDieInside': 1.0, 'UniUK': 3.0, 'FemaleLevelUpStrategy': 1.0, 'fragrance': 1.0, 'selfhelp': 1.0, 'socialmedia': 1.0, 'UKPersonalFinance': 3.0, 'xxfitness': 1.0, 'FemaleDatingStrategy': 1.0}, 'cuckinfasual': {'ffxiv': 15.0}, 'fresh-cucumbers': {'BJJWomen': 3.0, 'EntitledBitch': 9.0, 'AskWomen': 1.0, 'bjj': 2.0}, 'MisteryMyster': {'RocketLeague': 6.0, 'explainlikeimfive': 1.0, 'QuitVaping': 1.0, 'RoastMe': 2.0, 'happy': 1.0, 'RandomThoughts': 1.0, 'sixwordstories': 1.0, 'rickandmorty': 1.0, 'chess': 1.0}, 'LordZeman': {'memes': 1.0, 'ShitAmericansSay': 1.0, 'SpaceXMasterrace': 1.0, 'University': 2.0, 'IBO': 2.0, 'TUDelft': 1.0, 'relationship_advice': 1.0}, 'madeo216': {'Anxiety': 1.0, 'findapath': 1.0, 'productivity': 1.0, 'AskReddit': 3.0, 'britishproblems': 1.0, 'Damnthatsinteresting': 1.0, 'UniUK': 1.0, 'mildlyinteresting': 1.0, 'warsaw': 1.0, 'expats': 2.0, 'Tinder': 2.0}, 'AlbertusM': {'dogs': 2.0, 'BALLET': 12.0, 'mathematics': 1.0}, 'Socasx7': {'CourseHelper': 1.0, 'counter_strike': 1.0, 'Psychonaut': 1.0, 'nextfuckinglevel': 2.0, 'University': 2.0, 'progresspics': 2.0}, 'TeMeHope': {'UTSC': 8.0, 'Wallstreetsilver': 1.0, 'Chadtopia': 3.0, 'me_irl': 2.0, 'socialanxiety': 1.0}, 'leithariuz': {'University': 4.0, 'AskReddit': 1.0, 'UniversityOfHouston': 2.0, 'youtube': 1.0}, 'RandomDanishKvinde': {'AskReddit': 3.0, 'University': 1.0, 'niceguys': 1.0, 'AmItheAsshole': 4.0, 'college': 3.0, 'plantsandpots': 1.0}, 'Poetic_Terrorism': {'INFJmemes': 1.0, 'polandball': 2.0, 'europe': 3.0, 'brussels': 4.0, 'college': 1.0, 'study': 1.0, 'University': 2.0, 'ToeflAdvice': 1.0}, 'Bluejay_Single': {'mildlyinfuriating': 4.0, 'troubledteens': 2.0, 'IdiotsInCars': 2.0, 'lucario': 2.0, 'shittyfoodporn': 2.0, 'starwarsmemes': 1.0, 'Damnthatsinteresting': 1.0, 'teenagers': 1.0}, 'toomuchoverthinking1': {'University': 1.0, 'ThreshMains': 1.0, 'leagueoflegends': 1.0, 'HomeworkHelp': 5.0, 'Veterinary': 6.0}, 'B0-Katan': {'RICE': 1.0, 'CasualUK': 2.0, 'toradora': 1.0, 'Jewish': 1.0, 'aww': 1.0, 'Judaism': 1.0, 'AskUK': 7.0, 'budgetfood': 1.0}, 'TheToxicTeddy': {'endomemes': 1.0, 'endometriosis': 1.0, 'Endo': 11.0, 'RandomThoughts': 2.0}, 'Curious_Tie_9397': {'Concordia': 2.0, 'getdisciplined': 1.0, 'gmu': 2.0, 'uwaterloo': 3.0, 'UWindsor': 2.0, 'uwinnipeg': 1.0, 'Fordham': 2.0, 'OKState': 2.0}, 'U_Know_The_Name_G': {'AnimeFunny': 1.0, 'animememes': 1.0, 'Ripple': 1.0, 'Cringetopia': 12.0}, 'blackrainbows76': {'egg_irl': 13.0, 'traaaaaaannnnnnnnnns': 1.0, '196': 1.0}, 'her__line': {'exjw': 15.0}, 'SomeAvocado': {'business': 1.0, 'IncrediblesMemes': 1.0, 'MCPE': 1.0, 'TrollYChromosome': 1.0, 'Unexpected': 1.0, 'airbrush': 1.0, 'dbrand': 2.0, 'R6SiegeFashionAdvice': 4.0, 'SiegeAcademy': 1.0, 'Amd': 1.0, 'PinkOmega': 1.0}, 'Jex-92': {'AskReddit': 5.0, 'worldnews': 2.0, 'marinebiology': 1.0, 'avfc': 1.0, 'University': 2.0, 'ShroomID': 1.0, 'Coronavirus': 1.0, 'CasualUK': 1.0, 'lonely': 1.0}, 'hooksarchives9303': {'TalkTherapy': 1.0, 'OUTFITS': 2.0, 'ENFP': 1.0, 'AmItheAsshole': 3.0, 'AskReddit': 1.0, 'tumblr': 1.0, 'Tinder': 1.0, 'Breath_of_the_Wild': 1.0, 'StarWars': 1.0, 'BeautyAddiction': 1.0, 'LongDistance': 1.0, 'socialwork': 1.0}, 'bryxny': {'Anxiety': 1.0, 'vegan': 2.0, 'gaming': 1.0, 'EarStretching': 1.0, 'DigitalArt': 1.0, 'HungryArtists': 2.0, 'commissions': 1.0, 'hamsters': 4.0, 'AskUK': 1.0, 'Stretched': 1.0}, 'dancingfeet999': {'jobsearchhacks': 2.0, 'jobsearch': 3.0, 'resumes': 3.0, 'Makeup': 2.0, 'AnimalCrossing': 5.0}, 'm_iawia': {'AskReddit': 4.0, 'mildlyinfuriating': 1.0, 'LearnJapanese': 1.0, 'AnimalCrossing': 5.0, 'NewHorizonsAC': 2.0, 'relationship_advice': 1.0, 'mbti': 1.0}, 'Aadeshwar': {'csgo': 2.0, 'Guildwars2': 11.0, 'ClashOfClans': 1.0, 'StarWarsBattlefront': 1.0}, 'BamaSOH': {'startrek': 1.0, 'russia': 1.0, 'dankmemes': 2.0, 'dating_advice': 1.0, 'Sacramento': 3.0, 'JRPG': 1.0, 'ANormalDayInRussia': 1.0, 'castiron': 2.0, 'russian': 1.0, 'Damnthatsinteresting': 1.0, 'motorcycles': 1.0}, 'VoronSock': {'tattooedgirls': 1.0, 'gothsluts': 2.0, 'AskReddit': 4.0, 'u_Leslielux95': 1.0, 'u_Lydiagh0st': 1.0, 'Weird': 1.0, 'BreedingMaterial': 2.0, 'pics': 1.0, 'theyknew': 1.0, 'Crypto_com': 1.0}, 'bossycloud': {'IdiotsInCars': 3.0, 'CrappyDesign': 1.0, 'interestingasfuck': 1.0, 'nextfuckinglevel': 2.0, 'androidapps': 2.0, 'facepalm': 1.0, 'instantkarma': 1.0, 'blursedimages': 1.0, 'Wellthatsucks': 2.0, 'Showerthoughts': 1.0}, 'imdad_bot': {'Cursed_Images': 1.0, 'Frenchbulldogs': 1.0, 'ILGuns': 1.0, 'PublicFreakout': 1.0, 'LegalAdviceUK': 1.0, 'iamveryrandom': 1.0, 'Bass': 1.0, 'gtaonline': 1.0, 'The100': 1.0, 'SmashBrosUltimate': 1.0, 'Retconned': 1.0, 'Animedubs': 1.0, 'modernwarfare': 1.0, 'AskUK': 1.0, 'HongKong': 1.0}, 'Should_Be': {'TalkTherapy': 15.0}, 'potatchips22': {'offmychest': 2.0, 'NoStupidQuestions': 5.0, 'LongDistance': 5.0, 'TrueOffMyChest': 1.0, 'AskReddit': 1.0, 'PublicFreakout': 1.0}, 'Birrabenzina': {'chernobyl': 4.0, 'AncestryDNA': 1.0, '23andme': 7.0, 'folkmetal': 2.0, 'MaliciousCompliance': 1.0}, 'MartAres': {'University': 2.0, 'Python': 3.0, 'CanadianForces': 1.0}, 'thatslifeisuppose': {'AskDocs': 1.0, 'depression': 1.0, 'University': 6.0, 'oddlysatisfying': 1.0, 'Accounting': 2.0, 'ksi': 1.0, 'spss': 2.0, 'Wellthatsucks': 1.0}, 'bigfatrat2': {'TrueOffMyChest': 2.0, 'NewcastleUponTyne': 1.0, 'brooklynninenine': 1.0, 'britishproblems': 1.0, 'University': 2.0, 'technicallythetruth': 1.0, 'WhitePeopleTwitter': 2.0, 'AreTheStraightsOK': 1.0, 'AskReddit': 1.0, 'ShitAmericansSay': 3.0}, 'siol981': {'startrek': 7.0, 'AskDocs': 1.0, 'conspiracy': 4.0, 'islam': 2.0, 'dating_advice': 1.0}, 'hey_hey_helloo': {'AskReddit': 5.0, 'AskUK': 4.0, 'AskMen': 2.0, 'confidence': 1.0, 'FreeCompliments': 1.0, 'UniUK': 1.0, 'Tinder': 1.0}, 'courtnieee2': {'pregnant': 11.0, 'thingsmykidsaid': 2.0, 'booksuggestions': 1.0, 'Cheese': 1.0}, 'tacospambitch': {'University': 3.0, 'Instagram': 2.0, 'VeganFood': 1.0}, 'fancy-feasti': {'selfharm': 4.0, 'queensuniversity': 1.0, 'SK8': 6.0, 'NewSkaters': 4.0}, 'Melos_Paladin': {'regina': 4.0, 'sidehustle': 3.0, 'DungeonMasters': 2.0, 'povertyfinance': 1.0, '3Dprinting': 1.0, 'bestof': 1.0, 'dice': 1.0, 'EtsySellers': 1.0, 'memes': 1.0}, 'bumblebee222212': {'AskReddit': 1.0, 'CarTalkUK': 4.0, 'teenagers': 1.0, 'GalaxyFold': 4.0, 'cyberpunkgame': 1.0, 'PokemonBDSP': 3.0, 'DonutMedia': 1.0}, 'comatose_papaya': {'MobileLegendsGame': 14.0, 'AskReddit': 1.0}, 'No_Cauliflower8579': {'MentalHealthUK': 5.0, 'SuicideWatch': 1.0, 'Anxiety': 3.0, 'sex': 1.0, 'depression': 2.0, 'careerguidance': 1.0, 'HealthAnxiety': 1.0, 'philosophy': 1.0}, 'mattttttttt97': {'aspergers': 3.0, 'harrypotter': 3.0, 'SocialDemocracy': 3.0, 'Crushes': 2.0, 'atunsheifilms': 1.0, 'forhonor': 1.0, 'monarchism': 1.0, 'Bumble': 1.0}, 'alwaysxsleeping': {'TheMorningShow': 1.0, 'piercing': 2.0, 'greysanatomy': 3.0, 'hentai': 1.0, 'tuberous': 1.0, 'CrossStitch': 7.0}, 'thetiniestsquirrel': {'Damnthatsinteresting': 1.0, 'GradSchool': 12.0, 'askswitzerland': 1.0, 'Switzerland': 1.0}, 'dadbot_3000': {'profanitycounter': 1.0, 'SafeMoon': 1.0, 'NashvilleSwingersR4R': 1.0, 'formuladank': 1.0, 'AliensAmongUs': 1.0, 'Teenager_Polls': 1.0, 'devops': 1.0, 'ravens': 2.0, 'RogueCompany': 1.0, 'confessions': 1.0, 'pumparum': 1.0, 'u_HunnyWeed': 1.0, 'traps': 1.0, 'goodanimemes': 1.0}, 'acp174': {'italianlearning': 1.0, 'SkincareAddictionUK': 3.0, 'Hair': 1.0, 'FancyFollicles': 1.0, 'Instagramreality': 4.0, 'Portuguese': 1.0, 'UniUK': 2.0, 'tooktoomuch': 1.0, 'endometriosis': 1.0}, 'thatsok00': {'FreeCompliments': 1.0, 'Advice': 3.0, 'curlyhair': 1.0, 'AskReddit': 6.0, 'mentalhealth': 3.0, 'offmychest': 1.0}, 'Alexa302': {'skyrim': 2.0, 'University': 1.0, 'britishproblems': 1.0, 'whatsthisrock': 1.0, 'hamstercare': 1.0, 'cats': 2.0, 'houseplants': 1.0, 'insects': 1.0, 'FamilyIssues': 3.0, 'coins': 2.0}, 'CY-1111': {'University': 1.0, 'Sat': 4.0, 'APStudents': 2.0, 'AskUK': 1.0, 'writing': 3.0, 'AskReddit': 4.0}, 'Nardman1': {'askdentists': 1.0, 'Entomology': 1.0, 'ecommerce': 1.0, 'AskReddit': 4.0, 'SpotifyPlaylists': 7.0, 'Fifa21': 1.0}, 'SecretBackground': {'IdiotsInCars': 1.0, 'TwoXChromosomes': 5.0, 'Scotland': 2.0, 'unitedkingdom': 1.0, 'britishproblems': 2.0, 'aspiememes': 4.0}, 'WowSuchName21': {'csgo': 1.0, 'spotted': 1.0, 'ForzaHorizon': 1.0, 'NZXT': 4.0, 'cycling': 2.0, 'offmychest': 1.0, 'nvidia': 1.0, 'pics': 1.0, 'Amd': 1.0, 'videogamedunkey': 1.0, 'ABoringDystopia': 1.0}, 'forever_flying': {'googleplaydeals': 2.0, 'aspiememes': 1.0, 'WVU': 5.0, 'pcmasterrace': 1.0, 'SelfAwarewolves': 1.0, 'ChrisChanSonichu': 1.0, 'Surface': 1.0, 'Cringetopia': 1.0, 'facepalm': 1.0, 'ConservativeMemes': 1.0}, 'Robert_H_': {'college': 8.0, 'CollegeRant': 1.0, 'careerguidance': 3.0, 'findapath': 2.0, 'University': 1.0}, 'prinkipissakratos': {'assertivenesstraining': 1.0, 'AskUK': 3.0, 'AskReddit': 4.0, 'teenagers': 1.0, 'careerguidance': 2.0, 'NoStupidQuestions': 2.0, 'AMA': 1.0, 'unpopularopinion': 1.0}, 'WhiskyandSour': {'millionairemakers': 1.0, 'University': 1.0, 'relationship_advice': 4.0, 'atheism': 1.0, 'WhitePeopleTwitter': 1.0, 'humblebundles': 1.0, 'personalfinance': 1.0, 'iamatotalpieceofshit': 1.0, 'pics': 1.0, 'buildapcforme': 1.0, 'wholesomememes': 2.0}, 'tyerapist': {'wallstreetbets': 1.0, 'snowboarding': 1.0, 'FollowForFollow': 6.0, 'breakingbad': 2.0, 'ExposurePorn': 2.0, 'Psychonaut': 1.0, 'DidntKnowIWantedThat': 1.0, 'memes': 1.0}, 'Senorjordan': {'HolUp': 3.0, 'Fishing': 1.0, 'goodanimemes': 2.0, 'onewordeach': 1.0, 'Genshin_Impact': 2.0, 'Aquariums': 1.0, 'Unexpected': 1.0, 'AyakaMains': 1.0, 'Bushcraft': 1.0, 'teenagers': 1.0, 'coolguides': 1.0}, 'Ghx57': {'college': 15.0}, 'amguiltyguiltyguilty': {'AusMemes': 2.0, 'DunderMifflin': 1.0, 'Needafriend': 2.0, 'homeless': 2.0, 'AustralianPolitics': 1.0, 'mildlyinfuriating': 1.0, 'AskMen': 1.0, 'University': 1.0, 'Money': 1.0, 'Frugal': 2.0, 'antinatalism': 1.0}, 'HardcoreBandit': {'nattyorjuice': 1.0, 'VlogSquadGirls': 1.0, 'IBO': 12.0, 'usyd': 1.0}, 'vali241': {'survivor': 3.0, 'fitmeals': 1.0, 'AskReddit': 2.0, 'EatCheapAndHealthy': 3.0, 'YAlit': 6.0}, 'NikitaRetro80': {'stanford': 1.0, 'studytips': 4.0, 'GetStudying': 1.0, 'CollegeRant': 1.0, 'GradSchool': 7.0, 'u_NikitaRetro80': 1.0}, 'bgroovyb': {'wingfoil': 2.0, 'sciencefiction': 1.0, 'MechanicalEngineering': 1.0, 'blogs': 1.0, 'finance': 1.0, 'UniUK': 2.0, 'engineering': 1.0, 'ArtificialInteligence': 2.0, 'AskReddit': 2.0, 'University': 2.0}, 'pnweiner': {'ADHD': 1.0, 'KneadyCats': 2.0, 'FreeCompliments': 1.0, 'CozyPlaces': 1.0, 'WhiskerFireworks': 1.0, 'Temple': 4.0, 'TuxedoCats': 2.0, 'cathostage': 2.0, 'Fuckthealtright': 1.0}, 'Yolodunni': {'3Dmodeling': 5.0, 'premiere': 1.0, 'NoMansSkyTheGame': 1.0, 'AwakenedTV': 1.0, 'web_design': 2.0, 'Surface': 1.0, 'AfterEffects': 1.0, 'webdev': 1.0, 'indesign': 2.0}, 'BobIsBusy': {'AskUK': 3.0, 'london': 1.0, 'AskReddit': 1.0, 'britishproblems': 1.0, 'GCSE': 1.0, 'AskAnAmerican': 1.0, 'marvelstudios': 1.0, 'AmItheAsshole': 1.0, 'videos': 1.0, 'BritishSuccess': 3.0, 'CasualUK': 1.0}, 'princessharu06': {'Barbie': 1.0, 'rollerblading': 2.0, 'TrueOffMyChest': 6.0, 'atheism': 4.0, 'Teachers': 1.0, 'borrow': 1.0}, 'Kocia-ska': {'YUROP': 2.0, 'lingling40hrs': 3.0, 'AskReddit': 3.0, 'Anxiety': 2.0, 'college': 1.0, 'france': 2.0, 'AmItheAsshole': 1.0, 'dankmemes': 1.0}, 'ExcidiaWolf': {'Genshin_Impact': 2.0, 'germany': 7.0, 'de': 3.0, 'socialanxiety': 3.0}, 'fragilehumanity': {'Adelaide': 1.0, 'LockdownSkepticism': 1.0, 'CoronavirusDownunder': 2.0, 'AusFinance': 5.0, 'PoliticalHumor': 1.0, 'Unexpected': 1.0, 'australia': 1.0, 'AskReddit': 2.0, 'auslaw': 1.0}, 'fwipfwop': {'stopdrinking': 1.0, 'OldSchoolCool': 1.0, 'unpopularopinion': 1.0, 'interestingasfuck': 1.0, 'AskReddit': 2.0, 'AskUK': 2.0, 'Damnthatsinteresting': 1.0, 'WhitePeopleTwitter': 1.0, 'boobs': 1.0, 'natureismetal': 1.0, 'Business_Ideas': 1.0, 'Entrepreneur': 2.0}, 'caz1426': {'tipofmytongue': 1.0, 'AskReddit': 8.0, 'MathHelp': 1.0, 'Whatcouldgowrong': 1.0, 'CrappyDesign': 1.0, 'britishproblems': 1.0, 'University': 1.0, 'memes': 1.0}, 'Joe_PTN': {'UniUK': 4.0, 'University': 3.0, 'GetStudying': 1.0, 'history': 2.0}, 'iconic_ironic_trash': {'AskUK': 4.0, 'lotrmemes': 2.0, 'UniUK': 2.0, 'CasualUK': 1.0, 'NotHowGirlsWork': 1.0, 'creativewriting': 3.0, 'curlyhair': 1.0, 'Anxiety': 1.0}, 'simplysez': {'questions': 1.0, 'BeautyGuruChatter': 4.0, 'Sub4Sub': 1.0, 'GetStudying': 4.0, 'University': 5.0}, 'Hopeful-Mortgage2408': {'thegrandtour': 6.0, 'korea': 1.0, 'space': 1.0, 'technicallythetruth': 7.0}, 'Nice-Woodpecker-9197': {'AskFeminists': 3.0, 'AskUK': 1.0, 'Feminism': 2.0, 'University': 3.0}, '_deathrattle': {'CollegeRant': 1.0, 'greysanatomy': 5.0, 'AskUK': 1.0, 'UniUK': 4.0, 'University': 1.0, 'britishproblems': 1.0, 'confession': 1.0, 'DysfunctionalFamily': 1.0}, 'dirty_soup': {'mcgill': 1.0, 'donaldglover': 2.0, 'uoguelph': 5.0, 'Kanye': 7.0}, 'justanotherworm': {'EndMassIncarceration': 1.0, 'University': 4.0, 'relationship_advice': 1.0}, 'paige_8': {'exeter': 1.0, 'veganuk': 5.0, 'UniUK': 2.0, 'Mindfulness': 1.0, 'vegan': 1.0, 'BeAmazed': 5.0}, 'jason_connor': {'Gunners': 5.0, 'soccer': 2.0, 'mac': 2.0, 'wallstreetbets': 1.0, 'theJoeBuddenPodcast': 1.0, 'AskReddit': 3.0, 'BlackPeopleTwitter': 1.0}, 'houseplantfortheroad': {'University': 5.0, 'AntiVaxxers': 1.0, 'DiWHY': 1.0, 'AskReddit': 2.0, 'WLW': 2.0, 'botw': 1.0, 'mildlyinteresting': 1.0, 'whisper': 1.0, 'AmItheAsshole': 1.0}, 'sarayab1': {'Advice': 6.0, 'botany': 2.0, 'DoomPatrol': 2.0, 'CPBBD': 2.0, 'University': 3.0}, 'otuob1': {'FIFA': 1.0, 'igcse': 2.0, 'University': 2.0}, 'SnooWords2089': {'Advice': 6.0, 'relationship_advice': 3.0, 'Vent': 1.0, 'AskReddit': 4.0, 'MakeNewFriendsHere': 1.0}, 'amelie94210': {'gwu': 5.0, 'askdentists': 1.0, 'wisdomteeth': 1.0, 'AskDocs': 3.0, 'AskReddit': 1.0, 'bocconi': 4.0}, 'poofandfloof': {'Cooking': 2.0, 'AmItheAsshole': 1.0, 'sewing': 3.0, 'relationship_advice': 3.0, 'PublicFreakout': 1.0, 'vultureculture': 3.0, 'University': 1.0, 'AMA': 1.0}, 'Scarz541': {'UniUK': 2.0, 'ManchesterUnited': 4.0, 'ukdrill': 4.0, 'london': 1.0, 'nonutnovember': 3.0, 'PremierLeague': 1.0}, 'vampirescarlett': {'BattleJackets': 4.0, 'University': 2.0, 'relationship_advice': 1.0, 'MovieSuggestions': 1.0, 'punk': 1.0, 'Ghostbc': 1.0, 'alternativefashion': 2.0}, 'Torpid_Onism': {'YouOnLifetime': 10.0, 'bathandbodyworks': 1.0, 'AmItheAsshole': 1.0, 'Austin': 1.0, 'puppy101': 2.0}, 'musiknits': {'AmItheAsshole': 12.0, 'whatstheword': 1.0, 'knitting': 1.0, 'relationships': 1.0}, 'Danie99': {'squidgame': 2.0, 'AmItheAsshole': 2.0, 'badwomensanatomy': 1.0, 'RATS': 1.0, 'pointlesslygendered': 1.0, 'greysanatomy': 7.0, '1200isplenty': 1.0}, 'samcaval': {'FREE': 1.0, 'TheOwlHouse': 1.0, 'PrincessesOfPower': 11.0, 'RecordThisForFree': 1.0, 'Catra': 1.0}, 'ArchAngel515': {'mcservers': 2.0, 'Slipknot': 3.0, 'insomnia': 1.0, 'virgin': 4.0, 'melbourne': 1.0, 'dating': 2.0, 'sex': 1.0, 'bigdickproblems': 1.0}, 'jayatcsus': {'CAStateWorkers': 6.0, 'UCDavis': 2.0, 'college': 1.0, 'CSUS': 5.0, 'academia': 1.0}, 'dry_bucko': {'UnresolvedMysteries': 1.0, 'gentlemanboners': 1.0, 'Instagramreality': 1.0, 'NoStupidQuestions': 1.0, 'TooAfraidToAsk': 1.0, 'PartyParrot': 1.0, 'MakeMeSuffer': 1.0, 'streetwear': 2.0, 'Music': 1.0, 'australia': 1.0, 'rareinsults': 1.0, 'TwoXChromosomes': 1.0, 'bi_irl': 1.0, 'therewasanattempt': 1.0}, 'Griffie': {'AskReddit': 1.0, 'aww': 1.0, 'Kitchenaid': 1.0, 'ypsi': 1.0, 'Justrolledintotheshop': 2.0, 'MechanicAdvice': 1.0, 'Dogtraining': 3.0, 'techtheatre': 2.0, 'Theatre': 1.0, 'hivaids': 1.0, 'nostalgia': 1.0}, 'Open_Influence': {'Target': 3.0, 'University': 1.0, 'ApartmentHacks': 4.0, 'HomeImprovement': 1.0, 'MechanicAdvice': 6.0}, 'Akvned': {'reactjs': 7.0, 'learnprogramming': 1.0, 'abudhabi': 2.0, 'dubai': 2.0, 'ProgrammingBuddies': 3.0}, 'ClarinetMaster117': {'transformers': 8.0, 'modernwarfare': 3.0, 'DevilMayCry': 1.0, 'technology': 1.0, 'pics': 1.0, 'AnimalCrossing': 1.0}, 'Lapinfort': {'AskReddit': 3.0, 'vancouverwa': 6.0, 'Theatre': 3.0, 'University': 1.0, 'Lovecraft': 1.0, 'freepatterns': 1.0}, 'zola129': {'PoliticalHumor': 1.0, 'TooAfraidToAsk': 1.0, 'AskReddit': 8.0, 'AO3': 2.0, 'funny': 1.0, 'DanmeiNovels': 1.0, 'interestingasfuck': 1.0}, 'LooksAtClouds': {'AskReddit': 4.0, 'cancer': 2.0, 'Cooking': 1.0, 'Theatre': 4.0, 'howto': 1.0, 'Archaeology': 1.0, 'houston': 1.0, 'personalfinance': 1.0}, 'thienthanhtran97': {'sugarlifestyleforum': 2.0, 'relationship_advice': 8.0, 'SHIBArmy': 1.0, 'University': 2.0, 'Adoption': 2.0}, 'Author_Mission': {'education': 2.0, 'college': 3.0, 'edtech': 1.0, 'University': 6.0, 'Professors': 1.0, 'GradSchool': 2.0}, 'RevolutionaryChef319': {'Students': 2.0, 'AskReddit': 2.0, 'ECEProfessionals': 1.0, 'college': 2.0, 'University': 5.0, 'u_InvestigatorNo4043': 1.0, 'education': 2.0}, 'Cat-dude-': {'MechanicalKeyboards': 2.0, 'AskRedditAfterDark': 2.0, 'University': 1.0, 'mangadex': 1.0, 'apexlegends': 1.0, 'gaystoriesgonewild': 1.0, 'UmbrellaAcademy': 1.0}, 'Ok_Employ_4459': {'University': 2.0, 'findapath': 1.0, 'AskAcademia': 3.0, 'college': 3.0, 'CommunityColleges': 3.0, 'instructionaldesign': 2.0, 'education': 1.0}}\n",
      "Distances:\n",
      "0\n",
      "0.25\n",
      "0\n",
      "Pearsons:\n",
      "0\n",
      "0\n",
      "0\n",
      "Recommendations:\n",
      "[(4.0, 'relationship_advice'), (4.0, 'dogecoin'), (4.0, 'bipolar'), (3.0, 'lingling40hrs'), (3.0, 'ShitAmericansSay'), (2.0, 'france'), (2.0, 'expats'), (2.0, 'education'), (2.0, 'cakeday'), (2.0, 'YUROP')]\n",
      "[(5.0, 'greysanatomy'), (1.0, 'confession'), (1.0, 'University'), (1.0, 'DysfunctionalFamily'), (1.0, 'CollegeRant'), (1.0, 'AskUK')]\n",
      "[(1.0, 'insomnia'), (1.0, 'GetStudying')]\n"
     ]
    }
   ],
   "source": [
    "print(red_users)\n",
    "\n",
    "\n",
    "print ('Distances:')\n",
    "print (sim_distance('houseplantfortheroad', 'HauntingArmadillo519',prefs=red_users))\n",
    "print (sim_distance('houseplantfortheroad', 'amguiltyguiltyguilty',prefs=red_users))\n",
    "print (sim_distance('HauntingArmadillo519', 'amguiltyguiltyguilty', prefs=red_users))\n",
    "\n",
    "print ('Pearsons:')\n",
    "print (sim_pearson('houseplantfortheroad', 'HauntingArmadillo519', prefs=red_users))\n",
    "print (sim_pearson('houseplantfortheroad', 'amguiltyguiltyguilty', prefs=red_users))\n",
    "print (sim_pearson('HauntingArmadillo519', 'amguiltyguiltyguilty', prefs=red_users))\n",
    "\n",
    "\n",
    "\n",
    "print ('Recommendations:')\n",
    "print (getRecommendations('houseplantfortheroad',prefs=red_users)[0:10])\n",
    "print (getRecommendations('HauntingArmadillo519',prefs=red_users)[0:10])\n",
    "print (getRecommendations('amguiltyguiltyguilty',prefs=red_users)[0:10])"
   ]
  }
 ],
 "metadata": {
  "kernelspec": {
   "display_name": "Python 3 (ipykernel)",
   "language": "python",
   "name": "python3"
  },
  "language_info": {
   "codemirror_mode": {
    "name": "ipython",
    "version": 3
   },
   "file_extension": ".py",
   "mimetype": "text/x-python",
   "name": "python",
   "nbconvert_exporter": "python",
   "pygments_lexer": "ipython3",
   "version": "3.8.10"
  }
 },
 "nbformat": 4,
 "nbformat_minor": 1
}