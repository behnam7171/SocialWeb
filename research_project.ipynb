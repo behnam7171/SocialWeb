{
 "nbformat": 4,
 "nbformat_minor": 0,
 "metadata": {
  "kernelspec": {
   "display_name": "Python 3 (ipykernel)",
   "language": "python",
   "name": "python3"
  },
  "language_info": {
   "codemirror_mode": {
    "name": "ipython",
    "version": 3
   },
   "file_extension": ".py",
   "mimetype": "text/x-python",
   "name": "python",
   "nbconvert_exporter": "python",
   "pygments_lexer": "ipython3",
   "version": "3.8.10"
  },
  "colab": {
   "name": "Copy of a3_network.ipynb",
   "provenance": [],
   "collapsed_sections": [
    "Vej0HSo2V7sb",
    "W8JETWgBV7sc",
    "hoCaU4qpV7sc",
    "fhQc_AZ4V7sc",
    "2_woHFjoV7sc"
   ]
  }
 },
 "cells": [
  {
   "cell_type": "markdown",
   "source": [
    "# The Social Web Research Project\n",
    "\n",
    "In this project, Experts of Stackoverflow Question-Answering community are found."
   ],
   "metadata": {
    "collapsed": false
   }
  },
  {
   "cell_type": "code",
   "execution_count": null,
   "outputs": [],
   "source": [
    "!pip install networkx\n",
    "!pip install matplotlib\n",
    "!pip install scipy\n"
   ],
   "metadata": {
    "collapsed": false,
    "pycharm": {
     "name": "#%%\n"
    }
   }
  },
  {
   "cell_type": "markdown",
   "source": [
    "## Sample of comments\n",
    "Classic social network analysis studies a network's structure. In a social network, a person is considered a *node* or *vertex*, and a relationship between people is a *link* or *edge*.\n",
    "Many network statystics can yield insights on the underlying social structure. At the same time, their intuitive visual representation aids in developing working hypothesis explaining their dynamics."
   ],
   "metadata": {
    "collapsed": false
   }
  },
  {
   "cell_type": "code",
   "execution_count": null,
   "outputs": [],
   "source": [
    "import networkx as nx\n",
    "from matplotlib import pyplot as plt\n",
    "\n",
    "G = nx.DiGraph()\n",
    "\n",
    "edges = [('G','A'), ('G','A'),('G','A'),('G','A'), ('A','G'),('B','A'),\n",
    "                  ('C','A'),('A','C'),('A','D'),\n",
    "                  ('E','A'),('F','A'), ('F','A'),('D','B'),\n",
    "                  ('D','F')]\n",
    "\n",
    "# G.add_edges_from(edges)\n",
    "\n",
    "def aggregate(G, edges):\n",
    "    for edge in edges:\n",
    "            from_node, to_node = edge[0], edge[1]\n",
    "            if G.has_edge(from_node, to_node):\n",
    "                # we added this one before, just increase the weight by one\n",
    "                G[from_node][to_node]['weight'] += 1\n",
    "            else:\n",
    "                # new edge. add with weight=1\n",
    "                G.add_edge(from_node, to_node, weight=1)\n",
    "\n",
    "aggregate(G, edges)\n",
    "\n",
    "ppr1 = nx.pagerank(G)\n",
    "\n",
    "labels = nx.get_edge_attributes(G,'weight')\n",
    "\n",
    "print(\"Page rank value: \", ppr1)\n",
    "pos = nx.spring_layout(G)\n",
    "sen_rank = sorted(ppr1.items(), key=lambda x: x[1], reverse=True)\n",
    "print(\"sorted Page rank value: \", sen_rank)\n",
    "nx.draw(G, pos, with_labels = True, node_color=\"#f86e00\", connectionstyle='arc3, rad = 0.3')\n",
    "nx.draw_networkx_edge_labels(G, pos, edge_labels=labels)\n",
    "\n",
    "\n",
    "plt.show()"
   ],
   "metadata": {
    "collapsed": false,
    "pycharm": {
     "name": "#%%\n"
    }
   }
  },
  {
   "cell_type": "markdown",
   "source": [
    "## Test weighted"
   ],
   "metadata": {
    "collapsed": false
   }
  },
  {
   "cell_type": "code",
   "execution_count": null,
   "outputs": [],
   "source": [
    "import networkx as nx\n",
    "D=nx.DiGraph()\n",
    "D.add_weighted_edges_from([('A','B',0.5),('A','C',0.5)])\n",
    "print (nx.pagerank(D))\n",
    "\n",
    "D['A']['C']['weight']=1\n",
    "print (nx.pagerank(D))"
   ],
   "metadata": {
    "collapsed": false,
    "pycharm": {
     "name": "#%%\n"
    }
   }
  }
 ]
}