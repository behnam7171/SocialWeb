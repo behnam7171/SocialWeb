{
 "cells": [
  {
   "cell_type": "markdown",
   "metadata": {},
   "source": [
    "# The Social Web Research Project\n",
    "\n",
    "In this project, Experts of Stackoverflow Question-Answering community are found.\n",
    "First installing the libraries."
   ]
  },
  {
   "cell_type": "code",
   "execution_count": 86,
   "metadata": {
    "collapsed": false,
    "jupyter": {
     "outputs_hidden": false
    },
    "pycharm": {
     "name": "#%%\n"
    }
   },
   "outputs": [
    {
     "name": "stdout",
     "output_type": "stream",
     "text": [
      "Requirement already satisfied: networkx in u:\\courses\\social web\\sw_virtual_environment\\lib\\site-packages (2.6.3)\n"
     ]
    },
    {
     "name": "stderr",
     "output_type": "stream",
     "text": [
      "WARNING: You are using pip version 21.1.2; however, version 21.3.1 is available.\n",
      "You should consider upgrading via the 'U:\\Courses\\Social Web\\sw_virtual_environment\\Scripts\\python.exe -m pip install --upgrade pip' command.\n"
     ]
    },
    {
     "name": "stdout",
     "output_type": "stream",
     "text": [
      "Requirement already satisfied: matplotlib in u:\\courses\\social web\\sw_virtual_environment\\lib\\site-packages (3.5.0)\n",
      "Requirement already satisfied: numpy>=1.17 in u:\\courses\\social web\\sw_virtual_environment\\lib\\site-packages (from matplotlib) (1.21.4)\n",
      "Requirement already satisfied: pyparsing>=2.2.1 in u:\\courses\\social web\\sw_virtual_environment\\lib\\site-packages (from matplotlib) (3.0.6)\n",
      "Requirement already satisfied: setuptools-scm>=4 in u:\\courses\\social web\\sw_virtual_environment\\lib\\site-packages (from matplotlib) (6.3.2)\n",
      "Requirement already satisfied: cycler>=0.10 in u:\\courses\\social web\\sw_virtual_environment\\lib\\site-packages (from matplotlib) (0.11.0)\n",
      "Requirement already satisfied: python-dateutil>=2.7 in u:\\courses\\social web\\sw_virtual_environment\\lib\\site-packages (from matplotlib) (2.8.2)\n",
      "Requirement already satisfied: kiwisolver>=1.0.1 in u:\\courses\\social web\\sw_virtual_environment\\lib\\site-packages (from matplotlib) (1.3.2)\n",
      "Requirement already satisfied: packaging>=20.0 in u:\\courses\\social web\\sw_virtual_environment\\lib\\site-packages (from matplotlib) (21.3)\n",
      "Requirement already satisfied: fonttools>=4.22.0 in u:\\courses\\social web\\sw_virtual_environment\\lib\\site-packages (from matplotlib) (4.28.1)\n",
      "Requirement already satisfied: pillow>=6.2.0 in u:\\courses\\social web\\sw_virtual_environment\\lib\\site-packages (from matplotlib) (8.4.0)\n",
      "Requirement already satisfied: six>=1.5 in u:\\courses\\social web\\sw_virtual_environment\\lib\\site-packages (from python-dateutil>=2.7->matplotlib) (1.16.0)\n",
      "Requirement already satisfied: tomli>=1.0.0 in u:\\courses\\social web\\sw_virtual_environment\\lib\\site-packages (from setuptools-scm>=4->matplotlib) (1.2.2)\n",
      "Requirement already satisfied: setuptools in u:\\courses\\social web\\sw_virtual_environment\\lib\\site-packages (from setuptools-scm>=4->matplotlib) (57.0.0)\n"
     ]
    },
    {
     "name": "stderr",
     "output_type": "stream",
     "text": [
      "WARNING: You are using pip version 21.1.2; however, version 21.3.1 is available.\n",
      "You should consider upgrading via the 'U:\\Courses\\Social Web\\sw_virtual_environment\\Scripts\\python.exe -m pip install --upgrade pip' command.\n"
     ]
    },
    {
     "name": "stdout",
     "output_type": "stream",
     "text": [
      "Requirement already satisfied: scipy in u:\\courses\\social web\\sw_virtual_environment\\lib\\site-packages (1.7.2)\n",
      "Requirement already satisfied: numpy<1.23.0,>=1.16.5 in u:\\courses\\social web\\sw_virtual_environment\\lib\\site-packages (from scipy) (1.21.4)\n"
     ]
    },
    {
     "name": "stderr",
     "output_type": "stream",
     "text": [
      "WARNING: You are using pip version 21.1.2; however, version 21.3.1 is available.\n",
      "You should consider upgrading via the 'U:\\Courses\\Social Web\\sw_virtual_environment\\Scripts\\python.exe -m pip install --upgrade pip' command.\n"
     ]
    },
    {
     "name": "stdout",
     "output_type": "stream",
     "text": [
      "Requirement already satisfied: pandas in u:\\courses\\social web\\sw_virtual_environment\\lib\\site-packages (1.3.4)\n",
      "Requirement already satisfied: numpy>=1.21.0 in u:\\courses\\social web\\sw_virtual_environment\\lib\\site-packages (from pandas) (1.21.4)\n",
      "Requirement already satisfied: pytz>=2017.3 in u:\\courses\\social web\\sw_virtual_environment\\lib\\site-packages (from pandas) (2021.3)\n",
      "Requirement already satisfied: python-dateutil>=2.7.3 in u:\\courses\\social web\\sw_virtual_environment\\lib\\site-packages (from pandas) (2.8.2)\n",
      "Requirement already satisfied: six>=1.5 in u:\\courses\\social web\\sw_virtual_environment\\lib\\site-packages (from python-dateutil>=2.7.3->pandas) (1.16.0)\n"
     ]
    },
    {
     "name": "stderr",
     "output_type": "stream",
     "text": [
      "WARNING: You are using pip version 21.1.2; however, version 21.3.1 is available.\n",
      "You should consider upgrading via the 'U:\\Courses\\Social Web\\sw_virtual_environment\\Scripts\\python.exe -m pip install --upgrade pip' command.\n"
     ]
    },
    {
     "name": "stdout",
     "output_type": "stream",
     "text": [
      "Requirement already satisfied: gmaps in u:\\courses\\social web\\sw_virtual_environment\\lib\\site-packages (0.9.0)\n",
      "Requirement already satisfied: six in u:\\courses\\social web\\sw_virtual_environment\\lib\\site-packages (from gmaps) (1.16.0)\n",
      "Requirement already satisfied: ipywidgets>=7.0.0 in u:\\courses\\social web\\sw_virtual_environment\\lib\\site-packages (from gmaps) (7.6.5)\n",
      "Requirement already satisfied: ipython>=5.3.0 in u:\\courses\\social web\\sw_virtual_environment\\lib\\site-packages (from gmaps) (7.29.0)\n",
      "Requirement already satisfied: geojson>=2.0.0 in u:\\courses\\social web\\sw_virtual_environment\\lib\\site-packages (from gmaps) (2.5.0)\n",
      "Requirement already satisfied: traitlets>=4.3.0 in u:\\courses\\social web\\sw_virtual_environment\\lib\\site-packages (from gmaps) (5.1.1)\n",
      "Requirement already satisfied: pickleshare in u:\\courses\\social web\\sw_virtual_environment\\lib\\site-packages (from ipython>=5.3.0->gmaps) (0.7.5)\n",
      "Requirement already satisfied: prompt-toolkit!=3.0.0,!=3.0.1,<3.1.0,>=2.0.0 in u:\\courses\\social web\\sw_virtual_environment\\lib\\site-packages (from ipython>=5.3.0->gmaps) (3.0.22)\n",
      "Requirement already satisfied: pygments in u:\\courses\\social web\\sw_virtual_environment\\lib\\site-packages (from ipython>=5.3.0->gmaps) (2.10.0)\n",
      "Requirement already satisfied: jedi>=0.16 in u:\\courses\\social web\\sw_virtual_environment\\lib\\site-packages (from ipython>=5.3.0->gmaps) (0.18.1)\n",
      "Requirement already satisfied: setuptools>=18.5 in u:\\courses\\social web\\sw_virtual_environment\\lib\\site-packages (from ipython>=5.3.0->gmaps) (57.0.0)\n",
      "Requirement already satisfied: decorator in u:\\courses\\social web\\sw_virtual_environment\\lib\\site-packages (from ipython>=5.3.0->gmaps) (5.1.0)\n",
      "Requirement already satisfied: colorama in u:\\courses\\social web\\sw_virtual_environment\\lib\\site-packages (from ipython>=5.3.0->gmaps) (0.4.4)\n",
      "Requirement already satisfied: matplotlib-inline in u:\\courses\\social web\\sw_virtual_environment\\lib\\site-packages (from ipython>=5.3.0->gmaps) (0.1.3)\n",
      "Requirement already satisfied: backcall in u:\\courses\\social web\\sw_virtual_environment\\lib\\site-packages (from ipython>=5.3.0->gmaps) (0.2.0)\n",
      "Requirement already satisfied: widgetsnbextension~=3.5.0 in u:\\courses\\social web\\sw_virtual_environment\\lib\\site-packages (from ipywidgets>=7.0.0->gmaps) (3.5.2)\n",
      "Requirement already satisfied: ipython-genutils~=0.2.0 in u:\\courses\\social web\\sw_virtual_environment\\lib\\site-packages (from ipywidgets>=7.0.0->gmaps) (0.2.0)\n",
      "Requirement already satisfied: nbformat>=4.2.0 in u:\\courses\\social web\\sw_virtual_environment\\lib\\site-packages (from ipywidgets>=7.0.0->gmaps) (5.1.3)\n",
      "Requirement already satisfied: ipykernel>=4.5.1 in u:\\courses\\social web\\sw_virtual_environment\\lib\\site-packages (from ipywidgets>=7.0.0->gmaps) (6.5.0)\n",
      "Requirement already satisfied: jupyterlab-widgets>=1.0.0 in u:\\courses\\social web\\sw_virtual_environment\\lib\\site-packages (from ipywidgets>=7.0.0->gmaps) (1.0.2)\n",
      "Requirement already satisfied: debugpy<2.0,>=1.0.0 in u:\\courses\\social web\\sw_virtual_environment\\lib\\site-packages (from ipykernel>=4.5.1->ipywidgets>=7.0.0->gmaps) (1.5.1)\n",
      "Requirement already satisfied: tornado<7.0,>=4.2 in u:\\courses\\social web\\sw_virtual_environment\\lib\\site-packages (from ipykernel>=4.5.1->ipywidgets>=7.0.0->gmaps) (6.1)\n",
      "Requirement already satisfied: jupyter-client<8.0 in u:\\courses\\social web\\sw_virtual_environment\\lib\\site-packages (from ipykernel>=4.5.1->ipywidgets>=7.0.0->gmaps) (7.0.6)\n",
      "Requirement already satisfied: parso<0.9.0,>=0.8.0 in u:\\courses\\social web\\sw_virtual_environment\\lib\\site-packages (from jedi>=0.16->ipython>=5.3.0->gmaps) (0.8.2)\n",
      "Requirement already satisfied: entrypoints in u:\\courses\\social web\\sw_virtual_environment\\lib\\site-packages (from jupyter-client<8.0->ipykernel>=4.5.1->ipywidgets>=7.0.0->gmaps) (0.3)\n",
      "Requirement already satisfied: pyzmq>=13 in u:\\courses\\social web\\sw_virtual_environment\\lib\\site-packages (from jupyter-client<8.0->ipykernel>=4.5.1->ipywidgets>=7.0.0->gmaps) (22.3.0)\n",
      "Requirement already satisfied: jupyter-core>=4.6.0 in u:\\courses\\social web\\sw_virtual_environment\\lib\\site-packages (from jupyter-client<8.0->ipykernel>=4.5.1->ipywidgets>=7.0.0->gmaps) (4.9.1)\n",
      "Requirement already satisfied: nest-asyncio>=1.5 in u:\\courses\\social web\\sw_virtual_environment\\lib\\site-packages (from jupyter-client<8.0->ipykernel>=4.5.1->ipywidgets>=7.0.0->gmaps) (1.5.1)\n",
      "Requirement already satisfied: python-dateutil>=2.1 in u:\\courses\\social web\\sw_virtual_environment\\lib\\site-packages (from jupyter-client<8.0->ipykernel>=4.5.1->ipywidgets>=7.0.0->gmaps) (2.8.2)\n",
      "Requirement already satisfied: pywin32>=1.0 in u:\\courses\\social web\\sw_virtual_environment\\lib\\site-packages (from jupyter-core>=4.6.0->jupyter-client<8.0->ipykernel>=4.5.1->ipywidgets>=7.0.0->gmaps) (302)\n",
      "Requirement already satisfied: jsonschema!=2.5.0,>=2.4 in u:\\courses\\social web\\sw_virtual_environment\\lib\\site-packages (from nbformat>=4.2.0->ipywidgets>=7.0.0->gmaps) (4.2.1)\n",
      "Requirement already satisfied: pyrsistent!=0.17.0,!=0.17.1,!=0.17.2,>=0.14.0 in u:\\courses\\social web\\sw_virtual_environment\\lib\\site-packages (from jsonschema!=2.5.0,>=2.4->nbformat>=4.2.0->ipywidgets>=7.0.0->gmaps) (0.18.0)\n",
      "Requirement already satisfied: attrs>=17.4.0 in u:\\courses\\social web\\sw_virtual_environment\\lib\\site-packages (from jsonschema!=2.5.0,>=2.4->nbformat>=4.2.0->ipywidgets>=7.0.0->gmaps) (21.2.0)\n",
      "Requirement already satisfied: wcwidth in u:\\courses\\social web\\sw_virtual_environment\\lib\\site-packages (from prompt-toolkit!=3.0.0,!=3.0.1,<3.1.0,>=2.0.0->ipython>=5.3.0->gmaps) (0.2.5)\n",
      "Requirement already satisfied: notebook>=4.4.1 in u:\\courses\\social web\\sw_virtual_environment\\lib\\site-packages (from widgetsnbextension~=3.5.0->ipywidgets>=7.0.0->gmaps) (6.4.6)\n",
      "Requirement already satisfied: nbconvert in u:\\courses\\social web\\sw_virtual_environment\\lib\\site-packages (from notebook>=4.4.1->widgetsnbextension~=3.5.0->ipywidgets>=7.0.0->gmaps) (6.3.0)\n",
      "Requirement already satisfied: prometheus-client in u:\\courses\\social web\\sw_virtual_environment\\lib\\site-packages (from notebook>=4.4.1->widgetsnbextension~=3.5.0->ipywidgets>=7.0.0->gmaps) (0.12.0)\n",
      "Requirement already satisfied: jinja2 in u:\\courses\\social web\\sw_virtual_environment\\lib\\site-packages (from notebook>=4.4.1->widgetsnbextension~=3.5.0->ipywidgets>=7.0.0->gmaps) (3.0.3)\n",
      "Requirement already satisfied: terminado>=0.8.3 in u:\\courses\\social web\\sw_virtual_environment\\lib\\site-packages (from notebook>=4.4.1->widgetsnbextension~=3.5.0->ipywidgets>=7.0.0->gmaps) (0.12.1)\n",
      "Requirement already satisfied: argon2-cffi in u:\\courses\\social web\\sw_virtual_environment\\lib\\site-packages (from notebook>=4.4.1->widgetsnbextension~=3.5.0->ipywidgets>=7.0.0->gmaps) (21.1.0)\n",
      "Requirement already satisfied: Send2Trash>=1.8.0 in u:\\courses\\social web\\sw_virtual_environment\\lib\\site-packages (from notebook>=4.4.1->widgetsnbextension~=3.5.0->ipywidgets>=7.0.0->gmaps) (1.8.0)\n",
      "Requirement already satisfied: pywinpty>=1.1.0 in u:\\courses\\social web\\sw_virtual_environment\\lib\\site-packages (from terminado>=0.8.3->notebook>=4.4.1->widgetsnbextension~=3.5.0->ipywidgets>=7.0.0->gmaps) (1.1.6)\n",
      "Requirement already satisfied: cffi>=1.0.0 in u:\\courses\\social web\\sw_virtual_environment\\lib\\site-packages (from argon2-cffi->notebook>=4.4.1->widgetsnbextension~=3.5.0->ipywidgets>=7.0.0->gmaps) (1.15.0)\n",
      "Requirement already satisfied: pycparser in u:\\courses\\social web\\sw_virtual_environment\\lib\\site-packages (from cffi>=1.0.0->argon2-cffi->notebook>=4.4.1->widgetsnbextension~=3.5.0->ipywidgets>=7.0.0->gmaps) (2.21)\n",
      "Requirement already satisfied: MarkupSafe>=2.0 in u:\\courses\\social web\\sw_virtual_environment\\lib\\site-packages (from jinja2->notebook>=4.4.1->widgetsnbextension~=3.5.0->ipywidgets>=7.0.0->gmaps) (2.0.1)\n",
      "Requirement already satisfied: jupyterlab-pygments in u:\\courses\\social web\\sw_virtual_environment\\lib\\site-packages (from nbconvert->notebook>=4.4.1->widgetsnbextension~=3.5.0->ipywidgets>=7.0.0->gmaps) (0.1.2)\n",
      "Requirement already satisfied: testpath in u:\\courses\\social web\\sw_virtual_environment\\lib\\site-packages (from nbconvert->notebook>=4.4.1->widgetsnbextension~=3.5.0->ipywidgets>=7.0.0->gmaps) (0.5.0)\n",
      "Requirement already satisfied: bleach in u:\\courses\\social web\\sw_virtual_environment\\lib\\site-packages (from nbconvert->notebook>=4.4.1->widgetsnbextension~=3.5.0->ipywidgets>=7.0.0->gmaps) (4.1.0)\n",
      "Requirement already satisfied: defusedxml in u:\\courses\\social web\\sw_virtual_environment\\lib\\site-packages (from nbconvert->notebook>=4.4.1->widgetsnbextension~=3.5.0->ipywidgets>=7.0.0->gmaps) (0.7.1)\n",
      "Requirement already satisfied: mistune<2,>=0.8.1 in u:\\courses\\social web\\sw_virtual_environment\\lib\\site-packages (from nbconvert->notebook>=4.4.1->widgetsnbextension~=3.5.0->ipywidgets>=7.0.0->gmaps) (0.8.4)\n",
      "Requirement already satisfied: nbclient<0.6.0,>=0.5.0 in u:\\courses\\social web\\sw_virtual_environment\\lib\\site-packages (from nbconvert->notebook>=4.4.1->widgetsnbextension~=3.5.0->ipywidgets>=7.0.0->gmaps) (0.5.8)\n",
      "Requirement already satisfied: pandocfilters>=1.4.1 in u:\\courses\\social web\\sw_virtual_environment\\lib\\site-packages (from nbconvert->notebook>=4.4.1->widgetsnbextension~=3.5.0->ipywidgets>=7.0.0->gmaps) (1.5.0)\n",
      "Requirement already satisfied: webencodings in u:\\courses\\social web\\sw_virtual_environment\\lib\\site-packages (from bleach->nbconvert->notebook>=4.4.1->widgetsnbextension~=3.5.0->ipywidgets>=7.0.0->gmaps) (0.5.1)\n",
      "Requirement already satisfied: packaging in u:\\courses\\social web\\sw_virtual_environment\\lib\\site-packages (from bleach->nbconvert->notebook>=4.4.1->widgetsnbextension~=3.5.0->ipywidgets>=7.0.0->gmaps) (21.3)\n",
      "Requirement already satisfied: pyparsing!=3.0.5,>=2.0.2 in u:\\courses\\social web\\sw_virtual_environment\\lib\\site-packages (from packaging->bleach->nbconvert->notebook>=4.4.1->widgetsnbextension~=3.5.0->ipywidgets>=7.0.0->gmaps) (3.0.6)\n"
     ]
    },
    {
     "name": "stderr",
     "output_type": "stream",
     "text": [
      "WARNING: You are using pip version 21.1.2; however, version 21.3.1 is available.\n",
      "You should consider upgrading via the 'U:\\Courses\\Social Web\\sw_virtual_environment\\Scripts\\python.exe -m pip install --upgrade pip' command.\n"
     ]
    },
    {
     "name": "stdout",
     "output_type": "stream",
     "text": [
      "Requirement already satisfied: folium in u:\\courses\\social web\\sw_virtual_environment\\lib\\site-packages (0.12.1.post1)\n",
      "Requirement already satisfied: jinja2>=2.9 in u:\\courses\\social web\\sw_virtual_environment\\lib\\site-packages (from folium) (3.0.3)\n",
      "Requirement already satisfied: numpy in u:\\courses\\social web\\sw_virtual_environment\\lib\\site-packages (from folium) (1.21.4)\n",
      "Requirement already satisfied: requests in u:\\courses\\social web\\sw_virtual_environment\\lib\\site-packages (from folium) (2.26.0)\n",
      "Requirement already satisfied: branca>=0.3.0 in u:\\courses\\social web\\sw_virtual_environment\\lib\\site-packages (from folium) (0.4.2)\n",
      "Requirement already satisfied: MarkupSafe>=2.0 in u:\\courses\\social web\\sw_virtual_environment\\lib\\site-packages (from jinja2>=2.9->folium) (2.0.1)\n",
      "Requirement already satisfied: charset-normalizer~=2.0.0 in u:\\courses\\social web\\sw_virtual_environment\\lib\\site-packages (from requests->folium) (2.0.8)\n",
      "Requirement already satisfied: idna<4,>=2.5 in u:\\courses\\social web\\sw_virtual_environment\\lib\\site-packages (from requests->folium) (3.3)\n",
      "Requirement already satisfied: urllib3<1.27,>=1.21.1 in u:\\courses\\social web\\sw_virtual_environment\\lib\\site-packages (from requests->folium) (1.26.7)\n",
      "Requirement already satisfied: certifi>=2017.4.17 in u:\\courses\\social web\\sw_virtual_environment\\lib\\site-packages (from requests->folium) (2021.10.8)\n"
     ]
    },
    {
     "name": "stderr",
     "output_type": "stream",
     "text": [
      "WARNING: You are using pip version 21.1.2; however, version 21.3.1 is available.\n",
      "You should consider upgrading via the 'U:\\Courses\\Social Web\\sw_virtual_environment\\Scripts\\python.exe -m pip install --upgrade pip' command.\n",
      "WARNING: You are using pip version 21.1.2; however, version 21.3.1 is available.\n",
      "You should consider upgrading via the 'U:\\Courses\\Social Web\\sw_virtual_environment\\Scripts\\python.exe -m pip install --upgrade pip' command.\n"
     ]
    },
    {
     "name": "stdout",
     "output_type": "stream",
     "text": [
      "Requirement already satisfied: geopy in u:\\courses\\social web\\sw_virtual_environment\\lib\\site-packages (2.2.0)\n",
      "Requirement already satisfied: geographiclib<2,>=1.49 in u:\\courses\\social web\\sw_virtual_environment\\lib\\site-packages (from geopy) (1.52)\n"
     ]
    }
   ],
   "source": [
    "from IPython.core.display import display\n",
    "!pip install networkx\n",
    "!pip install matplotlib\n",
    "!pip install scipy\n",
    "!pip install pandas\n",
    "!pip install gmaps\n",
    "!pip install folium\n",
    "!pip install geopy"
   ]
  },
  {
   "cell_type": "markdown",
   "metadata": {},
   "source": [
    "## importing necessary libraries"
   ]
  },
  {
   "cell_type": "code",
   "execution_count": 87,
   "metadata": {
    "collapsed": false,
    "jupyter": {
     "outputs_hidden": false
    },
    "pycharm": {
     "name": "#%%\n"
    }
   },
   "outputs": [],
   "source": [
    "import networkx as nx\n",
    "from matplotlib import pyplot as plt\n",
    "import csv\n",
    "from datetime import datetime\n",
    "from prettytable import PrettyTable\n",
    "import pandas as pd\n",
    "import numpy as np\n",
    "\n"
   ]
  },
  {
   "cell_type": "markdown",
   "metadata": {},
   "source": [
    "Generating empty graph\n",
    "G_with_scores = graph with edges that are aggregated sum of scores of answers a destination node(user) gave to source node(user)\n",
    "G_without_scores = graph with edges that are aggregated count of answers a destination node(user) gave to source node(user)"
   ]
  },
  {
   "cell_type": "code",
   "execution_count": 88,
   "metadata": {
    "collapsed": false,
    "jupyter": {
     "outputs_hidden": false
    },
    "pycharm": {
     "name": "#%%\n"
    }
   },
   "outputs": [],
   "source": [
    "G_with_scores = nx.DiGraph()\n",
    "G_without_scores = nx.DiGraph()"
   ]
  },
  {
   "cell_type": "markdown",
   "metadata": {},
   "source": [
    "Reading the edges from CSV file and generating raw edges and appending them as tuples inside a list"
   ]
  },
  {
   "cell_type": "code",
   "execution_count": 89,
   "metadata": {
    "collapsed": false,
    "jupyter": {
     "outputs_hidden": false
    },
    "pycharm": {
     "name": "#%%\n"
    }
   },
   "outputs": [
    {
     "name": "stdout",
     "output_type": "stream",
     "text": [
      "Column names are OwnerUserId, OwnerUserId, score\n",
      "Processed 109585 lines =  18:21:45\n"
     ]
    }
   ],
   "source": [
    "edges = []\n",
    "\n",
    "def read_csv(path):\n",
    "    with open(path, \"r\") as csvfile:\n",
    "        graph_reader = csv.reader(csvfile, delimiter=',', quotechar='\"')\n",
    "        data_row_count = 0\n",
    "        list = []\n",
    "        header = next(graph_reader)\n",
    "        print(f'Column names are {\", \".join(header)}')\n",
    "        number_of_columns = len(header)\n",
    "        for row in graph_reader:\n",
    "            temp_list = []\n",
    "            for index in range(number_of_columns):\n",
    "                temp_list.append(row[index])\n",
    "            list.append(tuple(temp_list))\n",
    "            data_row_count += 1\n",
    "        now = datetime.now()\n",
    "        current_time = now.strftime(\"%H:%M:%S\")\n",
    "        print(f'Processed {data_row_count} lines = ', current_time)\n",
    "        return list\n",
    "\n",
    "edges = read_csv('files/python-tag-data_2021-01-01_to_2021-12-03.csv')"
   ]
  },
  {
   "cell_type": "markdown",
   "metadata": {},
   "source": [
    "## Pre-processing\n",
    "We considered 2 approaches to aggregate the edges of graph:\n",
    "\n",
    "1- function <code>aggregate</code> aggregates edges on number of specific user answers to someone's multiple questions. for example if there be 4 record of <code>\"1223\", \"5233\"</code> in csv file, this functions considers 4 as weight of the corresponding edge from node(user) \"1223\" to user \"5233\".\n",
    "\n",
    "2- function <code>aggregate_with_scores</code> aggregates score of each answer given by user and sum them as aggregate function. for example if there be 4 record of <code>\"1223\", \"5233\"</code> in csv file with score of respectively 5, 6, 10 and 2, this functions considers 23 as weight of the corresponding edge from node(user) \"1223\" to user \"5233\".\n",
    "\n",
    "we will use them for different algorithms and will show how considering the score of answers affects the evaluation of our work.\n",
    "\n",
    "We also removed edges with negative score because that means the overall score of answers specific user gave to anther was not really good (because it was negative). So we removed them from our data."
   ]
  },
  {
   "cell_type": "code",
   "execution_count": 90,
   "metadata": {
    "collapsed": false,
    "jupyter": {
     "outputs_hidden": false
    },
    "pycharm": {
     "name": "#%%\n"
    }
   },
   "outputs": [],
   "source": [
    "def aggregate(G, edges):\n",
    "    for edge in edges:\n",
    "            from_node, to_node = edge[0], edge[1]\n",
    "            if G.has_edge(from_node, to_node):\n",
    "                # we added this one before, just increase the weight by one\n",
    "                G[from_node][to_node]['weight'] += 1\n",
    "            else:\n",
    "                # new edge. add with weight=1\n",
    "                G.add_edge(from_node, to_node, weight=1)\n",
    "\n",
    "\n",
    "def aggregate_with_scores(G, edges):\n",
    "    for edge in edges:\n",
    "            from_node, to_node, score = edge[0], edge[1], float(edge[2])\n",
    "            if G.has_edge(from_node, to_node):\n",
    "                # we added this one before, just increase the weight by one\n",
    "                G[from_node][to_node]['weight'] += score\n",
    "            else:\n",
    "                # new edge. add with weight=1\n",
    "                G.add_edge(from_node, to_node, weight=score)\n",
    "\n",
    "def remove_negarive_weight_edges(G, edges):\n",
    "    for edge in edges:\n",
    "        from_node, to_node = edge[0], edge[1]\n",
    "        try:\n",
    "            weight = G[from_node][to_node]['weight']\n",
    "            if int(weight) < 0:\n",
    "                G.remove_edge(from_node, to_node)\n",
    "        except:\n",
    "            continue\n",
    "\n",
    "aggregate(G_without_scores, edges)\n",
    "remove_negarive_weight_edges(G_without_scores, edges)\n",
    "aggregate_with_scores(G_with_scores, edges)\n",
    "remove_negarive_weight_edges(G_with_scores, edges)\n",
    "\n",
    "## we used edges from the file because if we used the edges that were loaded in the graph, after removing negative weights, the size of graph during the iteration and that raises an error\n",
    "# RuntimeError: dictionary changed size during iteration\n"
   ]
  },
  {
   "cell_type": "markdown",
   "metadata": {},
   "source": [
    "## Social Network Analysis Algorithms\n",
    "\n",
    "Based on our literature work, Most researches that used social network analysis aproaches to find experts tried to use PageRank and applied some feature of their dataset to the algorithm. We shall do the same and we considered score of answers as feature of our dataset to indicate experties of each user.\n",
    "\n",
    "So the <code>aggregate</code> function counts the number of times a user answered another user as feature. and the <code>aggregate_with_scores</code> considers scores of answeres each user got to another user's questions in specific tag.\n",
    "\n",
    "There is a parameter called damping factor which indicates the probability of jumping to another node when algorithm stuck in the loop. In practice 0.85 is the best number for real data use. damping factor in the networkx is known as <code>alpha</code> which is an argument but since the default value that networkx also chose is 0.85, we did not pass it throught the pagerank method. pagerank algorthm is recersive algorithm which we must state how many times it should be run. As much more as it runs, the scores of each nodes starts to tend to reach a number and after some iteration, they will not change which is the point that score of pagerank is final. networkx has argument of <code>max_iter</code> that is the number of iteration that algorithm runs which by default is 100.\n",
    "\n",
    "After calculating the pagerank of each node, we need to sort the score to see which node has highest score (importance) in the graph. Based on scenario of our graph which is a directed graph, that means that user has the highest experties."
   ]
  },
  {
   "cell_type": "code",
   "execution_count": 91,
   "metadata": {
    "collapsed": false,
    "jupyter": {
     "outputs_hidden": false
    },
    "pycharm": {
     "name": "#%%\n"
    }
   },
   "outputs": [
    {
     "data": {
      "text/plain": "  Sorted_PageRank_UserId  PageRank_Score Sorted_eigenvector_Rank_UserId  \\\n0               16343464        0.009282                        1058671   \n1               15497888        0.006379                       10900548   \n2                2901002        0.006083                        1030002   \n3               10035985        0.003774                       11193554   \n4                6361531        0.003210                        3487414   \n5                4238408        0.003091                        1046013   \n6               15239951        0.002774                       15454131   \n7                6622587        0.002554                       15455911   \n8                8708364        0.002437                        4439019   \n9                5577765        0.002190                       15842561   \n\n   eigenvector_Rank_Score Sorted_Degree_Centrality_UserId  \\\n0                0.949405                         2901002   \n1                0.303294                        10035985   \n2                0.064923                        15239951   \n3                0.037600                         4238408   \n4                0.022000                        15497888   \n5                0.018800                        12833166   \n6                0.009400                        16343464   \n7                0.009400                         6622587   \n8                0.000638                         7964527   \n9                0.000037                         5577765   \n\n   Degree_Centrality_Rank_Score  \n0                        3370.0  \n1                        1523.0  \n2                        1196.0  \n3                        1139.0  \n4                        1082.0  \n5                        1034.0  \n6                         998.0  \n7                         876.0  \n8                         845.0  \n9                         800.0  ",
      "text/html": "<div>\n<style scoped>\n    .dataframe tbody tr th:only-of-type {\n        vertical-align: middle;\n    }\n\n    .dataframe tbody tr th {\n        vertical-align: top;\n    }\n\n    .dataframe thead th {\n        text-align: right;\n    }\n</style>\n<table border=\"1\" class=\"dataframe\">\n  <thead>\n    <tr style=\"text-align: right;\">\n      <th></th>\n      <th>Sorted_PageRank_UserId</th>\n      <th>PageRank_Score</th>\n      <th>Sorted_eigenvector_Rank_UserId</th>\n      <th>eigenvector_Rank_Score</th>\n      <th>Sorted_Degree_Centrality_UserId</th>\n      <th>Degree_Centrality_Rank_Score</th>\n    </tr>\n  </thead>\n  <tbody>\n    <tr>\n      <th>0</th>\n      <td>16343464</td>\n      <td>0.009282</td>\n      <td>1058671</td>\n      <td>0.949405</td>\n      <td>2901002</td>\n      <td>3370.0</td>\n    </tr>\n    <tr>\n      <th>1</th>\n      <td>15497888</td>\n      <td>0.006379</td>\n      <td>10900548</td>\n      <td>0.303294</td>\n      <td>10035985</td>\n      <td>1523.0</td>\n    </tr>\n    <tr>\n      <th>2</th>\n      <td>2901002</td>\n      <td>0.006083</td>\n      <td>1030002</td>\n      <td>0.064923</td>\n      <td>15239951</td>\n      <td>1196.0</td>\n    </tr>\n    <tr>\n      <th>3</th>\n      <td>10035985</td>\n      <td>0.003774</td>\n      <td>11193554</td>\n      <td>0.037600</td>\n      <td>4238408</td>\n      <td>1139.0</td>\n    </tr>\n    <tr>\n      <th>4</th>\n      <td>6361531</td>\n      <td>0.003210</td>\n      <td>3487414</td>\n      <td>0.022000</td>\n      <td>15497888</td>\n      <td>1082.0</td>\n    </tr>\n    <tr>\n      <th>5</th>\n      <td>4238408</td>\n      <td>0.003091</td>\n      <td>1046013</td>\n      <td>0.018800</td>\n      <td>12833166</td>\n      <td>1034.0</td>\n    </tr>\n    <tr>\n      <th>6</th>\n      <td>15239951</td>\n      <td>0.002774</td>\n      <td>15454131</td>\n      <td>0.009400</td>\n      <td>16343464</td>\n      <td>998.0</td>\n    </tr>\n    <tr>\n      <th>7</th>\n      <td>6622587</td>\n      <td>0.002554</td>\n      <td>15455911</td>\n      <td>0.009400</td>\n      <td>6622587</td>\n      <td>876.0</td>\n    </tr>\n    <tr>\n      <th>8</th>\n      <td>8708364</td>\n      <td>0.002437</td>\n      <td>4439019</td>\n      <td>0.000638</td>\n      <td>7964527</td>\n      <td>845.0</td>\n    </tr>\n    <tr>\n      <th>9</th>\n      <td>5577765</td>\n      <td>0.002190</td>\n      <td>15842561</td>\n      <td>0.000037</td>\n      <td>5577765</td>\n      <td>800.0</td>\n    </tr>\n  </tbody>\n</table>\n</div>"
     },
     "metadata": {},
     "output_type": "display_data"
    }
   ],
   "source": [
    "gws_pagerank = nx.pagerank(G_with_scores)\n",
    "gws_in_degree = G_with_scores.in_degree(weight='weight')\n",
    "gws_eigenvector = nx.eigenvector_centrality(G_with_scores.reverse(), weight='weight')\n",
    "\n",
    "gws_pagerank_rank = sorted(gws_pagerank.items(), key=lambda x: x[1], reverse=True)\n",
    "gws_eigenvector_Rank = sorted(gws_eigenvector.items(), key=lambda x: x[1], reverse=True)\n",
    "gws_in_Degree_Centrality_Rank = sorted(gws_in_degree, key=lambda x: x[1], reverse=True)\n",
    "\n",
    "\n",
    "gws_sorted_pageRank_userId = [x[0] for x in gws_pagerank_rank]\n",
    "gws_pageRank_score = [x[1] for x in gws_pagerank_rank]\n",
    "\n",
    "gws_sorted_eigenvector_rank_userId = [x[0] for x in gws_eigenvector_Rank]\n",
    "gws_eigenvector_rank_score = [x[1] for x in gws_eigenvector_Rank]\n",
    "\n",
    "gws_sorted_degree_centrality_userId = [x[0] for x in gws_in_Degree_Centrality_Rank]\n",
    "gws_degree_centrality_rank_score = [x[1] for x in gws_in_Degree_Centrality_Rank]\n",
    "\n",
    "\n",
    "\n",
    "\n",
    "data = {'Sorted_PageRank_UserId': gws_sorted_pageRank_userId[0:10],'PageRank_Score': gws_pageRank_score[0:10],\n",
    "        'Sorted_eigenvector_Rank_UserId': gws_sorted_eigenvector_rank_userId[0:10] , 'eigenvector_Rank_Score' : gws_eigenvector_rank_score[0:10],\n",
    "        'Sorted_Degree_Centrality_UserId' :gws_sorted_degree_centrality_userId[0:10], 'Degree_Centrality_Rank_Score' : gws_degree_centrality_rank_score[0:10]}\n",
    "df = pd.DataFrame(data)\n",
    "\n",
    "\n",
    "\n",
    "display(df)\n",
    "\n",
    "\n",
    "###########################################\n",
    "\n",
    "gwos_pagerank = nx.pagerank(G_without_scores)\n",
    "gwos_in_degree = nx.in_degree_centrality(G_without_scores)\n",
    "gwos_eigenvector = nx.eigenvector_centrality(G_without_scores.reverse(), weight='weight')\n",
    "\n",
    "gwos_pagerank_rank = sorted(gwos_pagerank.items(), key=lambda x: x[1], reverse=True)\n",
    "gwos_eigenvector_rank = sorted(gwos_eigenvector.items(), key=lambda x: x[1], reverse=True)\n",
    "gwos_in_degree_centrality_rank = sorted(gwos_in_degree.items(), key=lambda x: x[1], reverse=True)\n",
    "\n",
    "\n",
    "gwos_sorted_pageRank_userId = [x[0] for x in gwos_pagerank_rank]\n",
    "gwos_rageRank_score = [x[1] for x in gwos_pagerank_rank]\n",
    "\n",
    "gwos_sorted_eigenvector_Rank_UserId = [x[0] for x in gwos_eigenvector_rank]\n",
    "gwos_eigenvector_rank_score = [x[1] for x in gwos_eigenvector_rank]\n",
    "\n",
    "gwos_sorted_degree_centrality_userId = [x[0] for x in gwos_in_degree_centrality_rank]\n",
    "gwos_degree_centrality_rank_score = [x[1] for x in gwos_in_degree_centrality_rank]\n",
    "\n"
   ]
  },
  {
   "cell_type": "markdown",
   "metadata": {},
   "source": [
    "## Evaluation\n",
    "Before we introduce our evaluation methods, we must introduce which data we are comparing our data to.\n",
    "For our research we found this link on <a href=\"https://stackoverflow.com/tags/python/topusers\">stackoverflow website</a>. In this website we see the top users in python tag. But we need this data for the date range that we used for our research. So we need to extract our own data from stackoverflow to get this top users in tags. And not to mention that this link shows top user for specific tag. But we aimed to find all tags related to python. for example that link only shows top users in tag \"python\" but this is not only tag related to python. There are tags like \"python-2.7\", \"python-idle\" and etc that must be considered because they are also related to subject \"python\".\n",
    "For this purpose we proposed our own query to extract the top users from stackoverflow. Based on the mentioned link above, top users that stackoverflow release (data on this link is updated weekly) are based on scores of answer they give in specific tag. So we conducted our own query to extract this data. The query is as follows:\n",
    "\n",
    "``` mysql\n",
    "select a.OwnerUserId as Answerer_ID, sum(a.score) as Sum_Answerer_Score\n",
    "from posts as q join posts as a on  q.Id = a.ParentId join users as u on a.OwnerUserId = u.Id\n",
    "where q.CreationDate < GETDATE()\n",
    "and   q.CreationDate >= '2021-01-01 00:00:00'\n",
    "and   q.PostTypeId = 1\n",
    "and   a.PostTypeId = 2\n",
    "and   a.OwnerUserId IS NOT NULL\n",
    "and   q.Tags LIKE '%python%'\n",
    "group by a.OwnerUserId\n",
    "order by Sum_Answerer_Score desc\n",
    "```\n",
    "This query aims to get data from start of 2021 until the day that the day query is running. So be aware that the csv files that you see in the project files are for queries that was run on 12/4/2021\n",
    "\n",
    "to test our query you can remove the CreationDate conditions and see which users are top users of tags in python and compare it with data in the <a href=\"https://stackoverflow.com/tags/python/topusers\">stackoverflow website</a>. Be aware that you must see abit of difference in number for 2 reasons:\n",
    "1- the data on that link is not updated frequently (only weekly)\n",
    "2- we consider multiple tags that are related to \"python\" but the link only considers tag \"python\". So defenetly numbers of scores that you see in the result of our query must be a bit higher.\n",
    "\n",
    "In this section we are going to do 2 evaluation on our work:\n",
    "1- TOPK: In this evaluation we aim to see how many of our top k users appeared in top k users that considered top users in stackoverflow.\n",
    "2- Spearman Correlation: The TOPK evaluation helps us know how good was our expert detection process. But it does not give us good information how was precision of our ranking process. That is why we considered spearman correlation to determine the correlation between ranking that stackoverflow gives and ranking that we found after process of expert finding"
   ]
  },
  {
   "cell_type": "code",
   "execution_count": 93,
   "metadata": {
    "collapsed": false,
    "jupyter": {
     "outputs_hidden": false
    },
    "pycharm": {
     "name": "#%%\n"
    }
   },
   "outputs": [
    {
     "name": "stdout",
     "output_type": "stream",
     "text": [
      "Column names are Answerer_ID, Sum_Answerer_Score\n",
      "Processed 50000 lines =  18:22:39\n"
     ]
    }
   ],
   "source": [
    "import scipy.stats as ss\n",
    "\n",
    "top_user_count = 100\n",
    "def topk_evaluation(user_ids_for_evaluation, ranked_user_ids, user_count):\n",
    "    # user_ids_for_evaluation_sorted = sorted(user_ids_for_evaluation, key=lambda x: x[1], reverse=True)\n",
    "    topN = user_ids_for_evaluation[0:user_count]\n",
    "    list_of_topN_user_ids = list(map(lambda x: x[0], topN))\n",
    "    matched_user_id_count = 0\n",
    "    for index in range(user_count):\n",
    "        target = ranked_user_ids[index]\n",
    "        if target in list_of_topN_user_ids:\n",
    "            matched_user_id_count += 1\n",
    "    match_result = matched_user_id_count/user_count\n",
    "    return match_result\n",
    "\n",
    "def spearman_evaluation(user_ids_for_evaluation, users_pagerankscore_tuple, user_count):\n",
    "    list_of_topN_user_ids_by_stackoverflow = list(map(lambda x: int(x[1]), user_ids_for_evaluation))\n",
    "    rank_of_topN_user_ids_by_stackoverflow  = len(list_of_topN_user_ids_by_stackoverflow) - ss.rankdata(list_of_topN_user_ids_by_stackoverflow).astype(int) + 1\n",
    "    our_scores = list(map(lambda x: x[1], users_pagerankscore_tuple))\n",
    "    our_rankings_by_scores  = len(our_scores) - ss.rankdata(our_scores).astype(int) + 1\n",
    "    our_user_ranking_tuples = []\n",
    "    for index in range(len(our_rankings_by_scores)):\n",
    "        our_user_ranking_tuples.append((users_pagerankscore_tuple[index][0],our_rankings_by_scores[index]))\n",
    "    stackoverflow_user_ranking_tuples = []\n",
    "    for index in range(len(rank_of_topN_user_ids_by_stackoverflow)):\n",
    "        stackoverflow_user_ranking_tuples.append((user_ids_for_evaluation[index][0],rank_of_topN_user_ids_by_stackoverflow[index]))\n",
    "\n",
    "    our_ranking_for_evaluation = list(map(lambda x: int(x[1]), our_user_ranking_tuples))\n",
    "    temp_stackoverflow_userids = list(map(lambda x: x[0], stackoverflow_user_ranking_tuples))\n",
    "    stackoverflow_ranking_for_evaluation = []\n",
    "    for index in range(user_count*4):\n",
    "        try:\n",
    "            target_to_find = our_user_ranking_tuples[index][0]\n",
    "            found_index = temp_stackoverflow_userids.index(target_to_find)\n",
    "            stackoverflow_ranking_for_evaluation.append(stackoverflow_user_ranking_tuples[found_index][1])\n",
    "        except:\n",
    "            continue\n",
    "\n",
    "    return ss.spearmanr(our_ranking_for_evaluation[0:user_count], stackoverflow_ranking_for_evaluation[0:user_count])[0]\n",
    "\n",
    "evaluation_data = read_csv('files/2021-01-01_to_2021-12-03_stackoverflow_top_users.csv')\n",
    "\n",
    "#### for with_scored_graph\n",
    "\n",
    "sen_rank_evalauation_result = topk_evaluation(evaluation_data, list(map(lambda x: x[0], gws_pagerank_rank)), top_user_count)\n",
    "spearman_evaluation_pagerank = spearman_evaluation(evaluation_data, gws_pagerank_rank, top_user_count)\n",
    "\n",
    "#eigenvector_Rank\n",
    "\n",
    "eigenvector_Rank_evalauation_result = topk_evaluation(evaluation_data, list(map(lambda x: x[0], gws_eigenvector_Rank)), top_user_count)\n",
    "spearman_evaluation_eigenvector = spearman_evaluation(evaluation_data, gws_eigenvector_Rank, top_user_count)\n",
    "\n",
    "\n",
    "#Degree_Centrality_Rank\n",
    "\n",
    "Degree_Centrality_Rank_evalauation_result = topk_evaluation(evaluation_data, list(map(lambda x: x[0], gws_in_Degree_Centrality_Rank)), top_user_count)\n",
    "spearman_evaluation_Degree_Centrality = spearman_evaluation(evaluation_data, gws_in_Degree_Centrality_Rank, top_user_count)\n",
    "\n",
    "#### for without_scored_graph\n",
    "\n",
    "gwos_pagerank_rank_evalauation_result = topk_evaluation(evaluation_data, list(map(lambda x: x[0], gwos_pagerank_rank)), top_user_count)\n",
    "gwos_spearman_evaluation_pagerank = spearman_evaluation(evaluation_data, gwos_pagerank_rank, top_user_count)\n",
    "\n",
    "#eigenvector_Rank\n",
    "\n",
    "gwos_eigenvector_Rank_evalauation_result = topk_evaluation(evaluation_data, list(map(lambda x: x[0], gwos_eigenvector_rank)), top_user_count)\n",
    "gwos_spearman_evaluation_eigenvector = spearman_evaluation(evaluation_data, gwos_eigenvector_rank, top_user_count)\n",
    "\n",
    "\n",
    "#Degree_Centrality_Rank\n",
    "\n",
    "gwos_Degree_Centrality_Rank_evalauation_result = topk_evaluation(evaluation_data, list(map(lambda x: x[0], gwos_in_degree_centrality_rank)), top_user_count)\n",
    "gwos_spearman_evaluation_Degree_Centrality = spearman_evaluation(evaluation_data, gwos_in_degree_centrality_rank, top_user_count)"
   ]
  },
  {
   "cell_type": "markdown",
   "metadata": {},
   "source": [
    "Now that we did the evaluation, we are going to render column chart to illustrate our evaluation even better!"
   ]
  },
  {
   "cell_type": "code",
   "execution_count": 94,
   "metadata": {
    "collapsed": false,
    "jupyter": {
     "outputs_hidden": false
    },
    "pycharm": {
     "name": "#%%\n"
    }
   },
   "outputs": [
    {
     "data": {
      "text/plain": "<Figure size 432x288 with 1 Axes>",
      "image/png": "[encoded data removed]"
     },
     "metadata": {
      "needs_background": "light"
     },
     "output_type": "display_data"
    },
    {
     "data": {
      "text/plain": "<Figure size 432x288 with 1 Axes>",
      "image/png": "[encoded data removed]"
     },
     "metadata": {
      "needs_background": "light"
     },
     "output_type": "display_data"
    }
   ],
   "source": [
    "# data to plot\n",
    "\n",
    "n_groups = 2\n",
    "gws_pagerank = sen_rank_evalauation_result*100\n",
    "gws_eigenvector = eigenvector_Rank_evalauation_result*100\n",
    "gws_Degree_Centrality = Degree_Centrality_Rank_evalauation_result*100\n",
    "\n",
    "gwos_pagerank = gwos_pagerank_rank_evalauation_result*100\n",
    "gwos_eigenvector = gwos_eigenvector_Rank_evalauation_result*100\n",
    "gwos_Degree_Centrality = gwos_Degree_Centrality_Rank_evalauation_result*100\n",
    "\n",
    "# create plot\n",
    "speed = [gws_pagerank, gws_eigenvector, gws_Degree_Centrality]\n",
    "lifespan = [gwos_pagerank, gwos_eigenvector, gwos_Degree_Centrality]\n",
    "index = ['pagerank', 'eigenvector', 'in-degree']\n",
    "df = pd.DataFrame({'with_scores': speed,\n",
    "                   'without_scores': lifespan}, index=index)\n",
    "ax = df.plot.bar(rot=0)\n",
    "\n",
    "\n",
    "n_groups = 2\n",
    "gws_pagerank = spearman_evaluation_pagerank\n",
    "gws_eigenvector = spearman_evaluation_eigenvector\n",
    "gws_Degree_Centrality = spearman_evaluation_Degree_Centrality\n",
    "\n",
    "gwos_pagerank = gwos_spearman_evaluation_pagerank\n",
    "gwos_eigenvector = gwos_spearman_evaluation_eigenvector\n",
    "gwos_Degree_Centrality = gwos_spearman_evaluation_Degree_Centrality\n",
    "\n",
    "speed = [gws_pagerank, gws_eigenvector, gws_Degree_Centrality]\n",
    "lifespan = [gwos_pagerank, gwos_eigenvector, gwos_Degree_Centrality]\n",
    "index = ['pagerank', 'eigenvector', 'in-degree']\n",
    "df = pd.DataFrame({'with_scores': speed,\n",
    "                   'without_scores': lifespan}, index=index)\n",
    "ax = df.plot.bar(rot=0)\n",
    "# create plot\n"
   ]
  },
  {
   "cell_type": "markdown",
   "metadata": {},
   "source": [
    "The results of evaluations shows that using the scores have better performance in finding experts in PageRank and In-degree algorithms. eigenvector algorithm had the worse performance among the algorithms we tested.\n",
    "\n",
    "The results of evaluations also show that indegree centralization is the algorithm with better performance. But is it the final algorithm that must be used?\n",
    "\n",
    "We must say no. Because Stackoverflow used score of answers in specific tag to determine the top users and if we take a close look, in-degree does the exact same thing. if we look at <code>aggregate_with_score</code> it also sums the scores of answers each user gave. So basically what in-degree does and what stackoverflow considers as top users are the same. The reason there result of first evaluation (topk) is not 100% and second evaluation(spearman correlation) is not 1 in the in-degree algorithm is that we used only accepted answers in stackoverflow (the answers with green tick beside them) just to make sure users that gave the best answers be in our evaluation, because we can not be sure that other answers are accurate also we removed negative edges from the graph in the preprocess phase.\n",
    "\n",
    "Now we argue that why we choose pagerank as final algorithm that we use. Because simply sum the answers of each user can not be enough. PageRank algorithm considers the chain effect of answers. For example If user B answers user A question in specific tag and user C answers user B question, then there is a chance that user C has more experties than both of them. And part of expertise point should be credited to user C, because user C could answer C could answer another potential expert (user B).\n",
    "\n",
    "## Visualization\n",
    "\n",
    "<span style=\"color: red\">BEWARE</span>: The number of nodes are edges are large in this project. I do not recommend running this part because it might take hours to render the results."
   ]
  },
  {
   "cell_type": "code",
   "execution_count": null,
   "metadata": {
    "collapsed": false,
    "jupyter": {
     "outputs_hidden": false
    },
    "pycharm": {
     "name": "#%%\n"
    }
   },
   "outputs": [],
   "source": [
    "#labels = nx.get_edge_attributes(G,'weight')\n",
    "#pos = nx.spring_layout(G)\n",
    "#nx.draw(G, pos, with_labels = True, node_color=\"#f86e00\", connectionstyle='arc3, rad = 0.3')\n",
    "#nx.draw_networkx_edge_labels(G, pos, edge_labels=labels)\n",
    "\n",
    "\n",
    "# plt.show()"
   ]
  },
  {
   "cell_type": "markdown",
   "metadata": {},
   "source": [
    "Here we go even further and visualize a map which we show where are our experts from\n",
    "The purpose of this part is show users of our application in which location in the world they should look for experts of that specific tag.\n",
    "\n",
    "Here we render map of expert users of tags related to python determined by PageRank algorithm.\n",
    "\n",
    "the stackoverflow API does only return 100 users so if the <code>top_user_count</code> is more than 100, then we have to call the api method multiple times.\n",
    "so we divide chunk method to split the users into group of 100 users."
   ]
  },
  {
   "cell_type": "code",
   "execution_count": null,
   "metadata": {
    "collapsed": false,
    "jupyter": {
     "outputs_hidden": false
    },
    "pycharm": {
     "name": "#%%\n"
    }
   },
   "outputs": [],
   "source": [
    "import requests\n",
    "import numpy as np\n",
    "import gmaps\n",
    "from geopy.geocoders import Nominatim\n",
    "\n",
    "def chunks(lst, n):\n",
    "    for i in range(0, len(lst), n):\n",
    "        yield lst[i:i + n]\n",
    "\n",
    "# numer of top expert users you want to see their location in the map\n",
    "number_of_top_users = 200\n",
    "\n",
    "list_of_chunks = list(chunks(gws_sorted_pageRank_userId[0:number_of_top_users], 100))\n",
    "\n",
    "list_of_users_for_map = []\n",
    "\n",
    "for index in range(len(list_of_chunks)):\n",
    "    user_ids_for_api = []\n",
    "    for userid in list_of_chunks[index]:\n",
    "        user_ids_for_api.append(userid)\n",
    "    URL = f\"https://api.stackexchange.com/2.3/users/{';'.join(user_ids_for_api)}?pagesize=100&site=stackoverflow&key=47JH1x*4)8hrh0WD6VO5NA((\"\n",
    "    print(user_ids_for_api)\n",
    "\n",
    "    # sending get request and saving the response as response object\n",
    "    r = requests.get(url=URL)\n",
    "    user_dictionaries = r.json()\n",
    "    arr1 = np.array(list_of_users_for_map)\n",
    "    arr2 = np.array(user_dictionaries['items'])\n",
    "    arr = np.concatenate((arr1, arr2))\n",
    "    list_of_users_for_map = arr.tolist()\n",
    "\n",
    "\n",
    "\n",
    "\n",
    "filtered_data = []\n",
    "geolocator = Nominatim(user_agent=\"SW\")\n",
    "\n",
    "for i in range(0,number_of_top_users):\n",
    "    try:\n",
    "        if 'location' in list_of_users_for_map[i]:\n",
    "            location_name = list_of_users_for_map[i]['location']\n",
    "            location_lat = geolocator.geocode(list_of_users_for_map[i]['location']).latitude\n",
    "            location_long = geolocator.geocode(list_of_users_for_map[i]['location']).longitude\n",
    "        else:\n",
    "            location_name = None\n",
    "            location_lat = None\n",
    "            location_long = None\n",
    "    except:\n",
    "        pass\n",
    "\n",
    "    filtered_data.append({'user_rank': i+1,\n",
    "                           'display_name': list_of_users_for_map[i]['display_name'],\n",
    "                           'account_id': list_of_users_for_map[i]['account_id'],\n",
    "                           'link': list_of_users_for_map[i]['link'],\n",
    "                           'profile_image': list_of_users_for_map[i]['profile_image'],\n",
    "                           'location': location_name,\n",
    "                           'location_lat': location_lat,\n",
    "                           'location_long': location_long})\n"
   ]
  },
  {
   "cell_type": "code",
   "execution_count": null,
   "metadata": {
    "collapsed": false,
    "jupyter": {
     "outputs_hidden": false
    },
    "pycharm": {
     "name": "#%%\n"
    }
   },
   "outputs": [],
   "source": [
    "import folium\n",
    "import math\n",
    "from folium import plugins\n",
    "\n",
    "folium.Map()\n",
    "\n",
    "cm_enum_df = pd.DataFrame(filtered_data)\n",
    "print(cm_enum_df.get('user_rank')[0])\n",
    "# map\n",
    "map_enum_icons = folium.Map([38, -98], zoom_start=4)\n",
    "\n",
    "# icons using plugins.BeautifyIcon\n",
    "try:\n",
    "        for i in cm_enum_df.itertuples():\n",
    "            if not math.isnan(float(i[7])) and not math.isnan(float(i[8])):\n",
    "                url = i[4]\n",
    "                tooltip = f\"Get info about {i[2]} user rank: {i[1]}\"\n",
    "                iframe = folium.IFrame(f' <img src=\"{i[5]}  width=\"30\" height=\"30\"><br> Name: {i[2]} <br> <a href= {url} target=_blank >Stackoverflow Profile</a> <br> location: {i[6]}<br>' )\n",
    "                folium.Marker(location=[i[7], i[8]],\n",
    "                              popup= folium.Popup(iframe, min_width=180, max_width=180),\n",
    "                              tooltip=tooltip,\n",
    "                              icon=plugins.BeautifyIcon(number=i[1],\n",
    "                                                        border_color='blue',\n",
    "                                                        border_width=1,\n",
    "                                                        text_color='red',\n",
    "                                                        inner_icon_style='margin-top:0px;')).add_to(map_enum_icons)\n",
    "\n",
    "            else:\n",
    "                pass\n",
    "except:\n",
    "    pass\n",
    "\n",
    "\n",
    "map_enum_icons"
   ]
  },
  {
   "cell_type": "code",
   "execution_count": null,
   "metadata": {
    "collapsed": false,
    "jupyter": {
     "outputs_hidden": false
    },
    "pycharm": {
     "name": "#%%\n"
    }
   },
   "outputs": [],
   "source": [
    "# Heatmap\n",
    "\n",
    "from folium.plugins import HeatMap\n",
    "\n",
    "# heat map\n",
    "Heatmap_lat_long = []\n",
    "for j in range(0, number_of_top_users):\n",
    "    if filtered_data[j]['location'] and filtered_data[j]['location_lat'] and filtered_data[j]['location_long']:\n",
    "        Heatmap_lat_long.append((filtered_data[j]['location_lat'],filtered_data[j]['location_long'] ))\n",
    "\n",
    "# Create a Map instance\n",
    "m = folium.Map(location=[60.25, 24.8], zoom_start=1, control_scale=False)\n",
    "\n",
    "# Add heatmap to map instance\n",
    "# Available parameters: HeatMap(data, name=None, min_opacity=0.5, max_zoom=18, max_val=1.0, radius=25, blur=15, gradient=None, overlay=True, control=True, show=True)\n",
    "HeatMap(Heatmap_lat_long).add_to(m)\n",
    "# show map types using ipywidgets\n",
    "\n",
    "m"
   ]
  }
 ],
 "metadata": {
  "colab": {
   "collapsed_sections": [
    "Vej0HSo2V7sb",
    "W8JETWgBV7sc",
    "hoCaU4qpV7sc",
    "fhQc_AZ4V7sc",
    "2_woHFjoV7sc"
   ],
   "name": "Copy of a3_network.ipynb",
   "provenance": []
  },
  "kernelspec": {
   "display_name": "Python 3",
   "language": "python",
   "name": "python3"
  },
  "language_info": {
   "codemirror_mode": {
    "name": "ipython",
    "version": 3
   },
   "file_extension": ".py",
   "mimetype": "text/x-python",
   "name": "python",
   "nbconvert_exporter": "python",
   "pygments_lexer": "ipython3",
   "version": "3.8.8"
  }
 },
 "nbformat": 4,
 "nbformat_minor": 4
}