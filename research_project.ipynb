{
 "nbformat": 4,
 "nbformat_minor": 0,
 "metadata": {
  "kernelspec": {
   "display_name": "Python 3 (ipykernel)",
   "language": "python",
   "name": "python3"
  },
  "language_info": {
   "codemirror_mode": {
    "name": "ipython",
    "version": 3
   },
   "file_extension": ".py",
   "mimetype": "text/x-python",
   "name": "python",
   "nbconvert_exporter": "python",
   "pygments_lexer": "ipython3",
   "version": "3.8.10"
  },
  "colab": {
   "name": "Copy of a3_network.ipynb",
   "provenance": [],
   "collapsed_sections": [
    "Vej0HSo2V7sb",
    "W8JETWgBV7sc",
    "hoCaU4qpV7sc",
    "fhQc_AZ4V7sc",
    "2_woHFjoV7sc"
   ]
  }
 },
 "cells": [
  {
   "cell_type": "markdown",
   "source": [
    "# The Social Web Research Project\n",
    "\n",
    "In this project, Experts of Stackoverflow Question-Answering community are found."
   ],
   "metadata": {
    "collapsed": false
   }
  },
  {
   "cell_type": "code",
   "execution_count": 1,
   "outputs": [
    {
     "name": "stdout",
     "output_type": "stream",
     "text": [
      "Requirement already satisfied: networkx in u:\\courses\\social web\\sw_virtual_environment\\lib\\site-packages (2.6.3)"
     ]
    },
    {
     "name": "stderr",
     "output_type": "stream",
     "text": [
      "WARNING: You are using pip version 21.1.2; however, version 21.3.1 is available.\n",
      "You should consider upgrading via the 'U:\\Courses\\Social Web\\sw_virtual_environment\\Scripts\\python.exe -m pip install --upgrade pip' command.\n"
     ]
    },
    {
     "name": "stdout",
     "output_type": "stream",
     "text": [
      "\n",
      "Requirement already satisfied: matplotlib in u:\\courses\\social web\\sw_virtual_environment\\lib\\site-packages (3.5.0)\n",
      "Requirement already satisfied: pyparsing>=2.2.1 in u:\\courses\\social web\\sw_virtual_environment\\lib\\site-packages (from matplotlib) (3.0.6)\n",
      "Requirement already satisfied: setuptools-scm>=4 in u:\\courses\\social web\\sw_virtual_environment\\lib\\site-packages (from matplotlib) (6.3.2)\n",
      "Requirement already satisfied: pillow>=6.2.0 in u:\\courses\\social web\\sw_virtual_environment\\lib\\site-packages (from matplotlib) (8.4.0)\n",
      "Requirement already satisfied: fonttools>=4.22.0 in u:\\courses\\social web\\sw_virtual_environment\\lib\\site-packages (from matplotlib) (4.28.1)\n",
      "Requirement already satisfied: numpy>=1.17 in u:\\courses\\social web\\sw_virtual_environment\\lib\\site-packages (from matplotlib) (1.21.4)\n",
      "Requirement already satisfied: python-dateutil>=2.7 in u:\\courses\\social web\\sw_virtual_environment\\lib\\site-packages (from matplotlib) (2.8.2)\n",
      "Requirement already satisfied: kiwisolver>=1.0.1 in u:\\courses\\social web\\sw_virtual_environment\\lib\\site-packages (from matplotlib) (1.3.2)\n",
      "Requirement already satisfied: cycler>=0.10 in u:\\courses\\social web\\sw_virtual_environment\\lib\\site-packages (from matplotlib) (0.11.0)\n",
      "Requirement already satisfied: packaging>=20.0 in u:\\courses\\social web\\sw_virtual_environment\\lib\\site-packages (from matplotlib) (21.3)\n",
      "Requirement already satisfied: six>=1.5 in u:\\courses\\social web\\sw_virtual_environment\\lib\\site-packages (from python-dateutil>=2.7->matplotlib) (1.16.0)\n",
      "Requirement already satisfied: setuptools in u:\\courses\\social web\\sw_virtual_environment\\lib\\site-packages (from setuptools-scm>=4->matplotlib) (57.0.0)\n",
      "Requirement already satisfied: tomli>=1.0.0 in u:\\courses\\social web\\sw_virtual_environment\\lib\\site-packages (from setuptools-scm>=4->matplotlib) (1.2.2)\n"
     ]
    },
    {
     "name": "stderr",
     "output_type": "stream",
     "text": [
      "WARNING: You are using pip version 21.1.2; however, version 21.3.1 is available.\n",
      "You should consider upgrading via the 'U:\\Courses\\Social Web\\sw_virtual_environment\\Scripts\\python.exe -m pip install --upgrade pip' command.\n"
     ]
    },
    {
     "name": "stdout",
     "output_type": "stream",
     "text": [
      "Requirement already satisfied: scipy in u:\\courses\\social web\\sw_virtual_environment\\lib\\site-packages (1.7.2)\n",
      "Requirement already satisfied: numpy<1.23.0,>=1.16.5 in u:\\courses\\social web\\sw_virtual_environment\\lib\\site-packages (from scipy) (1.21.4)\n"
     ]
    },
    {
     "name": "stderr",
     "output_type": "stream",
     "text": [
      "WARNING: You are using pip version 21.1.2; however, version 21.3.1 is available.\n",
      "You should consider upgrading via the 'U:\\Courses\\Social Web\\sw_virtual_environment\\Scripts\\python.exe -m pip install --upgrade pip' command.\n"
     ]
    }
   ],
   "source": [
    "!pip install networkx\n",
    "!pip install matplotlib\n",
    "!pip install scipy\n"
   ],
   "metadata": {
    "collapsed": false,
    "pycharm": {
     "name": "#%%\n"
    }
   }
  },
  {
   "cell_type": "markdown",
   "source": [
    "## Sample of comments\n",
    "Classic social network analysis studies a network's structure. In a social network, a person is considered a *node* or *vertex*, and a relationship between people is a *link* or *edge*. \n",
    "Many network statystics can yield insights on the underlying social structure. At the same time, their intuitive visual representation aids in developing working hypothesis explaining their dynamics."
   ],
   "metadata": {
    "collapsed": false
   }
  },
  {
   "cell_type": "code",
   "execution_count": 16,
   "outputs": [
    {
     "name": "stdout",
     "output_type": "stream",
     "text": [
      "Page rank value:  {'G': 0.12615144432268247, 'A': 0.3696105821244884, 'B': 0.18227088910435682, 'C': 0.12615144432268247, 'D': 0.12615144432268247, 'E': 0.021428571428571432, 'F': 0.048235624374535664}\n",
      "sorted Page rank value:  [('A', 0.3696105821244884), ('B', 0.18227088910435682), ('G', 0.12615144432268247), ('C', 0.12615144432268247), ('D', 0.12615144432268247), ('F', 0.048235624374535664), ('E', 0.021428571428571432)]\n",
      "sorted Page rank value:  [('A', 0.38173394046126047), ('B', 0.13157694877254386), ('G', 0.1295859264123554), ('C', 0.1295859264123554), ('D', 0.1295859264123554), ('F', 0.07650276010055765), ('E', 0.021428571428571432)]\n"
     ]
    },
    {
     "data": {
      "text/plain": "<Figure size 432x288 with 1 Axes>",
      "image/png": "[encoded data removed]"
     },
     "metadata": {},
     "output_type": "display_data"
    }
   ],
   "source": [
    "import networkx as nx\n",
    "from matplotlib import pyplot as plt\n",
    "import scipy\n",
    "import pickle\n",
    "import random\n",
    "\n",
    "G = nx.DiGraph()\n",
    "\n",
    "edges = [('G','A'), ('G','A'),('G','A'),('G','A'), ('A','G'),('B','A'),\n",
    "                  ('C','A'),('A','C'),('A','D'),\n",
    "                  ('E','A'),('F','A'), ('F','A'),('D','B'),\n",
    "                  ('D','F')]\n",
    "\n",
    "# G.add_edges_from(edges)\n",
    "\n",
    "\n",
    "def aggregate(G, edges):\n",
    "    for edge in edges:\n",
    "            from_node, to_node = edge[0], edge[1]\n",
    "            if G.has_edge(from_node, to_node):\n",
    "                # we added this one before, just increase the weight by one\n",
    "                G[from_node][to_node]['weight'] += 1\n",
    "            else:\n",
    "                # new edge. add with weight=1\n",
    "                G.add_edge(from_node, to_node, weight=1)\n",
    "\n",
    "aggregate(G, edges)\n",
    "\n",
    "ppr1 = nx.pagerank(G)\n",
    "\n",
    "labels = nx.get_edge_attributes(G,'weight')\n",
    "\n",
    "print(\"Page rank value: \", ppr1)\n",
    "pos = nx.spring_layout(G)\n",
    "sen_rank = sorted(ppr1.items(), key=lambda x: x[1], reverse=True)\n",
    "print(\"sorted Page rank value: \", sen_rank)\n",
    "nx.draw(G, pos, with_labels = True, node_color=\"#f86e00\", connectionstyle='arc3, rad = 0.3')\n",
    "nx.draw_networkx_edge_labels(G, pos, edge_labels=labels)\n",
    "\n",
    "\n",
    "plt.show()"
   ],
   "metadata": {
    "collapsed": false,
    "pycharm": {
     "name": "#%%\n"
    }
   }
  },
  {
   "cell_type": "markdown",
   "source": [
    "## Test weighted"
   ],
   "metadata": {
    "collapsed": false,
    "pycharm": {
     "name": "#%% md\n"
    }
   }
  },
  {
   "cell_type": "code",
   "execution_count": 14,
   "outputs": [
    {
     "name": "stdout",
     "output_type": "stream",
     "text": [
      "{'A': 0.25974050510584634, 'B': 0.37012974744707666, 'C': 0.37012974744707666}\n",
      "{'A': 0.25974050510584634, 'B': 0.3333333333333332, 'C': 0.40692616156082007}\n"
     ]
    }
   ],
   "source": [
    "import networkx as nx\n",
    "D=nx.DiGraph()\n",
    "D.add_weighted_edges_from([('A','B',0.5),('A','C',0.5)])\n",
    "print (nx.pagerank(D))\n",
    "\n",
    "D['A']['C']['weight']=1\n",
    "print (nx.pagerank(D))"
   ],
   "metadata": {
    "collapsed": false,
    "pycharm": {
     "name": "#%%\n"
    }
   }
  }
 ]
}