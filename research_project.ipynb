{
 "nbformat": 4,
 "nbformat_minor": 0,
 "metadata": {
  "kernelspec": {
   "display_name": "Python 3 (ipykernel)",
   "language": "python",
   "name": "python3"
  },
  "language_info": {
   "codemirror_mode": {
    "name": "ipython",
    "version": 3
   },
   "file_extension": ".py",
   "mimetype": "text/x-python",
   "name": "python",
   "nbconvert_exporter": "python",
   "pygments_lexer": "ipython3",
   "version": "3.8.10"
  },
  "colab": {
   "name": "Copy of a3_network.ipynb",
   "provenance": [],
   "collapsed_sections": [
    "Vej0HSo2V7sb",
    "W8JETWgBV7sc",
    "hoCaU4qpV7sc",
    "fhQc_AZ4V7sc",
    "2_woHFjoV7sc"
   ]
  }
 },
 "cells": [
  {
   "cell_type": "markdown",
   "source": [
    "# The Social Web Research Project\n",
    "\n",
    "In this project, Experts of Stackoverflow Question-Answering community are found.\n",
    "First installing the libraries."
   ],
   "metadata": {
    "collapsed": false
   }
  },
  {
   "cell_type": "code",
   "execution_count": null,
   "outputs": [],
   "source": [
    "!pip install networkx\n",
    "!pip install matplotlib\n",
    "!pip install scipy\n"
   ],
   "metadata": {
    "collapsed": false,
    "pycharm": {
     "name": "#%%\n"
    }
   }
  },
  {
   "cell_type": "markdown",
   "source": [
    "## importing necessary libraries"
   ],
   "metadata": {
    "collapsed": false
   }
  },
  {
   "cell_type": "code",
   "execution_count": 40,
   "outputs": [
    {
     "name": "stdout",
     "output_type": "stream",
     "text": [
      "started at =  12:59:34\n",
      "Column names are OwnerUserId, OwnerUserId, score\n",
      "Processed 109585 lines =  12:59:35\n",
      "aggregated the edges =  12:59:36\n",
      "calculated pagerank =  12:59:36\n",
      "done showing pagerank =  12:59:36\n",
      "+----------+------------------------------------------+-----------------------+\n",
      "|  UserId  |             User_Profile_URL             |     PageRank_Score    |\n",
      "+----------+------------------------------------------+-----------------------+\n",
      "| 16343464 | https://stackoverflow.com/users/16343464 |   0.0131990276088745  |\n",
      "| 2901002  | https://stackoverflow.com/users/2901002  | 0.0058741687367410925 |\n",
      "| 2001654  | https://stackoverflow.com/users/2001654  |  0.005124537344678988 |\n",
      "| 15497888 | https://stackoverflow.com/users/15497888 |  0.004996313772154613 |\n",
      "| 10035985 | https://stackoverflow.com/users/10035985 | 0.0034974814589655333 |\n",
      "| 6361531  | https://stackoverflow.com/users/6361531  |  0.003263004558636262 |\n",
      "| 15239951 | https://stackoverflow.com/users/15239951 | 0.0026756710080465492 |\n",
      "| 4333359  | https://stackoverflow.com/users/4333359  | 0.0025910774035761094 |\n",
      "| 5577765  | https://stackoverflow.com/users/5577765  | 0.0024982542211560437 |\n",
      "| 4238408  | https://stackoverflow.com/users/4238408  | 0.0023654128926915373 |\n",
      "| 9375102  | https://stackoverflow.com/users/9375102  |  0.00233156357050644  |\n",
      "|  67579   |  https://stackoverflow.com/users/67579   | 0.0021552587466206713 |\n",
      "| 6622587  | https://stackoverflow.com/users/6622587  |  0.002096302063229433 |\n",
      "| 1883316  | https://stackoverflow.com/users/1883316  |  0.002059056619005538 |\n",
      "| 1832058  | https://stackoverflow.com/users/1832058  | 0.0019057707246250782 |\n",
      "| 15070697 | https://stackoverflow.com/users/15070697 |  0.001901584456423877 |\n",
      "| 3832970  | https://stackoverflow.com/users/3832970  | 0.0018969793928113215 |\n",
      "|  108205  |  https://stackoverflow.com/users/108205  | 0.0018420968069657558 |\n",
      "| 7758804  | https://stackoverflow.com/users/7758804  | 0.0018279847431863288 |\n",
      "| 8708364  | https://stackoverflow.com/users/8708364  | 0.0017889503605917209 |\n",
      "| 1491895  | https://stackoverflow.com/users/1491895  | 0.0017682249087221298 |\n",
      "| 14165730 | https://stackoverflow.com/users/14165730 |  0.001720842910688191 |\n",
      "| 12848411 | https://stackoverflow.com/users/12848411 |  0.001661043172185467 |\n",
      "| 4518341  | https://stackoverflow.com/users/4518341  |  0.001609080413398424 |\n",
      "|  14122   |  https://stackoverflow.com/users/14122   | 0.0015595123913513865 |\n",
      "| 5317403  | https://stackoverflow.com/users/5317403  | 0.0015433139063683408 |\n",
      "| 12046409 | https://stackoverflow.com/users/12046409 | 0.0015397491298659593 |\n",
      "| 1126841  | https://stackoverflow.com/users/1126841  |  0.00144369541754416  |\n",
      "|  901925  |  https://stackoverflow.com/users/901925  | 0.0013729520719329394 |\n",
      "| 7964527  | https://stackoverflow.com/users/7964527  |  0.001312205057847701 |\n",
      "| 14289892 | https://stackoverflow.com/users/14289892 | 0.0012948997736239717 |\n",
      "| 14991864 | https://stackoverflow.com/users/14991864 | 0.0012937398384148214 |\n",
      "|   7432   |   https://stackoverflow.com/users/7432   | 0.0012762892362805827 |\n",
      "| 9441404  | https://stackoverflow.com/users/9441404  |  0.001252264108761261 |\n",
      "| 9444073  | https://stackoverflow.com/users/9444073  | 0.0012507157495628292 |\n",
      "| 3799759  | https://stackoverflow.com/users/3799759  | 0.0012450123918184082 |\n",
      "| 13131047 | https://stackoverflow.com/users/13131047 | 0.0012238829124861133 |\n",
      "| 12833166 | https://stackoverflow.com/users/12833166 |  0.001197074302287179 |\n",
      "| 9840637  | https://stackoverflow.com/users/9840637  | 0.0011878822155726137 |\n",
      "| 5459839  | https://stackoverflow.com/users/5459839  | 0.0011766559902958512 |\n",
      "| 5349916  | https://stackoverflow.com/users/5349916  | 0.0011750524525391839 |\n",
      "| 5320906  | https://stackoverflow.com/users/5320906  |  0.001170979545413279 |\n",
      "|  51685   |  https://stackoverflow.com/users/51685   | 0.0011413783407144505 |\n",
      "| 2988730  | https://stackoverflow.com/users/2988730  | 0.0010893289666573946 |\n",
      "| 11106801 | https://stackoverflow.com/users/11106801 |  0.001076797750595749 |\n",
      "| 3791842  | https://stackoverflow.com/users/3791842  | 0.0010704602719201436 |\n",
      "| 2823719  | https://stackoverflow.com/users/2823719  | 0.0009793014134682038 |\n",
      "| 1740577  | https://stackoverflow.com/users/1740577  | 0.0009649938904194164 |\n",
      "| 5014455  | https://stackoverflow.com/users/5014455  | 0.0009648329161627853 |\n",
      "| 3000206  | https://stackoverflow.com/users/3000206  | 0.0009621080456716442 |\n",
      "| 7254633  | https://stackoverflow.com/users/7254633  | 0.0009494566123852879 |\n",
      "| 3485434  | https://stackoverflow.com/users/3485434  | 0.0009330585189590462 |\n",
      "| 13138364 | https://stackoverflow.com/users/13138364 | 0.0009082418146774219 |\n",
      "| 9857631  | https://stackoverflow.com/users/9857631  | 0.0009026276514502412 |\n",
      "| 7212686  | https://stackoverflow.com/users/7212686  | 0.0009025886379120706 |\n",
      "| 9136348  | https://stackoverflow.com/users/9136348  | 0.0009014683791952733 |\n",
      "| 3437787  | https://stackoverflow.com/users/3437787  | 0.0008898615201284176 |\n",
      "| 13107804 | https://stackoverflow.com/users/13107804 | 0.0008524061686201895 |\n",
      "| 6331369  | https://stackoverflow.com/users/6331369  | 0.0008423483896257218 |\n",
      "|  235698  |  https://stackoverflow.com/users/235698  | 0.0008321100244442124 |\n",
      "| 3112049  | https://stackoverflow.com/users/3112049  | 0.0008294459415556066 |\n",
      "| 9332187  | https://stackoverflow.com/users/9332187  | 0.0008233978298835007 |\n",
      "| 5237560  | https://stackoverflow.com/users/5237560  | 0.0007949659773258505 |\n",
      "|  941531  |  https://stackoverflow.com/users/941531  | 0.0007868106034519532 |\n",
      "| 2357112  | https://stackoverflow.com/users/2357112  | 0.0007819061141758889 |\n",
      "| 15438033 | https://stackoverflow.com/users/15438033 | 0.0007736543509660897 |\n",
      "| 5424988  | https://stackoverflow.com/users/5424988  | 0.0007534202777643809 |\n",
      "| 2648811  | https://stackoverflow.com/users/2648811  | 0.0007530322067822887 |\n",
      "| 12939557 | https://stackoverflow.com/users/12939557 | 0.0007480961906433612 |\n",
      "|  415016  |  https://stackoverflow.com/users/415016  | 0.0007475632988650781 |\n",
      "| 12480730 | https://stackoverflow.com/users/12480730 |  0.000716932011017477 |\n",
      "| 12451222 | https://stackoverflow.com/users/12451222 | 0.0006942430465394613 |\n",
      "| 4657412  | https://stackoverflow.com/users/4657412  | 0.0006909291022912637 |\n",
      "| 11043825 | https://stackoverflow.com/users/11043825 | 0.0006908626833860042 |\n",
      "| 10785975 | https://stackoverflow.com/users/10785975 |  0.000690026749581603 |\n",
      "| 2390182  | https://stackoverflow.com/users/2390182  | 0.0006871759672535822 |\n",
      "| 4755954  | https://stackoverflow.com/users/4755954  | 0.0006794257084395837 |\n",
      "|  480982  |  https://stackoverflow.com/users/480982  | 0.0006779679538632087 |\n",
      "| 14088251 | https://stackoverflow.com/users/14088251 | 0.0006753860671298558 |\n",
      "| 9215780  | https://stackoverflow.com/users/9215780  | 0.0006641035058712647 |\n",
      "| 3545273  | https://stackoverflow.com/users/3545273  |  0.000659210071460883 |\n",
      "|  355230  |  https://stackoverflow.com/users/355230  | 0.0006521909208341288 |\n",
      "| 7175713  | https://stackoverflow.com/users/7175713  | 0.0006451781122060362 |\n",
      "| 11380795 | https://stackoverflow.com/users/11380795 | 0.0006405959318151446 |\n",
      "| 4001592  | https://stackoverflow.com/users/4001592  | 0.0006392317072155233 |\n",
      "| 13382000 | https://stackoverflow.com/users/13382000 | 0.0006024203297065549 |\n",
      "| 13990016 | https://stackoverflow.com/users/13990016 |  0.000601432982061273 |\n",
      "| 2836621  | https://stackoverflow.com/users/2836621  | 0.0006005412258527669 |\n",
      "| 4926757  | https://stackoverflow.com/users/4926757  |  0.000593375741471604 |\n",
      "| 2144390  | https://stackoverflow.com/users/2144390  | 0.0005911841597363883 |\n",
      "| 1863229  | https://stackoverflow.com/users/1863229  | 0.0005905427878751011 |\n",
      "| 2937831  | https://stackoverflow.com/users/2937831  | 0.0005855714831113666 |\n",
      "| 6660638  | https://stackoverflow.com/users/6660638  | 0.0005843525798179232 |\n",
      "|   4834   |   https://stackoverflow.com/users/4834   | 0.0005747290483223185 |\n",
      "| 6573902  | https://stackoverflow.com/users/6573902  | 0.0005744791833735665 |\n",
      "| 11246056 | https://stackoverflow.com/users/11246056 | 0.0005713859363073008 |\n",
      "| 7326738  | https://stackoverflow.com/users/7326738  | 0.0005709225780615184 |\n",
      "| 10311377 | https://stackoverflow.com/users/10311377 | 0.0005663116169496924 |\n",
      "| 5660315  | https://stackoverflow.com/users/5660315  | 0.0005560447794972506 |\n",
      "+----------+------------------------------------------+-----------------------+\n",
      "###### evaluation ########\n",
      "Column names are Answerer_ID, Sum_Answerer_Score\n",
      "Processed 50000 lines =  12:59:36\n",
      "the evaluation top 100 result is = 73.0\n"
     ]
    }
   ],
   "source": [
    "import networkx as nx\n",
    "from matplotlib import pyplot as plt\n",
    "import csv\n",
    "from datetime import datetime\n",
    "from prettytable import PrettyTable"
   ],
   "metadata": {
    "collapsed": false,
    "pycharm": {
     "name": "#%%\n"
    }
   }
  },
  {
   "cell_type": "markdown",
   "source": [
    "Generating empty graph"
   ],
   "metadata": {
    "collapsed": false
   }
  },
  {
   "cell_type": "code",
   "execution_count": null,
   "outputs": [],
   "source": [
    "G = nx.DiGraph()"
   ],
   "metadata": {
    "collapsed": false,
    "pycharm": {
     "name": "#%%\n"
    }
   }
  },
  {
   "cell_type": "markdown",
   "source": [
    "Reading the edges from CSV file and generating raw edges and appending them as tuples inside a list"
   ],
   "metadata": {
    "collapsed": false
   }
  },
  {
   "cell_type": "code",
   "execution_count": null,
   "outputs": [],
   "source": [
    "edges = []\n",
    "\n",
    "def read_csv(path):\n",
    "    with open(path, \"r\") as csvfile:\n",
    "        graph_reader = csv.reader(csvfile, delimiter=',', quotechar='\"')\n",
    "        data_row_count = 0\n",
    "        list = []\n",
    "        header = next(graph_reader)\n",
    "        print(f'Column names are {\", \".join(header)}')\n",
    "        number_of_columns = len(header)\n",
    "        for row in graph_reader:\n",
    "            temp_list = []\n",
    "            for index in range(number_of_columns):\n",
    "                temp_list.append(row[index])\n",
    "            list.append(tuple(temp_list))\n",
    "            data_row_count += 1\n",
    "        now = datetime.now()\n",
    "        current_time = now.strftime(\"%H:%M:%S\")\n",
    "        print(f'Processed {data_row_count} lines = ', current_time)\n",
    "        return list\n",
    "\n",
    "edges = read_csv('files/python-tag-data_2021-01-01_to_2021-12-03.csv')"
   ],
   "metadata": {
    "collapsed": false,
    "pycharm": {
     "name": "#%%\n"
    }
   }
  },
  {
   "cell_type": "markdown",
   "source": [
    "## Aggregate data\n",
    "We considered 2 approaches to aggregate the edges of graph:\n",
    "\n",
    "1- function <code>aggregate</code> aggregates edges on number of specific user answers to someone's multiple questions. for example if there be 4 record of <code>\"1223\", \"5233\"</code> in csv file, this functions considers 4 as weight of the corresponding edge from node(user) \"1223\" to user \"5233\".\n",
    "\n",
    "2- function <code>aggregate_with_scores</code> aggregates score of each answer given by user and sum them as aggregate function. for example if there be 4 record of <code>\"1223\", \"5233\"</code> in csv file with score of respectively 5, 6, 10 and 2, this functions considers 23 as weight of the corresponding edge from node(user) \"1223\" to user \"5233\".\n",
    "\n",
    "we will use them for different algorithms and will show how considering the score of answers affects the evaluation of our work."
   ],
   "metadata": {
    "collapsed": false
   }
  },
  {
   "cell_type": "code",
   "execution_count": null,
   "outputs": [],
   "source": [
    "def aggregate(G, edges):\n",
    "    for edge in edges:\n",
    "            from_node, to_node = edge[0], edge[1]\n",
    "            if G.has_edge(from_node, to_node):\n",
    "                # we added this one before, just increase the weight by one\n",
    "                G[from_node][to_node]['weight'] += 1\n",
    "            else:\n",
    "                # new edge. add with weight=1\n",
    "                G.add_edge(from_node, to_node, weight=1)\n",
    "\n",
    "def aggregate_with_scores(G, edges):\n",
    "    for edge in edges:\n",
    "            from_node, to_node, score = edge[0], edge[1], float(edge[2])\n",
    "            if G.has_edge(from_node, to_node):\n",
    "                # we added this one before, just increase the weight by one\n",
    "                G[from_node][to_node]['weight'] += score\n",
    "            else:\n",
    "                # new edge. add with weight=1\n",
    "                G.add_edge(from_node, to_node, weight=score)\n",
    "\n",
    "# aggregate(G, edges)\n",
    "aggregate_with_scores(G, edges)\n",
    "\n",
    "## def remove_negative_edges():\n",
    "    ## todo"
   ],
   "metadata": {
    "collapsed": false,
    "pycharm": {
     "name": "#%%\n"
    }
   }
  },
  {
   "cell_type": "markdown",
   "source": [
    "## Social Network Analysis Algorithms\n",
    "\n",
    "Based on our literature work, Most researches that used social network analysis aproaches to find experts tried to use PageRank and applied some feature of their dataset to the algorithm. We shall do the same and we considered score of answers as feature of our dataset to indicate experties of each user.\n",
    "\n",
    "So the <code>aggregate</code> function counts the number of times a user answered another user as feature. and the <code>aggregate_with_scores</code> considers scores of answeres each user got to another user's questions in specific tag.\n",
    "\n",
    "There is a parameter called damping factor which indicates the probability of jumping to another node when algorithm stuck in the loop. In practice 0.85 is the best number for real data use. damping factor in the networkx is known as <code>alpha</code> which is an argument but since the default value that networkx also chose is 0.85, we did not pass it throught the pagerank method. pagerank algorthm is recersive algorithm which we must state how many times it should be run. As much more as it runs, the scores of each nodes starts to tend to reach a number and after some iteration, they will not change which is the point that score of pagerank is final. networkx has argument of <code>max_iter</code> that is the number of iteration that algorithm runs which by default is 100.\n",
    "\n",
    "After calculating the pagerank of each node, we need to sort the score to see which node has highest score (importance) in the graph. Based on scenario of our graph which is a directed graph, that means that user has the highest experties."
   ],
   "metadata": {
    "collapsed": false
   }
  },
  {
   "cell_type": "code",
   "execution_count": null,
   "outputs": [],
   "source": [
    "ppr1 = nx.pagerank(G)\n",
    "\n",
    "sen_rank = sorted(ppr1.items(), key=lambda x: x[1], reverse=True)"
   ],
   "metadata": {
    "collapsed": false,
    "pycharm": {
     "name": "#%%\n"
    }
   }
  },
  {
   "cell_type": "markdown",
   "source": [
    "## printing results\n",
    "\n",
    "here we use prettytable to show results of algorithm which shows users that we found as experts."
   ],
   "metadata": {
    "collapsed": false
   }
  },
  {
   "cell_type": "code",
   "execution_count": null,
   "outputs": [],
   "source": [
    "my_table = PrettyTable()\n",
    "\n",
    "my_table.field_names = [\"UserId\", \"User_Profile_URL\", \"PageRank_Score\"]\n",
    "\n",
    "count = 0\n",
    "for ele1, ele2 in sen_rank:\n",
    "    count = count + 1\n",
    "    if count == 100:\n",
    "        break\n",
    "    my_table.add_row([ele1, 'https://stackoverflow.com/users/' + ele1, ele2])\n",
    "\n",
    "print(my_table)"
   ],
   "metadata": {
    "collapsed": false,
    "pycharm": {
     "name": "#%%\n"
    }
   }
  },
  {
   "cell_type": "markdown",
   "source": [
    "## Evaluation\n",
    "Before we introduce our evaluation methods, we must introduce which data we are comparing our data to.\n",
    "For our research we found this link on <a href=\"https://stackoverflow.com/tags/python/topusers\">stackoverflow website</a>. In this website we see the top users in python tag. But we need this data for the date range that we used for our research. So we need to extract our own data from stackoverflow to get this top users in tags. And not to mention that this link shows top user for specific tag. But we aimed to find all tags related to python. for example that link only shows top users in tag \"python\" but this is not only tag related to python. There are tags like \"python-2.7\", \"python-idle\" and etc that must be considered because they are also related to subject \"python\".\n",
    "For this purpose we proposed our own query to extract the top users from stackoverflow. Based on the mentioned link above, top users that stackoverflow release (data on this link is updated weekly) are based on scores of answer they give in specific tag. So we conducted our own query to extract this data. The query is as follows:\n",
    "\n",
    "``` mysql\n",
    "select a.OwnerUserId as Answerer_ID, sum(a.score) as Sum_Answerer_Score\n",
    "from posts as q join posts as a on  q.Id = a.ParentId join users as u on a.OwnerUserId = u.Id\n",
    "where q.CreationDate < GETDATE()\n",
    "and   q.CreationDate >= '2021-01-01 00:00:00'\n",
    "and   q.PostTypeId = 1\n",
    "and   a.PostTypeId = 2\n",
    "and   a.OwnerUserId IS NOT NULL\n",
    "and   q.Tags LIKE '%python%'\n",
    "group by a.OwnerUserId\n",
    "order by Sum_Answerer_Score desc\n",
    "```\n",
    "This query aims to get data from start of 2021 until the day that the day query is running. So be aware that the csv files that you see in the project files are for queries that was run on 12/4/2021\n",
    "\n",
    "to test our query you can remove the CreationDate conditions and see which users are top users of tags in python and compare it with data in the <a href=\"https://stackoverflow.com/tags/python/topusers\">stackoverflow website</a>. Be aware that you must see abit of difference in number for 2 reasons:\n",
    "1- the data on that link is not updated frequently (only weekly)\n",
    "2- we consider multiple tags that are related to \"python\" but the link only considers tag \"python\". So defenetly numbers of scores that you see in the result of our query must be a bit higher.\n",
    "\n",
    "In this section we are going to do 2 evaluation on our work:\n",
    "1- TOPK: In this evaluation we aim to see how many of our top k users appeared in top k users that considered top users in stackoverflow.\n",
    "2- Spearman Correlation: The TOPK evaluation helps us know how good was our expert detection process. But it does not give us good information how was precision of our ranking process. That is why we considered spearman correlation to determine the correlation between ranking that stackoverflow gives and ranking that we found after process of expert finding"
   ],
   "metadata": {
    "collapsed": false
   }
  },
  {
   "cell_type": "code",
   "execution_count": null,
   "outputs": [],
   "source": [
    "#'files/2021-01-01 to 2021-12-03 - stackoverflow top users'\n",
    "top_user_count = 10;\n",
    "def evaluation(file_path_top_users, ranked_user_ids, user_count):\n",
    "    user_ids_for_evaluation = read_csv(file_path_top_users)\n",
    "    # user_ids_for_evaluation_sorted = sorted(user_ids_for_evaluation, key=lambda x: x[1], reverse=True)\n",
    "    topN = user_ids_for_evaluation[0:user_count]\n",
    "    list_of_topN_user_ids = list(map(lambda x: x[0], topN))\n",
    "    matched_user_id_count = 0\n",
    "    for index in range(user_count):\n",
    "        target = ranked_user_ids[index]\n",
    "        if target in list_of_topN_user_ids:\n",
    "            matched_user_id_count += 1\n",
    "    match_result = matched_user_id_count/user_count\n",
    "    return match_result\n",
    "\n",
    "evalauation_result = evaluation('files/2021-01-01_to_2021-12-03_stackoverflow_top_users.csv', list(map(lambda x: x[0], sen_rank)), top_user_count)\n",
    "print(f\"the evaluation top {top_user_count} result is = {evalauation_result*100}\")"
   ],
   "metadata": {
    "collapsed": false,
    "pycharm": {
     "name": "#%%\n"
    }
   }
  },
  {
   "cell_type": "markdown",
   "source": [
    "## Visualization\n",
    "\n",
    "<span style=\"color: red\">BEWARE</span>: The number of nodes are edges are large in this project. I do not recommend running this part because it might take hours to render the results."
   ],
   "metadata": {
    "collapsed": false
   }
  },
  {
   "cell_type": "code",
   "execution_count": null,
   "outputs": [],
   "source": [
    "#labels = nx.get_edge_attributes(G,'weight')\n",
    "#pos = nx.spring_layout(G)\n",
    "#nx.draw(G, pos, with_labels = True, node_color=\"#f86e00\", connectionstyle='arc3, rad = 0.3')\n",
    "#nx.draw_networkx_edge_labels(G, pos, edge_labels=labels)\n",
    "\n",
    "\n",
    "# plt.show()"
   ],
   "metadata": {
    "collapsed": false,
    "pycharm": {
     "name": "#%%\n"
    }
   }
  }
 ]
}