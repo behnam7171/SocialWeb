{
 "nbformat": 4,
 "nbformat_minor": 0,
 "metadata": {
  "kernelspec": {
   "display_name": "Python 3 (ipykernel)",
   "language": "python",
   "name": "python3"
  },
  "language_info": {
   "codemirror_mode": {
    "name": "ipython",
    "version": 3
   },
   "file_extension": ".py",
   "mimetype": "text/x-python",
   "name": "python",
   "nbconvert_exporter": "python",
   "pygments_lexer": "ipython3",
   "version": "3.8.10"
  },
  "colab": {
   "name": "Copy of a3_network.ipynb",
   "provenance": [],
   "collapsed_sections": [
    "Vej0HSo2V7sb",
    "W8JETWgBV7sc",
    "hoCaU4qpV7sc",
    "fhQc_AZ4V7sc",
    "2_woHFjoV7sc"
   ]
  }
 },
 "cells": [
  {
   "cell_type": "markdown",
   "source": [
    "# The Social Web Research Project\n",
    "\n",
    "In this project, Experts of Stackoverflow Question-Answering community are found.\n",
    "First installing the libraries."
   ],
   "metadata": {
    "collapsed": false
   }
  },
  {
   "cell_type": "code",
   "execution_count": 2,
   "outputs": [
    {
     "name": "stdout",
     "output_type": "stream",
     "text": [
      "Requirement already satisfied: networkx in u:\\courses\\social web\\sw_virtual_environment\\lib\\site-packages (2.6.3)\n"
     ]
    },
    {
     "name": "stderr",
     "output_type": "stream",
     "text": [
      "WARNING: You are using pip version 21.1.2; however, version 21.3.1 is available.\n",
      "You should consider upgrading via the 'U:\\Courses\\Social Web\\sw_virtual_environment\\Scripts\\python.exe -m pip install --upgrade pip' command.\n"
     ]
    },
    {
     "name": "stdout",
     "output_type": "stream",
     "text": [
      "Requirement already satisfied: matplotlib in u:\\courses\\social web\\sw_virtual_environment\\lib\\site-packages (3.5.0)\n",
      "Requirement already satisfied: cycler>=0.10 in u:\\courses\\social web\\sw_virtual_environment\\lib\\site-packages (from matplotlib) (0.11.0)\n",
      "Requirement already satisfied: pillow>=6.2.0 in u:\\courses\\social web\\sw_virtual_environment\\lib\\site-packages (from matplotlib) (8.4.0)\n",
      "Requirement already satisfied: fonttools>=4.22.0 in u:\\courses\\social web\\sw_virtual_environment\\lib\\site-packages (from matplotlib) (4.28.1)\n",
      "Requirement already satisfied: kiwisolver>=1.0.1 in u:\\courses\\social web\\sw_virtual_environment\\lib\\site-packages (from matplotlib) (1.3.2)\n",
      "Requirement already satisfied: numpy>=1.17 in u:\\courses\\social web\\sw_virtual_environment\\lib\\site-packages (from matplotlib) (1.21.4)\n",
      "Requirement already satisfied: packaging>=20.0 in u:\\courses\\social web\\sw_virtual_environment\\lib\\site-packages (from matplotlib) (21.3)\n",
      "Requirement already satisfied: pyparsing>=2.2.1 in u:\\courses\\social web\\sw_virtual_environment\\lib\\site-packages (from matplotlib) (3.0.6)\n",
      "Requirement already satisfied: python-dateutil>=2.7 in u:\\courses\\social web\\sw_virtual_environment\\lib\\site-packages (from matplotlib) (2.8.2)\n",
      "Requirement already satisfied: setuptools-scm>=4 in u:\\courses\\social web\\sw_virtual_environment\\lib\\site-packages (from matplotlib) (6.3.2)\n",
      "Requirement already satisfied: six>=1.5 in u:\\courses\\social web\\sw_virtual_environment\\lib\\site-packages (from python-dateutil>=2.7->matplotlib) (1.16.0)\n",
      "Requirement already satisfied: setuptools in u:\\courses\\social web\\sw_virtual_environment\\lib\\site-packages (from setuptools-scm>=4->matplotlib) (57.0.0)\n",
      "Requirement already satisfied: tomli>=1.0.0 in u:\\courses\\social web\\sw_virtual_environment\\lib\\site-packages (from setuptools-scm>=4->matplotlib) (1.2.2)\n"
     ]
    },
    {
     "name": "stderr",
     "output_type": "stream",
     "text": [
      "WARNING: You are using pip version 21.1.2; however, version 21.3.1 is available.\n",
      "You should consider upgrading via the 'U:\\Courses\\Social Web\\sw_virtual_environment\\Scripts\\python.exe -m pip install --upgrade pip' command.\n"
     ]
    },
    {
     "name": "stdout",
     "output_type": "stream",
     "text": [
      "Requirement already satisfied: scipy in u:\\courses\\social web\\sw_virtual_environment\\lib\\site-packages (1.7.2)\n",
      "Requirement already satisfied: numpy<1.23.0,>=1.16.5 in u:\\courses\\social web\\sw_virtual_environment\\lib\\site-packages (from scipy) (1.21.4)\n"
     ]
    },
    {
     "name": "stderr",
     "output_type": "stream",
     "text": [
      "WARNING: You are using pip version 21.1.2; however, version 21.3.1 is available.\n",
      "You should consider upgrading via the 'U:\\Courses\\Social Web\\sw_virtual_environment\\Scripts\\python.exe -m pip install --upgrade pip' command.\n"
     ]
    }
   ],
   "source": [
    "!pip install networkx\n",
    "!pip install matplotlib\n",
    "!pip install scipy\n"
   ],
   "metadata": {
    "collapsed": false,
    "pycharm": {
     "name": "#%%\n"
    }
   }
  },
  {
   "cell_type": "markdown",
   "source": [
    "## importing necessary libraries"
   ],
   "metadata": {
    "collapsed": false
   }
  },
  {
   "cell_type": "code",
   "execution_count": 3,
   "outputs": [],
   "source": [
    "import networkx as nx\n",
    "from matplotlib import pyplot as plt\n",
    "import csv\n",
    "from datetime import datetime\n",
    "from prettytable import PrettyTable"
   ],
   "metadata": {
    "collapsed": false,
    "pycharm": {
     "name": "#%%\n"
    }
   }
  },
  {
   "cell_type": "markdown",
   "source": [
    "Generating empty graph"
   ],
   "metadata": {
    "collapsed": false
   }
  },
  {
   "cell_type": "code",
   "execution_count": 4,
   "outputs": [],
   "source": [
    "G = nx.DiGraph()"
   ],
   "metadata": {
    "collapsed": false,
    "pycharm": {
     "name": "#%%\n"
    }
   }
  },
  {
   "cell_type": "markdown",
   "source": [
    "Reading the edges from CSV file and generating raw edges and appending them as tuples inside a list"
   ],
   "metadata": {
    "collapsed": false
   }
  },
  {
   "cell_type": "code",
   "execution_count": 5,
   "outputs": [
    {
     "name": "stdout",
     "output_type": "stream",
     "text": [
      "Column names are OwnerUserId, OwnerUserId, score\n",
      "Processed 109585 lines =  14:56:23\n"
     ]
    }
   ],
   "source": [
    "edges = []\n",
    "\n",
    "def read_csv(path):\n",
    "    with open(path, \"r\") as csvfile:\n",
    "        graph_reader = csv.reader(csvfile, delimiter=',', quotechar='\"')\n",
    "        data_row_count = 0\n",
    "        list = []\n",
    "        header = next(graph_reader)\n",
    "        print(f'Column names are {\", \".join(header)}')\n",
    "        number_of_columns = len(header)\n",
    "        for row in graph_reader:\n",
    "            temp_list = []\n",
    "            for index in range(number_of_columns):\n",
    "                temp_list.append(row[index])\n",
    "            list.append(tuple(temp_list))\n",
    "            data_row_count += 1\n",
    "        now = datetime.now()\n",
    "        current_time = now.strftime(\"%H:%M:%S\")\n",
    "        print(f'Processed {data_row_count} lines = ', current_time)\n",
    "        return list\n",
    "\n",
    "edges = read_csv('files/python-tag-data_2021-01-01_to_2021-12-03.csv')"
   ],
   "metadata": {
    "collapsed": false,
    "pycharm": {
     "name": "#%%\n"
    }
   }
  },
  {
   "cell_type": "markdown",
   "source": [
    "## Aggregate data\n",
    "We considered 2 approaches to aggregate the edges of graph:\n",
    "\n",
    "1- function <code>aggregate</code> aggregates edges on number of specific user answers to someone's multiple questions. for example if there be 4 record of <code>\"1223\", \"5233\"</code> in csv file, this functions considers 4 as weight of the corresponding edge from node(user) \"1223\" to user \"5233\".\n",
    "\n",
    "2- function <code>aggregate_with_scores</code> aggregates score of each answer given by user and sum them as aggregate function. for example if there be 4 record of <code>\"1223\", \"5233\"</code> in csv file with score of respectively 5, 6, 10 and 2, this functions considers 23 as weight of the corresponding edge from node(user) \"1223\" to user \"5233\".\n",
    "\n",
    "we will use them for different algorithms and will show how considering the score of answers affects the evaluation of our work."
   ],
   "metadata": {
    "collapsed": false
   }
  },
  {
   "cell_type": "code",
   "execution_count": 6,
   "outputs": [],
   "source": [
    "def aggregate(G, edges):\n",
    "    for edge in edges:\n",
    "            from_node, to_node = edge[0], edge[1]\n",
    "            if G.has_edge(from_node, to_node):\n",
    "                # we added this one before, just increase the weight by one\n",
    "                G[from_node][to_node]['weight'] += 1\n",
    "            else:\n",
    "                # new edge. add with weight=1\n",
    "                G.add_edge(from_node, to_node, weight=1)\n",
    "\n",
    "def aggregate_with_scores(G, edges):\n",
    "    for edge in edges:\n",
    "            from_node, to_node, score = edge[0], edge[1], float(edge[2])\n",
    "            if G.has_edge(from_node, to_node):\n",
    "                # we added this one before, just increase the weight by one\n",
    "                G[from_node][to_node]['weight'] += score\n",
    "            else:\n",
    "                # new edge. add with weight=1\n",
    "                G.add_edge(from_node, to_node, weight=score)\n",
    "\n",
    "# aggregate(G, edges)\n",
    "aggregate_with_scores(G, edges)\n",
    "\n",
    "## def remove_negative_edges():\n",
    "    ## todo"
   ],
   "metadata": {
    "collapsed": false,
    "pycharm": {
     "name": "#%%\n"
    }
   }
  },
  {
   "cell_type": "markdown",
   "source": [
    "## Social Network Analysis Algorithms\n",
    "\n",
    "Based on our literature work, Most researches that used social network analysis aproaches to find experts tried to use PageRank and applied some feature of their dataset to the algorithm. We shall do the same and we considered score of answers as feature of our dataset to indicate experties of each user.\n",
    "\n",
    "So the <code>aggregate</code> function counts the number of times a user answered another user as feature. and the <code>aggregate_with_scores</code> considers scores of answeres each user got to another user's questions in specific tag.\n",
    "\n",
    "There is a parameter called damping factor which indicates the probability of jumping to another node when algorithm stuck in the loop. In practice 0.85 is the best number for real data use. damping factor in the networkx is known as <code>alpha</code> which is an argument but since the default value that networkx also chose is 0.85, we did not pass it throught the pagerank method. pagerank algorthm is recersive algorithm which we must state how many times it should be run. As much more as it runs, the scores of each nodes starts to tend to reach a number and after some iteration, they will not change which is the point that score of pagerank is final. networkx has argument of <code>max_iter</code> that is the number of iteration that algorithm runs which by default is 100.\n",
    "\n",
    "After calculating the pagerank of each node, we need to sort the score to see which node has highest score (importance) in the graph. Based on scenario of our graph which is a directed graph, that means that user has the highest experties."
   ],
   "metadata": {
    "collapsed": false
   }
  },
  {
   "cell_type": "code",
   "execution_count": 7,
   "outputs": [],
   "source": [
    "ppr1 = nx.pagerank(G)\n",
    "\n",
    "sen_rank = sorted(ppr1.items(), key=lambda x: x[1], reverse=True)"
   ],
   "metadata": {
    "collapsed": false,
    "pycharm": {
     "name": "#%%\n"
    }
   }
  },
  {
   "cell_type": "markdown",
   "source": [
    "## printing results\n",
    "\n",
    "here we use prettytable to show results of algorithm which shows users that we found as experts."
   ],
   "metadata": {
    "collapsed": false
   }
  },
  {
   "cell_type": "code",
   "execution_count": 8,
   "outputs": [
    {
     "name": "stdout",
     "output_type": "stream",
     "text": [
      "+----------+------------------------------------------+-----------------------+\n",
      "|  UserId  |             User_Profile_URL             |     PageRank_Score    |\n",
      "+----------+------------------------------------------+-----------------------+\n",
      "| 16343464 | https://stackoverflow.com/users/16343464 |  0.009492961839409965 |\n",
      "| 15497888 | https://stackoverflow.com/users/15497888 |  0.006368158658014132 |\n",
      "| 2901002  | https://stackoverflow.com/users/2901002  |  0.006076742284860547 |\n",
      "| 10035985 | https://stackoverflow.com/users/10035985 | 0.0037520205062359633 |\n",
      "| 6361531  | https://stackoverflow.com/users/6361531  | 0.0032031586293483636 |\n",
      "| 4238408  | https://stackoverflow.com/users/4238408  |  0.00309796078334302  |\n",
      "| 15239951 | https://stackoverflow.com/users/15239951 | 0.0027942886548200266 |\n",
      "| 6622587  | https://stackoverflow.com/users/6622587  | 0.0025611041112939517 |\n",
      "| 8708364  | https://stackoverflow.com/users/8708364  | 0.0024371517449861086 |\n",
      "| 5577765  | https://stackoverflow.com/users/5577765  |  0.002183796763816174 |\n",
      "|  67579   |  https://stackoverflow.com/users/67579   | 0.0021502581454286187 |\n",
      "| 3832970  | https://stackoverflow.com/users/3832970  | 0.0020468496797812954 |\n",
      "| 15070697 | https://stackoverflow.com/users/15070697 | 0.0020024798923373387 |\n",
      "| 4333359  | https://stackoverflow.com/users/4333359  | 0.0019055989709046452 |\n",
      "| 5349916  | https://stackoverflow.com/users/5349916  | 0.0017467450778509144 |\n",
      "| 1883316  | https://stackoverflow.com/users/1883316  |  0.001714734291070072 |\n",
      "| 12833166 | https://stackoverflow.com/users/12833166 | 0.0016946648781065899 |\n",
      "| 9375102  | https://stackoverflow.com/users/9375102  | 0.0016797348078829773 |\n",
      "| 1491895  | https://stackoverflow.com/users/1491895  | 0.0016605165985104785 |\n",
      "| 12046409 | https://stackoverflow.com/users/12046409 | 0.0016582367327774264 |\n",
      "| 14165730 | https://stackoverflow.com/users/14165730 | 0.0016355674754310293 |\n",
      "|  14122   |  https://stackoverflow.com/users/14122   |  0.001556110681285904 |\n",
      "| 7964527  | https://stackoverflow.com/users/7964527  | 0.0014920889318855875 |\n",
      "| 9840637  | https://stackoverflow.com/users/9840637  |  0.001473751258462835 |\n",
      "| 7758804  | https://stackoverflow.com/users/7758804  | 0.0014550638922443718 |\n",
      "| 1126841  | https://stackoverflow.com/users/1126841  |  0.00143992288228861  |\n",
      "| 3791842  | https://stackoverflow.com/users/3791842  | 0.0014030631190270237 |\n",
      "| 4518341  | https://stackoverflow.com/users/4518341  | 0.0013831373044544224 |\n",
      "| 14289892 | https://stackoverflow.com/users/14289892 | 0.0013404963743192835 |\n",
      "| 1832058  | https://stackoverflow.com/users/1832058  | 0.0013379159661655806 |\n",
      "| 5320906  | https://stackoverflow.com/users/5320906  | 0.0012758612674043704 |\n",
      "| 5459839  | https://stackoverflow.com/users/5459839  |  0.001274070617666916 |\n",
      "| 2988730  | https://stackoverflow.com/users/2988730  | 0.0012109185897030267 |\n",
      "| 14991864 | https://stackoverflow.com/users/14991864 | 0.0011936324772864155 |\n",
      "| 5014455  | https://stackoverflow.com/users/5014455  | 0.0011847474469479093 |\n",
      "|  901925  |  https://stackoverflow.com/users/901925  | 0.0011721704656474077 |\n",
      "| 3799759  | https://stackoverflow.com/users/3799759  | 0.0011710510723410821 |\n",
      "|  51685   |  https://stackoverflow.com/users/51685   | 0.0011490693003478162 |\n",
      "| 5317403  | https://stackoverflow.com/users/5317403  | 0.0011095811518356824 |\n",
      "| 9441404  | https://stackoverflow.com/users/9441404  | 0.0010646317292419484 |\n",
      "| 9444073  | https://stackoverflow.com/users/9444073  | 0.0009717626087131408 |\n",
      "| 13138364 | https://stackoverflow.com/users/13138364 | 0.0009640393436614425 |\n",
      "|   7432   |   https://stackoverflow.com/users/7432   | 0.0009336400449260737 |\n",
      "| 2001654  | https://stackoverflow.com/users/2001654  |  0.000920507745861246 |\n",
      "| 9136348  | https://stackoverflow.com/users/9136348  | 0.0009170798759973921 |\n",
      "| 7212686  | https://stackoverflow.com/users/7212686  | 0.0009141466325834603 |\n",
      "| 9332187  | https://stackoverflow.com/users/9332187  | 0.0009083572393707666 |\n",
      "| 2357112  | https://stackoverflow.com/users/2357112  | 0.0009031327131196311 |\n",
      "| 13131047 | https://stackoverflow.com/users/13131047 | 0.0008563358988091148 |\n",
      "| 2648811  | https://stackoverflow.com/users/2648811  | 0.0008414115815910891 |\n",
      "|  235698  |  https://stackoverflow.com/users/235698  | 0.0008124216964948986 |\n",
      "| 2390182  | https://stackoverflow.com/users/2390182  | 0.0008099905339877805 |\n",
      "| 12939557 | https://stackoverflow.com/users/12939557 | 0.0008073506240573026 |\n",
      "| 3437787  | https://stackoverflow.com/users/3437787  | 0.0007979943802761554 |\n",
      "| 15438033 | https://stackoverflow.com/users/15438033 | 0.0007832305058607527 |\n",
      "| 9857631  | https://stackoverflow.com/users/9857631  | 0.0007818496967114548 |\n",
      "| 5424988  | https://stackoverflow.com/users/5424988  | 0.0007776645032432977 |\n",
      "| 2823719  | https://stackoverflow.com/users/2823719  | 0.0007768804408212612 |\n",
      "| 4755954  | https://stackoverflow.com/users/4755954  | 0.0007606554298724572 |\n",
      "| 11106801 | https://stackoverflow.com/users/11106801 | 0.0007603792602154094 |\n",
      "| 11043825 | https://stackoverflow.com/users/11043825 |  0.000745382612971053 |\n",
      "| 4001592  | https://stackoverflow.com/users/4001592  |  0.000734993317158278 |\n",
      "| 3485434  | https://stackoverflow.com/users/3485434  | 0.0007267009443651191 |\n",
      "| 3112049  | https://stackoverflow.com/users/3112049  |  0.00068703257634504  |\n",
      "| 7175713  | https://stackoverflow.com/users/7175713  | 0.0006862768439690834 |\n",
      "| 5237560  | https://stackoverflow.com/users/5237560  |  0.000685377759351564 |\n",
      "| 6331369  | https://stackoverflow.com/users/6331369  | 0.0006843257775946577 |\n",
      "| 2937831  | https://stackoverflow.com/users/2937831  | 0.0006741527898844091 |\n",
      "| 3000206  | https://stackoverflow.com/users/3000206  | 0.0006649652561625284 |\n",
      "| 13990016 | https://stackoverflow.com/users/13990016 | 0.0006336420542552772 |\n",
      "|  941531  |  https://stackoverflow.com/users/941531  | 0.0006316640557010904 |\n",
      "| 1740577  | https://stackoverflow.com/users/1740577  | 0.0006224182510809118 |\n",
      "| 4657412  | https://stackoverflow.com/users/4657412  |  0.000620680402155856 |\n",
      "| 7326738  | https://stackoverflow.com/users/7326738  |  0.000620370943448139 |\n",
      "| 13382000 | https://stackoverflow.com/users/13382000 | 0.0006138787235376757 |\n",
      "|  480982  |  https://stackoverflow.com/users/480982  | 0.0006121840813279229 |\n",
      "| 12480730 | https://stackoverflow.com/users/12480730 |  0.000599038524607684 |\n",
      "| 12728244 | https://stackoverflow.com/users/12728244 | 0.0005953688421794179 |\n",
      "| 3545273  | https://stackoverflow.com/users/3545273  | 0.0005924725100200473 |\n",
      "| 1863229  | https://stackoverflow.com/users/1863229  | 0.0005847039730290291 |\n",
      "| 6792743  | https://stackoverflow.com/users/6792743  | 0.0005695958879820461 |\n",
      "| 10785975 | https://stackoverflow.com/users/10785975 | 0.0005680783870626671 |\n",
      "|  355230  |  https://stackoverflow.com/users/355230  | 0.0005666927319030004 |\n",
      "| 13782669 | https://stackoverflow.com/users/13782669 | 0.0005589804206423017 |\n",
      "| 4983450  | https://stackoverflow.com/users/4983450  |  0.000557975614114311 |\n",
      "|  415016  |  https://stackoverflow.com/users/415016  | 0.0005542032930673834 |\n",
      "| 6714627  | https://stackoverflow.com/users/6714627  | 0.0005474957880092088 |\n",
      "| 6660638  | https://stackoverflow.com/users/6660638  | 0.0005466441847046195 |\n",
      "| 13107804 | https://stackoverflow.com/users/13107804 | 0.0005458526860943979 |\n",
      "| 11380795 | https://stackoverflow.com/users/11380795 | 0.0005438710631707074 |\n",
      "| 5769463  | https://stackoverflow.com/users/5769463  | 0.0005345543707743333 |\n",
      "| 2836621  | https://stackoverflow.com/users/2836621  | 0.0005298112232306685 |\n",
      "|  364696  |  https://stackoverflow.com/users/364696  | 0.0005275601478110467 |\n",
      "|   4834   |   https://stackoverflow.com/users/4834   | 0.0005222899472919708 |\n",
      "| 16759116 | https://stackoverflow.com/users/16759116 | 0.0005211312759426569 |\n",
      "|  248823  |  https://stackoverflow.com/users/248823  | 0.0005187133085185877 |\n",
      "| 5431791  | https://stackoverflow.com/users/5431791  | 0.0005151476177971212 |\n",
      "| 4926757  | https://stackoverflow.com/users/4926757  | 0.0005134837723095494 |\n",
      "| 9215780  | https://stackoverflow.com/users/9215780  |  0.000511968881821826 |\n",
      "+----------+------------------------------------------+-----------------------+\n"
     ]
    }
   ],
   "source": [
    "my_table = PrettyTable()\n",
    "\n",
    "my_table.field_names = [\"UserId\", \"User_Profile_URL\", \"PageRank_Score\"]\n",
    "\n",
    "count = 0\n",
    "for ele1, ele2 in sen_rank:\n",
    "    count = count + 1\n",
    "    if count == 100:\n",
    "        break\n",
    "    my_table.add_row([ele1, 'https://stackoverflow.com/users/' + ele1, ele2])\n",
    "\n",
    "print(my_table)"
   ],
   "metadata": {
    "collapsed": false,
    "pycharm": {
     "name": "#%%\n"
    }
   }
  },
  {
   "cell_type": "markdown",
   "source": [
    "## Evaluation\n",
    "Before we introduce our evaluation methods, we must introduce which data we are comparing our data to.\n",
    "For our research we found this link on <a href=\"https://stackoverflow.com/tags/python/topusers\">stackoverflow website</a>. In this website we see the top users in python tag. But we need this data for the date range that we used for our research. So we need to extract our own data from stackoverflow to get this top users in tags. And not to mention that this link shows top user for specific tag. But we aimed to find all tags related to python. for example that link only shows top users in tag \"python\" but this is not only tag related to python. There are tags like \"python-2.7\", \"python-idle\" and etc that must be considered because they are also related to subject \"python\".\n",
    "For this purpose we proposed our own query to extract the top users from stackoverflow. Based on the mentioned link above, top users that stackoverflow release (data on this link is updated weekly) are based on scores of answer they give in specific tag. So we conducted our own query to extract this data. The query is as follows:\n",
    "\n",
    "``` mysql\n",
    "select a.OwnerUserId as Answerer_ID, sum(a.score) as Sum_Answerer_Score\n",
    "from posts as q join posts as a on  q.Id = a.ParentId join users as u on a.OwnerUserId = u.Id\n",
    "where q.CreationDate < GETDATE()\n",
    "and   q.CreationDate >= '2021-01-01 00:00:00'\n",
    "and   q.PostTypeId = 1\n",
    "and   a.PostTypeId = 2\n",
    "and   a.OwnerUserId IS NOT NULL\n",
    "and   q.Tags LIKE '%python%'\n",
    "group by a.OwnerUserId\n",
    "order by Sum_Answerer_Score desc\n",
    "```\n",
    "This query aims to get data from start of 2021 until the day that the day query is running. So be aware that the csv files that you see in the project files are for queries that was run on 12/4/2021\n",
    "\n",
    "to test our query you can remove the CreationDate conditions and see which users are top users of tags in python and compare it with data in the <a href=\"https://stackoverflow.com/tags/python/topusers\">stackoverflow website</a>. Be aware that you must see abit of difference in number for 2 reasons:\n",
    "1- the data on that link is not updated frequently (only weekly)\n",
    "2- we consider multiple tags that are related to \"python\" but the link only considers tag \"python\". So defenetly numbers of scores that you see in the result of our query must be a bit higher.\n",
    "\n",
    "In this section we are going to do 2 evaluation on our work:\n",
    "1- TOPK: In this evaluation we aim to see how many of our top k users appeared in top k users that considered top users in stackoverflow.\n",
    "2- Spearman Correlation: The TOPK evaluation helps us know how good was our expert detection process. But it does not give us good information how was precision of our ranking process. That is why we considered spearman correlation to determine the correlation between ranking that stackoverflow gives and ranking that we found after process of expert finding"
   ],
   "metadata": {
    "collapsed": false
   }
  },
  {
   "cell_type": "code",
   "execution_count": 31,
   "outputs": [
    {
     "name": "stdout",
     "output_type": "stream",
     "text": [
      "Column names are Answerer_ID, Sum_Answerer_Score\n",
      "Processed 50000 lines =  18:55:24\n",
      "the evaluation top 10 result is = 70.0\n",
      "Column names are Answerer_ID, Sum_Answerer_Score\n",
      "Processed 50000 lines =  18:55:24\n",
      "0.5151515151515151\n"
     ]
    }
   ],
   "source": [
    "#'files/2021-01-01 to 2021-12-03 - stackoverflow top users'\n",
    "top_user_count = 10;\n",
    "def topk_evaluation(file_path_top_users, ranked_user_ids, user_count):\n",
    "    user_ids_for_evaluation = read_csv(file_path_top_users)\n",
    "    topN = user_ids_for_evaluation[0:user_count]\n",
    "    list_of_topN_user_ids = list(map(lambda x: x[0], topN))\n",
    "    matched_user_id_count = 0\n",
    "    for index in range(user_count):\n",
    "        target = ranked_user_ids[index]\n",
    "        if target in list_of_topN_user_ids:\n",
    "            matched_user_id_count += 1\n",
    "    match_result = matched_user_id_count/user_count\n",
    "    return match_result\n",
    "\n",
    "evalauation_result = topk_evaluation('files/2021-01-01_to_2021-12-03_stackoverflow_top_users.csv', list(map(lambda x: x[0], sen_rank)), top_user_count)\n",
    "print(f\"the evaluation top {top_user_count} result is = {evalauation_result*100}\")\n",
    "\n",
    "def spearman_evaluation(file_path_top_users, users_pagerankscore_tuple, user_count):\n",
    "    user_ids_for_evaluation = read_csv(file_path_top_users)\n",
    "    list_of_topN_user_ids_by_stackoverflow = list(map(lambda x: int(x[1]), user_ids_for_evaluation))\n",
    "    rank_of_topN_user_ids_by_stackoverflow  = len(list_of_topN_user_ids_by_stackoverflow) - ss.rankdata(list_of_topN_user_ids_by_stackoverflow).astype(int) + 1\n",
    "    our_scores = list(map(lambda x: x[1], users_pagerankscore_tuple))\n",
    "    our_rankings_by_scores  = len(our_scores) - ss.rankdata(our_scores).astype(int) + 1\n",
    "    our_user_ranking_tuples = []\n",
    "    for index in range(len(our_rankings_by_scores)):\n",
    "        our_user_ranking_tuples.append((users_pagerankscore_tuple[index][0],our_rankings_by_scores[index]))\n",
    "    stackoverflow_user_ranking_tuples = []\n",
    "    for index in range(len(rank_of_topN_user_ids_by_stackoverflow)):\n",
    "        stackoverflow_user_ranking_tuples.append((user_ids_for_evaluation[index][0],rank_of_topN_user_ids_by_stackoverflow[index]))\n",
    "    # print(our_user_ranking_tuples)\n",
    "    # print(stackoverflow_user_ranking_tuples)\n",
    "    our_ranking_for_evaluation = list(map(lambda x: int(x[1]), our_user_ranking_tuples))\n",
    "    temp_stackoverflow_userids = list(map(lambda x: x[0], stackoverflow_user_ranking_tuples))\n",
    "    stackoverflow_ranking_for_evaluation = []\n",
    "    for index in range(user_count*2):\n",
    "        target_to_find = our_user_ranking_tuples[index][0]\n",
    "        found_index = temp_stackoverflow_userids.index(target_to_find)\n",
    "        stackoverflow_ranking_for_evaluation.append(stackoverflow_user_ranking_tuples[found_index][1])\n",
    "\n",
    "    # print(our_ranking_for_evaluation)\n",
    "    # print(stackoverflow_ranking_for_evaluation)\n",
    "    print(ss.spearmanr(our_ranking_for_evaluation[0:user_count], stackoverflow_ranking_for_evaluation[0:user_count])[0])\n",
    "\n",
    "\n",
    "import scipy.stats as ss\n",
    "ranking = list(map(lambda x: x[1], sen_rank))\n",
    "test = len(ranking) - ss.rankdata(ranking).astype(int) + 1\n",
    "spearman_evaluation('files/2021-01-01_to_2021-12-03_stackoverflow_top_users.csv', sen_rank, 10)"
   ],
   "metadata": {
    "collapsed": false,
    "pycharm": {
     "name": "#%%\n"
    }
   }
  },
  {
   "cell_type": "markdown",
   "source": [
    "## Visualization\n",
    "\n",
    "<span style=\"color: red\">BEWARE</span>: The number of nodes are edges are large in this project. I do not recommend running this part because it might take hours to render the results."
   ],
   "metadata": {
    "collapsed": false
   }
  },
  {
   "cell_type": "code",
   "execution_count": 10,
   "outputs": [],
   "source": [
    "#labels = nx.get_edge_attributes(G,'weight')\n",
    "#pos = nx.spring_layout(G)\n",
    "#nx.draw(G, pos, with_labels = True, node_color=\"#f86e00\", connectionstyle='arc3, rad = 0.3')\n",
    "#nx.draw_networkx_edge_labels(G, pos, edge_labels=labels)\n",
    "\n",
    "\n",
    "# plt.show()"
   ],
   "metadata": {
    "collapsed": false,
    "pycharm": {
     "name": "#%%\n"
    }
   }
  }
 ]
}