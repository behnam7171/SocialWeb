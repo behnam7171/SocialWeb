{
 "nbformat": 4,
 "nbformat_minor": 0,
 "metadata": {
  "kernelspec": {
   "display_name": "Python 3 (ipykernel)",
   "language": "python",
   "name": "python3"
  },
  "language_info": {
   "codemirror_mode": {
    "name": "ipython",
    "version": 3
   },
   "file_extension": ".py",
   "mimetype": "text/x-python",
   "name": "python",
   "nbconvert_exporter": "python",
   "pygments_lexer": "ipython3",
   "version": "3.8.10"
  },
  "colab": {
   "name": "Copy of a3_network.ipynb",
   "provenance": [],
   "collapsed_sections": [
    "Vej0HSo2V7sb",
    "W8JETWgBV7sc",
    "hoCaU4qpV7sc",
    "fhQc_AZ4V7sc",
    "2_woHFjoV7sc"
   ]
  }
 },
 "cells": [
  {
   "cell_type": "markdown",
   "source": [
    "# The Social Web Research Project\n",
    "\n",
    "In this project, Experts of Stackoverflow Question-Answering community are found.\n",
    "First installing the libraries."
   ],
   "metadata": {
    "collapsed": false
   }
  },
  {
   "cell_type": "code",
   "execution_count": 370,
   "outputs": [
    {
     "name": "stdout",
     "output_type": "stream",
     "text": [
      "Requirement already satisfied: networkx in /Users/alirezasoltaninezhad/opt/anaconda3/lib/python3.8/site-packages (2.6.3)\r\n",
      "Requirement already satisfied: matplotlib in /Users/alirezasoltaninezhad/opt/anaconda3/lib/python3.8/site-packages (3.4.3)\r\n",
      "Requirement already satisfied: kiwisolver>=1.0.1 in /Users/alirezasoltaninezhad/opt/anaconda3/lib/python3.8/site-packages (from matplotlib) (1.3.1)\r\n",
      "Requirement already satisfied: numpy>=1.16 in /Users/alirezasoltaninezhad/opt/anaconda3/lib/python3.8/site-packages (from matplotlib) (1.21.2)\r\n",
      "Requirement already satisfied: cycler>=0.10 in /Users/alirezasoltaninezhad/opt/anaconda3/lib/python3.8/site-packages (from matplotlib) (0.10.0)\r\n",
      "Requirement already satisfied: pyparsing>=2.2.1 in /Users/alirezasoltaninezhad/opt/anaconda3/lib/python3.8/site-packages (from matplotlib) (3.0.4)\r\n",
      "Requirement already satisfied: python-dateutil>=2.7 in /Users/alirezasoltaninezhad/opt/anaconda3/lib/python3.8/site-packages (from matplotlib) (2.8.2)\r\n",
      "Requirement already satisfied: pillow>=6.2.0 in /Users/alirezasoltaninezhad/opt/anaconda3/lib/python3.8/site-packages (from matplotlib) (8.4.0)\r\n",
      "Requirement already satisfied: six in /Users/alirezasoltaninezhad/opt/anaconda3/lib/python3.8/site-packages (from cycler>=0.10->matplotlib) (1.16.0)\r\n",
      "Requirement already satisfied: scipy in /Users/alirezasoltaninezhad/opt/anaconda3/lib/python3.8/site-packages (1.7.1)\r\n",
      "Requirement already satisfied: numpy<1.23.0,>=1.16.5 in /Users/alirezasoltaninezhad/opt/anaconda3/lib/python3.8/site-packages (from scipy) (1.21.2)\r\n",
      "Requirement already satisfied: pandas in /Users/alirezasoltaninezhad/opt/anaconda3/lib/python3.8/site-packages (1.2.4)\r\n",
      "Requirement already satisfied: python-dateutil>=2.7.3 in /Users/alirezasoltaninezhad/opt/anaconda3/lib/python3.8/site-packages (from pandas) (2.8.2)\r\n",
      "Requirement already satisfied: pytz>=2017.3 in /Users/alirezasoltaninezhad/opt/anaconda3/lib/python3.8/site-packages (from pandas) (2021.3)\r\n",
      "Requirement already satisfied: numpy>=1.16.5 in /Users/alirezasoltaninezhad/opt/anaconda3/lib/python3.8/site-packages (from pandas) (1.21.2)\r\n",
      "Requirement already satisfied: six>=1.5 in /Users/alirezasoltaninezhad/opt/anaconda3/lib/python3.8/site-packages (from python-dateutil>=2.7.3->pandas) (1.16.0)\r\n"
     ]
    }
   ],
   "source": [
    "!pip install networkx\n",
    "!pip install matplotlib\n",
    "!pip install scipy\n",
    "!pip install pandas"
   ],
   "metadata": {
    "collapsed": false,
    "pycharm": {
     "name": "#%%\n"
    }
   }
  },
  {
   "cell_type": "markdown",
   "source": [
    "## importing necessary libraries"
   ],
   "metadata": {
    "collapsed": false
   }
  },
  {
   "cell_type": "code",
   "execution_count": 371,
   "outputs": [],
   "source": [
    "import networkx as nx\n",
    "from matplotlib import pyplot as plt\n",
    "import csv\n",
    "from datetime import datetime\n",
    "from prettytable import PrettyTable\n",
    "import pandas as pd\n",
    "import numpy as np\n",
    "\n"
   ],
   "metadata": {
    "collapsed": false,
    "pycharm": {
     "name": "#%%\n"
    }
   }
  },
  {
   "cell_type": "markdown",
   "source": [
    "Generating empty graph"
   ],
   "metadata": {
    "collapsed": false
   }
  },
  {
   "cell_type": "code",
   "execution_count": 372,
   "outputs": [],
   "source": [
    "G = nx.DiGraph()"
   ],
   "metadata": {
    "collapsed": false,
    "pycharm": {
     "name": "#%%\n"
    }
   }
  },
  {
   "cell_type": "markdown",
   "source": [
    "Reading the edges from CSV file and generating raw edges and appending them as tuples inside a list"
   ],
   "metadata": {
    "collapsed": false
   }
  },
  {
   "cell_type": "code",
   "execution_count": 373,
   "outputs": [
    {
     "name": "stdout",
     "output_type": "stream",
     "text": [
      "Column names are OwnerUserId, OwnerUserId, score\n",
      "Processed 109585 lines =  12:53:05\n"
     ]
    }
   ],
   "source": [
    "edges = []\n",
    "\n",
    "def read_csv(path):\n",
    "    with open(path, \"r\") as csvfile:\n",
    "        graph_reader = csv.reader(csvfile, delimiter=',', quotechar='\"')\n",
    "        data_row_count = 0\n",
    "        list = []\n",
    "        header = next(graph_reader)\n",
    "        print(f'Column names are {\", \".join(header)}')\n",
    "        number_of_columns = len(header)\n",
    "        for row in graph_reader:\n",
    "            temp_list = []\n",
    "            for index in range(number_of_columns):\n",
    "                temp_list.append(row[index])\n",
    "            list.append(tuple(temp_list))\n",
    "            data_row_count += 1\n",
    "        now = datetime.now()\n",
    "        current_time = now.strftime(\"%H:%M:%S\")\n",
    "        print(f'Processed {data_row_count} lines = ', current_time)\n",
    "        return list\n",
    "\n",
    "edges = read_csv('files/python-tag-data_2021-01-01_to_2021-12-03.csv')"
   ],
   "metadata": {
    "collapsed": false,
    "pycharm": {
     "name": "#%%\n"
    }
   }
  },
  {
   "cell_type": "markdown",
   "source": [
    "## Aggregate data\n",
    "We considered 2 approaches to aggregate the edges of graph:\n",
    "\n",
    "1- function <code>aggregate</code> aggregates edges on number of specific user answers to someone's multiple questions. for example if there be 4 record of <code>\"1223\", \"5233\"</code> in csv file, this functions considers 4 as weight of the corresponding edge from node(user) \"1223\" to user \"5233\".\n",
    "\n",
    "2- function <code>aggregate_with_scores</code> aggregates score of each answer given by user and sum them as aggregate function. for example if there be 4 record of <code>\"1223\", \"5233\"</code> in csv file with score of respectively 5, 6, 10 and 2, this functions considers 23 as weight of the corresponding edge from node(user) \"1223\" to user \"5233\".\n",
    "\n",
    "we will use them for different algorithms and will show how considering the score of answers affects the evaluation of our work."
   ],
   "metadata": {
    "collapsed": false
   }
  },
  {
   "cell_type": "code",
   "execution_count": 380,
   "outputs": [],
   "source": [
    "# def aggregate(G, edges):\n",
    "#     for edge in edges:\n",
    "#             from_node, to_node = edge[0], edge[1]\n",
    "#             if G.has_edge(from_node, to_node):\n",
    "#                 # we added this one before, just increase the weight by one\n",
    "#                 G[from_node][to_node]['weight'] += 1\n",
    "#             else:\n",
    "#                 # new edge. add with weight=1\n",
    "#                 G.add_edge(from_node, to_node, weight=1)\n",
    "\n",
    "def aggregate_with_scores(G, edges):\n",
    "    for edge in edges:\n",
    "            from_node, to_node, score = edge[0], edge[1], float(edge[2])\n",
    "            if G.has_edge(from_node, to_node):\n",
    "                # we added this one before, just increase the weight by one\n",
    "                G[from_node][to_node]['weight'] += score\n",
    "            else:\n",
    "                # new edge. add with weight=1\n",
    "                G.add_edge(from_node, to_node, weight=score)\n",
    "\n",
    "# aggregate(G, edges)\n",
    "aggregate_with_scores(G, edges)\n",
    "\n",
    "## def remove_negative_edges():\n",
    "    ## todo"
   ],
   "metadata": {
    "collapsed": false,
    "pycharm": {
     "name": "#%%\n"
    }
   }
  },
  {
   "cell_type": "markdown",
   "source": [
    "## Social Network Analysis Algorithms\n",
    "\n",
    "Based on our literature work, Most researches that used social network analysis aproaches to find experts tried to use PageRank and applied some feature of their dataset to the algorithm. We shall do the same and we considered score of answers as feature of our dataset to indicate experties of each user.\n",
    "\n",
    "So the <code>aggregate</code> function counts the number of times a user answered another user as feature. and the <code>aggregate_with_scores</code> considers scores of answeres each user got to another user's questions in specific tag.\n",
    "\n",
    "There is a parameter called damping factor which indicates the probability of jumping to another node when algorithm stuck in the loop. In practice 0.85 is the best number for real data use. damping factor in the networkx is known as <code>alpha</code> which is an argument but since the default value that networkx also chose is 0.85, we did not pass it throught the pagerank method. pagerank algorthm is recersive algorithm which we must state how many times it should be run. As much more as it runs, the scores of each nodes starts to tend to reach a number and after some iteration, they will not change which is the point that score of pagerank is final. networkx has argument of <code>max_iter</code> that is the number of iteration that algorithm runs which by default is 100.\n",
    "\n",
    "After calculating the pagerank of each node, we need to sort the score to see which node has highest score (importance) in the graph. Based on scenario of our graph which is a directed graph, that means that user has the highest experties."
   ],
   "metadata": {
    "collapsed": false
   }
  },
  {
   "cell_type": "code",
   "execution_count": 381,
   "outputs": [
    {
     "name": "stdout",
     "output_type": "stream",
     "text": [
      "      Sorted_PageRank_UserId  PageRank_Score Sorted_Hits_Rank_UserId  \\\n",
      "0                   16343464        0.012885                 2901002   \n",
      "1                   15497888        0.006403                12833166   \n",
      "2                    2901002        0.005771                14289892   \n",
      "3                    2001654        0.004929                15497888   \n",
      "4                   10035985        0.003780                15239951   \n",
      "...                      ...             ...                     ...   \n",
      "78299                8478944        0.000004                 1044117   \n",
      "78300               13349755        0.000004                12544023   \n",
      "78301                4772772        0.000004                13991941   \n",
      "78302               13991941        0.000003                16735232   \n",
      "78303                3764369        0.000001                 4991469   \n",
      "\n",
      "       Hits_Rank_Score Sorted_Degree_Centrality_UserId  \\\n",
      "0         2.067303e-01                         2901002   \n",
      "1         4.222244e-02                        10035985   \n",
      "2         3.078157e-02                        15239951   \n",
      "3         2.759569e-02                        16343464   \n",
      "4         2.606685e-02                        15497888   \n",
      "...                ...                             ...   \n",
      "78299    -3.874976e-07                        17525999   \n",
      "78300    -1.335869e-06                        17526345   \n",
      "78301    -1.672118e-06                        17526447   \n",
      "78302    -2.230557e-06                        17526476   \n",
      "78303    -4.581917e-06                        17526655   \n",
      "\n",
      "       Degree_Centrality_Rank_Score  \n",
      "0                          0.020791  \n",
      "1                          0.012439  \n",
      "2                          0.010191  \n",
      "3                          0.008442  \n",
      "4                          0.007880  \n",
      "...                             ...  \n",
      "78299                      0.000013  \n",
      "78300                      0.000013  \n",
      "78301                      0.000013  \n",
      "78302                      0.000013  \n",
      "78303                      0.000013  \n",
      "\n",
      "[78304 rows x 6 columns]\n"
     ]
    }
   ],
   "source": [
    "ppr1 = nx.pagerank(G)\n",
    "ppr2 = nx.hits(G)\n",
    "ppr3 = nx.degree_centrality(G)\n",
    "\n",
    "sen_rank = sorted(ppr1.items(), key=lambda x: x[1], reverse=True)\n",
    "Hits_Rank = sorted(ppr2[1].items(), key=lambda x: x[1], reverse=True)\n",
    "Degree_Centrality_Rank = sorted(ppr3.items(), key=lambda x: x[1], reverse=True)\n",
    "\n",
    "\n",
    "Sorted_PageRank_UserId = [x[0] for x in sen_rank]\n",
    "PageRank_Score = [x[1] for x in sen_rank]\n",
    "\n",
    "Sorted_Hits_Rank_UserId = [x[0] for x in Hits_Rank]\n",
    "Hits_Rank_Score = [x[1] for x in Hits_Rank]\n",
    "\n",
    "Sorted_Degree_Centrality_UserId = [x[0] for x in Degree_Centrality_Rank]\n",
    "Degree_Centrality_Rank_Score = [x[1] for x in Degree_Centrality_Rank]\n",
    "\n",
    "data = {'Sorted_PageRank_UserId': Sorted_PageRank_UserId,'PageRank_Score': PageRank_Score, 'Sorted_Hits_Rank_UserId': Sorted_Hits_Rank_UserId , 'Hits_Rank_Score' : Hits_Rank_Score, 'Sorted_Degree_Centrality_UserId' : Sorted_Degree_Centrality_UserId, 'Degree_Centrality_Rank_Score' : Degree_Centrality_Rank_Score}\n",
    "df = pd.DataFrame(data)\n",
    "print(df)\n",
    "\n",
    "\n",
    "\n"
   ],
   "metadata": {
    "collapsed": false,
    "pycharm": {
     "name": "#%%\n"
    }
   }
  },
  {
   "cell_type": "markdown",
   "source": [
    "## printing results\n",
    "\n",
    "here we use prettytable to show results of algorithm which shows users that we found as experts."
   ],
   "metadata": {
    "collapsed": false,
    "pycharm": {
     "name": "#%% md\n"
    }
   }
  },
  {
   "cell_type": "code",
   "source": [
    "my_table = PrettyTable()\n",
    "\n",
    "my_table.field_names = [\"UserId\", \"User_Profile_URL\", \"PageRank_Score\"]\n",
    "\n",
    "count = 0\n",
    "for ele1, ele2 in sen_rank:\n",
    "    count = count + 1\n",
    "    if count == 100:\n",
    "        break\n",
    "    my_table.add_row([ele1, 'https://stackoverflow.com/users/' + ele1, ele2])\n",
    "\n",
    "print(my_table)"
   ],
   "metadata": {
    "collapsed": false,
    "pycharm": {
     "name": "#%%\n"
    }
   },
   "execution_count": 382,
   "outputs": [
    {
     "name": "stdout",
     "output_type": "stream",
     "text": [
      "+----------+------------------------------------------+-----------------------+\n",
      "|  UserId  |             User_Profile_URL             |     PageRank_Score    |\n",
      "+----------+------------------------------------------+-----------------------+\n",
      "| 16343464 | https://stackoverflow.com/users/16343464 |  0.012884636132801126 |\n",
      "| 15497888 | https://stackoverflow.com/users/15497888 |  0.006403256030567018 |\n",
      "| 2901002  | https://stackoverflow.com/users/2901002  |  0.005770799523663726 |\n",
      "| 2001654  | https://stackoverflow.com/users/2001654  |  0.004929451401949625 |\n",
      "| 10035985 | https://stackoverflow.com/users/10035985 |   0.0037800148408464  |\n",
      "| 6361531  | https://stackoverflow.com/users/6361531  |  0.003667086990336846 |\n",
      "| 15239951 | https://stackoverflow.com/users/15239951 |  0.002780947689239098 |\n",
      "| 4238408  | https://stackoverflow.com/users/4238408  |  0.002684376838854891 |\n",
      "| 5577765  | https://stackoverflow.com/users/5577765  | 0.0024871199132598123 |\n",
      "| 8708364  | https://stackoverflow.com/users/8708364  |  0.002247236928188681 |\n",
      "| 6622587  | https://stackoverflow.com/users/6622587  |  0.002240796571644665 |\n",
      "| 4333359  | https://stackoverflow.com/users/4333359  |  0.00223242634836718  |\n",
      "|  67579   |  https://stackoverflow.com/users/67579   | 0.0022164331745852107 |\n",
      "| 1883316  | https://stackoverflow.com/users/1883316  |  0.002105086029327817 |\n",
      "| 15070697 | https://stackoverflow.com/users/15070697 |  0.002101894376973981 |\n",
      "| 9375102  | https://stackoverflow.com/users/9375102  |  0.001974380494826791 |\n",
      "| 1832058  | https://stackoverflow.com/users/1832058  | 0.0018734159848442316 |\n",
      "| 3832970  | https://stackoverflow.com/users/3832970  | 0.0018208859405222343 |\n",
      "| 1491895  | https://stackoverflow.com/users/1491895  | 0.0017766210237547253 |\n",
      "|  108205  |  https://stackoverflow.com/users/108205  | 0.0017608265983190467 |\n",
      "| 4518341  | https://stackoverflow.com/users/4518341  | 0.0016484008339938314 |\n",
      "| 12848411 | https://stackoverflow.com/users/12848411 | 0.0016460088038755302 |\n",
      "| 14165730 | https://stackoverflow.com/users/14165730 | 0.0016234417373878032 |\n",
      "| 12046409 | https://stackoverflow.com/users/12046409 | 0.0015681661320684495 |\n",
      "| 5349916  | https://stackoverflow.com/users/5349916  | 0.0015193341416339272 |\n",
      "|  14122   |  https://stackoverflow.com/users/14122   | 0.0015076130512889547 |\n",
      "| 7758804  | https://stackoverflow.com/users/7758804  | 0.0014997588279270127 |\n",
      "| 5317403  | https://stackoverflow.com/users/5317403  | 0.0014642900606853491 |\n",
      "| 5320906  | https://stackoverflow.com/users/5320906  | 0.0014509606708071553 |\n",
      "| 1126841  | https://stackoverflow.com/users/1126841  | 0.0014390366917915263 |\n",
      "| 12833166 | https://stackoverflow.com/users/12833166 | 0.0014185908054470248 |\n",
      "| 3791842  | https://stackoverflow.com/users/3791842  | 0.0014135110529291818 |\n",
      "| 7964527  | https://stackoverflow.com/users/7964527  |  0.001349722274829767 |\n",
      "|  901925  |  https://stackoverflow.com/users/901925  |  0.001344879325492655 |\n",
      "| 9840637  | https://stackoverflow.com/users/9840637  | 0.0013054815825776242 |\n",
      "| 14991864 | https://stackoverflow.com/users/14991864 | 0.0012944389254693307 |\n",
      "| 14289892 | https://stackoverflow.com/users/14289892 | 0.0012913440344701895 |\n",
      "| 5459839  | https://stackoverflow.com/users/5459839  | 0.0012897731969872407 |\n",
      "| 3799759  | https://stackoverflow.com/users/3799759  | 0.0012703853908314043 |\n",
      "| 9444073  | https://stackoverflow.com/users/9444073  | 0.0012461627860134012 |\n",
      "| 9441404  | https://stackoverflow.com/users/9441404  | 0.0012375849192817858 |\n",
      "|   7432   |   https://stackoverflow.com/users/7432   | 0.0012138527616844632 |\n",
      "| 13131047 | https://stackoverflow.com/users/13131047 |  0.001209956257112732 |\n",
      "|  51685   |  https://stackoverflow.com/users/51685   |  0.00116820544513283  |\n",
      "| 2988730  | https://stackoverflow.com/users/2988730  | 0.0011058543403454286 |\n",
      "| 5014455  | https://stackoverflow.com/users/5014455  | 0.0009876702956040113 |\n",
      "| 3000206  | https://stackoverflow.com/users/3000206  | 0.0009813070460439363 |\n",
      "| 11106801 | https://stackoverflow.com/users/11106801 | 0.0009508605120175375 |\n",
      "| 1740577  | https://stackoverflow.com/users/1740577  |  0.000949997567798375 |\n",
      "| 13138364 | https://stackoverflow.com/users/13138364 | 0.0009351495068490878 |\n",
      "| 7254633  | https://stackoverflow.com/users/7254633  | 0.0009342679312366848 |\n",
      "| 9136348  | https://stackoverflow.com/users/9136348  | 0.0009273310850816576 |\n",
      "| 3485434  | https://stackoverflow.com/users/3485434  | 0.0009215423764640522 |\n",
      "| 7212686  | https://stackoverflow.com/users/7212686  | 0.0009202899476709711 |\n",
      "| 9857631  | https://stackoverflow.com/users/9857631  | 0.0009035069292653318 |\n",
      "| 2823719  | https://stackoverflow.com/users/2823719  | 0.0008938041697568789 |\n",
      "|  235698  |  https://stackoverflow.com/users/235698  | 0.0008556987136501382 |\n",
      "| 6331369  | https://stackoverflow.com/users/6331369  | 0.0008444389049625732 |\n",
      "| 9332187  | https://stackoverflow.com/users/9332187  | 0.0008405517707307312 |\n",
      "| 13107804 | https://stackoverflow.com/users/13107804 | 0.0008288634710618888 |\n",
      "| 5237560  | https://stackoverflow.com/users/5237560  | 0.0008166368962519025 |\n",
      "|  941531  |  https://stackoverflow.com/users/941531  | 0.0008153823930418779 |\n",
      "| 2357112  | https://stackoverflow.com/users/2357112  | 0.0007900603886571126 |\n",
      "| 15438033 | https://stackoverflow.com/users/15438033 | 0.0007857610150741296 |\n",
      "| 2648811  | https://stackoverflow.com/users/2648811  | 0.0007838682175423068 |\n",
      "| 3437787  | https://stackoverflow.com/users/3437787  | 0.0007778621843441882 |\n",
      "| 12939557 | https://stackoverflow.com/users/12939557 | 0.0007669564105549671 |\n",
      "| 3112049  | https://stackoverflow.com/users/3112049  | 0.0007398343900955483 |\n",
      "|  415016  |  https://stackoverflow.com/users/415016  | 0.0007394514575569774 |\n",
      "| 2390182  | https://stackoverflow.com/users/2390182  | 0.0007353386489658425 |\n",
      "| 5424988  | https://stackoverflow.com/users/5424988  | 0.0007341884041916202 |\n",
      "| 12480730 | https://stackoverflow.com/users/12480730 | 0.0007217702331560372 |\n",
      "| 4755954  | https://stackoverflow.com/users/4755954  | 0.0007212605073406152 |\n",
      "| 4657412  | https://stackoverflow.com/users/4657412  | 0.0007063384212861555 |\n",
      "| 11043825 | https://stackoverflow.com/users/11043825 | 0.0007046386299012586 |\n",
      "|  480982  |  https://stackoverflow.com/users/480982  | 0.0006969069621106047 |\n",
      "| 10785975 | https://stackoverflow.com/users/10785975 | 0.0006890051921869717 |\n",
      "| 3545273  | https://stackoverflow.com/users/3545273  | 0.0006584945246198843 |\n",
      "| 4001592  | https://stackoverflow.com/users/4001592  | 0.0006540575882762038 |\n",
      "| 14088251 | https://stackoverflow.com/users/14088251 | 0.0006518486102069746 |\n",
      "| 7175713  | https://stackoverflow.com/users/7175713  |  0.000647197951625161 |\n",
      "|  355230  |  https://stackoverflow.com/users/355230  | 0.0006464463258365595 |\n",
      "| 11380795 | https://stackoverflow.com/users/11380795 | 0.0006412367641230325 |\n",
      "| 13382000 | https://stackoverflow.com/users/13382000 | 0.0006153186440747302 |\n",
      "| 2937831  | https://stackoverflow.com/users/2937831  | 0.0006090715698595025 |\n",
      "| 13990016 | https://stackoverflow.com/users/13990016 | 0.0006068010912221207 |\n",
      "| 2836621  | https://stackoverflow.com/users/2836621  | 0.0005961903618033001 |\n",
      "| 1863229  | https://stackoverflow.com/users/1863229  | 0.0005955446538331089 |\n",
      "| 6660638  | https://stackoverflow.com/users/6660638  | 0.0005818181935638229 |\n",
      "|   4834   |   https://stackoverflow.com/users/4834   | 0.0005768197830074562 |\n",
      "| 11246056 | https://stackoverflow.com/users/11246056 | 0.0005744612226489539 |\n",
      "| 7326738  | https://stackoverflow.com/users/7326738  | 0.0005727639870220101 |\n",
      "| 6573902  | https://stackoverflow.com/users/6573902  | 0.0005569873990138316 |\n",
      "| 9215780  | https://stackoverflow.com/users/9215780  |  0.000554287963079696 |\n",
      "| 13782669 | https://stackoverflow.com/users/13782669 | 0.0005537010329065354 |\n",
      "| 5660315  | https://stackoverflow.com/users/5660315  | 0.0005526803469717958 |\n",
      "|  248823  |  https://stackoverflow.com/users/248823  | 0.0005503182381064128 |\n",
      "| 10311377 | https://stackoverflow.com/users/10311377 | 0.0005369338083677787 |\n",
      "| 14094985 | https://stackoverflow.com/users/14094985 | 0.0005286166750668064 |\n",
      "+----------+------------------------------------------+-----------------------+\n"
     ]
    }
   ]
  },
  {
   "cell_type": "markdown",
   "source": [
    "## Evaluation\n",
    "Before we introduce our evaluation methods, we must introduce which data we are comparing our data to.\n",
    "For our research we found this link on <a href=\"https://stackoverflow.com/tags/python/topusers\">stackoverflow website</a>. In this website we see the top users in python tag. But we need this data for the date range that we used for our research. So we need to extract our own data from stackoverflow to get this top users in tags. And not to mention that this link shows top user for specific tag. But we aimed to find all tags related to python. for example that link only shows top users in tag \"python\" but this is not only tag related to python. There are tags like \"python-2.7\", \"python-idle\" and etc that must be considered because they are also related to subject \"python\".\n",
    "For this purpose we proposed our own query to extract the top users from stackoverflow. Based on the mentioned link above, top users that stackoverflow release (data on this link is updated weekly) are based on scores of answer they give in specific tag. So we conducted our own query to extract this data. The query is as follows:\n",
    "\n",
    "``` mysql\n",
    "select a.OwnerUserId as Answerer_ID, sum(a.score) as Sum_Answerer_Score\n",
    "from posts as q join posts as a on  q.Id = a.ParentId join users as u on a.OwnerUserId = u.Id\n",
    "where q.CreationDate < GETDATE()\n",
    "and   q.CreationDate >= '2021-01-01 00:00:00'\n",
    "and   q.PostTypeId = 1\n",
    "and   a.PostTypeId = 2\n",
    "and   a.OwnerUserId IS NOT NULL\n",
    "and   q.Tags LIKE '%python%'\n",
    "group by a.OwnerUserId\n",
    "order by Sum_Answerer_Score desc\n",
    "```\n",
    "This query aims to get data from start of 2021 until the day that the day query is running. So be aware that the csv files that you see in the project files are for queries that was run on 12/4/2021\n",
    "\n",
    "to test our query you can remove the CreationDate conditions and see which users are top users of tags in python and compare it with data in the <a href=\"https://stackoverflow.com/tags/python/topusers\">stackoverflow website</a>. Be aware that you must see abit of difference in number for 2 reasons:\n",
    "1- the data on that link is not updated frequently (only weekly)\n",
    "2- we consider multiple tags that are related to \"python\" but the link only considers tag \"python\". So defenetly numbers of scores that you see in the result of our query must be a bit higher.\n",
    "\n",
    "In this section we are going to do 2 evaluation on our work:\n",
    "1- TOPK: In this evaluation we aim to see how many of our top k users appeared in top k users that considered top users in stackoverflow.\n",
    "2- Spearman Correlation: The TOPK evaluation helps us know how good was our expert detection process. But it does not give us good information how was precision of our ranking process. That is why we considered spearman correlation to determine the correlation between ranking that stackoverflow gives and ranking that we found after process of expert finding"
   ],
   "metadata": {
    "collapsed": false
   }
  },
  {
   "cell_type": "code",
   "execution_count": 383,
   "outputs": [
    {
     "name": "stdout",
     "output_type": "stream",
     "text": [
      "Column names are Answerer_ID, Sum_Answerer_Score\n",
      "Processed 50000 lines =  12:54:33\n",
      "the evaluation top 100 by sen_rank result is = 74.0\n",
      "Column names are Answerer_ID, Sum_Answerer_Score\n",
      "Processed 50000 lines =  12:54:33\n",
      "the evaluation top 100 by Hits_Rank result is = 56.00000000000001\n",
      "Column names are Answerer_ID, Sum_Answerer_Score\n",
      "Processed 50000 lines =  12:54:33\n",
      "the evaluation top 100 by Degree_Centrality_Rank result is = 82.0\n"
     ]
    }
   ],
   "source": [
    "#'files/2021-01-01 to 2021-12-03 - stackoverflow top users'\n",
    "top_user_count = 100;\n",
    "def evaluation(file_path_top_users, ranked_user_ids, user_count):\n",
    "    user_ids_for_evaluation = read_csv(file_path_top_users)\n",
    "    # user_ids_for_evaluation_sorted = sorted(user_ids_for_evaluation, key=lambda x: x[1], reverse=True)\n",
    "    topN = user_ids_for_evaluation[0:user_count]\n",
    "    list_of_topN_user_ids = list(map(lambda x: x[0], topN))\n",
    "    matched_user_id_count = 0\n",
    "    for index in range(user_count):\n",
    "        target = ranked_user_ids[index]\n",
    "        if target in list_of_topN_user_ids:\n",
    "            matched_user_id_count += 1\n",
    "    match_result = matched_user_id_count/user_count\n",
    "    return match_result\n",
    "#sen_rank\n",
    "\n",
    "\n",
    "sen_rank_evalauation_result = evaluation('files/2021-01-01_to_2021-12-03_stackoverflow_top_users.csv', list(map(lambda x: x[0], sen_rank)), top_user_count)\n",
    "print(f\"the evaluation top {top_user_count} by sen_rank result is = {sen_rank_evalauation_result*100}\")\n",
    "\n",
    "#Hits_Rank\n",
    "\n",
    "Hits_Rank_evalauation_result = evaluation('files/2021-01-01_to_2021-12-03_stackoverflow_top_users.csv', list(map(lambda x: x[0], Hits_Rank)), top_user_count)\n",
    "print(f\"the evaluation top {top_user_count} by Hits_Rank result is = {Hits_Rank_evalauation_result*100}\")\n",
    "\n",
    "\n",
    "#Degree_Centrality_Rank\n",
    "\n",
    "Degree_Centrality_Rank_evalauation_result = evaluation('files/2021-01-01_to_2021-12-03_stackoverflow_top_users.csv', list(map(lambda x: x[0], Degree_Centrality_Rank)), top_user_count)\n",
    "print(f\"the evaluation top {top_user_count} by Degree_Centrality_Rank result is = {Degree_Centrality_Rank_evalauation_result*100}\")"
   ],
   "metadata": {
    "collapsed": false,
    "pycharm": {
     "name": "#%%\n"
    }
   }
  },
  {
   "cell_type": "code",
   "execution_count": 384,
   "outputs": [
    {
     "data": {
      "text/plain": "<Figure size 432x288 with 1 Axes>",
      "image/png": "[encoded data removed]"
     },
     "metadata": {
      "needs_background": "light"
     },
     "output_type": "display_data"
    }
   ],
   "source": [
    "# data to plot\n",
    "\n",
    "n_groups = 2\n",
    "pagerank = (sen_rank_evalauation_result*100, 0)\n",
    "Hits = (Hits_Rank_evalauation_result*100, 0)\n",
    "Degree_Centrality = (Degree_Centrality_Rank_evalauation_result*100, 0)\n",
    "\n",
    "# create plot\n",
    "fig, ax = plt.subplots()\n",
    "\n",
    "\n",
    "index = np.arange(n_groups)\n",
    "bar_width = 0.2\n",
    "opacity = 0.8\n",
    "\n",
    "rects1 = plt.bar(index, pagerank, bar_width,\n",
    "alpha=opacity,\n",
    "color='b',\n",
    "label='pagerank')\n",
    "\n",
    "rects2 = plt.bar(index + bar_width, Hits, bar_width,\n",
    "alpha=opacity,\n",
    "color='g',\n",
    "label='Hits')\n",
    "\n",
    "rects3 = plt.bar(index + 2*bar_width, Degree_Centrality, bar_width,\n",
    "alpha=opacity,\n",
    "color='r',\n",
    "label='Degree_Centrality')\n",
    "\n",
    "plt.xlabel('Aggregate Type')\n",
    "plt.ylabel('Percentage')\n",
    "plt.title('Rank')\n",
    "plt.xticks(index + bar_width, ('Aggregate_with_Scores', 'Aggregate_without_Scores'))\n",
    "plt.legend()\n",
    "\n",
    "plt.tight_layout()\n",
    "plt.show()\n",
    "\n",
    "\n",
    "\n",
    "\n",
    "\n",
    "\n",
    "\n"
   ],
   "metadata": {
    "collapsed": false,
    "pycharm": {
     "name": "#%%\n"
    }
   }
  },
  {
   "cell_type": "markdown",
   "source": [
    "## Visualization\n",
    "\n",
    "<span style=\"color: red\">BEWARE</span>: The number of nodes are edges are large in this project. I do not recommend running this part because it might take hours to render the results."
   ],
   "metadata": {
    "collapsed": false
   }
  },
  {
   "cell_type": "code",
   "execution_count": 379,
   "outputs": [],
   "source": [
    "#labels = nx.get_edge_attributes(G,'weight')\n",
    "#pos = nx.spring_layout(G)\n",
    "#nx.draw(G, pos, with_labels = True, node_color=\"#f86e00\", connectionstyle='arc3, rad = 0.3')\n",
    "#nx.draw_networkx_edge_labels(G, pos, edge_labels=labels)\n",
    "\n",
    "\n",
    "# plt.show()"
   ],
   "metadata": {
    "collapsed": false,
    "pycharm": {
     "name": "#%%\n"
    }
   }
  }
 ]
}