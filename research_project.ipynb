{
 "nbformat": 4,
 "nbformat_minor": 0,
 "metadata": {
  "kernelspec": {
   "display_name": "Python 3 (ipykernel)",
   "language": "python",
   "name": "python3"
  },
  "language_info": {
   "codemirror_mode": {
    "name": "ipython",
    "version": 3
   },
   "file_extension": ".py",
   "mimetype": "text/x-python",
   "name": "python",
   "nbconvert_exporter": "python",
   "pygments_lexer": "ipython3",
   "version": "3.8.10"
  },
  "colab": {
   "name": "Copy of a3_network.ipynb",
   "provenance": [],
   "collapsed_sections": [
    "Vej0HSo2V7sb",
    "W8JETWgBV7sc",
    "hoCaU4qpV7sc",
    "fhQc_AZ4V7sc",
    "2_woHFjoV7sc"
   ]
  }
 },
 "cells": [
  {
   "cell_type": "markdown",
   "source": [
    "# The Social Web Research Project\n",
    "\n",
    "In this project, Experts of Stackoverflow Question-Answering community are found.\n",
    "First installing the libraries."
   ],
   "metadata": {
    "collapsed": false
   }
  },
  {
   "cell_type": "code",
   "execution_count": 88,
   "outputs": [
    {
     "name": "stdout",
     "output_type": "stream",
     "text": [
      "Requirement already satisfied: networkx in u:\\courses\\social web\\sw_virtual_environment\\lib\\site-packages (2.6.3)\n"
     ]
    },
    {
     "name": "stderr",
     "output_type": "stream",
     "text": [
      "WARNING: You are using pip version 21.1.2; however, version 21.3.1 is available.\n",
      "You should consider upgrading via the 'U:\\Courses\\Social Web\\sw_virtual_environment\\Scripts\\python.exe -m pip install --upgrade pip' command.\n"
     ]
    },
    {
     "name": "stdout",
     "output_type": "stream",
     "text": [
      "Requirement already satisfied: matplotlib in u:\\courses\\social web\\sw_virtual_environment\\lib\\site-packages (3.5.0)\n",
      "Requirement already satisfied: pyparsing>=2.2.1 in u:\\courses\\social web\\sw_virtual_environment\\lib\\site-packages (from matplotlib) (3.0.6)\n",
      "Requirement already satisfied: python-dateutil>=2.7 in u:\\courses\\social web\\sw_virtual_environment\\lib\\site-packages (from matplotlib) (2.8.2)\n",
      "Requirement already satisfied: packaging>=20.0 in u:\\courses\\social web\\sw_virtual_environment\\lib\\site-packages (from matplotlib) (21.3)\n",
      "Requirement already satisfied: setuptools-scm>=4 in u:\\courses\\social web\\sw_virtual_environment\\lib\\site-packages (from matplotlib) (6.3.2)\n",
      "Requirement already satisfied: pillow>=6.2.0 in u:\\courses\\social web\\sw_virtual_environment\\lib\\site-packages (from matplotlib) (8.4.0)\n",
      "Requirement already satisfied: kiwisolver>=1.0.1 in u:\\courses\\social web\\sw_virtual_environment\\lib\\site-packages (from matplotlib) (1.3.2)\n",
      "Requirement already satisfied: fonttools>=4.22.0 in u:\\courses\\social web\\sw_virtual_environment\\lib\\site-packages (from matplotlib) (4.28.1)\n",
      "Requirement already satisfied: cycler>=0.10 in u:\\courses\\social web\\sw_virtual_environment\\lib\\site-packages (from matplotlib) (0.11.0)\n",
      "Requirement already satisfied: numpy>=1.17 in u:\\courses\\social web\\sw_virtual_environment\\lib\\site-packages (from matplotlib) (1.21.4)\n",
      "Requirement already satisfied: six>=1.5 in u:\\courses\\social web\\sw_virtual_environment\\lib\\site-packages (from python-dateutil>=2.7->matplotlib) (1.16.0)\n",
      "Requirement already satisfied: tomli>=1.0.0 in u:\\courses\\social web\\sw_virtual_environment\\lib\\site-packages (from setuptools-scm>=4->matplotlib) (1.2.2)\n",
      "Requirement already satisfied: setuptools in u:\\courses\\social web\\sw_virtual_environment\\lib\\site-packages (from setuptools-scm>=4->matplotlib) (57.0.0)\n"
     ]
    },
    {
     "name": "stderr",
     "output_type": "stream",
     "text": [
      "WARNING: You are using pip version 21.1.2; however, version 21.3.1 is available.\n",
      "You should consider upgrading via the 'U:\\Courses\\Social Web\\sw_virtual_environment\\Scripts\\python.exe -m pip install --upgrade pip' command.\n"
     ]
    },
    {
     "name": "stdout",
     "output_type": "stream",
     "text": [
      "Requirement already satisfied: scipy in u:\\courses\\social web\\sw_virtual_environment\\lib\\site-packages (1.7.2)\n",
      "Requirement already satisfied: numpy<1.23.0,>=1.16.5 in u:\\courses\\social web\\sw_virtual_environment\\lib\\site-packages (from scipy) (1.21.4)\n"
     ]
    },
    {
     "name": "stderr",
     "output_type": "stream",
     "text": [
      "WARNING: You are using pip version 21.1.2; however, version 21.3.1 is available.\n",
      "You should consider upgrading via the 'U:\\Courses\\Social Web\\sw_virtual_environment\\Scripts\\python.exe -m pip install --upgrade pip' command.\n"
     ]
    },
    {
     "name": "stdout",
     "output_type": "stream",
     "text": [
      "Requirement already satisfied: pandas in u:\\courses\\social web\\sw_virtual_environment\\lib\\site-packages (1.3.4)\n",
      "Requirement already satisfied: pytz>=2017.3 in u:\\courses\\social web\\sw_virtual_environment\\lib\\site-packages (from pandas) (2021.3)\n",
      "Requirement already satisfied: numpy>=1.21.0 in u:\\courses\\social web\\sw_virtual_environment\\lib\\site-packages (from pandas) (1.21.4)\n",
      "Requirement already satisfied: python-dateutil>=2.7.3 in u:\\courses\\social web\\sw_virtual_environment\\lib\\site-packages (from pandas) (2.8.2)\n",
      "Requirement already satisfied: six>=1.5 in u:\\courses\\social web\\sw_virtual_environment\\lib\\site-packages (from python-dateutil>=2.7.3->pandas) (1.16.0)\n"
     ]
    },
    {
     "name": "stderr",
     "output_type": "stream",
     "text": [
      "WARNING: You are using pip version 21.1.2; however, version 21.3.1 is available.\n",
      "You should consider upgrading via the 'U:\\Courses\\Social Web\\sw_virtual_environment\\Scripts\\python.exe -m pip install --upgrade pip' command.\n"
     ]
    }
   ],
   "source": [
    "!pip install networkx\n",
    "!pip install matplotlib\n",
    "!pip install scipy\n",
    "!pip install pandas"
   ],
   "metadata": {
    "collapsed": false,
    "pycharm": {
     "name": "#%%\n"
    }
   }
  },
  {
   "cell_type": "markdown",
   "source": [
    "## importing necessary libraries"
   ],
   "metadata": {
    "collapsed": false
   }
  },
  {
   "cell_type": "code",
   "execution_count": 89,
   "outputs": [],
   "source": [
    "import networkx as nx\n",
    "from matplotlib import pyplot as plt\n",
    "import csv\n",
    "from datetime import datetime\n",
    "from prettytable import PrettyTable\n",
    "import pandas as pd\n",
    "import numpy as np\n",
    "\n"
   ],
   "metadata": {
    "collapsed": false,
    "pycharm": {
     "name": "#%%\n"
    }
   }
  },
  {
   "cell_type": "markdown",
   "source": [
    "Generating empty graph\n",
    "G_with_scores = graph with edges that are aggregated sum of scores of answers a destination node(user) gave to source node(user)\n",
    "G_without_scores = graph with edges that are aggregated count of answers a destination node(user) gave to source node(user)"
   ],
   "metadata": {
    "collapsed": false
   }
  },
  {
   "cell_type": "code",
   "execution_count": 90,
   "outputs": [],
   "source": [
    "G_with_scores = nx.DiGraph()\n",
    "G_without_scores = nx.DiGraph()"
   ],
   "metadata": {
    "collapsed": false,
    "pycharm": {
     "name": "#%%\n"
    }
   }
  },
  {
   "cell_type": "markdown",
   "source": [
    "Reading the edges from CSV file and generating raw edges and appending them as tuples inside a list"
   ],
   "metadata": {
    "collapsed": false
   }
  },
  {
   "cell_type": "code",
   "execution_count": 91,
   "outputs": [
    {
     "name": "stdout",
     "output_type": "stream",
     "text": [
      "Column names are OwnerUserId, OwnerUserId, score\n",
      "Processed 109585 lines =  11:18:58\n"
     ]
    }
   ],
   "source": [
    "edges = []\n",
    "\n",
    "def read_csv(path):\n",
    "    with open(path, \"r\") as csvfile:\n",
    "        graph_reader = csv.reader(csvfile, delimiter=',', quotechar='\"')\n",
    "        data_row_count = 0\n",
    "        list = []\n",
    "        header = next(graph_reader)\n",
    "        print(f'Column names are {\", \".join(header)}')\n",
    "        number_of_columns = len(header)\n",
    "        for row in graph_reader:\n",
    "            temp_list = []\n",
    "            for index in range(number_of_columns):\n",
    "                temp_list.append(row[index])\n",
    "            list.append(tuple(temp_list))\n",
    "            data_row_count += 1\n",
    "        now = datetime.now()\n",
    "        current_time = now.strftime(\"%H:%M:%S\")\n",
    "        print(f'Processed {data_row_count} lines = ', current_time)\n",
    "        return list\n",
    "\n",
    "edges = read_csv('files/python-tag-data_2021-01-01_to_2021-12-03.csv')"
   ],
   "metadata": {
    "collapsed": false,
    "pycharm": {
     "name": "#%%\n"
    }
   }
  },
  {
   "cell_type": "markdown",
   "source": [
    "## Pre-processing\n",
    "We considered 2 approaches to aggregate the edges of graph:\n",
    "\n",
    "1- function <code>aggregate</code> aggregates edges on number of specific user answers to someone's multiple questions. for example if there be 4 record of <code>\"1223\", \"5233\"</code> in csv file, this functions considers 4 as weight of the corresponding edge from node(user) \"1223\" to user \"5233\".\n",
    "\n",
    "2- function <code>aggregate_with_scores</code> aggregates score of each answer given by user and sum them as aggregate function. for example if there be 4 record of <code>\"1223\", \"5233\"</code> in csv file with score of respectively 5, 6, 10 and 2, this functions considers 23 as weight of the corresponding edge from node(user) \"1223\" to user \"5233\".\n",
    "\n",
    "we will use them for different algorithms and will show how considering the score of answers affects the evaluation of our work.\n",
    "\n",
    "We also removed edges with negative score because that means the overall score of answers specific user gave to anther was not really good (because it was negative). So we removed them from our data."
   ],
   "metadata": {
    "collapsed": false
   }
  },
  {
   "cell_type": "code",
   "execution_count": 92,
   "outputs": [],
   "source": [
    "def aggregate(G, edges):\n",
    "    for edge in edges:\n",
    "            from_node, to_node = edge[0], edge[1]\n",
    "            if G.has_edge(from_node, to_node):\n",
    "                # we added this one before, just increase the weight by one\n",
    "                G[from_node][to_node]['weight'] += 1\n",
    "            else:\n",
    "                # new edge. add with weight=1\n",
    "                G.add_edge(from_node, to_node, weight=1)\n",
    "\n",
    "\n",
    "def aggregate_with_scores(G, edges):\n",
    "    for edge in edges:\n",
    "            from_node, to_node, score = edge[0], edge[1], float(edge[2])\n",
    "            if G.has_edge(from_node, to_node):\n",
    "                # we added this one before, just increase the weight by one\n",
    "                G[from_node][to_node]['weight'] += score\n",
    "            else:\n",
    "                # new edge. add with weight=1\n",
    "                G.add_edge(from_node, to_node, weight=score)\n",
    "\n",
    "def remove_negarive_weight_edges(G, edges):\n",
    "    for edge in edges:\n",
    "        from_node, to_node = edge[0], edge[1]\n",
    "        try:\n",
    "            weight = G[from_node][to_node]['weight']\n",
    "            if int(weight) < 0:\n",
    "                G.remove_edge(from_node, to_node)\n",
    "        except:\n",
    "            continue\n",
    "\n",
    "aggregate(G_without_scores, edges)\n",
    "remove_negarive_weight_edges(G_without_scores, edges)\n",
    "aggregate_with_scores(G_with_scores, edges)\n",
    "remove_negarive_weight_edges(G_with_scores, edges)\n",
    "\n",
    "## we used edges from the file because if we used the edges that were loaded in the graph, after removing negative weights, the size of graph during the iteration and that raises an error\n",
    "# RuntimeError: dictionary changed size during iteration\n"
   ],
   "metadata": {
    "collapsed": false,
    "pycharm": {
     "name": "#%%\n"
    }
   }
  },
  {
   "cell_type": "markdown",
   "source": [
    "## Social Network Analysis Algorithms\n",
    "\n",
    "Based on our literature work, Most researches that used social network analysis aproaches to find experts tried to use PageRank and applied some feature of their dataset to the algorithm. We shall do the same and we considered score of answers as feature of our dataset to indicate experties of each user.\n",
    "\n",
    "So the <code>aggregate</code> function counts the number of times a user answered another user as feature. and the <code>aggregate_with_scores</code> considers scores of answeres each user got to another user's questions in specific tag.\n",
    "\n",
    "There is a parameter called damping factor which indicates the probability of jumping to another node when algorithm stuck in the loop. In practice 0.85 is the best number for real data use. damping factor in the networkx is known as <code>alpha</code> which is an argument but since the default value that networkx also chose is 0.85, we did not pass it throught the pagerank method. pagerank algorthm is recersive algorithm which we must state how many times it should be run. As much more as it runs, the scores of each nodes starts to tend to reach a number and after some iteration, they will not change which is the point that score of pagerank is final. networkx has argument of <code>max_iter</code> that is the number of iteration that algorithm runs which by default is 100.\n",
    "\n",
    "After calculating the pagerank of each node, we need to sort the score to see which node has highest score (importance) in the graph. Based on scenario of our graph which is a directed graph, that means that user has the highest experties."
   ],
   "metadata": {
    "collapsed": false
   }
  },
  {
   "cell_type": "code",
   "execution_count": 93,
   "outputs": [
    {
     "name": "stdout",
     "output_type": "stream",
     "text": [
      "      Sorted_PageRank_UserId  PageRank_Score Sorted_eigenvector_Rank_UserId  \\\n",
      "0                   16343464        0.009282                        1058671   \n",
      "1                   15497888        0.006379                       10900548   \n",
      "2                    2901002        0.006083                        1030002   \n",
      "3                   10035985        0.003774                        3487414   \n",
      "4                    6361531        0.003210                        1645339   \n",
      "...                      ...             ...                            ...   \n",
      "78299               17525999        0.000008                       17525999   \n",
      "78300               17526345        0.000008                       17526345   \n",
      "78301               17526447        0.000008                       17526447   \n",
      "78302               17526476        0.000008                       17526476   \n",
      "78303               17526655        0.000008                       17526655   \n",
      "\n",
      "       eigenvector_Rank_Score Sorted_Degree_Centrality_UserId  \\\n",
      "0                9.568879e-01                         2901002   \n",
      "1                2.832488e-01                        10035985   \n",
      "2                6.063177e-02                        15239951   \n",
      "3                2.143548e-02                         4238408   \n",
      "4                2.006479e-05                        15497888   \n",
      "...                       ...                             ...   \n",
      "78299            7.273680e-21                        17525999   \n",
      "78300            7.273680e-21                        17526345   \n",
      "78301            7.273680e-21                        17526447   \n",
      "78302            7.273680e-21                        17526476   \n",
      "78303            7.273680e-21                        17526655   \n",
      "\n",
      "       Degree_Centrality_Rank_Score  \n",
      "0                            3370.0  \n",
      "1                            1523.0  \n",
      "2                            1196.0  \n",
      "3                            1139.0  \n",
      "4                            1082.0  \n",
      "...                             ...  \n",
      "78299                           0.0  \n",
      "78300                           0.0  \n",
      "78301                           0.0  \n",
      "78302                           0.0  \n",
      "78303                           0.0  \n",
      "\n",
      "[78304 rows x 6 columns]\n"
     ]
    }
   ],
   "source": [
    "gws_pagerank = nx.pagerank(G_with_scores)\n",
    "gws_eigenvector = nx.eigenvector_centrality(G_with_scores, weight='weight')\n",
    "gws_in_degree = G_with_scores.in_degree(weight='weight')\n",
    "\n",
    "gws_pagerank_rank = sorted(gws_pagerank.items(), key=lambda x: x[1], reverse=True)\n",
    "gws_eigenvector_Rank = sorted(gws_eigenvector.items(), key=lambda x: x[1], reverse=True)\n",
    "gws_in_Degree_Centrality_Rank = sorted(gws_in_degree, key=lambda x: x[1], reverse=True)\n",
    "\n",
    "\n",
    "gws_sorted_pageRank_userId = [x[0] for x in gws_pagerank_rank]\n",
    "gws_pageRank_score = [x[1] for x in gws_pagerank_rank]\n",
    "\n",
    "gws_sorted_eigenvector_rank_userId = [x[0] for x in gws_eigenvector_Rank]\n",
    "gws_eigenvector_rank_score = [x[1] for x in gws_eigenvector_Rank]\n",
    "\n",
    "gws_sorted_degree_centrality_userId = [x[0] for x in gws_in_Degree_Centrality_Rank]\n",
    "gws_degree_centrality_rank_score = [x[1] for x in gws_in_Degree_Centrality_Rank]\n",
    "\n",
    "\n",
    "\n",
    "\n",
    "data = {'Sorted_PageRank_UserId': gws_sorted_pageRank_userId,'PageRank_Score': gws_pageRank_score, 'Sorted_eigenvector_Rank_UserId': gws_sorted_eigenvector_rank_userId , 'eigenvector_Rank_Score' : gws_eigenvector_rank_score, 'Sorted_Degree_Centrality_UserId' :gws_sorted_degree_centrality_userId, 'Degree_Centrality_Rank_Score' : gws_degree_centrality_rank_score}\n",
    "df = pd.DataFrame(data)\n",
    "print(df)\n",
    "\n",
    "\n",
    "###########################################\n",
    "\n",
    "gwos_pagerank = nx.pagerank(G_without_scores)\n",
    "gwos_eigenvector = nx.eigenvector_centrality(G_without_scores)\n",
    "gwos_in_degree = nx.in_degree_centrality(G_without_scores)\n",
    "\n",
    "gwos_pagerank_rank = sorted(gwos_pagerank.items(), key=lambda x: x[1], reverse=True)\n",
    "gwos_eigenvector_rank = sorted(gwos_eigenvector.items(), key=lambda x: x[1], reverse=True)\n",
    "gwos_in_degree_centrality_rank = sorted(gwos_in_degree.items(), key=lambda x: x[1], reverse=True)\n",
    "\n",
    "\n",
    "gwos_sorted_pageRank_userId = [x[0] for x in gwos_pagerank_rank]\n",
    "gwos_rageRank_score = [x[1] for x in gwos_pagerank_rank]\n",
    "\n",
    "gwos_sorted_eigenvector_Rank_UserId = [x[0] for x in gwos_eigenvector_rank]\n",
    "gwos_eigenvector_rank_score = [x[1] for x in gwos_eigenvector_rank]\n",
    "\n",
    "gwos_sorted_degree_centrality_userId = [x[0] for x in gwos_in_degree_centrality_rank]\n",
    "gwos_degree_centrality_rank_score = [x[1] for x in gwos_in_degree_centrality_rank]\n",
    "\n"
   ],
   "metadata": {
    "collapsed": false,
    "pycharm": {
     "name": "#%%\n"
    }
   }
  },
  {
   "cell_type": "markdown",
   "source": [
    "## Evaluation\n",
    "Before we introduce our evaluation methods, we must introduce which data we are comparing our data to.\n",
    "For our research we found this link on <a href=\"https://stackoverflow.com/tags/python/topusers\">stackoverflow website</a>. In this website we see the top users in python tag. But we need this data for the date range that we used for our research. So we need to extract our own data from stackoverflow to get this top users in tags. And not to mention that this link shows top user for specific tag. But we aimed to find all tags related to python. for example that link only shows top users in tag \"python\" but this is not only tag related to python. There are tags like \"python-2.7\", \"python-idle\" and etc that must be considered because they are also related to subject \"python\".\n",
    "For this purpose we proposed our own query to extract the top users from stackoverflow. Based on the mentioned link above, top users that stackoverflow release (data on this link is updated weekly) are based on scores of answer they give in specific tag. So we conducted our own query to extract this data. The query is as follows:\n",
    "\n",
    "``` mysql\n",
    "select a.OwnerUserId as Answerer_ID, sum(a.score) as Sum_Answerer_Score\n",
    "from posts as q join posts as a on  q.Id = a.ParentId join users as u on a.OwnerUserId = u.Id\n",
    "where q.CreationDate < GETDATE()\n",
    "and   q.CreationDate >= '2021-01-01 00:00:00'\n",
    "and   q.PostTypeId = 1\n",
    "and   a.PostTypeId = 2\n",
    "and   a.OwnerUserId IS NOT NULL\n",
    "and   q.Tags LIKE '%python%'\n",
    "group by a.OwnerUserId\n",
    "order by Sum_Answerer_Score desc\n",
    "```\n",
    "This query aims to get data from start of 2021 until the day that the day query is running. So be aware that the csv files that you see in the project files are for queries that was run on 12/4/2021\n",
    "\n",
    "to test our query you can remove the CreationDate conditions and see which users are top users of tags in python and compare it with data in the <a href=\"https://stackoverflow.com/tags/python/topusers\">stackoverflow website</a>. Be aware that you must see abit of difference in number for 2 reasons:\n",
    "1- the data on that link is not updated frequently (only weekly)\n",
    "2- we consider multiple tags that are related to \"python\" but the link only considers tag \"python\". So defenetly numbers of scores that you see in the result of our query must be a bit higher.\n",
    "\n",
    "In this section we are going to do 2 evaluation on our work:\n",
    "1- TOPK: In this evaluation we aim to see how many of our top k users appeared in top k users that considered top users in stackoverflow.\n",
    "2- Spearman Correlation: The TOPK evaluation helps us know how good was our expert detection process. But it does not give us good information how was precision of our ranking process. That is why we considered spearman correlation to determine the correlation between ranking that stackoverflow gives and ranking that we found after process of expert finding"
   ],
   "metadata": {
    "collapsed": false
   }
  },
  {
   "cell_type": "code",
   "execution_count": 94,
   "outputs": [
    {
     "name": "stdout",
     "output_type": "stream",
     "text": [
      "Column names are Answerer_ID, Sum_Answerer_Score\n",
      "Processed 50000 lines =  11:19:09\n"
     ]
    }
   ],
   "source": [
    "import scipy.stats as ss\n",
    "\n",
    "top_user_count = 100\n",
    "def topk_evaluation(user_ids_for_evaluation, ranked_user_ids, user_count):\n",
    "    # user_ids_for_evaluation_sorted = sorted(user_ids_for_evaluation, key=lambda x: x[1], reverse=True)\n",
    "    topN = user_ids_for_evaluation[0:user_count]\n",
    "    list_of_topN_user_ids = list(map(lambda x: x[0], topN))\n",
    "    matched_user_id_count = 0\n",
    "    for index in range(user_count):\n",
    "        target = ranked_user_ids[index]\n",
    "        if target in list_of_topN_user_ids:\n",
    "            matched_user_id_count += 1\n",
    "    match_result = matched_user_id_count/user_count\n",
    "    return match_result\n",
    "\n",
    "def spearman_evaluation(user_ids_for_evaluation, users_pagerankscore_tuple, user_count):\n",
    "    list_of_topN_user_ids_by_stackoverflow = list(map(lambda x: int(x[1]), user_ids_for_evaluation))\n",
    "    rank_of_topN_user_ids_by_stackoverflow  = len(list_of_topN_user_ids_by_stackoverflow) - ss.rankdata(list_of_topN_user_ids_by_stackoverflow).astype(int) + 1\n",
    "    our_scores = list(map(lambda x: x[1], users_pagerankscore_tuple))\n",
    "    our_rankings_by_scores  = len(our_scores) - ss.rankdata(our_scores).astype(int) + 1\n",
    "    our_user_ranking_tuples = []\n",
    "    for index in range(len(our_rankings_by_scores)):\n",
    "        our_user_ranking_tuples.append((users_pagerankscore_tuple[index][0],our_rankings_by_scores[index]))\n",
    "    stackoverflow_user_ranking_tuples = []\n",
    "    for index in range(len(rank_of_topN_user_ids_by_stackoverflow)):\n",
    "        stackoverflow_user_ranking_tuples.append((user_ids_for_evaluation[index][0],rank_of_topN_user_ids_by_stackoverflow[index]))\n",
    "\n",
    "    our_ranking_for_evaluation = list(map(lambda x: int(x[1]), our_user_ranking_tuples))\n",
    "    temp_stackoverflow_userids = list(map(lambda x: x[0], stackoverflow_user_ranking_tuples))\n",
    "    stackoverflow_ranking_for_evaluation = []\n",
    "    for index in range(user_count):\n",
    "        try:\n",
    "            target_to_find = our_user_ranking_tuples[index][0]\n",
    "            found_index = temp_stackoverflow_userids.index(target_to_find)\n",
    "            stackoverflow_ranking_for_evaluation.append(stackoverflow_user_ranking_tuples[found_index][1])\n",
    "        except:\n",
    "            continue\n",
    "\n",
    "    return ss.spearmanr(our_ranking_for_evaluation[0:user_count], stackoverflow_ranking_for_evaluation[0:user_count])[0]\n",
    "\n",
    "evaluation_data = read_csv('files/2021-01-01_to_2021-12-03_stackoverflow_top_users.csv')\n",
    "\n",
    "#### for with_scored_graph\n",
    "\n",
    "sen_rank_evalauation_result = topk_evaluation(evaluation_data, list(map(lambda x: x[0], gws_pagerank_rank)), top_user_count)\n",
    "spearman_evaluation_pagerank = spearman_evaluation(evaluation_data, gws_pagerank_rank, top_user_count)\n",
    "\n",
    "#eigenvector_Rank\n",
    "\n",
    "eigenvector_Rank_evalauation_result = topk_evaluation(evaluation_data, list(map(lambda x: x[0], gws_eigenvector_Rank)), top_user_count)\n",
    "spearman_evaluation_eigenvector = spearman_evaluation(evaluation_data, gws_eigenvector_Rank, top_user_count)\n",
    "\n",
    "\n",
    "#Degree_Centrality_Rank\n",
    "\n",
    "Degree_Centrality_Rank_evalauation_result = topk_evaluation(evaluation_data, list(map(lambda x: x[0], gws_in_Degree_Centrality_Rank)), top_user_count)\n",
    "spearman_evaluation_Degree_Centrality = spearman_evaluation(evaluation_data, gws_in_Degree_Centrality_Rank, top_user_count)\n",
    "\n",
    "#### for without_scored_graph\n",
    "\n",
    "gwos_pagerank_rank_evalauation_result = topk_evaluation(evaluation_data, list(map(lambda x: x[0], gwos_pagerank_rank)), top_user_count)\n",
    "gwos_spearman_evaluation_pagerank = spearman_evaluation(evaluation_data, gwos_pagerank_rank, top_user_count)\n",
    "\n",
    "#eigenvector_Rank\n",
    "\n",
    "gwos_eigenvector_Rank_evalauation_result = topk_evaluation(evaluation_data, list(map(lambda x: x[0], gwos_eigenvector_rank)), top_user_count)\n",
    "gwos_spearman_evaluation_eigenvector = spearman_evaluation(evaluation_data, gwos_eigenvector_rank, top_user_count)\n",
    "\n",
    "\n",
    "#Degree_Centrality_Rank\n",
    "\n",
    "gwos_Degree_Centrality_Rank_evalauation_result = topk_evaluation(evaluation_data, list(map(lambda x: x[0], gwos_in_degree_centrality_rank)), top_user_count)\n",
    "gwos_spearman_evaluation_Degree_Centrality = spearman_evaluation(evaluation_data, gwos_in_degree_centrality_rank, top_user_count)"
   ],
   "metadata": {
    "collapsed": false,
    "pycharm": {
     "name": "#%%\n"
    }
   }
  },
  {
   "cell_type": "markdown",
   "source": [
    "Now that we did the evaluation, we are going to render column chart to illustrate our evaluation even better!"
   ],
   "metadata": {
    "collapsed": false
   }
  },
  {
   "cell_type": "code",
   "execution_count": 95,
   "outputs": [
    {
     "data": {
      "text/plain": "<Figure size 432x288 with 1 Axes>",
      "image/png": "[encoded data removed]"
     },
     "metadata": {
      "needs_background": "light"
     },
     "output_type": "display_data"
    },
    {
     "data": {
      "text/plain": "<Figure size 432x288 with 1 Axes>",
      "image/png": "[encoded data removed]"
     },
     "metadata": {
      "needs_background": "light"
     },
     "output_type": "display_data"
    }
   ],
   "source": [
    "# data to plot\n",
    "\n",
    "n_groups = 2\n",
    "gws_pagerank = sen_rank_evalauation_result*100\n",
    "gws_eigenvector = eigenvector_Rank_evalauation_result*100\n",
    "gws_Degree_Centrality = Degree_Centrality_Rank_evalauation_result*100\n",
    "\n",
    "gwos_pagerank = gwos_pagerank_rank_evalauation_result*100\n",
    "gwos_eigenvector = gwos_eigenvector_Rank_evalauation_result*100\n",
    "gwos_Degree_Centrality = gwos_Degree_Centrality_Rank_evalauation_result*100\n",
    "\n",
    "# create plot\n",
    "speed = [gws_pagerank, gws_eigenvector, gws_Degree_Centrality]\n",
    "lifespan = [gwos_pagerank, gwos_eigenvector, gwos_Degree_Centrality]\n",
    "index = ['pagerank', 'eigenvector', 'in-degree']\n",
    "df = pd.DataFrame({'with_scores': speed,\n",
    "                   'without_scores': lifespan}, index=index)\n",
    "ax = df.plot.bar(rot=0)\n",
    "\n",
    "\n",
    "n_groups = 2\n",
    "gws_pagerank = spearman_evaluation_pagerank\n",
    "gws_eigenvector = spearman_evaluation_eigenvector\n",
    "gws_Degree_Centrality = spearman_evaluation_Degree_Centrality\n",
    "\n",
    "gwos_pagerank = gwos_spearman_evaluation_pagerank\n",
    "gwos_eigenvector = gwos_spearman_evaluation_eigenvector\n",
    "gwos_Degree_Centrality = gwos_spearman_evaluation_Degree_Centrality\n",
    "\n",
    "speed = [gws_pagerank, gws_eigenvector, gws_Degree_Centrality]\n",
    "lifespan = [gwos_pagerank, gwos_eigenvector, gwos_Degree_Centrality]\n",
    "index = ['pagerank', 'eigenvector', 'in-degree']\n",
    "df = pd.DataFrame({'with_scores': speed,\n",
    "                   'without_scores': lifespan}, index=index)\n",
    "ax = df.plot.bar(rot=0)\n",
    "# create plot\n"
   ],
   "metadata": {
    "collapsed": false,
    "pycharm": {
     "name": "#%%\n"
    }
   }
  },
  {
   "cell_type": "markdown",
   "source": [
    "The results of evaluations shows that using the scores have better performance in finding experts in PageRank and In-degree algorithms. eigenvector algorithm had the worse performance among the algorithms we tested.\n",
    "\n",
    "The results of evaluations also show that indegree centralization is the algorithm with better performance. But is it the final algorithm that must be used?\n",
    "\n",
    "We must say no. Because Stackoverflow used score of answers in specific tag to determine the top users and if we take a close look, in-degree does the exact same thing. if we look at <code>aggregate_with_score</code> it also sums the scores of answers each user gave. So basically what in-degree does and what stackoverflow considers as top users are the same. The reason there result of first evaluation (topk) is not 100% and second evaluation(spearman correlation) is not 1 in the in-degree algorithm is that we used only accepted answers in stackoverflow (the answers with green tick beside them) just to make sure users that gave the best answers be in our evaluation, because we can not be sure that other answers are accurate also we removed negative edges from the graph in the preprocess phase.\n",
    "\n",
    "Now we argue that why we choose pagerank as final algorithm that we use. Because simply sum the answers of each user can not be enough. PageRank algorithm considers the chain effect of answers. For example If user B answers user A question in specific tag and user C answers user B question, then there is a chance that user C has more experties than both of them. And part of expertise point should be credited to user C, because user C could answer C could answer another potential expert (user B).\n",
    "\n",
    "## Visualization\n",
    "\n",
    "<span style=\"color: red\">BEWARE</span>: The number of nodes are edges are large in this project. I do not recommend running this part because it might take hours to render the results."
   ],
   "metadata": {
    "collapsed": false
   }
  },
  {
   "cell_type": "code",
   "execution_count": 96,
   "outputs": [],
   "source": [
    "#labels = nx.get_edge_attributes(G,'weight')\n",
    "#pos = nx.spring_layout(G)\n",
    "#nx.draw(G, pos, with_labels = True, node_color=\"#f86e00\", connectionstyle='arc3, rad = 0.3')\n",
    "#nx.draw_networkx_edge_labels(G, pos, edge_labels=labels)\n",
    "\n",
    "\n",
    "# plt.show()"
   ],
   "metadata": {
    "collapsed": false,
    "pycharm": {
     "name": "#%%\n"
    }
   }
  },
  {
   "cell_type": "markdown",
   "source": [
    "Here we go even further and visualize a map which we show where are our experts from\n",
    "The purpose of this part is show users of our application in which location in the world they should look for experts of that specific tag.\n",
    "\n",
    "Here we render map of expert users of tags related to python determined by PageRank algorithm.\n",
    "\n",
    "the stackoverflow API does only return 100 users so if the <code>top_user_count</code> is more than 100, then we have to call the api method multiple times.\n",
    "so we divide chunk method to split the users into group of 100 users."
   ],
   "metadata": {
    "collapsed": false
   }
  },
  {
   "cell_type": "code",
   "execution_count": 111,
   "outputs": [
    {
     "name": "stdout",
     "output_type": "stream",
     "text": [
      "['16343464', '15497888', '2901002', '10035985', '6361531', '4238408', '15239951', '6622587', '8708364', '5577765', '67579', '3832970', '15070697', '4333359', '5349916', '1883316', '12833166', '9375102', '12046409', '1491895', '14165730', '14122', '9840637', '7964527', '7758804', '1126841', '3791842', '4518341', '14289892', '1832058', '5320906', '5459839', '2988730', '901925', '3799759', '5014455', '14991864', '51685', '5317403', '9441404', '9444073', '13138364', '7432', '9136348', '9332187', '2001654', '7212686', '2357112', '13131047', '2648811', '235698', '12939557', '2390182', '3437787', '9857631', '15438033', '2823719', '6331369', '5424988', '11106801', '4755954', '11043825', '4001592', '3485434', '5237560', '3112049', '7175713', '2937831', '3000206', '13990016', '941531', '4657412', '7326738', '13382000', '12480730', '1740577', '3545273', '12728244', '480982', '1863229', '6792743', '4983450', '355230', '10785975', '13782669', '6660638', '6714627', '13107804', '11380795', '2836621', '415016', '5769463', '364696', '4926757', '16759116', '248823', '4834', '5431791', '9215780', '9657861']\n",
      "['9167382']\n",
      "[{'badge_counts': {'bronze': 1001, 'silver': 1040, 'gold': 71}, 'account_id': 3465245, 'is_employee': False, 'last_modified_date': 1638807900, 'last_access_date': 1638874503, 'reputation_change_year': 99627, 'reputation_change_quarter': 19798, 'reputation_change_month': 2060, 'reputation_change_week': 765, 'reputation_change_day': 275, 'reputation': 680770, 'creation_date': 1382300846, 'user_type': 'registered', 'user_id': 2901002, 'accept_rate': 97, 'location': 'Bratislava, Slovakia', 'website_url': '', 'link': 'https://stackoverflow.com/users/2901002/jezrael', 'profile_image': 'https://i.stack.imgur.com/hMDvl.jpg?s=256&g=1', 'display_name': 'jezrael'}, {'badge_counts': {'bronze': 537, 'silver': 431, 'gold': 49}, 'account_id': 1613587, 'is_employee': False, 'last_modified_date': 1638512400, 'last_access_date': 1638688439, 'reputation_change_year': 68788, 'reputation_change_quarter': 12956, 'reputation_change_month': 345, 'reputation_change_week': 100, 'reputation_change_day': 30, 'reputation': 636319, 'creation_date': 1340993549, 'user_type': 'registered', 'user_id': 1491895, 'accept_rate': 69, 'location': 'Arlington, MA', 'website_url': '', 'link': 'https://stackoverflow.com/users/1491895/barmar', 'profile_image': 'https://www.gravatar.com/avatar/82f9e178a16364bf561d0ed4da09a35d?s=256&d=identicon&r=PG', 'display_name': 'Barmar'}, {'badge_counts': {'bronze': 437, 'silver': 341, 'gold': 29}, 'account_id': 4739783, 'is_employee': False, 'last_modified_date': 1638870300, 'last_access_date': 1638874381, 'reputation_change_year': 72085, 'reputation_change_quarter': 16068, 'reputation_change_month': 1351, 'reputation_change_week': 387, 'reputation_change_day': 100, 'reputation': 527371, 'creation_date': 1405192634, 'user_type': 'registered', 'user_id': 3832970, 'location': 'Warsaw, Poland', 'website_url': '', 'link': 'https://stackoverflow.com/users/3832970/wiktor-stribi%c5%bcew', 'profile_image': 'https://i.stack.imgur.com/IFOp5.jpg?s=256&g=1', 'display_name': 'Wiktor Stribiżew'}, {'badge_counts': {'bronze': 288, 'silver': 222, 'gold': 22}, 'account_id': 2094057, 'is_employee': False, 'last_modified_date': 1638819000, 'last_access_date': 1638873560, 'reputation_change_year': 58644, 'reputation_change_quarter': 10215, 'reputation_change_month': 1362, 'reputation_change_week': 517, 'reputation_change_day': 270, 'reputation': 420562, 'creation_date': 1354193254, 'user_type': 'registered', 'user_id': 1863229, 'accept_rate': 58, 'location': 'Singapore', 'website_url': 'https://sg.linkedin.com/in/tim-biegeleisen-557aa38', 'link': 'https://stackoverflow.com/users/1863229/tim-biegeleisen', 'profile_image': 'https://i.stack.imgur.com/4sh1l.png?s=256&g=1', 'display_name': 'Tim Biegeleisen'}, {'badge_counts': {'bronze': 566, 'silver': 435, 'gold': 57}, 'account_id': 1143565, 'is_employee': False, 'last_modified_date': 1638825600, 'last_access_date': 1638841007, 'reputation_change_year': 49360, 'reputation_change_quarter': 9516, 'reputation_change_month': 753, 'reputation_change_week': 339, 'reputation_change_day': 75, 'reputation': 419613, 'creation_date': 1325540499, 'user_type': 'registered', 'user_id': 1126841, 'location': 'Massachusetts', 'website_url': 'http://none', 'link': 'https://stackoverflow.com/users/1126841/chepner', 'profile_image': 'https://www.gravatar.com/avatar/fa05233b2357f8d11c22ef4cfc7bb85c?s=256&d=identicon&r=PG', 'display_name': 'chepner'}, {'badge_counts': {'bronze': 442, 'silver': 326, 'gold': 28}, 'account_id': 26078, 'is_employee': False, 'last_modified_date': 1638432300, 'last_access_date': 1638856927, 'reputation_change_year': 68435, 'reputation_change_quarter': 14224, 'reputation_change_month': 787, 'reputation_change_week': 254, 'reputation_change_day': 50, 'reputation': 362698, 'creation_date': 1234906792, 'user_type': 'registered', 'user_id': 67579, 'accept_rate': 81, 'location': 'Ypres, Belgium', 'website_url': 'https://hackage.haskell.org/user/wvanonsem90', 'link': 'https://stackoverflow.com/users/67579/willem-van-onsem', 'profile_image': 'https://i.stack.imgur.com/BJXub.png?s=256&g=1', 'display_name': 'Willem Van Onsem'}, {'badge_counts': {'bronze': 616, 'silver': 472, 'gold': 41}, 'account_id': 4815, 'is_employee': False, 'last_modified_date': 1638788401, 'last_access_date': 1638855552, 'reputation_change_year': 33237, 'reputation_change_quarter': 6065, 'reputation_change_month': 608, 'reputation_change_week': 297, 'reputation_change_day': 40, 'reputation': 326657, 'creation_date': 1221486233, 'user_type': 'registered', 'user_id': 7432, 'accept_rate': 94, 'location': 'Choctaw, OK', 'website_url': '', 'link': 'https://stackoverflow.com/users/7432/bryan-oakley', 'profile_image': 'https://www.gravatar.com/avatar/3e3921ee8a7792e4b5da0244933395e8?s=256&d=identicon&r=PG', 'display_name': 'Bryan Oakley'}, {'badge_counts': {'bronze': 187, 'silver': 134, 'gold': 19}, 'account_id': 10829702, 'is_employee': False, 'last_modified_date': 1638374100, 'last_access_date': 1638851784, 'reputation_change_year': 38647, 'reputation_change_quarter': 7567, 'reputation_change_month': 728, 'reputation_change_week': 225, 'reputation_change_day': 35, 'reputation': 278939, 'creation_date': 1493916329, 'user_type': 'registered', 'user_id': 7964527, 'accept_rate': 100, 'location': 'United States', 'website_url': 'https://stackoverflow.com/users/7964527/wen', 'link': 'https://stackoverflow.com/users/7964527/beny', 'profile_image': 'https://i.stack.imgur.com/HPW8R.jpg?s=256&g=1', 'display_name': 'BENY'}, {'badge_counts': {'bronze': 377, 'silver': 325, 'gold': 35}, 'account_id': 8002, 'is_employee': False, 'last_modified_date': 1638791400, 'last_access_date': 1638851412, 'reputation_change_year': 22197, 'reputation_change_quarter': 4207, 'reputation_change_month': 134, 'reputation_change_week': 6, 'reputation_change_day': -3, 'reputation': 247804, 'creation_date': 1221602728, 'user_type': 'registered', 'user_id': 14122, 'accept_rate': 71, 'location': 'Chicago, IL', 'website_url': '', 'link': 'https://stackoverflow.com/users/14122/charles-duffy', 'profile_image': 'https://www.gravatar.com/avatar/5e2861b08f37fa306fbf5384994af688?s=256&d=identicon&r=PG', 'display_name': 'Charles Duffy'}, {'badge_counts': {'bronze': 234, 'silver': 194, 'gold': 29}, 'account_id': 7142980, 'is_employee': False, 'last_modified_date': 1638872100, 'last_access_date': 1638873330, 'reputation_change_year': 46548, 'reputation_change_quarter': 8665, 'reputation_change_month': 811, 'reputation_change_week': 319, 'reputation_change_day': 20, 'reputation': 238186, 'creation_date': 1445181554, 'user_type': 'registered', 'user_id': 5459839, 'location': 'Belgium', 'website_url': 'http://trincot.trincots@gmail.com', 'link': 'https://stackoverflow.com/users/5459839/trincot', 'profile_image': 'https://i.stack.imgur.com/iehrR.jpg?s=256&g=1', 'display_name': 'trincot'}, {'badge_counts': {'bronze': 422, 'silver': 346, 'gold': 24}, 'account_id': 2734060, 'is_employee': False, 'last_modified_date': 1638810900, 'last_access_date': 1638864963, 'reputation_change_year': 19632, 'reputation_change_quarter': 3900, 'reputation_change_month': 357, 'reputation_change_week': 83, 'reputation_change_day': 20, 'reputation': 224944, 'creation_date': 1367907448, 'user_type': 'registered', 'user_id': 2357112, 'accept_rate': 26, 'website_url': '', 'link': 'https://stackoverflow.com/users/2357112/user2357112-supports-monica', 'profile_image': 'https://www.gravatar.com/avatar/3f80897d57525afe9eac4fb8c8318052?s=256&d=identicon&r=PG', 'display_name': 'user2357112 supports Monica'}, {'badge_counts': {'bronze': 175, 'silver': 106, 'gold': 15}, 'account_id': 8708296, 'is_employee': False, 'last_modified_date': 1638386400, 'last_access_date': 1638850023, 'reputation_change_year': 38559, 'reputation_change_quarter': 5189, 'reputation_change_month': 243, 'reputation_change_week': 145, 'reputation_change_day': 20, 'reputation': 211251, 'creation_date': 1469143751, 'user_type': 'registered', 'user_id': 6622587, 'location': 'earth', 'website_url': '', 'link': 'https://stackoverflow.com/users/6622587/eyllanesc', 'profile_image': 'https://i.stack.imgur.com/gAYS0.jpg?s=256&g=1', 'display_name': 'eyllanesc'}, {'badge_counts': {'bronze': 300, 'silver': 189, 'gold': 13}, 'account_id': 485561, 'is_employee': False, 'last_modified_date': 1638192600, 'last_access_date': 1638874038, 'reputation_change_year': 24681, 'reputation_change_quarter': 5391, 'reputation_change_month': 320, 'reputation_change_week': 145, 'reputation_change_day': 45, 'reputation': 189729, 'creation_date': 1313736279, 'user_type': 'registered', 'user_id': 901925, 'location': 'Seattle, WA', 'website_url': '', 'link': 'https://stackoverflow.com/users/901925/hpaulj', 'profile_image': 'https://www.gravatar.com/avatar/8bbd70aaeb3a97d0087daf93c2be8804?s=256&d=identicon&r=PG', 'display_name': 'hpaulj'}, {'badge_counts': {'bronze': 304, 'silver': 277, 'gold': 24}, 'account_id': 6429765, 'is_employee': False, 'last_modified_date': 1638836654, 'last_access_date': 1638863012, 'reputation_change_year': 24740, 'reputation_change_quarter': 4200, 'reputation_change_month': 270, 'reputation_change_week': 90, 'reputation_change_day': 20, 'reputation': 186914, 'creation_date': 1433684428, 'user_type': 'registered', 'user_id': 4983450, 'accept_rate': 74, 'location': 'CA, United States', 'website_url': '', 'link': 'https://stackoverflow.com/users/4983450/psidom', 'profile_image': 'https://i.stack.imgur.com/NR2ko.jpg?s=256&g=1', 'display_name': 'Psidom'}, {'badge_counts': {'bronze': 132, 'silver': 84, 'gold': 23}, 'account_id': 7322082, 'is_employee': False, 'last_modified_date': 1638794700, 'last_access_date': 1638872504, 'reputation_change_year': 37504, 'reputation_change_quarter': 6503, 'reputation_change_month': 746, 'reputation_change_week': 311, 'reputation_change_day': 10, 'reputation': 162116, 'creation_date': 1447867461, 'user_type': 'registered', 'user_id': 5577765, 'location': 'Austria', 'website_url': 'https://www.roomle.com/en', 'link': 'https://stackoverflow.com/users/5577765/rabbid76', 'profile_image': 'https://i.stack.imgur.com/LoGpC.jpg?s=256&g=1', 'display_name': 'Rabbid76'}, {'badge_counts': {'bronze': 337, 'silver': 213, 'gold': 22}, 'account_id': 3379153, 'is_employee': False, 'last_modified_date': 1638272700, 'last_access_date': 1638874432, 'reputation_change_year': 21595, 'reputation_change_quarter': 4608, 'reputation_change_month': 440, 'reputation_change_week': 182, 'reputation_change_day': 10, 'reputation': 158594, 'creation_date': 1380663584, 'user_type': 'registered', 'user_id': 2836621, 'location': 'Cheltenham, UK', 'website_url': 'http://www.thesetchells.com', 'link': 'https://stackoverflow.com/users/2836621/mark-setchell', 'profile_image': 'https://i.stack.imgur.com/suHg4.jpg?s=256&g=1', 'display_name': 'Mark Setchell'}, {'badge_counts': {'bronze': 165, 'silver': 108, 'gold': 9}, 'account_id': 90365, 'is_employee': False, 'last_modified_date': 1638826200, 'last_access_date': 1638874076, 'reputation_change_year': 61538, 'reputation_change_quarter': 11412, 'reputation_change_month': 676, 'reputation_change_week': 160, 'reputation_change_day': 10, 'reputation': 142006, 'creation_date': 1263294862, 'user_type': 'registered', 'user_id': 248823, 'accept_rate': 100, 'website_url': '', 'link': 'https://stackoverflow.com/users/248823/marcin', 'profile_image': 'https://www.gravatar.com/avatar/6605deca5924e84df1a4847f607b87c6?s=256&d=identicon&r=PG', 'display_name': 'Marcin'}, {'badge_counts': {'bronze': 217, 'silver': 154, 'gold': 22}, 'account_id': 84277, 'is_employee': False, 'last_modified_date': 1638818700, 'last_access_date': 1638862984, 'reputation_change_year': 16432, 'reputation_change_quarter': 3243, 'reputation_change_month': 223, 'reputation_change_week': 133, 'reputation_change_day': 73, 'reputation': 141253, 'creation_date': 1261353464, 'user_type': 'registered', 'user_id': 235698, 'location': 'USA', 'website_url': '', 'link': 'https://stackoverflow.com/users/235698/mark-tolonen', 'profile_image': 'https://i.stack.imgur.com/KjvlE.png?s=256&g=1', 'display_name': 'Mark Tolonen'}, {'badge_counts': {'bronze': 216, 'silver': 104, 'gold': 10}, 'account_id': 4342327, 'is_employee': False, 'last_modified_date': 1636551601, 'last_access_date': 1638871312, 'reputation_change_year': 16149, 'reputation_change_quarter': 3177, 'reputation_change_month': 180, 'reputation_change_week': 100, 'reputation_change_day': 60, 'reputation': 128862, 'creation_date': 1397737502, 'user_type': 'registered', 'user_id': 3545273, 'accept_rate': 100, 'location': 'Bordeaux, France', 'website_url': '', 'link': 'https://stackoverflow.com/users/3545273/serge-ballesta', 'profile_image': 'https://i.stack.imgur.com/RDWxl.png?s=256&g=1', 'display_name': 'Serge Ballesta'}, {'badge_counts': {'bronze': 58, 'silver': 38, 'gold': 10}, 'account_id': 2960941, 'is_employee': False, 'last_modified_date': 1638391200, 'last_access_date': 1638856204, 'reputation_change_year': 32906, 'reputation_change_quarter': 6943, 'reputation_change_month': 415, 'reputation_change_week': 95, 'reputation_change_day': 5, 'reputation': 126344, 'creation_date': 1415687183, 'user_type': 'registered', 'user_id': 4238408, 'location': 'Toronto, ON, Canada', 'website_url': 'https://www.linkedin.com/in/quang-hoang/', 'link': 'https://stackoverflow.com/users/4238408/quang-hoang', 'profile_image': 'https://i.stack.imgur.com/RWkmO.jpg?s=256&g=1', 'display_name': 'Quang Hoang'}, {'badge_counts': {'bronze': 145, 'silver': 110, 'gold': 11}, 'collectives': [{'collective': {'tags': ['gitlab-api', 'gitlab-ci-runner', 'gitlab-wiki', 'gitlab-omnibus', 'gitlab-ee', 'gitlab-pipelines', 'python-gitlab', 'gitlab-ce', 'gitlab-ci', 'gitlab-autodevops', 'gitlab', 'gitlab-ui', 'gitlab-pages', 'gitlab-ci-trigger', 'gitlab-8', 'terraform-provider-gitlab', 'gitlab-7'], 'external_links': [{'type': 'website', 'link': 'https://about.gitlab.com'}, {'type': 'support', 'link': 'mailto:community@gitlab.com'}, {'type': 'twitter', 'link': 'https://twitter.com/gitlab'}, {'type': 'github', 'link': 'https://docs.gitlab.com/'}, {'type': 'facebook', 'link': 'https://facebook.com/gitlab'}, {'type': 'instagram', 'link': 'https://instagram.com/gitlab'}], 'description': 'GitLab is the open DevOps platform, delivered as a single application. Our open source collaboration is a great place to share and learn information about version control, CI/CD, DevSecOps, and all-remote workflows.', 'link': '/collectives/gitlab', 'name': 'GitLab', 'slug': 'gitlab'}, 'role': 'member'}, {'collective': {'tags': ['google-cloud-logging', 'google-cloud-memorystore', 'google-cloud-monitoring', 'google-cloud-instances', 'google-cloud-run', 'dialogflow-es', 'google-cloud-tasks', 'google-cloud-search', 'google-cloud-ml-engine', 'firebase-topics', 'google-cloud-firestore', 'firebase-job-dispatcher', 'dialogflow-es-fulfillment', 'rest-firebase', 'firebase-remote-config', 'google-cloud-error-reporting', 'google-cloud-url-maps', 'google-cloud-api-gateway', 'google-cloud-healthcare', 'google-compute-engine', 'google-container-builder', 'firebase-extensions', 'google-cloud-webrisk', 'google-cloud-profiler', 'google-cloud-iam', 'google-cloud-shell-editor', 'google-cloud-load-balancer', 'google-cloud-console', 'google-cloud-scheduler', 'google-cloud-transcoder', 'google-cloud-speech', 'google-container-registry', 'gcloud', 'google-cloud-router', 'google-app-engine-golang', 'cordova-plugin-firebasex', 'redux-saga-firebase', 'react-redux-firebase', 'google-cloud-trace', 'dialogflow-cx', 'google-app-engine-go', 'google-cloud-tpu', 'firebase-analytics', 'google-cloud-automl-nl', 'google-container-optimized-os', 'google-cloud-proxy', 'google-cloud-endpoints', 'google-cloud-launcher', 'firebaseui', 'google-cloud-sql', 'firebase', 'stackdriver', 'firebase-realtime-database', 'google-app-engine', 'google-cloud-code', 'firebase-security', 'google-app-engine-launch', 'google-cloud-resource-manager', 'firebase-cloud-messaging', 'maven-jib', 'google-migrate-for-compute-engine', 'google-cloud-vision', 'google-cloud-datalab', 'google-cloud-automl', 'firebase-invites', 'google-cloud-print', 'google-cloud-composer', 'firebase-in-app-messaging', 'google-cloud-armor', 'google-cloud-intellij', 'google-cloud-translate', 'google-bigquery', 'firebase-crash-reporting', 'google-cloud-test-lab', 'google-cloud-ops-agent', 'google-cloud-internal-load-balancer', 'google-cloud-print-privet', 'google-cloud-datastore', 'google-cloud-powershell', 'google-cloud-save', 'google-cloud-shell', 'bigtable', 'google-cloud-messaging', 'google-cloud-network-load-balancer', 'firebasesimplelogin', 'google-cloud-dataflow', 'google-cloud-talent-solution', 'google-cloud-instance-template', 'google-cloud-dataproc-metastore', 'google-cloud-bigtable', 'google-cloud-stackdriver', 'firebase-machine-learning', 'firebase-queue', 'nativescript-firebase', 'google-app-engine-php', 'firebase-notifications', 'google-cloud-functions', 'firebase-database', 'google-cloud-nl', 'google-cloud-storage', 'google-cloud-spanner', 'google-cloud-filestore', 'google-cloud-ml', 'google-app-engine-deploy', 'google-kubernetes-engine', 'google-cloud-pubsub', 'google-cloud-identity', 'google-fusion-tables', 'firebase-admin', 'google-cloud-sdk', 'google-cloud-cdn', 'google-cloud-kms', 'google-prediction', 'google-cloud-storage-r', 'google-translate', 'firebase-app-indexing', 'google-cloud-data-transfer', 'google-container-os', 'google-cloud-endpoints-v2', 'firebase-console', 'google-cloud-build', 'google-cloud-cpp', 'firebase-app-distribution', 'google-cloud-dataprep', 'google-cloud-debugger', 'firebase-ab-testing', 'firebase-tools', 'firebase-cli', 'google-cloud-visualstudio', 'firebase-dynamic-links', 'firebase-util', 'react-native-firebase', 'google-data-studio', 'google-cloud-python', 'firebase-assistant', 'firebase-test-lab', 'firebase-admob', 'google-cloud-ai', 'google-cloud-data-fusion', 'google-dataflow', 'google-cloud-http-load-balancer', 'google-cloud-language', 'google-cloud-vpn', 'firebase-cloud-functions', 'google-cloud-pubsublite', 'firebase-polymer', 'google-app-engine-patch', 'firebase-performance', 'google-cloud-php-client', 'google-app-engine-python', 'google-cloud-source-repos', 'firebase-authentication', 'google-cloud-platform', 'google-cloud-networking', 'firebase-hosting', 'apigee', 'firebase-mlkit', 'google-cloud-registry', 'google-cloud-node', 'firebase-storage', 'google-cloud-marketplace', 'google-cloud-dns', 'google-cloud-identity-aware-proxy', 'google-cloud-repository', 'google-cloud-metrics', 'firebase-predictions', 'google-cloud-tools', 'google-anthos', 'google-cloud-vertex-ai', 'firebase-app-check', 'google-cloud-deploy', 'google-cloud-recommendation', 'google-cloud-asset-inventory', 'google-cloud-dlp', 'google-cloud-robotics', 'google-cloud-dataproc', 'google-cloud-ai-platform-pipelines', 'apigee-baas', 'google-cloud-spanner-emulator', 'google-cloud-iot', 'jib', 'google-analytics-firebase', 'google-cloud-interconnect', 'google-cloud-billing'], 'external_links': [{'type': 'website', 'link': 'https://cloud.google.com/developers'}, {'type': 'support', 'link': 'https://googlecloud-community.slack.com/'}, {'type': 'twitter', 'link': 'https://twitter.com/googlecloudtech'}, {'type': 'facebook', 'link': 'https://facebook.com/googlecloud'}, {'type': 'instagram', 'link': 'https://instagram.com/googlecloud'}], 'description': 'Google Cloud provides organizations with leading infrastructure, platform capabilities and industry solutions to help them solve their most critical business problems.', 'link': '/collectives/google-cloud', 'name': 'Google Cloud', 'slug': 'google-cloud'}, 'role': 'member'}], 'account_id': 7316008, 'is_employee': False, 'last_modified_date': 1638478810, 'last_access_date': 1638850043, 'reputation_change_year': 19770, 'reputation_change_quarter': 2488, 'reputation_change_month': 315, 'reputation_change_week': 120, 'reputation_change_day': 10, 'reputation': 125095, 'creation_date': 1463753054, 'user_type': 'registered', 'user_id': 6361531, 'accept_rate': 80, 'location': 'Houston, TX, USA', 'website_url': 'https://www.linkedin.com/in/scott-boston/', 'link': 'https://stackoverflow.com/users/6361531/scott-boston', 'profile_image': 'https://i.stack.imgur.com/BRRGS.png?s=256&g=1', 'display_name': 'Scott Boston'}, {'badge_counts': {'bronze': 205, 'silver': 141, 'gold': 11}, 'account_id': 151071, 'is_employee': False, 'last_modified_date': 1638863400, 'last_access_date': 1638836215, 'reputation_change_year': 14409, 'reputation_change_quarter': 2461, 'reputation_change_month': 100, 'reputation_change_week': 20, 'reputation_change_day': 0, 'reputation': 115954, 'creation_date': 1276271482, 'user_type': 'registered', 'user_id': 364696, 'location': 'Columbia, MD', 'link': 'https://stackoverflow.com/users/364696/shadowranger', 'profile_image': 'https://i.stack.imgur.com/7eBCp.jpg?s=256&g=1', 'display_name': 'ShadowRanger'}, {'badge_counts': {'bronze': 59, 'silver': 42, 'gold': 14}, 'account_id': 7089168, 'is_employee': False, 'last_modified_date': 1638818400, 'last_access_date': 1638872999, 'reputation_change_year': 34751, 'reputation_change_quarter': 5619, 'reputation_change_month': 530, 'reputation_change_week': 210, 'reputation_change_day': 35, 'reputation': 113336, 'creation_date': 1444336749, 'user_type': 'registered', 'user_id': 5424988, 'location': 'The Netherlands', 'website_url': '', 'link': 'https://stackoverflow.com/users/5424988/the-fourth-bird', 'profile_image': 'https://www.gravatar.com/avatar/d0b4f91c20dcd87cbd58dd351455198c?s=256&d=identicon&r=PG&f=1', 'display_name': 'The fourth bird'}, {'badge_counts': {'bronze': 117, 'silver': 87, 'gold': 12}, 'account_id': 21309, 'is_employee': False, 'last_modified_date': 1638395400, 'last_access_date': 1638873677, 'reputation_change_year': 27453, 'reputation_change_quarter': 6606, 'reputation_change_month': 200, 'reputation_change_week': 75, 'reputation_change_day': 10, 'reputation': 111061, 'creation_date': 1231168548, 'user_type': 'registered', 'user_id': 51685, 'location': 'Turku, Finland', 'website_url': 'https://akx.github.io/', 'link': 'https://stackoverflow.com/users/51685/akx', 'profile_image': 'https://i.stack.imgur.com/vVhK5.jpg?s=256&g=1', 'display_name': 'AKX'}, {'badge_counts': {'bronze': 126, 'silver': 84, 'gold': 9}, 'account_id': 99309, 'is_employee': False, 'last_modified_date': 1638490501, 'last_access_date': 1638874007, 'reputation_change_year': 21052, 'reputation_change_quarter': 5134, 'reputation_change_month': 444, 'reputation_change_week': 114, 'reputation_change_day': 44, 'reputation': 107839, 'creation_date': 1353165192, 'user_type': 'registered', 'user_id': 1832058, 'location': 'Torun, Poland', 'website_url': 'https://blog.furas.pl', 'link': 'https://stackoverflow.com/users/1832058/furas', 'profile_image': 'https://i.stack.imgur.com/relWs.jpg?s=256&g=1', 'display_name': 'furas'}, {'badge_counts': {'bronze': 67, 'silver': 35, 'gold': 12}, 'account_id': 13900216, 'is_employee': False, 'last_modified_date': 1637122501, 'last_access_date': 1638829038, 'reputation_change_year': 43643, 'reputation_change_quarter': 1397, 'reputation_change_month': 80, 'reputation_change_week': 10, 'reputation_change_day': 0, 'reputation': 106884, 'creation_date': 1530779891, 'user_type': 'registered', 'user_id': 10035985, 'location': 'Slovakia', 'website_url': '', 'link': 'https://stackoverflow.com/users/10035985/andrej-kesely', 'profile_image': 'https://lh4.googleusercontent.com/-1WgJ_2yA-78/AAAAAAAAAAI/AAAAAAAAAOA/0CBOlYqYe7M/photo.jpg?sz=256', 'display_name': 'Andrej Kesely'}, {'badge_counts': {'bronze': 261, 'silver': 147, 'gold': 22}, 'account_id': 145428, 'is_employee': False, 'last_modified_date': 1638783600, 'last_access_date': 1638873662, 'reputation_change_year': 13099, 'reputation_change_quarter': 2568, 'reputation_change_month': 201, 'reputation_change_week': 26, 'reputation_change_day': 5, 'reputation': 106673, 'creation_date': 1275383779, 'user_type': 'registered', 'user_id': 355230, 'accept_rate': 88, 'location': 'Seattle, WA', 'website_url': 'http://www.linkedin.com/in/martinmiller0', 'link': 'https://stackoverflow.com/users/355230/martineau', 'profile_image': 'https://i.stack.imgur.com/JEycE.png?s=256&g=1', 'display_name': 'martineau'}, {'badge_counts': {'bronze': 208, 'silver': 134, 'gold': 21}, 'collectives': [{'collective': {'tags': ['gitlab-api', 'gitlab-ci-runner', 'gitlab-wiki', 'gitlab-omnibus', 'gitlab-ee', 'gitlab-pipelines', 'python-gitlab', 'gitlab-ce', 'gitlab-ci', 'gitlab-autodevops', 'gitlab', 'gitlab-ui', 'gitlab-pages', 'gitlab-ci-trigger', 'gitlab-8', 'terraform-provider-gitlab', 'gitlab-7'], 'external_links': [{'type': 'website', 'link': 'https://about.gitlab.com'}, {'type': 'support', 'link': 'mailto:community@gitlab.com'}, {'type': 'twitter', 'link': 'https://twitter.com/gitlab'}, {'type': 'github', 'link': 'https://docs.gitlab.com/'}, {'type': 'facebook', 'link': 'https://facebook.com/gitlab'}, {'type': 'instagram', 'link': 'https://instagram.com/gitlab'}], 'description': 'GitLab is the open DevOps platform, delivered as a single application. Our open source collaboration is a great place to share and learn information about version control, CI/CD, DevSecOps, and all-remote workflows.', 'link': '/collectives/gitlab', 'name': 'GitLab', 'slug': 'gitlab'}, 'role': 'member'}], 'account_id': 3580374, 'is_employee': False, 'last_modified_date': 1638565500, 'last_access_date': 1638853782, 'reputation_change_year': 18757, 'reputation_change_quarter': 2899, 'reputation_change_month': 302, 'reputation_change_week': 95, 'reputation_change_day': 30, 'reputation': 87621, 'creation_date': 1384361800, 'user_type': 'registered', 'user_id': 2988730, 'accept_rate': 96, 'location': 'NH, USA', 'website_url': 'http://www.madphysicist.com', 'link': 'https://stackoverflow.com/users/2988730/mad-physicist', 'profile_image': 'https://i.stack.imgur.com/ZOX7t.jpg?s=256&g=1', 'display_name': 'Mad Physicist'}, {'badge_counts': {'bronze': 134, 'silver': 99, 'gold': 9}, 'account_id': 6475833, 'is_employee': False, 'last_modified_date': 1638858000, 'last_access_date': 1638869339, 'reputation_change_year': 12835, 'reputation_change_quarter': 1738, 'reputation_change_month': 161, 'reputation_change_week': 55, 'reputation_change_day': 10, 'reputation': 71818, 'creation_date': 1434442703, 'user_type': 'registered', 'user_id': 5014455, 'location': 'San Francisco, CA, United States', 'website_url': '', 'link': 'https://stackoverflow.com/users/5014455/juanpa-arrivillaga', 'profile_image': 'https://i.stack.imgur.com/JTknr.png?s=256&g=1', 'display_name': 'juanpa.arrivillaga'}, {'badge_counts': {'bronze': 61, 'silver': 34, 'gold': 7}, 'account_id': 13640572, 'is_employee': False, 'last_modified_date': 1637115600, 'last_access_date': 1638874041, 'reputation_change_year': 15396, 'reputation_change_quarter': 623, 'reputation_change_month': 30, 'reputation_change_week': 0, 'reputation_change_day': 0, 'reputation': 68986, 'creation_date': 1527163100, 'user_type': 'registered', 'user_id': 9840637, 'location': 'Bengaluru, Karnataka, India', 'website_url': 'https://www.linkedin.com/in/ankan-mukherjee-0378a1b0/', 'link': 'https://stackoverflow.com/users/9840637/anky', 'profile_image': 'https://i.stack.imgur.com/QqY9S.png?s=256&g=1', 'display_name': 'anky'}, {'badge_counts': {'bronze': 72, 'silver': 46, 'gold': 6}, 'account_id': 2776749, 'is_employee': False, 'last_modified_date': 1638617100, 'last_access_date': 1638869514, 'reputation_change_year': 14664, 'reputation_change_quarter': 5599, 'reputation_change_month': 45, 'reputation_change_week': 10, 'reputation_change_day': 0, 'reputation': 66291, 'creation_date': 1368711232, 'user_type': 'registered', 'user_id': 2390182, 'website_url': '', 'link': 'https://stackoverflow.com/users/2390182/user2390182', 'profile_image': 'https://www.gravatar.com/avatar/34c04149fc57bd216c9fcd391e5a1f34?s=256&d=identicon&r=PG&f=1', 'display_name': 'user2390182'}, {'badge_counts': {'bronze': 91, 'silver': 53, 'gold': 7}, 'account_id': 9894877, 'is_employee': False, 'last_modified_date': 1638470701, 'last_access_date': 1638849838, 'reputation_change_year': 10439, 'reputation_change_quarter': 2428, 'reputation_change_month': 230, 'reputation_change_week': 78, 'reputation_change_day': 0, 'reputation': 64500, 'creation_date': 1482338397, 'user_type': 'registered', 'user_id': 7326738, 'accept_rate': 86, 'website_url': 'https://ajax12345.github.io/', 'link': 'https://stackoverflow.com/users/7326738/ajax1234', 'profile_image': 'https://i.stack.imgur.com/VgOrW.jpg?s=256&g=1', 'display_name': 'Ajax1234'}, {'badge_counts': {'bronze': 83, 'silver': 62, 'gold': 10}, 'account_id': 11900153, 'is_employee': False, 'last_modified_date': 1638351000, 'last_access_date': 1638872925, 'reputation_change_year': 23324, 'reputation_change_quarter': 5754, 'reputation_change_month': 135, 'reputation_change_week': 20, 'reputation_change_day': 0, 'reputation': 62300, 'creation_date': 1506947921, 'user_type': 'registered', 'user_id': 8708364, 'location': 'I live where you live!', 'website_url': '', 'link': 'https://stackoverflow.com/users/8708364/u12-f%cc%89%cd%8b%cc%85%cc%be%cc%87orward', 'profile_image': 'https://i.stack.imgur.com/R5UKi.jpg?s=256&g=1', 'display_name': 'U12-F̉͋̅̾̇orward'}, {'badge_counts': {'bronze': 127, 'silver': 94, 'gold': 9}, 'account_id': 3237222, 'is_employee': False, 'last_modified_date': 1630245300, 'last_access_date': 1638854459, 'reputation_change_year': 13809, 'reputation_change_quarter': 2891, 'reputation_change_month': 415, 'reputation_change_week': 170, 'reputation_change_day': 10, 'reputation': 60253, 'creation_date': 1383145560, 'user_type': 'registered', 'user_id': 2937831, 'accept_rate': 78, 'website_url': 'http://jakevdp.github.io', 'link': 'https://stackoverflow.com/users/2937831/jakevdp', 'profile_image': 'https://www.gravatar.com/avatar/56c4053438af8e8b90d6f53cbb7573be?s=256&d=identicon&r=PG', 'display_name': 'jakevdp'}, {'badge_counts': {'bronze': 64, 'silver': 41, 'gold': 6}, 'account_id': 4974930, 'is_employee': False, 'last_modified_date': 1638617100, 'last_access_date': 1638869785, 'reputation_change_year': 11597, 'reputation_change_quarter': 8499, 'reputation_change_month': 165, 'reputation_change_week': 10, 'reputation_change_day': 0, 'reputation': 53853, 'creation_date': 1409685400, 'user_type': 'registered', 'user_id': 4001592, 'location': 'Barcelona, Spain', 'website_url': '', 'link': 'https://stackoverflow.com/users/4001592/dani-mesejo', 'profile_image': 'https://i.stack.imgur.com/HWyjo.jpg?s=256&g=1', 'display_name': 'Dani Mesejo'}, {'badge_counts': {'bronze': 70, 'silver': 49, 'gold': 7}, 'account_id': 5447262, 'is_employee': False, 'last_modified_date': 1637115600, 'last_access_date': 1638826991, 'reputation_change_year': 10895, 'reputation_change_quarter': 1083, 'reputation_change_month': 95, 'reputation_change_week': 45, 'reputation_change_day': 0, 'reputation': 52458, 'creation_date': 1417918966, 'user_type': 'registered', 'user_id': 4333359, 'location': 'New Haven, CT, USA', 'website_url': 'http://alollz.com', 'link': 'https://stackoverflow.com/users/4333359/alollz', 'profile_image': 'https://www.gravatar.com/avatar/231e42e97a07b2937c1bf8a313dfa3f7?s=256&d=identicon&r=PG&f=1', 'display_name': 'ALollz'}, {'badge_counts': {'bronze': 39, 'silver': 17, 'gold': 7}, 'account_id': 13585482, 'is_employee': False, 'last_modified_date': 1637172302, 'last_access_date': 1638846265, 'reputation_change_year': 21605, 'reputation_change_quarter': 4833, 'reputation_change_month': 640, 'reputation_change_week': 360, 'reputation_change_day': 115, 'reputation': 48797, 'creation_date': 1568113483, 'user_type': 'registered', 'user_id': 12046409, 'link': 'https://stackoverflow.com/users/12046409/johanc', 'profile_image': 'https://i.stack.imgur.com/ZRRhI.jpg?s=256&g=1', 'display_name': 'JohanC'}, {'badge_counts': {'bronze': 192, 'silver': 106, 'gold': 18}, 'account_id': 222412, 'is_employee': False, 'last_modified_date': 1638818400, 'last_access_date': 1638867868, 'reputation_change_year': 6315, 'reputation_change_quarter': 1151, 'reputation_change_month': 120, 'reputation_change_week': 40, 'reputation_change_day': 10, 'reputation': 46967, 'creation_date': 1287520368, 'user_type': 'registered', 'user_id': 480982, 'accept_rate': 83, 'location': 'Germany', 'website_url': '', 'link': 'https://stackoverflow.com/users/480982/thomas-weller', 'profile_image': 'https://i.stack.imgur.com/U21Ey.jpg?s=256&g=1', 'display_name': 'Thomas Weller'}, {'badge_counts': {'bronze': 44, 'silver': 17, 'gold': 6}, 'collectives': [{'collective': {'tags': ['google-cloud-logging', 'google-cloud-memorystore', 'google-cloud-monitoring', 'google-cloud-instances', 'google-cloud-run', 'dialogflow-es', 'google-cloud-tasks', 'google-cloud-search', 'google-cloud-ml-engine', 'firebase-topics', 'google-cloud-firestore', 'firebase-job-dispatcher', 'dialogflow-es-fulfillment', 'rest-firebase', 'firebase-remote-config', 'google-cloud-error-reporting', 'google-cloud-url-maps', 'google-cloud-api-gateway', 'google-cloud-healthcare', 'google-compute-engine', 'google-container-builder', 'firebase-extensions', 'google-cloud-webrisk', 'google-cloud-profiler', 'google-cloud-iam', 'google-cloud-shell-editor', 'google-cloud-load-balancer', 'google-cloud-console', 'google-cloud-scheduler', 'google-cloud-transcoder', 'google-cloud-speech', 'google-container-registry', 'gcloud', 'google-cloud-router', 'google-app-engine-golang', 'cordova-plugin-firebasex', 'redux-saga-firebase', 'react-redux-firebase', 'google-cloud-trace', 'dialogflow-cx', 'google-app-engine-go', 'google-cloud-tpu', 'firebase-analytics', 'google-cloud-automl-nl', 'google-container-optimized-os', 'google-cloud-proxy', 'google-cloud-endpoints', 'google-cloud-launcher', 'firebaseui', 'google-cloud-sql', 'firebase', 'stackdriver', 'firebase-realtime-database', 'google-app-engine', 'google-cloud-code', 'firebase-security', 'google-app-engine-launch', 'google-cloud-resource-manager', 'firebase-cloud-messaging', 'maven-jib', 'google-migrate-for-compute-engine', 'google-cloud-vision', 'google-cloud-datalab', 'google-cloud-automl', 'firebase-invites', 'google-cloud-print', 'google-cloud-composer', 'firebase-in-app-messaging', 'google-cloud-armor', 'google-cloud-intellij', 'google-cloud-translate', 'google-bigquery', 'firebase-crash-reporting', 'google-cloud-test-lab', 'google-cloud-ops-agent', 'google-cloud-internal-load-balancer', 'google-cloud-print-privet', 'google-cloud-datastore', 'google-cloud-powershell', 'google-cloud-save', 'google-cloud-shell', 'bigtable', 'google-cloud-messaging', 'google-cloud-network-load-balancer', 'firebasesimplelogin', 'google-cloud-dataflow', 'google-cloud-talent-solution', 'google-cloud-instance-template', 'google-cloud-dataproc-metastore', 'google-cloud-bigtable', 'google-cloud-stackdriver', 'firebase-machine-learning', 'firebase-queue', 'nativescript-firebase', 'google-app-engine-php', 'firebase-notifications', 'google-cloud-functions', 'firebase-database', 'google-cloud-nl', 'google-cloud-storage', 'google-cloud-spanner', 'google-cloud-filestore', 'google-cloud-ml', 'google-app-engine-deploy', 'google-kubernetes-engine', 'google-cloud-pubsub', 'google-cloud-identity', 'google-fusion-tables', 'firebase-admin', 'google-cloud-sdk', 'google-cloud-cdn', 'google-cloud-kms', 'google-prediction', 'google-cloud-storage-r', 'google-translate', 'firebase-app-indexing', 'google-cloud-data-transfer', 'google-container-os', 'google-cloud-endpoints-v2', 'firebase-console', 'google-cloud-build', 'google-cloud-cpp', 'firebase-app-distribution', 'google-cloud-dataprep', 'google-cloud-debugger', 'firebase-ab-testing', 'firebase-tools', 'firebase-cli', 'google-cloud-visualstudio', 'firebase-dynamic-links', 'firebase-util', 'react-native-firebase', 'google-data-studio', 'google-cloud-python', 'firebase-assistant', 'firebase-test-lab', 'firebase-admob', 'google-cloud-ai', 'google-cloud-data-fusion', 'google-dataflow', 'google-cloud-http-load-balancer', 'google-cloud-language', 'google-cloud-vpn', 'firebase-cloud-functions', 'google-cloud-pubsublite', 'firebase-polymer', 'google-app-engine-patch', 'firebase-performance', 'google-cloud-php-client', 'google-app-engine-python', 'google-cloud-source-repos', 'firebase-authentication', 'google-cloud-platform', 'google-cloud-networking', 'firebase-hosting', 'apigee', 'firebase-mlkit', 'google-cloud-registry', 'google-cloud-node', 'firebase-storage', 'google-cloud-marketplace', 'google-cloud-dns', 'google-cloud-identity-aware-proxy', 'google-cloud-repository', 'google-cloud-metrics', 'firebase-predictions', 'google-cloud-tools', 'google-anthos', 'google-cloud-vertex-ai', 'firebase-app-check', 'google-cloud-deploy', 'google-cloud-recommendation', 'google-cloud-asset-inventory', 'google-cloud-dlp', 'google-cloud-robotics', 'google-cloud-dataproc', 'google-cloud-ai-platform-pipelines', 'apigee-baas', 'google-cloud-spanner-emulator', 'google-cloud-iot', 'jib', 'google-analytics-firebase', 'google-cloud-interconnect', 'google-cloud-billing'], 'external_links': [{'type': 'website', 'link': 'https://cloud.google.com/developers'}, {'type': 'support', 'link': 'https://googlecloud-community.slack.com/'}, {'type': 'twitter', 'link': 'https://twitter.com/googlecloudtech'}, {'type': 'facebook', 'link': 'https://facebook.com/googlecloud'}, {'type': 'instagram', 'link': 'https://instagram.com/googlecloud'}], 'description': 'Google Cloud provides organizations with leading infrastructure, platform capabilities and industry solutions to help them solve their most critical business problems.', 'link': '/collectives/google-cloud', 'name': 'Google Cloud', 'slug': 'google-cloud'}, 'role': 'member'}], 'account_id': 17678704, 'is_employee': False, 'last_modified_date': 1637944500, 'last_access_date': 1638870334, 'reputation_change_year': 22289, 'reputation_change_quarter': 1881, 'reputation_change_month': 150, 'reputation_change_week': 70, 'reputation_change_day': 0, 'reputation': 46525, 'creation_date': 1580736264, 'user_type': 'registered', 'user_id': 12833166, 'location': 'India', 'website_url': 'https://www.linkedin.com/in/sharma07/', 'link': 'https://stackoverflow.com/users/12833166/shubham-sharma', 'profile_image': 'https://i.stack.imgur.com/p1a2a.jpg?s=256&g=1', 'display_name': 'Shubham Sharma'}, {'badge_counts': {'bronze': 64, 'silver': 29, 'gold': 7}, 'account_id': 9725613, 'is_employee': False, 'last_modified_date': 1638111300, 'last_access_date': 1638862134, 'reputation_change_year': 13845, 'reputation_change_quarter': 2614, 'reputation_change_month': 241, 'reputation_change_week': 13, 'reputation_change_day': 0, 'reputation': 42267, 'creation_date': 1480153094, 'user_type': 'registered', 'user_id': 7212686, 'accept_rate': 100, 'website_url': '', 'link': 'https://stackoverflow.com/users/7212686/azro', 'profile_image': 'https://i.stack.imgur.com/Ey8ll.png?s=256&g=1', 'display_name': 'azro'}, {'badge_counts': {'bronze': 33, 'silver': 24, 'gold': 3}, 'account_id': 4694586, 'is_employee': False, 'last_modified_date': 1638860100, 'last_access_date': 1638860444, 'reputation_change_year': 10661, 'reputation_change_quarter': 2616, 'reputation_change_month': 328, 'reputation_change_week': 87, 'reputation_change_day': 9, 'reputation': 39343, 'creation_date': 1404349801, 'user_type': 'registered', 'user_id': 3799759, 'location': 'San Francisco, CA', 'website_url': '', 'link': 'https://stackoverflow.com/users/3799759/samwise', 'profile_image': 'https://www.gravatar.com/avatar/5820aa24337a2f622b78e92c39e3e3d6?s=256&d=identicon&r=PG', 'display_name': 'Samwise'}, {'badge_counts': {'bronze': 97, 'silver': 83, 'gold': 22}, 'account_id': 10528629, 'is_employee': False, 'last_modified_date': 1638759600, 'last_access_date': 1638866401, 'reputation_change_year': 16124, 'reputation_change_quarter': 4241, 'reputation_change_month': 341, 'reputation_change_week': 133, 'reputation_change_day': 65, 'reputation': 38824, 'creation_date': 1490296242, 'user_type': 'registered', 'user_id': 7758804, 'location': 'Portland, OR, United States', 'website_url': 'https://trenton3983.github.io/', 'link': 'https://stackoverflow.com/users/7758804/trenton-mckinney', 'profile_image': 'https://i.stack.imgur.com/UBA7j.jpg?s=256&g=1', 'display_name': 'Trenton McKinney'}, {'badge_counts': {'bronze': 93, 'silver': 59, 'gold': 9}, 'account_id': 3595277, 'is_employee': False, 'last_modified_date': 1637911200, 'last_access_date': 1638840925, 'reputation_change_year': 4239, 'reputation_change_quarter': 703, 'reputation_change_month': 100, 'reputation_change_week': 30, 'reputation_change_day': 10, 'reputation': 38196, 'creation_date': 1384632336, 'user_type': 'registered', 'user_id': 3000206, 'accept_rate': 98, 'website_url': '', 'link': 'https://stackoverflow.com/users/3000206/carcigenicate', 'profile_image': 'https://i.stack.imgur.com/BK1fo.jpg?s=256&g=1', 'display_name': 'Carcigenicate'}, {'badge_counts': {'bronze': 28, 'silver': 11, 'gold': 4}, 'account_id': 20724483, 'is_employee': False, 'last_modified_date': 1638828000, 'last_access_date': 1638874576, 'reputation_change_year': 37660, 'reputation_change_quarter': 14592, 'reputation_change_month': 1830, 'reputation_change_week': 760, 'reputation_change_day': 150, 'reputation': 37761, 'creation_date': 1613706797, 'user_type': 'registered', 'user_id': 15239951, 'location': 'Sophia Antipolis, France', 'link': 'https://stackoverflow.com/users/15239951/corralien', 'profile_image': 'https://www.gravatar.com/avatar/976f07be84907aad663ce8c1c51cf5c4?s=256&d=identicon&r=PG', 'display_name': 'Corralien'}, {'badge_counts': {'bronze': 222, 'silver': 120, 'gold': 24}, 'account_id': 4196502, 'is_employee': False, 'last_modified_date': 1638456300, 'last_access_date': 1638872441, 'reputation_change_year': 14332, 'reputation_change_quarter': 2709, 'reputation_change_month': 164, 'reputation_change_week': 20, 'reputation_change_day': 20, 'reputation': 37056, 'creation_date': 1395235213, 'user_type': 'registered', 'user_id': 3437787, 'accept_rate': 100, 'website_url': '', 'link': 'https://stackoverflow.com/users/3437787/vestland', 'profile_image': 'https://i.stack.imgur.com/W8tmU.jpg?s=256&g=1', 'display_name': 'vestland'}, {'badge_counts': {'bronze': 42, 'silver': 26, 'gold': 13}, 'account_id': 15261381, 'is_employee': False, 'last_modified_date': 1638607500, 'last_access_date': 1638805118, 'reputation_change_year': 27415, 'reputation_change_quarter': 567, 'reputation_change_month': 38, 'reputation_change_week': 0, 'reputation_change_day': 0, 'reputation': 35717, 'creation_date': 1598380609, 'user_type': 'registered', 'user_id': 14165730, 'location': 'Oxford, UK', 'website_url': '', 'link': 'https://stackoverflow.com/users/14165730/mck', 'profile_image': 'https://www.gravatar.com/avatar/e7dedcc28388b9cec023d614841ce845?s=256&d=identicon&r=PG&f=1', 'display_name': 'mck'}, {'badge_counts': {'bronze': 92, 'silver': 76, 'gold': 5}, 'account_id': 1642419, 'is_employee': False, 'last_modified_date': 1638833100, 'last_access_date': 1638873980, 'reputation_change_year': 10569, 'reputation_change_quarter': 3096, 'reputation_change_month': 143, 'reputation_change_week': 69, 'reputation_change_day': 10, 'reputation': 33281, 'creation_date': 1341919919, 'user_type': 'registered', 'user_id': 5349916, 'accept_rate': 25, 'location': 'Karlsruhe, Germany', 'website_url': '', 'link': 'https://stackoverflow.com/users/5349916/mistermiyagi', 'profile_image': 'https://i.stack.imgur.com/QovYv.jpg?s=256&g=1', 'display_name': 'MisterMiyagi'}, {'badge_counts': {'bronze': 37, 'silver': 13, 'gold': 6}, 'account_id': 22084389, 'is_employee': False, 'last_modified_date': 1638823200, 'last_access_date': 1638868416, 'reputation_change_year': 32576, 'reputation_change_quarter': 15436, 'reputation_change_month': 1421, 'reputation_change_week': 549, 'reputation_change_day': 40, 'reputation': 32677, 'creation_date': 1624978628, 'user_type': 'registered', 'user_id': 16343464, 'location': 'Mare Tranquillitatis', 'website_url': '', 'link': 'https://stackoverflow.com/users/16343464/mozway', 'profile_image': 'https://www.gravatar.com/avatar/0555bd0deb416a320a0069abef08078a?s=256&d=identicon&r=PG&f=1', 'display_name': 'mozway'}, {'badge_counts': {'bronze': 102, 'silver': 61, 'gold': 10}, 'account_id': 6931568, 'is_employee': False, 'last_modified_date': 1638725400, 'last_access_date': 1638869297, 'reputation_change_year': 7309, 'reputation_change_quarter': 1420, 'reputation_change_month': 236, 'reputation_change_week': 102, 'reputation_change_day': -5, 'reputation': 32611, 'creation_date': 1441882766, 'user_type': 'registered', 'user_id': 5320906, 'location': 'UK', 'website_url': '', 'link': 'https://stackoverflow.com/users/5320906/snakecharmerb', 'profile_image': 'https://i.stack.imgur.com/NOdNo.jpg?s=256&g=1', 'display_name': 'snakecharmerb'}, {'badge_counts': {'bronze': 67, 'silver': 51, 'gold': 12}, 'account_id': 3353, 'is_employee': False, 'last_modified_date': 1637680201, 'last_access_date': 1638866892, 'reputation_change_year': 7006, 'reputation_change_quarter': 510, 'reputation_change_month': 0, 'reputation_change_week': 0, 'reputation_change_day': 0, 'reputation': 31531, 'creation_date': 1220646476, 'user_type': 'registered', 'user_id': 4834, 'accept_rate': 85, 'location': 'Nottingham, United Kingdom', 'website_url': 'http://quamrana.co.uk', 'link': 'https://stackoverflow.com/users/4834/quamrana', 'profile_image': 'https://www.gravatar.com/avatar/6a04e124482c3750617f8dacde3388ce?s=256&d=identicon&r=PG', 'display_name': 'quamrana'}, {'badge_counts': {'bronze': 46, 'silver': 29, 'gold': 4}, 'account_id': 6805784, 'is_employee': False, 'last_modified_date': 1638720300, 'last_access_date': 1638861713, 'reputation_change_year': 11519, 'reputation_change_quarter': 3811, 'reputation_change_month': 413, 'reputation_change_week': 173, 'reputation_change_day': 25, 'reputation': 30382, 'creation_date': 1439870107, 'user_type': 'registered', 'user_id': 5237560, 'location': 'Montreal, Canada', 'website_url': 'https://nebularena.wordpress.com', 'link': 'https://stackoverflow.com/users/5237560/alain-t', 'profile_image': 'https://i.stack.imgur.com/CO92P.png?s=256&g=1', 'display_name': 'Alain T.'}, {'badge_counts': {'bronze': 45, 'silver': 23, 'gold': 11}, 'account_id': 21084402, 'is_employee': False, 'last_modified_date': 1638852600, 'last_access_date': 1638859098, 'reputation_change_year': 29552, 'reputation_change_quarter': 3711, 'reputation_change_month': 54, 'reputation_change_week': -1, 'reputation_change_day': -3, 'reputation': 29653, 'creation_date': 1616909601, 'user_type': 'registered', 'user_id': 15497888, 'website_url': '', 'link': 'https://stackoverflow.com/users/15497888/henry-ecker', 'profile_image': 'https://i.stack.imgur.com/jV9mY.png?s=256&g=1', 'display_name': 'Henry Ecker'}, {'badge_counts': {'bronze': 118, 'silver': 71, 'gold': 4}, 'account_id': 7607199, 'is_employee': False, 'last_modified_date': 1638791100, 'last_access_date': 1638873037, 'reputation_change_year': 3425, 'reputation_change_quarter': 581, 'reputation_change_month': 30, 'reputation_change_week': 10, 'reputation_change_day': 0, 'reputation': 28948, 'creation_date': 1452423665, 'user_type': 'registered', 'user_id': 5769463, 'accept_rate': 93, 'location': 'Ingelheim,  Germany', 'website_url': '', 'link': 'https://stackoverflow.com/users/5769463/ead', 'profile_image': 'https://www.gravatar.com/avatar/71a28b5fac23ee656a32cc7ea6df54ec?s=256&d=identicon&r=PG&f=1', 'display_name': 'ead'}, {'badge_counts': {'bronze': 65, 'silver': 47, 'gold': 5}, 'account_id': 5919781, 'is_employee': False, 'last_modified_date': 1638446401, 'last_access_date': 1638874111, 'reputation_change_year': 3257, 'reputation_change_quarter': 723, 'reputation_change_month': 20, 'reputation_change_week': 0, 'reputation_change_day': 0, 'reputation': 25459, 'creation_date': 1426062116, 'user_type': 'registered', 'user_id': 4657412, 'website_url': '', 'link': 'https://stackoverflow.com/users/4657412/davidw', 'profile_image': 'https://www.gravatar.com/avatar/4915a27d01efa79d81d322511ee517a9?s=256&d=identicon&r=PG&f=1', 'display_name': 'DavidW'}, {'badge_counts': {'bronze': 44, 'silver': 23, 'gold': 3}, 'account_id': 2275183, 'is_employee': False, 'last_modified_date': 1638375001, 'last_access_date': 1638854781, 'reputation_change_year': 10608, 'reputation_change_quarter': 1530, 'reputation_change_month': 172, 'reputation_change_week': 43, 'reputation_change_day': 0, 'reputation': 25391, 'creation_date': 1358885398, 'user_type': 'registered', 'user_id': 2001654, 'accept_rate': 57, 'location': 'Como, CO, Italia', 'website_url': 'http://jidesk.net/', 'link': 'https://stackoverflow.com/users/2001654/musicamante', 'profile_image': 'https://i.stack.imgur.com/yERLj.jpg?s=256&g=1', 'display_name': 'musicamante'}, {'badge_counts': {'bronze': 29, 'silver': 17, 'gold': 4}, 'account_id': 6926450, 'is_employee': False, 'last_modified_date': 1638219901, 'last_access_date': 1638859259, 'reputation_change_year': 11026, 'reputation_change_quarter': 2540, 'reputation_change_month': 210, 'reputation_change_week': 20, 'reputation_change_day': -15, 'reputation': 25034, 'creation_date': 1441806451, 'user_type': 'registered', 'user_id': 5317403, 'location': 'Hong Kong', 'website_url': '', 'link': 'https://stackoverflow.com/users/5317403/acw1668', 'profile_image': 'https://i.stack.imgur.com/8TwWN.png?s=256&g=1', 'display_name': 'acw1668'}, {'badge_counts': {'bronze': 44, 'silver': 28, 'gold': 2}, 'account_id': 3362143, 'is_employee': False, 'last_modified_date': 1638040200, 'last_access_date': 1638846159, 'reputation_change_year': 10877, 'reputation_change_quarter': 1696, 'reputation_change_month': 100, 'reputation_change_week': 25, 'reputation_change_day': 0, 'reputation': 24274, 'creation_date': 1380290005, 'user_type': 'registered', 'user_id': 2823719, 'accept_rate': 11, 'website_url': '', 'link': 'https://stackoverflow.com/users/2823719/booboo', 'profile_image': 'https://i.stack.imgur.com/TWgf9.jpg?s=256&g=1', 'display_name': 'Booboo'}, {'badge_counts': {'bronze': 35, 'silver': 12, 'gold': 6}, 'account_id': 9207703, 'is_employee': False, 'last_modified_date': 1637973000, 'last_access_date': 1638874532, 'reputation_change_year': 17366, 'reputation_change_quarter': 3302, 'reputation_change_month': 60, 'reputation_change_week': 25, 'reputation_change_day': 0, 'reputation': 23069, 'creation_date': 1520227575, 'user_type': 'registered', 'user_id': 9444073, 'location': 'Bangalore, Karnataka, India', 'website_url': '', 'link': 'https://stackoverflow.com/users/9444073/cruisepandey', 'profile_image': 'https://lh4.googleusercontent.com/-6DF-CRJ3fuo/AAAAAAAAAAI/AAAAAAAAAFg/VFTKgaZOGyw/photo.jpg?sz=256', 'display_name': 'cruisepandey'}, {'badge_counts': {'bronze': 34, 'silver': 18, 'gold': 8}, 'account_id': 19529848, 'is_employee': False, 'last_modified_date': 1632510600, 'last_access_date': 1630226541, 'reputation_change_year': 22589, 'reputation_change_quarter': 125, 'reputation_change_month': -15, 'reputation_change_week': -15, 'reputation_change_day': -15, 'reputation': 22590, 'creation_date': 1600283930, 'user_type': 'registered', 'user_id': 14289892, 'location': 'India', 'website_url': 'https://www.linkedin.com/in/anurag-dabas-439178206/', 'link': 'https://stackoverflow.com/users/14289892/anurag-dabas', 'profile_image': 'https://i.stack.imgur.com/mCGpk.jpg?s=256&g=1', 'display_name': 'Anurag Dabas'}, {'badge_counts': {'bronze': 43, 'silver': 26, 'gold': 4}, 'account_id': 3131031, 'is_employee': False, 'last_modified_date': 1638820803, 'last_access_date': 1638851976, 'reputation_change_year': 4603, 'reputation_change_quarter': 764, 'reputation_change_month': 40, 'reputation_change_week': 0, 'reputation_change_day': 0, 'reputation': 21106, 'creation_date': 1375541141, 'user_type': 'registered', 'user_id': 2648811, 'accept_rate': 33, 'location': 'Morrisville, NC, USA', 'website_url': 'http://artmonitors.com', 'link': 'https://stackoverflow.com/users/2648811/green-cloak-guy', 'profile_image': 'https://www.gravatar.com/avatar/ee5af60b10a2d5fd8c864437a2062f0a?s=256&d=identicon&r=PG', 'display_name': 'Green Cloak Guy'}, {'badge_counts': {'bronze': 71, 'silver': 39, 'gold': 5}, 'account_id': 6605061, 'is_employee': False, 'last_modified_date': 1638267600, 'last_access_date': 1638874076, 'reputation_change_year': 12203, 'reputation_change_quarter': 2808, 'reputation_change_month': 60, 'reputation_change_week': 10, 'reputation_change_day': 0, 'reputation': 20709, 'creation_date': 1463154994, 'user_type': 'registered', 'user_id': 6331369, 'accept_rate': 73, 'website_url': '', 'link': 'https://stackoverflow.com/users/6331369/ivan', 'profile_image': 'https://i.stack.imgur.com/eiYzG.png?s=256&g=1', 'display_name': 'Ivan'}, {'badge_counts': {'bronze': 22, 'silver': 9, 'gold': 3}, 'account_id': 20534194, 'is_employee': False, 'last_modified_date': 1636754700, 'last_access_date': 1638873993, 'reputation_change_year': 20503, 'reputation_change_quarter': 3044, 'reputation_change_month': 30, 'reputation_change_week': 10, 'reputation_change_day': 0, 'reputation': 20604, 'creation_date': 1611492071, 'user_type': 'registered', 'user_id': 15070697, 'website_url': '', 'link': 'https://stackoverflow.com/users/15070697/seabean', 'profile_image': 'https://www.gravatar.com/avatar/954fb328192b6541652eb8895bc9db19?s=256&d=identicon&r=PG&f=1', 'display_name': 'SeaBean'}, {'badge_counts': {'bronze': 40, 'silver': 27, 'gold': 7}, 'account_id': 12749600, 'is_employee': False, 'last_modified_date': 1638862200, 'last_access_date': 1638869347, 'reputation_change_year': 19999, 'reputation_change_quarter': 3311, 'reputation_change_month': 670, 'reputation_change_week': 290, 'reputation_change_day': 135, 'reputation': 20100, 'creation_date': 1585353773, 'user_type': 'registered', 'user_id': 13138364, 'website_url': '', 'link': 'https://stackoverflow.com/users/13138364/tdy', 'profile_image': 'https://www.gravatar.com/avatar/3c1f6548f27534e2b5cb0bda4fb65a51?s=256&d=identicon&r=PG&f=1', 'display_name': 'tdy'}, {'badge_counts': {'bronze': 25, 'silver': 13, 'gold': 4}, 'account_id': 9670672, 'is_employee': False, 'last_modified_date': 1638379501, 'last_access_date': 1638873906, 'reputation_change_year': 8434, 'reputation_change_quarter': 2360, 'reputation_change_month': 350, 'reputation_change_week': 20, 'reputation_change_day': 20, 'reputation': 19980, 'creation_date': 1479428575, 'user_type': 'registered', 'user_id': 7175713, 'location': 'Sydney NSW, Australia', 'website_url': 'https://samukweku.github.io/data-wrangling-blog/', 'link': 'https://stackoverflow.com/users/7175713/sammywemmy', 'profile_image': 'https://i.stack.imgur.com/JJ3Jk.jpg?s=256&g=1', 'display_name': 'sammywemmy'}, {'badge_counts': {'bronze': 55, 'silver': 28, 'gold': 5}, 'account_id': 12968437, 'is_employee': False, 'last_modified_date': 1638333900, 'last_access_date': 1638874162, 'reputation_change_year': 4343, 'reputation_change_quarter': 249, 'reputation_change_month': 26, 'reputation_change_week': 25, 'reputation_change_day': 0, 'reputation': 19763, 'creation_date': 1518907408, 'user_type': 'registered', 'user_id': 9375102, 'accept_rate': 100, 'location': 'Birmingham, UK', 'website_url': '', 'link': 'https://stackoverflow.com/users/9375102/umar-h', 'profile_image': 'https://i.stack.imgur.com/8yBw3.jpg?s=256&g=1', 'display_name': 'Umar.H'}, {'badge_counts': {'bronze': 42, 'silver': 28, 'gold': 5}, 'account_id': 181187, 'is_employee': False, 'last_modified_date': 1638735900, 'last_access_date': 1638870756, 'reputation_change_year': 8508, 'reputation_change_quarter': 2417, 'reputation_change_month': 182, 'reputation_change_week': 80, 'reputation_change_day': 0, 'reputation': 19696, 'creation_date': 1281353610, 'user_type': 'registered', 'user_id': 415016, 'accept_rate': 29, 'link': 'https://stackoverflow.com/users/415016/balderman', 'profile_image': 'https://www.gravatar.com/avatar/48e653222e0c86dbb4947ea2ea926ff9?s=256&d=identicon&r=PG', 'display_name': 'balderman'}, {'badge_counts': {'bronze': 58, 'silver': 37, 'gold': 6}, 'account_id': 4719941, 'is_employee': False, 'last_modified_date': 1638826500, 'last_access_date': 1638853854, 'reputation_change_year': 5801, 'reputation_change_quarter': 1136, 'reputation_change_month': 69, 'reputation_change_week': 19, 'reputation_change_day': 19, 'reputation': 19616, 'creation_date': 1422840361, 'user_type': 'registered', 'user_id': 4518341, 'location': 'Montreal, QC, Canada', 'website_url': '', 'link': 'https://stackoverflow.com/users/4518341/wjandrea', 'profile_image': 'https://i.stack.imgur.com/eVuAv.png?s=256&g=1', 'display_name': 'wjandrea'}, {'badge_counts': {'bronze': 49, 'silver': 22, 'gold': 4}, 'account_id': 4142240, 'is_employee': False, 'last_modified_date': 1637115600, 'last_access_date': 1638874585, 'reputation_change_year': 6141, 'reputation_change_quarter': 760, 'reputation_change_month': 45, 'reputation_change_week': 25, 'reputation_change_day': 0, 'reputation': 17009, 'creation_date': 1394316857, 'user_type': 'registered', 'user_id': 4926757, 'accept_rate': 0, 'website_url': '', 'link': 'https://stackoverflow.com/users/4926757/rotem', 'profile_image': 'https://lh3.googleusercontent.com/-jsLBa8e0dT0/AAAAAAAAAAI/AAAAAAAAAEc/YqNqYlsSjrU/photo.jpg?sz=256', 'display_name': 'Rotem'}, {'badge_counts': {'bronze': 28, 'silver': 12, 'gold': 2}, 'account_id': 20433410, 'is_employee': False, 'last_modified_date': 1638395400, 'last_access_date': 1638866573, 'reputation_change_year': 16505, 'reputation_change_quarter': 721, 'reputation_change_month': 20, 'reputation_change_week': 10, 'reputation_change_day': 10, 'reputation': 16606, 'creation_date': 1610464510, 'user_type': 'registered', 'user_id': 14991864, 'website_url': '', 'link': 'https://stackoverflow.com/users/14991864/abdul-aziz-barkat', 'profile_image': 'https://lh6.googleusercontent.com/-wCD8MN4ziow/AAAAAAAAAAI/AAAAAAAAAAA/AMZuucnBARMCVKp5FIw1FBNC3tY_U7eBBA/s96-c/photo.jpg?sz=256', 'display_name': 'Abdul Aziz Barkat'}, {'badge_counts': {'bronze': 15, 'silver': 8, 'gold': 2}, 'account_id': 14938620, 'is_employee': False, 'last_modified_date': 1638361800, 'last_access_date': 1638874271, 'reputation_change_year': 10091, 'reputation_change_quarter': 2662, 'reputation_change_month': 235, 'reputation_change_week': 90, 'reputation_change_day': 80, 'reputation': 16554, 'creation_date': 1544703423, 'user_type': 'registered', 'user_id': 10785975, 'location': 'Warszawa, Polska', 'link': 'https://stackoverflow.com/users/10785975/daweo', 'profile_image': 'https://www.gravatar.com/avatar/c668b4905932bb9e8abe4d881e689a36?s=256&d=identicon&r=PG&f=1', 'display_name': 'Daweo'}, {'badge_counts': {'bronze': 20, 'silver': 8, 'gold': 2}, 'account_id': 12846190, 'is_employee': False, 'last_modified_date': 1637178900, 'last_access_date': 1638873782, 'reputation_change_year': 13301, 'reputation_change_quarter': 3081, 'reputation_change_month': 173, 'reputation_change_week': 25, 'reputation_change_day': 0, 'reputation': 16543, 'creation_date': 1520164012, 'user_type': 'registered', 'user_id': 9441404, 'website_url': '', 'link': 'https://stackoverflow.com/users/9441404/rob-raymond', 'profile_image': 'https://graph.facebook.com/10212649426843269/picture?type=large', 'display_name': 'Rob Raymond'}, {'badge_counts': {'bronze': 23, 'silver': 6, 'gold': 2}, 'account_id': 18033934, 'is_employee': False, 'last_modified_date': 1637171400, 'last_access_date': 1638870635, 'reputation_change_year': 8418, 'reputation_change_quarter': 1293, 'reputation_change_month': 140, 'reputation_change_week': 45, 'reputation_change_day': 0, 'reputation': 15575, 'creation_date': 1584942553, 'user_type': 'registered', 'user_id': 13107804, 'link': 'https://stackoverflow.com/users/13107804/r-beginners', 'profile_image': 'https://www.gravatar.com/avatar/5a25757931e5c505af2dfa83c097b75a?s=256&d=identicon&r=PG&f=1', 'display_name': 'r-beginners'}, {'badge_counts': {'bronze': 63, 'silver': 43, 'gold': 13}, 'account_id': 4261091, 'is_employee': False, 'last_modified_date': 1638618600, 'last_access_date': 1638865884, 'reputation_change_year': 13352, 'reputation_change_quarter': 1379, 'reputation_change_month': 30, 'reputation_change_week': 30, 'reputation_change_day': 10, 'reputation': 15163, 'creation_date': 1396360873, 'user_type': 'registered', 'user_id': 3485434, 'accept_rate': 97, 'website_url': '', 'link': 'https://stackoverflow.com/users/3485434/prophet', 'profile_image': 'https://i.stack.imgur.com/7ZhrH.jpg?s=256&g=1', 'display_name': 'Prophet'}, {'badge_counts': {'bronze': 39, 'silver': 15, 'gold': 2}, 'account_id': 6094781, 'is_employee': False, 'last_modified_date': 1638511200, 'last_access_date': 1638868899, 'reputation_change_year': 9389, 'reputation_change_quarter': 1537, 'reputation_change_month': 55, 'reputation_change_week': 0, 'reputation_change_day': 0, 'reputation': 14956, 'creation_date': 1428349170, 'user_type': 'registered', 'user_id': 4755954, 'location': 'Gurgaon, Haryana, India', 'website_url': 'http://www.akshaysehgal.com', 'link': 'https://stackoverflow.com/users/4755954/akshay-sehgal', 'profile_image': 'https://i.stack.imgur.com/yghFl.jpg?s=256&g=1', 'display_name': 'Akshay Sehgal'}, {'badge_counts': {'bronze': 46, 'silver': 27, 'gold': 1}, 'account_id': 18892767, 'is_employee': False, 'last_modified_date': 1635939000, 'last_access_date': 1638873823, 'reputation_change_year': 8828, 'reputation_change_quarter': 2146, 'reputation_change_month': 135, 'reputation_change_week': 40, 'reputation_change_day': 10, 'reputation': 14692, 'creation_date': 1592676673, 'user_type': 'registered', 'user_id': 13782669, 'location': 'Russia', 'website_url': '', 'link': 'https://stackoverflow.com/users/13782669/alex-noname', 'profile_image': 'https://i.stack.imgur.com/TnuKr.jpg?s=256&g=1', 'display_name': 'alex_noname'}, {'badge_counts': {'bronze': 44, 'silver': 20, 'gold': 3}, 'collectives': [{'collective': {'tags': ['go-graceful', 'go-bundle', 'go-build', 'go-nsq', 'go-agent', 'golang-migrate', 'go-xorm', 'go', 'go-context', 'glide-golang', 'go-pg', 'google-app-engine-golang', 'cgo', 'go-micro', 'go-sqlmock', 'go-get', 'go-flag', 'gccgo', 'go-modules', 'go-cmp', 'go-generate', 'go-reflect', 'go-fiber', 'go-playground', 'go-font', 'go-imagick', 'go-cobra', 'go-interface', 'go-toolchain', 'go-couchbase', 'go-ethereum', 'go-cdk', 'go-jennifer', 'go-sqlite3', 'go-alice', 'go-present', 'go-gin', 'go-templates', 'go-colly', 'go-packages', 'go-echo', 'go-guardian', 'go-restful', 'go-guru', 'go-github', 'go-iris', 'go-chart', 'go-redis', 'mgo', 'go-git', 'go-gl', 'go-html-template', 'go-testing', 'go-gorm', 'go-map', 'go-chi', 'go-server', 'go-http', 'go-2', 'go-structtag', 'go-gtk', 'goroutine', 'go-scheduler', 'go-libp2p', 'go-swagger'], 'external_links': [{'type': 'website', 'link': 'https://go.dev/'}, {'type': 'support', 'link': 'mailto:stackoverflow@golang.org'}, {'type': 'twitter', 'link': 'https://twitter.com/golang'}, {'type': 'github', 'link': 'https://github.com/golang'}], 'description': 'The official Q&amp;A channel for Google&#39;s Go Programming Language.', 'link': '/collectives/go', 'name': 'Go Language', 'slug': 'go'}, 'role': 'member'}], 'account_id': 7099669, 'is_employee': False, 'last_modified_date': 1638514801, 'last_access_date': 1638870882, 'reputation_change_year': 6989, 'reputation_change_quarter': 501, 'reputation_change_month': 13, 'reputation_change_week': 2, 'reputation_change_day': 0, 'reputation': 14534, 'creation_date': 1444505128, 'user_type': 'registered', 'user_id': 5431791, 'website_url': '', 'link': 'https://stackoverflow.com/users/5431791/sayandip-dutta', 'profile_image': 'https://www.gravatar.com/avatar/cee864f829f7c8446b44df16c279706a?s=256&d=identicon&r=PG&f=1', 'display_name': 'Sayandip Dutta'}, {'badge_counts': {'bronze': 20, 'silver': 5, 'gold': 2}, 'account_id': 21008990, 'is_employee': False, 'last_modified_date': 1637115600, 'last_access_date': 1638778303, 'reputation_change_year': 13879, 'reputation_change_quarter': 61, 'reputation_change_month': 10, 'reputation_change_week': 0, 'reputation_change_day': 0, 'reputation': 13880, 'creation_date': 1616224666, 'user_type': 'registered', 'user_id': 15438033, 'location': 'Hyderabad, Telangana, India', 'website_url': '', 'link': 'https://stackoverflow.com/users/15438033/nk03', 'profile_image': 'https://lh5.googleusercontent.com/-g-MHtD-r-HA/AAAAAAAAAAI/AAAAAAAAAAA/AMZuucl0F9JbTp_s5TnQbSvyrydlRgWblQ/s96-c/photo.jpg?sz=256', 'display_name': 'Nk03'}, {'badge_counts': {'bronze': 27, 'silver': 11, 'gold': 1}, 'account_id': 13663119, 'is_employee': False, 'last_modified_date': 1638617400, 'last_access_date': 1638820062, 'reputation_change_year': 13314, 'reputation_change_quarter': 4904, 'reputation_change_month': 365, 'reputation_change_week': 50, 'reputation_change_day': 0, 'reputation': 13472, 'creation_date': 1527495571, 'user_type': 'registered', 'user_id': 9857631, 'location': 'New York Metropolitan Area, USA', 'website_url': '', 'link': 'https://stackoverflow.com/users/9857631/not-speshal', 'profile_image': 'https://www.gravatar.com/avatar/c0befb2a32e9e8e9593994cfff5dbcfc?s=256&d=identicon&r=PG&f=1', 'display_name': 'not_speshal'}, {'badge_counts': {'bronze': 33, 'silver': 13, 'gold': 3}, 'account_id': 17815984, 'is_employee': False, 'last_modified_date': 1637877301, 'last_access_date': 1638873136, 'reputation_change_year': 10136, 'reputation_change_quarter': 1726, 'reputation_change_month': 165, 'reputation_change_week': 45, 'reputation_change_day': 0, 'reputation': 13216, 'creation_date': 1582299086, 'user_type': 'registered', 'user_id': 12939557, 'location': 'Lyon, France', 'website_url': '', 'link': 'https://stackoverflow.com/users/12939557/j%c3%a9r%c3%b4me-richard', 'profile_image': 'https://www.gravatar.com/avatar/2bbe922f72d150896146509cf768491a?s=256&d=identicon&r=PG&f=1', 'display_name': 'J&#233;r&#244;me Richard'}, {'badge_counts': {'bronze': 41, 'silver': 13, 'gold': 4}, 'account_id': 12557088, 'is_employee': False, 'last_modified_date': 1638621000, 'last_access_date': 1638812153, 'reputation_change_year': 12835, 'reputation_change_quarter': 1008, 'reputation_change_month': 185, 'reputation_change_week': 35, 'reputation_change_day': 10, 'reputation': 12936, 'creation_date': 1514120167, 'user_type': 'registered', 'user_id': 9136348, 'location': 'Nepal', 'website_url': 'http://bkhyat.com.np', 'link': 'https://stackoverflow.com/users/9136348/thepyguy', 'profile_image': 'https://i.stack.imgur.com/XE2U6.png?s=256&g=1', 'display_name': 'ThePyGuy'}, {'badge_counts': {'bronze': 32, 'silver': 15, 'gold': 3}, 'account_id': 14562334, 'is_employee': False, 'last_modified_date': 1637251802, 'last_access_date': 1638874000, 'reputation_change_year': 9601, 'reputation_change_quarter': 385, 'reputation_change_month': 15, 'reputation_change_week': 0, 'reputation_change_day': 0, 'reputation': 12458, 'creation_date': 1585249132, 'user_type': 'registered', 'user_id': 13131047, 'location': 'Wrocław, Poland', 'website_url': '', 'link': 'https://stackoverflow.com/users/13131047/%c5%81ukasz-kwieci%c5%84ski', 'profile_image': 'https://lh4.googleusercontent.com/-IaAtZYC9o5o/AAAAAAAAAAI/AAAAAAAAAYM/r6SDDsfCoOc/photo.jpg?sz=256', 'display_name': 'Łukasz Kwieciński'}, {'badge_counts': {'bronze': 34, 'silver': 11, 'gold': 3}, 'account_id': 18372121, 'is_employee': False, 'last_modified_date': 1636540500, 'last_access_date': 1638861158, 'reputation_change_year': 5283, 'reputation_change_quarter': 349, 'reputation_change_month': 20, 'reputation_change_week': 20, 'reputation_change_day': 0, 'reputation': 12178, 'creation_date': 1587564753, 'user_type': 'registered', 'user_id': 13382000, 'location': 'India', 'website_url': 'http://nihaalnz.herokuapp.com', 'link': 'https://stackoverflow.com/users/13382000/cool-cloud', 'profile_image': 'https://lh3.googleusercontent.com/a-/AOh14GgqqROiHDkxjUJznsct3wNWOds3JA71BzfPcaN8Wg=k-s256', 'display_name': 'Cool Cloud'}, {'badge_counts': {'bronze': 65, 'silver': 31, 'gold': 6}, 'account_id': 7424649, 'is_employee': False, 'last_modified_date': 1632415500, 'last_access_date': 1638833432, 'reputation_change_year': 9402, 'reputation_change_quarter': 560, 'reputation_change_month': 20, 'reputation_change_week': 10, 'reputation_change_day': 0, 'reputation': 11412, 'creation_date': 1515936895, 'user_type': 'registered', 'user_id': 9215780, 'location': 'Dhaka, Bangladesh', 'website_url': 'https://www.kaggle.com/ipythonx', 'link': 'https://stackoverflow.com/users/9215780/m-innat', 'profile_image': 'https://lh6.googleusercontent.com/-lqxossnzkSU/AAAAAAAAAAI/AAAAAAAAAJg/pHrYwIfRc-k/photo.jpg?sz=256', 'display_name': 'M.Innat'}, {'badge_counts': {'bronze': 22, 'silver': 16, 'gold': 3}, 'account_id': 1931224, 'is_employee': False, 'last_modified_date': 1638620100, 'last_access_date': 1638864656, 'reputation_change_year': 10180, 'reputation_change_quarter': 3803, 'reputation_change_month': 0, 'reputation_change_week': 10, 'reputation_change_day': 0, 'reputation': 10281, 'creation_date': 1350031215, 'user_type': 'registered', 'user_id': 1740577, 'website_url': '', 'link': 'https://stackoverflow.com/users/1740577/user1740577', 'profile_image': 'https://www.gravatar.com/avatar/da8ea8c7c8a5a00a9656765302fcf773?s=256&d=identicon&r=PG', 'display_name': 'user1740577'}, {'badge_counts': {'bronze': 34, 'silver': 18, 'gold': 4}, 'account_id': 906817, 'is_employee': False, 'last_modified_date': 1638015300, 'last_access_date': 1638856026, 'reputation_change_year': 5734, 'reputation_change_quarter': 1421, 'reputation_change_month': 25, 'reputation_change_week': 15, 'reputation_change_day': 0, 'reputation': 10183, 'creation_date': 1315870108, 'user_type': 'registered', 'user_id': 941531, 'website_url': '', 'link': 'https://stackoverflow.com/users/941531/arty', 'profile_image': 'https://www.gravatar.com/avatar/a5b3dab7ce6e710dbca170ef59e6c715?s=256&d=identicon&r=PG', 'display_name': 'Arty'}, {'badge_counts': {'bronze': 33, 'silver': 15, 'gold': 3}, 'account_id': 17237619, 'is_employee': False, 'last_modified_date': 1638729300, 'last_access_date': 1638869059, 'reputation_change_year': 3671, 'reputation_change_quarter': 897, 'reputation_change_month': 60, 'reputation_change_week': 30, 'reputation_change_day': 10, 'reputation': 9956, 'creation_date': 1575473375, 'user_type': 'registered', 'user_id': 12480730, 'location': 'UTC+1', 'website_url': '', 'link': 'https://stackoverflow.com/users/12480730/mrbean-bremen', 'profile_image': 'https://www.gravatar.com/avatar/088de63bc26eb65841df1dfd762b1f27?s=256&d=identicon&r=PG', 'display_name': 'MrBean Bremen'}, {'badge_counts': {'bronze': 22, 'silver': 9, 'gold': 1}, 'collectives': [{'collective': {'tags': ['go-graceful', 'go-bundle', 'go-build', 'go-nsq', 'go-agent', 'golang-migrate', 'go-xorm', 'go', 'go-context', 'glide-golang', 'go-pg', 'google-app-engine-golang', 'cgo', 'go-micro', 'go-sqlmock', 'go-get', 'go-flag', 'gccgo', 'go-modules', 'go-cmp', 'go-generate', 'go-reflect', 'go-fiber', 'go-playground', 'go-font', 'go-imagick', 'go-cobra', 'go-interface', 'go-toolchain', 'go-couchbase', 'go-ethereum', 'go-cdk', 'go-jennifer', 'go-sqlite3', 'go-alice', 'go-present', 'go-gin', 'go-templates', 'go-colly', 'go-packages', 'go-echo', 'go-guardian', 'go-restful', 'go-guru', 'go-github', 'go-iris', 'go-chart', 'go-redis', 'mgo', 'go-git', 'go-gl', 'go-html-template', 'go-testing', 'go-gorm', 'go-map', 'go-chi', 'go-server', 'go-http', 'go-2', 'go-structtag', 'go-gtk', 'goroutine', 'go-scheduler', 'go-libp2p', 'go-swagger'], 'external_links': [{'type': 'website', 'link': 'https://go.dev/'}, {'type': 'support', 'link': 'mailto:stackoverflow@golang.org'}, {'type': 'twitter', 'link': 'https://twitter.com/golang'}, {'type': 'github', 'link': 'https://github.com/golang'}], 'description': 'The official Q&amp;A channel for Google&#39;s Go Programming Language.', 'link': '/collectives/go', 'name': 'Go Language', 'slug': 'go'}, 'role': 'member'}], 'account_id': 353312, 'is_employee': False, 'last_modified_date': 1636187400, 'last_access_date': 1638711215, 'reputation_change_year': 6523, 'reputation_change_quarter': 130, 'reputation_change_month': 10, 'reputation_change_week': 0, 'reputation_change_day': 0, 'reputation': 9474, 'creation_date': 1472979723, 'user_type': 'registered', 'user_id': 6792743, 'website_url': '', 'link': 'https://stackoverflow.com/users/6792743/perl', 'profile_image': 'https://www.gravatar.com/avatar/6dc0a5e4d9ff9645a9deca067ced1d60?s=256&d=identicon&r=PG&f=1', 'display_name': 'perl'}, {'badge_counts': {'bronze': 30, 'silver': 12, 'gold': 1}, 'account_id': 8926262, 'is_employee': False, 'last_modified_date': 1638800700, 'last_access_date': 1638855465, 'reputation_change_year': 7898, 'reputation_change_quarter': 115, 'reputation_change_month': 78, 'reputation_change_week': 43, 'reputation_change_day': 0, 'reputation': 8180, 'creation_date': 1469986278, 'user_type': 'registered', 'user_id': 6660638, 'location': 'India', 'website_url': 'https://www.probhakarsarkar.com/', 'link': 'https://stackoverflow.com/users/6660638/epsi95', 'profile_image': 'https://i.stack.imgur.com/pd7Py.png?s=256&g=1', 'display_name': 'Epsi95'}, {'badge_counts': {'bronze': 23, 'silver': 12, 'gold': 1}, 'account_id': 15307636, 'is_employee': False, 'last_modified_date': 1638206702, 'last_access_date': 1638874367, 'reputation_change_year': 7676, 'reputation_change_quarter': 196, 'reputation_change_month': 0, 'reputation_change_week': 0, 'reputation_change_day': 0, 'reputation': 8000, 'creation_date': 1549868386, 'user_type': 'registered', 'user_id': 11043825, 'location': 'Philippines', 'website_url': '', 'link': 'https://stackoverflow.com/users/11043825/niel-godfrey-ponciano', 'profile_image': 'https://www.gravatar.com/avatar/3d3f307b4f376a94e13736a724ce8224?s=256&d=identicon&r=PG&f=1', 'display_name': 'Niel Godfrey Ponciano'}, {'badge_counts': {'bronze': 22, 'silver': 7, 'gold': 2}, 'account_id': 15772028, 'is_employee': False, 'last_modified_date': 1638831300, 'last_access_date': 1638868864, 'reputation_change_year': 6668, 'reputation_change_quarter': 1213, 'reputation_change_month': -18, 'reputation_change_week': -10, 'reputation_change_day': 0, 'reputation': 6739, 'creation_date': 1555615890, 'user_type': 'registered', 'user_id': 11380795, 'link': 'https://stackoverflow.com/users/11380795/rj-adriaansen', 'profile_image': 'https://lh5.googleusercontent.com/-b9TNUDV-Dx0/AAAAAAAAAAI/AAAAAAAAAAA/ACHi3rcKn5vSc80O8oLuWjrCS77xcVPq7w/mo/photo.jpg?sz=256', 'display_name': 'RJ Adriaansen'}, {'badge_counts': {'bronze': 25, 'silver': 8, 'gold': 2}, 'account_id': 15395540, 'is_employee': False, 'last_modified_date': 1638531900, 'last_access_date': 1638826964, 'reputation_change_year': 6264, 'reputation_change_quarter': -90, 'reputation_change_month': 10, 'reputation_change_week': 0, 'reputation_change_day': 0, 'reputation': 6417, 'creation_date': 1550945742, 'user_type': 'registered', 'user_id': 11106801, 'location': 'Earth', 'website_url': '', 'link': 'https://stackoverflow.com/users/11106801/thelizzard', 'profile_image': 'https://lh3.googleusercontent.com/-AGvQoMB709w/AAAAAAAAAAI/AAAAAAAAABg/9KQKucV_TVs/photo.jpg?sz=256', 'display_name': 'TheLizzard'}, {'badge_counts': {'bronze': 29, 'silver': 8, 'gold': 1}, 'account_id': 13383219, 'is_employee': False, 'last_modified_date': 1638617700, 'last_access_date': 1638873904, 'reputation_change_year': 5879, 'reputation_change_quarter': 5879, 'reputation_change_month': 571, 'reputation_change_week': 188, 'reputation_change_day': 49, 'reputation': 5980, 'creation_date': 1523958420, 'user_type': 'registered', 'user_id': 9657861, 'location': 'A temporary resident on earth', 'website_url': '', 'link': 'https://stackoverflow.com/users/9657861/alonetogether', 'profile_image': 'https://i.stack.imgur.com/N7MJr.jpg?s=256&g=1', 'display_name': 'AloneTogether'}, {'badge_counts': {'bronze': 30, 'silver': 9, 'gold': 3}, 'collectives': [{'collective': {'tags': ['google-cloud-logging', 'google-cloud-memorystore', 'google-cloud-monitoring', 'google-cloud-instances', 'google-cloud-run', 'dialogflow-es', 'google-cloud-tasks', 'google-cloud-search', 'google-cloud-ml-engine', 'firebase-topics', 'google-cloud-firestore', 'firebase-job-dispatcher', 'dialogflow-es-fulfillment', 'rest-firebase', 'firebase-remote-config', 'google-cloud-error-reporting', 'google-cloud-url-maps', 'google-cloud-api-gateway', 'google-cloud-healthcare', 'google-compute-engine', 'google-container-builder', 'firebase-extensions', 'google-cloud-webrisk', 'google-cloud-profiler', 'google-cloud-iam', 'google-cloud-shell-editor', 'google-cloud-load-balancer', 'google-cloud-console', 'google-cloud-scheduler', 'google-cloud-transcoder', 'google-cloud-speech', 'google-container-registry', 'gcloud', 'google-cloud-router', 'google-app-engine-golang', 'cordova-plugin-firebasex', 'redux-saga-firebase', 'react-redux-firebase', 'google-cloud-trace', 'dialogflow-cx', 'google-app-engine-go', 'google-cloud-tpu', 'firebase-analytics', 'google-cloud-automl-nl', 'google-container-optimized-os', 'google-cloud-proxy', 'google-cloud-endpoints', 'google-cloud-launcher', 'firebaseui', 'google-cloud-sql', 'firebase', 'stackdriver', 'firebase-realtime-database', 'google-app-engine', 'google-cloud-code', 'firebase-security', 'google-app-engine-launch', 'google-cloud-resource-manager', 'firebase-cloud-messaging', 'maven-jib', 'google-migrate-for-compute-engine', 'google-cloud-vision', 'google-cloud-datalab', 'google-cloud-automl', 'firebase-invites', 'google-cloud-print', 'google-cloud-composer', 'firebase-in-app-messaging', 'google-cloud-armor', 'google-cloud-intellij', 'google-cloud-translate', 'google-bigquery', 'firebase-crash-reporting', 'google-cloud-test-lab', 'google-cloud-ops-agent', 'google-cloud-internal-load-balancer', 'google-cloud-print-privet', 'google-cloud-datastore', 'google-cloud-powershell', 'google-cloud-save', 'google-cloud-shell', 'bigtable', 'google-cloud-messaging', 'google-cloud-network-load-balancer', 'firebasesimplelogin', 'google-cloud-dataflow', 'google-cloud-talent-solution', 'google-cloud-instance-template', 'google-cloud-dataproc-metastore', 'google-cloud-bigtable', 'google-cloud-stackdriver', 'firebase-machine-learning', 'firebase-queue', 'nativescript-firebase', 'google-app-engine-php', 'firebase-notifications', 'google-cloud-functions', 'firebase-database', 'google-cloud-nl', 'google-cloud-storage', 'google-cloud-spanner', 'google-cloud-filestore', 'google-cloud-ml', 'google-app-engine-deploy', 'google-kubernetes-engine', 'google-cloud-pubsub', 'google-cloud-identity', 'google-fusion-tables', 'firebase-admin', 'google-cloud-sdk', 'google-cloud-cdn', 'google-cloud-kms', 'google-prediction', 'google-cloud-storage-r', 'google-translate', 'firebase-app-indexing', 'google-cloud-data-transfer', 'google-container-os', 'google-cloud-endpoints-v2', 'firebase-console', 'google-cloud-build', 'google-cloud-cpp', 'firebase-app-distribution', 'google-cloud-dataprep', 'google-cloud-debugger', 'firebase-ab-testing', 'firebase-tools', 'firebase-cli', 'google-cloud-visualstudio', 'firebase-dynamic-links', 'firebase-util', 'react-native-firebase', 'google-data-studio', 'google-cloud-python', 'firebase-assistant', 'firebase-test-lab', 'firebase-admob', 'google-cloud-ai', 'google-cloud-data-fusion', 'google-dataflow', 'google-cloud-http-load-balancer', 'google-cloud-language', 'google-cloud-vpn', 'firebase-cloud-functions', 'google-cloud-pubsublite', 'firebase-polymer', 'google-app-engine-patch', 'firebase-performance', 'google-cloud-php-client', 'google-app-engine-python', 'google-cloud-source-repos', 'firebase-authentication', 'google-cloud-platform', 'google-cloud-networking', 'firebase-hosting', 'apigee', 'firebase-mlkit', 'google-cloud-registry', 'google-cloud-node', 'firebase-storage', 'google-cloud-marketplace', 'google-cloud-dns', 'google-cloud-identity-aware-proxy', 'google-cloud-repository', 'google-cloud-metrics', 'firebase-predictions', 'google-cloud-tools', 'google-anthos', 'google-cloud-vertex-ai', 'firebase-app-check', 'google-cloud-deploy', 'google-cloud-recommendation', 'google-cloud-asset-inventory', 'google-cloud-dlp', 'google-cloud-robotics', 'google-cloud-dataproc', 'google-cloud-ai-platform-pipelines', 'apigee-baas', 'google-cloud-spanner-emulator', 'google-cloud-iot', 'jib', 'google-analytics-firebase', 'google-cloud-interconnect', 'google-cloud-billing'], 'external_links': [{'type': 'website', 'link': 'https://cloud.google.com/developers'}, {'type': 'support', 'link': 'https://googlecloud-community.slack.com/'}, {'type': 'twitter', 'link': 'https://twitter.com/googlecloudtech'}, {'type': 'facebook', 'link': 'https://facebook.com/googlecloud'}, {'type': 'instagram', 'link': 'https://instagram.com/googlecloud'}], 'description': 'Google Cloud provides organizations with leading infrastructure, platform capabilities and industry solutions to help them solve their most critical business problems.', 'link': '/collectives/google-cloud', 'name': 'Google Cloud', 'slug': 'google-cloud'}, 'role': 'member'}], 'account_id': 22573228, 'is_employee': False, 'last_modified_date': 1638783900, 'last_access_date': 1638860774, 'reputation_change_year': 5817, 'reputation_change_quarter': 2871, 'reputation_change_month': 8, 'reputation_change_week': 24, 'reputation_change_day': -1, 'reputation': 5918, 'creation_date': 1629980135, 'user_type': 'registered', 'user_id': 16759116, 'website_url': '', 'link': 'https://stackoverflow.com/users/16759116/no-comment', 'profile_image': 'https://i.stack.imgur.com/n2u4t.png?s=256&g=1', 'display_name': 'no comment'}, {'badge_counts': {'bronze': 37, 'silver': 18, 'gold': 1}, 'account_id': 4683886, 'is_employee': False, 'last_modified_date': 1637700000, 'last_access_date': 1638861262, 'reputation_change_year': 3287, 'reputation_change_quarter': 100, 'reputation_change_month': 0, 'reputation_change_week': 0, 'reputation_change_day': 0, 'reputation': 4985, 'creation_date': 1404164012, 'user_type': 'registered', 'user_id': 3791842, 'location': 'Israel', 'website_url': '', 'link': 'https://stackoverflow.com/users/3791842/daniel-kleinstein', 'profile_image': 'https://i.stack.imgur.com/98W7v.jpg?s=256&g=1', 'display_name': 'Daniel Kleinstein'}, {'badge_counts': {'bronze': 35, 'silver': 9, 'gold': 3}, 'account_id': 19152380, 'is_employee': False, 'last_modified_date': 1635276901, 'last_access_date': 1638869501, 'reputation_change_year': 3751, 'reputation_change_quarter': 987, 'reputation_change_month': 38, 'reputation_change_week': 30, 'reputation_change_day': 0, 'reputation': 3852, 'creation_date': 1595610600, 'user_type': 'registered', 'user_id': 13990016, 'location': 'Watford, UK', 'website_url': 'http://alexwaygood.com', 'link': 'https://stackoverflow.com/users/13990016/alex-waygood', 'profile_image': 'https://lh3.googleusercontent.com/a-/AOh14GhCZVO-QDOgCuYPI91stYy43UE9k4VnlRuf7DfWbQ=k-s256', 'display_name': 'Alex Waygood'}, {'badge_counts': {'bronze': 17, 'silver': 10, 'gold': 1}, 'account_id': 3742584, 'is_employee': False, 'last_modified_date': 1633529402, 'last_access_date': 1638847306, 'reputation_change_year': 345, 'reputation_change_quarter': 50, 'reputation_change_month': 0, 'reputation_change_week': 0, 'reputation_change_day': 0, 'reputation': 3212, 'creation_date': 1387297867, 'user_type': 'registered', 'user_id': 3112049, 'location': 'Houston', 'website_url': '', 'link': 'https://stackoverflow.com/users/3112049/mike-k', 'profile_image': 'https://i.stack.imgur.com/1ZTKB.png?s=256&g=1', 'display_name': 'mike.k'}, {'badge_counts': {'bronze': 24, 'silver': 9, 'gold': 3}, 'account_id': 17547232, 'is_employee': False, 'last_modified_date': 1636764900, 'last_access_date': 1638863345, 'reputation_change_year': 2099, 'reputation_change_quarter': 77, 'reputation_change_month': 10, 'reputation_change_week': 10, 'reputation_change_day': 0, 'reputation': 3211, 'creation_date': 1579221991, 'user_type': 'registered', 'user_id': 12728244, 'website_url': 'https://smilingspider.wordpress.com/', 'link': 'https://stackoverflow.com/users/12728244/statemachine', 'profile_image': 'https://www.gravatar.com/avatar/73c78c8562e372b261de8c24c9b6a55a?s=256&d=identicon&r=PG&f=1', 'display_name': 'stateMachine'}, {'badge_counts': {'bronze': 13, 'silver': 7, 'gold': 0}, 'collectives': [{'collective': {'tags': ['gitlab-api', 'gitlab-ci-runner', 'gitlab-wiki', 'gitlab-omnibus', 'gitlab-ee', 'gitlab-pipelines', 'python-gitlab', 'gitlab-ce', 'gitlab-ci', 'gitlab-autodevops', 'gitlab', 'gitlab-ui', 'gitlab-pages', 'gitlab-ci-trigger', 'gitlab-8', 'terraform-provider-gitlab', 'gitlab-7'], 'external_links': [{'type': 'website', 'link': 'https://about.gitlab.com'}, {'type': 'support', 'link': 'mailto:community@gitlab.com'}, {'type': 'twitter', 'link': 'https://twitter.com/gitlab'}, {'type': 'github', 'link': 'https://docs.gitlab.com/'}, {'type': 'facebook', 'link': 'https://facebook.com/gitlab'}, {'type': 'instagram', 'link': 'https://instagram.com/gitlab'}], 'description': 'GitLab is the open DevOps platform, delivered as a single application. Our open source collaboration is a great place to share and learn information about version control, CI/CD, DevSecOps, and all-remote workflows.', 'link': '/collectives/gitlab', 'name': 'GitLab', 'slug': 'gitlab'}, 'role': 'member'}, {'collective': {'tags': ['go-graceful', 'go-bundle', 'go-build', 'go-nsq', 'go-agent', 'golang-migrate', 'go-xorm', 'go', 'go-context', 'glide-golang', 'go-pg', 'google-app-engine-golang', 'cgo', 'go-micro', 'go-sqlmock', 'go-get', 'go-flag', 'gccgo', 'go-modules', 'go-cmp', 'go-generate', 'go-reflect', 'go-fiber', 'go-playground', 'go-font', 'go-imagick', 'go-cobra', 'go-interface', 'go-toolchain', 'go-couchbase', 'go-ethereum', 'go-cdk', 'go-jennifer', 'go-sqlite3', 'go-alice', 'go-present', 'go-gin', 'go-templates', 'go-colly', 'go-packages', 'go-echo', 'go-guardian', 'go-restful', 'go-guru', 'go-github', 'go-iris', 'go-chart', 'go-redis', 'mgo', 'go-git', 'go-gl', 'go-html-template', 'go-testing', 'go-gorm', 'go-map', 'go-chi', 'go-server', 'go-http', 'go-2', 'go-structtag', 'go-gtk', 'goroutine', 'go-scheduler', 'go-libp2p', 'go-swagger'], 'external_links': [{'type': 'website', 'link': 'https://go.dev/'}, {'type': 'support', 'link': 'mailto:stackoverflow@golang.org'}, {'type': 'twitter', 'link': 'https://twitter.com/golang'}, {'type': 'github', 'link': 'https://github.com/golang'}], 'description': 'The official Q&amp;A channel for Google&#39;s Go Programming Language.', 'link': '/collectives/go', 'name': 'Go Language', 'slug': 'go'}, 'role': 'member'}, {'collective': {'tags': ['google-cloud-logging', 'google-cloud-memorystore', 'google-cloud-monitoring', 'google-cloud-instances', 'google-cloud-run', 'dialogflow-es', 'google-cloud-tasks', 'google-cloud-search', 'google-cloud-ml-engine', 'firebase-topics', 'google-cloud-firestore', 'firebase-job-dispatcher', 'dialogflow-es-fulfillment', 'rest-firebase', 'firebase-remote-config', 'google-cloud-error-reporting', 'google-cloud-url-maps', 'google-cloud-api-gateway', 'google-cloud-healthcare', 'google-compute-engine', 'google-container-builder', 'firebase-extensions', 'google-cloud-webrisk', 'google-cloud-profiler', 'google-cloud-iam', 'google-cloud-shell-editor', 'google-cloud-load-balancer', 'google-cloud-console', 'google-cloud-scheduler', 'google-cloud-transcoder', 'google-cloud-speech', 'google-container-registry', 'gcloud', 'google-cloud-router', 'google-app-engine-golang', 'cordova-plugin-firebasex', 'redux-saga-firebase', 'react-redux-firebase', 'google-cloud-trace', 'dialogflow-cx', 'google-app-engine-go', 'google-cloud-tpu', 'firebase-analytics', 'google-cloud-automl-nl', 'google-container-optimized-os', 'google-cloud-proxy', 'google-cloud-endpoints', 'google-cloud-launcher', 'firebaseui', 'google-cloud-sql', 'firebase', 'stackdriver', 'firebase-realtime-database', 'google-app-engine', 'google-cloud-code', 'firebase-security', 'google-app-engine-launch', 'google-cloud-resource-manager', 'firebase-cloud-messaging', 'maven-jib', 'google-migrate-for-compute-engine', 'google-cloud-vision', 'google-cloud-datalab', 'google-cloud-automl', 'firebase-invites', 'google-cloud-print', 'google-cloud-composer', 'firebase-in-app-messaging', 'google-cloud-armor', 'google-cloud-intellij', 'google-cloud-translate', 'google-bigquery', 'firebase-crash-reporting', 'google-cloud-test-lab', 'google-cloud-ops-agent', 'google-cloud-internal-load-balancer', 'google-cloud-print-privet', 'google-cloud-datastore', 'google-cloud-powershell', 'google-cloud-save', 'google-cloud-shell', 'bigtable', 'google-cloud-messaging', 'google-cloud-network-load-balancer', 'firebasesimplelogin', 'google-cloud-dataflow', 'google-cloud-talent-solution', 'google-cloud-instance-template', 'google-cloud-dataproc-metastore', 'google-cloud-bigtable', 'google-cloud-stackdriver', 'firebase-machine-learning', 'firebase-queue', 'nativescript-firebase', 'google-app-engine-php', 'firebase-notifications', 'google-cloud-functions', 'firebase-database', 'google-cloud-nl', 'google-cloud-storage', 'google-cloud-spanner', 'google-cloud-filestore', 'google-cloud-ml', 'google-app-engine-deploy', 'google-kubernetes-engine', 'google-cloud-pubsub', 'google-cloud-identity', 'google-fusion-tables', 'firebase-admin', 'google-cloud-sdk', 'google-cloud-cdn', 'google-cloud-kms', 'google-prediction', 'google-cloud-storage-r', 'google-translate', 'firebase-app-indexing', 'google-cloud-data-transfer', 'google-container-os', 'google-cloud-endpoints-v2', 'firebase-console', 'google-cloud-build', 'google-cloud-cpp', 'firebase-app-distribution', 'google-cloud-dataprep', 'google-cloud-debugger', 'firebase-ab-testing', 'firebase-tools', 'firebase-cli', 'google-cloud-visualstudio', 'firebase-dynamic-links', 'firebase-util', 'react-native-firebase', 'google-data-studio', 'google-cloud-python', 'firebase-assistant', 'firebase-test-lab', 'firebase-admob', 'google-cloud-ai', 'google-cloud-data-fusion', 'google-dataflow', 'google-cloud-http-load-balancer', 'google-cloud-language', 'google-cloud-vpn', 'firebase-cloud-functions', 'google-cloud-pubsublite', 'firebase-polymer', 'google-app-engine-patch', 'firebase-performance', 'google-cloud-php-client', 'google-app-engine-python', 'google-cloud-source-repos', 'firebase-authentication', 'google-cloud-platform', 'google-cloud-networking', 'firebase-hosting', 'apigee', 'firebase-mlkit', 'google-cloud-registry', 'google-cloud-node', 'firebase-storage', 'google-cloud-marketplace', 'google-cloud-dns', 'google-cloud-identity-aware-proxy', 'google-cloud-repository', 'google-cloud-metrics', 'firebase-predictions', 'google-cloud-tools', 'google-anthos', 'google-cloud-vertex-ai', 'firebase-app-check', 'google-cloud-deploy', 'google-cloud-recommendation', 'google-cloud-asset-inventory', 'google-cloud-dlp', 'google-cloud-robotics', 'google-cloud-dataproc', 'google-cloud-ai-platform-pipelines', 'apigee-baas', 'google-cloud-spanner-emulator', 'google-cloud-iot', 'jib', 'google-analytics-firebase', 'google-cloud-interconnect', 'google-cloud-billing'], 'external_links': [{'type': 'website', 'link': 'https://cloud.google.com/developers'}, {'type': 'support', 'link': 'https://googlecloud-community.slack.com/'}, {'type': 'twitter', 'link': 'https://twitter.com/googlecloudtech'}, {'type': 'facebook', 'link': 'https://facebook.com/googlecloud'}, {'type': 'instagram', 'link': 'https://instagram.com/googlecloud'}], 'description': 'Google Cloud provides organizations with leading infrastructure, platform capabilities and industry solutions to help them solve their most critical business problems.', 'link': '/collectives/google-cloud', 'name': 'Google Cloud', 'slug': 'google-cloud'}, 'role': 'member'}], 'account_id': 9009306, 'is_employee': False, 'last_modified_date': 1636647900, 'last_access_date': 1638756994, 'reputation_change_year': 845, 'reputation_change_quarter': 805, 'reputation_change_month': 0, 'reputation_change_week': 0, 'reputation_change_day': 0, 'reputation': 1151, 'creation_date': 1471171768, 'user_type': 'registered', 'user_id': 6714627, 'location': 'Ventura, CA, United States', 'website_url': 'https://www.linkedin.com/in/johncollins-bioinformatics', 'link': 'https://stackoverflow.com/users/6714627/john-collins', 'profile_image': 'https://i.stack.imgur.com/KZAPn.jpg?s=256&g=1', 'display_name': 'John Collins'}, {'badge_counts': {'bronze': 19, 'silver': 15, 'gold': 3}, 'timed_penalty_date': 1639048601, 'account_id': 2119809, 'is_employee': False, 'last_modified_date': 1638787200, 'last_access_date': 1638835227, 'reputation_change_year': 0, 'reputation_change_quarter': 0, 'reputation_change_month': 0, 'reputation_change_week': 0, 'reputation_change_day': 0, 'reputation': 1, 'creation_date': 1354818195, 'user_type': 'registered', 'user_id': 1883316, 'location': 'Tigard, OR, USA', 'website_url': '', 'link': 'https://stackoverflow.com/users/1883316/tim-roberts', 'profile_image': 'https://i.stack.imgur.com/9yAAh.jpg?s=256&g=1', 'display_name': 'Tim Roberts'}, {'badge_counts': {'bronze': 30, 'silver': 11, 'gold': 3}, 'timed_penalty_date': 1640536914, 'account_id': 12904470, 'is_employee': False, 'last_modified_date': 1638788100, 'last_access_date': 1638863494, 'reputation_change_year': 0, 'reputation_change_quarter': 0, 'reputation_change_month': 0, 'reputation_change_week': 0, 'reputation_change_day': 0, 'reputation': 1, 'creation_date': 1518081335, 'user_type': 'registered', 'user_id': 9332187, 'website_url': '', 'link': 'https://stackoverflow.com/users/9332187/mustafa-ayd%c4%b1n', 'profile_image': 'https://lh3.googleusercontent.com/-I_opr6uwXKQ/AAAAAAAAAAI/AAAAAAAAADw/ZJMBGmRMJCM/photo.jpg?sz=256', 'display_name': 'Mustafa Aydın'}, {'badge_counts': {'bronze': 26, 'silver': 11, 'gold': 3}, 'account_id': 12606740, 'is_employee': False, 'last_modified_date': 1637944500, 'last_access_date': 1638874109, 'reputation_change_year': 7200, 'reputation_change_quarter': 1421, 'reputation_change_month': 225, 'reputation_change_week': 225, 'reputation_change_day': 90, 'reputation': 8773, 'creation_date': 1514971246, 'user_type': 'registered', 'user_id': 9167382, 'location': 'London, UK', 'website_url': '', 'link': 'https://stackoverflow.com/users/9167382/sophocles', 'profile_image': 'https://i.stack.imgur.com/rVD30.jpg?s=256&g=1', 'display_name': 'sophocles'}]\n",
      "101\n"
     ]
    }
   ],
   "source": [
    "import requests\n",
    "import numpy as np\n",
    "\n",
    "def chunks(lst, n):\n",
    "    for i in range(0, len(lst), n):\n",
    "        yield lst[i:i + n]\n",
    "\n",
    "# numer of top expert users you want to see their location in the map\n",
    "number_of_top_users = 100\n",
    "\n",
    "list_of_chunks = list(chunks(gws_sorted_pageRank_userId[0:number_of_top_users], 100))\n",
    "\n",
    "list_of_users_for_map = []\n",
    "\n",
    "for index in range(len(list_of_chunks)):\n",
    "    user_ids_for_api = []\n",
    "    for userid in list_of_chunks[index]:\n",
    "        user_ids_for_api.append(userid)\n",
    "    URL = f\"https://api.stackexchange.com/2.3/users/{';'.join(user_ids_for_api)}?pagesize=100&site=stackoverflow&key=47JH1x*4)8hrh0WD6VO5NA((\"\n",
    "    print(user_ids_for_api)\n",
    "\n",
    "    # sending get request and saving the response as response object\n",
    "    r = requests.get(url=URL)\n",
    "    user_dictionaries = r.json()\n",
    "    arr1 = np.array(list_of_users_for_map)\n",
    "    arr2 = np.array(user_dictionaries['items'])\n",
    "    arr = np.concatenate((arr1, arr2))\n",
    "    list_of_users_for_map = arr.tolist()\n",
    "\n",
    "\n",
    "print(list_of_users_for_map)\n",
    "print(len(list_of_users_for_map))"
   ],
   "metadata": {
    "collapsed": false,
    "pycharm": {
     "name": "#%%\n"
    }
   }
  }
 ]
}