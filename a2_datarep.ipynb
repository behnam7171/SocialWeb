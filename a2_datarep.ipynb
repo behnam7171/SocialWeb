{
 "cells": [
  {
   "cell_type": "markdown",
   "metadata": {
    "id": "dcMf4aubeMI9"
   },
   "source": [
    "*****************************************************************\n",
    "#  The Social Web: data representation\n",
    "- Instructors: Jacco van Ossenbruggen.\n",
    "- TAs: Ayesha Noorain, Alex Boyko, Caio Silva, Elena Beretta, Mirthe Dankloff.\n",
    "- Exercises for Hands-on session 2\n",
    "*****************************************************************"
   ]
  },
  {
   "cell_type": "markdown",
   "metadata": {
    "id": "Zhts5HMzeMI-"
   },
   "source": [
    "In this session you are going to mine data in various microformats. You will see the differences in what each of the formats can contain and what purpose they serve. We will start by looking at geographical data.\n",
    "\n",
    "Prerequisites:\n",
    "- Python 3.8\n",
    "- Python packages: requests, BeautifulSoup4, HTMLParser, rdflib\n"
   ]
  },
  {
   "cell_type": "code",
   "execution_count": 1,
   "metadata": {
    "colab": {
     "base_uri": "https://localhost:8080/",
     "height": 204
    },
    "id": "6f-OtFPPeMJA",
    "outputId": "9bcb836f-4204-4fac-d133-99e81a0b2884"
   },
   "outputs": [
    {
     "name": "stdout",
     "output_type": "stream",
     "text": [
      "Requirement already satisfied: requests in u:\\courses\\social web\\sw_virtual_environment\\lib\\site-packages (2.26.0)\n",
      "Requirement already satisfied: certifi>=2017.4.17 in u:\\courses\\social web\\sw_virtual_environment\\lib\\site-packages (from requests) (2021.10.8)\n",
      "Requirement already satisfied: charset-normalizer~=2.0.0 in u:\\courses\\social web\\sw_virtual_environment\\lib\\site-packages (from requests) (2.0.7)\n",
      "Requirement already satisfied: idna<4,>=2.5 in u:\\courses\\social web\\sw_virtual_environment\\lib\\site-packages (from requests) (3.3)\n",
      "Requirement already satisfied: urllib3<1.27,>=1.21.1 in u:\\courses\\social web\\sw_virtual_environment\\lib\\site-packages (from requests) (1.26.7)\n",
      "Requirement already satisfied: BeautifulSoup4 in u:\\courses\\social web\\sw_virtual_environment\\lib\\site-packages (4.10.0)\n",
      "Requirement already satisfied: soupsieve>1.2 in u:\\courses\\social web\\sw_virtual_environment\\lib\\site-packages (from BeautifulSoup4) (2.3.1)\n",
      "Requirement already satisfied: HTMLParser in u:\\courses\\social web\\sw_virtual_environment\\lib\\site-packages (0.0.2)\n",
      "Requirement already satisfied: rdflib==5.0.0 in u:\\courses\\social web\\sw_virtual_environment\\lib\\site-packages (5.0.0)\n",
      "Requirement already satisfied: pyparsing in u:\\courses\\social web\\sw_virtual_environment\\lib\\site-packages (from rdflib==5.0.0) (2.4.7)\n",
      "Requirement already satisfied: six in u:\\courses\\social web\\sw_virtual_environment\\lib\\site-packages (from rdflib==5.0.0) (1.16.0)\n",
      "Requirement already satisfied: isodate in u:\\courses\\social web\\sw_virtual_environment\\lib\\site-packages (from rdflib==5.0.0) (0.6.0)\n"
     ]
    }
   ],
   "source": [
    "# If you're using a virtualenv, make sure it's activated before running\n",
    "# this cell!\n",
    "!pip install requests\n",
    "!pip install BeautifulSoup4\n",
    "!pip install HTMLParser\n",
    "!pip install rdflib==5.0.0"
   ]
  },
  {
   "cell_type": "markdown",
   "metadata": {
    "id": "irPnmIK4eMJd"
   },
   "source": [
    "##  Exercise 1\n",
    "\n",
    "Even if web pages do not use microformat, interesting data can often be extracted from the HTML. You may use packages such as BeautifulSoup to extract arbitrary pieces of data from any HTML page.\n",
    "The example below shows how we can find the URL of first image in the infobox table of the wikipedia page on Amsterdam. Tip: compare the code below with HTML source code of the wikipedia page: the image url is in the \"src\" attribute of the \"img\" element of in the \"table\" element with class=\"infobox\"."
   ]
  },
  {
   "cell_type": "code",
   "execution_count": 2,
   "metadata": {
    "colab": {
     "base_uri": "https://localhost:8080/",
     "height": 34
    },
    "id": "9gpHw90keMJf",
    "outputId": "7ae1fe64-8d85-4a47-cfdf-422284954d81"
   },
   "outputs": [
    {
     "name": "stdout",
     "output_type": "stream",
     "text": [
      "//upload.wikimedia.org/wikipedia/commons/thumb/b/be/KeizersgrachtReguliersgrachtAmsterdam.jpg/270px-KeizersgrachtReguliersgrachtAmsterdam.jpg\n"
     ]
    }
   ],
   "source": [
    "# -*- coding: utf-8 -*-\n",
    "\n",
    "import requests\n",
    "from bs4 import BeautifulSoup\n",
    "\n",
    "# This script requires you to add a url of a page with geotags to the commandline, e.g.\n",
    "# python geo.py 'http://en.wikipedia.org/wiki/Amsterdam'\n",
    "URL = 'https://en.wikipedia.org/wiki/Amsterdam'\n",
    "\n",
    "req = requests.get(URL, headers={'User-Agent' : \"Social Web Course Student\"})\n",
    "soup = BeautifulSoup(req.text)\n",
    "# print(req.text)\n",
    "image1 = soup.findAll('table', class_='infobox')[0].find('img')\n",
    "print(image1['src'])  \n"
   ]
  },
  {
   "cell_type": "markdown",
   "metadata": {},
   "source": [
    "Extracting coordinates from a webpage and reformatting them in the geo microformat (based on Example 8-1 in Mining the Social Web). Note that wikipages may encode long/lat information in different ways. On of the ways used by the Amsterdam wikipedia page is in a span element that is not shown to the user: \n",
    "<span class=\"geo\">52.367; 4.900</span>\n",
    "This span element has a single child: len(geoTag == 1) and no further structure, we have to manually get the long/lat by splitting the string on the ';' semicolon."
   ]
  },
  {
   "cell_type": "code",
   "execution_count": 3,
   "metadata": {
    "colab": {
     "base_uri": "https://localhost:8080/",
     "height": 34
    },
    "id": "LtHtQT9PeMJl",
    "outputId": "8a7f7b52-cdb2-409f-b3f0-ee7adf60a9f7"
   },
   "outputs": [
    {
     "name": "stdout",
     "output_type": "stream",
     "text": [
      "<span class=\"geo\">52.367; 4.900</span>\n",
      "Location is at 52.367 4.900\n"
     ]
    }
   ],
   "source": [
    "\n",
    "geoTag = soup.find(True, 'geo')\n",
    "print(geoTag)\n",
    "\n",
    "if geoTag and len(geoTag) > 1:\n",
    "        lat = geoTag.find(True, 'latitude').string\n",
    "        lon = geoTag.find(True, 'longitude').string\n",
    "        print ('Location is at'), lat, lon\n",
    "elif geoTag and len(geoTag) == 1:\n",
    "        (lat, lon) = geoTag.string.split(';')\n",
    "        (lat, lon) = (lat.strip(), lon.strip())\n",
    "        print (('Location is at'), lat, lon)\n",
    "else:\n",
    "        print ('Location not found')\n"
   ]
  },
  {
   "cell_type": "markdown",
   "metadata": {
    "id": "8S_bXnjveMJp"
   },
   "source": [
    "### Task 1\n",
    "\n",
    "Can you convert the output of Exercise 1 into KML? Here is the KML documentation: https://developers.google.com/kml/documentation/?csw=1 and here you can find a simple example of how it is used: https://renenyffenegger.ch/notes/tools/Google-Earth/kml/index\n",
    "\n",
    "Visualise the point in Google Maps using the following code example: https://developers.google.com/maps/documentation/javascript/examples/layer-kml-features\n",
    "You will have to create your own KML file for the custom map layer, and provide a URL to the KML file inside the JavaScript code, which means that you have to upload the file somewhere. You can use a service like http://pastebin.com/ to obtain a URL for your KML file —> paste the code there and request the RAW format URL; use this one in this Task1.\n",
    "\n",
    "Is KML a microformat, why (not)?\n",
    "\n",
    "<b style=\"color: red\">Answer:</b> No. Microformats are small patterns of <b>HTML</b> to represent commonly published things in the web but KML is subset of XML and have completely different format. But they can be converted to each other which exactly was what we were asked in task 1."
   ]
  },
  {
   "cell_type": "markdown",
   "metadata": {
    "id": "kUnka7EyeMJp"
   },
   "source": [
    "## Exercise 2 \n",
    "In order to find information in the web we can use microformats such as [hRecipe](https://microformats.org/wiki/hrecipe) or Schema.org's [Recipe](https://schema.org/Recipe). But first, we'll show you how to find arbitrary tags in a webpage.\n"
   ]
  },
  {
   "cell_type": "markdown",
   "metadata": {
    "id": "b0pBs-PVeMJq"
   },
   "source": [
    "### Task 2 \n",
    "Parsing data for a <sub><sup>veggie</sup></sub> spaghetti alla carbonara recipe (from Example 2-7 in Mining the Social Web)."
   ]
  },
  {
   "cell_type": "code",
   "execution_count": 4,
   "metadata": {
    "id": "mt9BK_CZeMJr"
   },
   "outputs": [],
   "source": [
    "import requests\n",
    "import json\n",
    "from bs4 import BeautifulSoup\n",
    "\n",
    "# A yummy webpage (feel free to change to your likings.)\n",
    "URL = \"https://www.acouplecooks.com/spring-vegetarian-spaghetti-carbonara/\"\n",
    "\n",
    "# requests will return the html found at the given webpage...\n",
    "page = requests.get(URL)\n",
    "# ...and a BeautifulSoup object can be created from its content.\n",
    "soup = BeautifulSoup(page.content, 'html.parser')\n",
    "\n",
    "listchildren = list(soup.children)\n",
    "# print(listchildren)"
   ]
  },
  {
   "cell_type": "markdown",
   "metadata": {
    "id": "IhdMwqykeMJt"
   },
   "source": [
    "We can find any element in the page through *css tag selectors*\n",
    "You can find them all [here](https://www.w3schools.com/cssref/css_selectors.asp), but shortly these are \".\" for classes, # for ids and plain text for the element name.\n",
    "\n",
    "\n",
    "You can also combine them, so that looking for \".class1.class2\" would select all elements displaying both classes. For a deeper overview please check the above link (or google \"html tag selectors\"). "
   ]
  },
  {
   "cell_type": "code",
   "execution_count": 5,
   "metadata": {
    "colab": {
     "base_uri": "https://localhost:8080/",
     "height": 71
    },
    "id": "PBaiK8OLeMJu",
    "outputId": "5b75f973-41c1-4ad4-fd9f-4f1f7665ba1d"
   },
   "outputs": [
    {
     "name": "stdout",
     "output_type": "stream",
     "text": [
      "5\n",
      "[<li><span data-amount=\"1\">1</span> pound spaghetti noodles</li>, <li><span data-amount=\"0.5\" data-unit=\"cup\">½ cup</span> smoked mozzarella cheese</li>, <li><span data-amount=\"0.5\" data-unit=\"cup\">½ cup</span> grated Parmesan cheese, plus more for serving</li>, <li><span data-amount=\"4\">4</span> egg yolks</li>, <li><span data-amount=\"1\" data-unit=\"cup\">1 cup</span> frozen Earthbound Farm Organic peas</li>, <li><span data-amount=\"8\" data-unit=\"cup\">8 cups</span> Earthbound Farm Organic spinach</li>, <li><span data-amount=\"3\" data-unit=\"tablespoon\">3 tablespoons</span> butter</li>, <li><a class=\"tasty-link\" data-tasty-links-no-disclosure=\"\" href=\"https://www.acouplecooks.com/what-is-kosher-salt/\" target=\"_blank\">Kosher salt</a></li>, <li>Fresh ground black pepper</li>]\n"
     ]
    }
   ],
   "source": [
    "print(len(listchildren)) # we can see here how many children the html doc has got.\n",
    "ingredients_unparsed = soup.select_one(\".tasty-recipes-ingredients\")\n",
    "# let's get all the \"list item\" elements in a list:\n",
    "ing_unp = ingredients_unparsed.findAll('li')\n",
    "print(ing_unp)"
   ]
  },
  {
   "cell_type": "markdown",
   "metadata": {
    "id": "tFXVPZhIeMJw"
   },
   "source": [
    "Mmmh... not so pretty yet. How about listing their items using the text method?"
   ]
  },
  {
   "cell_type": "code",
   "execution_count": 6,
   "metadata": {
    "colab": {
     "base_uri": "https://localhost:8080/",
     "height": 204
    },
    "id": "xASBZsnMeMJx",
    "outputId": "7af0f6e9-3b4f-4f34-e444-794087d06e25"
   },
   "outputs": [
    {
     "name": "stdout",
     "output_type": "stream",
     "text": [
      "Ingredients:\n",
      "\n",
      "1 pound spaghetti noodles\n",
      "½ cup smoked mozzarella cheese\n",
      "½ cup grated Parmesan cheese, plus more for serving\n",
      "4 egg yolks\n",
      "1 cup frozen Earthbound Farm Organic peas\n",
      "8 cups Earthbound Farm Organic spinach\n",
      "3 tablespoons butter\n",
      "Kosher salt\n",
      "Fresh ground black pepper\n"
     ]
    }
   ],
   "source": [
    "\n",
    "ingredients = [t.text for t in ing_unp]\n",
    "print(\"Ingredients:\\n\")\n",
    "# [print(i) for i in ingredients]  # Also prints the generator\n",
    "# Instead\n",
    "for ing in ingredients:\n",
    "    print(ing)"
   ]
  },
  {
   "cell_type": "markdown",
   "metadata": {
    "id": "O-RItVHyeMJz"
   },
   "source": [
    "Good. Now the instructions:"
   ]
  },
  {
   "cell_type": "code",
   "execution_count": 7,
   "metadata": {
    "colab": {
     "base_uri": "https://localhost:8080/",
     "height": 54
    },
    "id": "d-3Op4B6eMJ0",
    "outputId": "75a70f0c-86d3-4be9-d2d8-84df91c4f392"
   },
   "outputs": [
    {
     "name": "stdout",
     "output_type": "stream",
     "text": [
      "[<li id=\"instruction-step-1\">In a large pot, combine 6 quarts of water with 2 tablespoons <a class=\"tasty-link\" data-tasty-links-no-disclosure=\"\" href=\"https://www.acouplecooks.com/what-is-kosher-salt/\" target=\"_blank\">kosher salt</a> and bring it to a boil.</li>, <li id=\"instruction-step-2\">Grate the Parmesan and mozzarella cheese. Carefully separate four egg yolks and set aside.</li>, <li id=\"instruction-step-3\">Once boiling, add the pasta and cook until the pasta is just about al dente, about 7 minutes; then add peas and spinach and cook for 1 minute. Reserve 1 cup cooking water, and then drain the pasta and vegetables.</li>, <li id=\"instruction-step-4\">In a skillet, melt the butter, then stir in the cheeses, ¼ cup pasta water, and ¼ teaspoon <a class=\"tasty-link\" data-tasty-links-no-disclosure=\"\" href=\"https://www.acouplecooks.com/what-is-kosher-salt/\" target=\"_blank\">kosher salt</a>. Stir in the pasta and vegetables until creamy over low heat, adding more pasta water if necessary (note that the mozzarella will stick together in some places).</li>, <li id=\"instruction-step-5\">To serve, top each pasta serving with a whole egg yolk and additional Parmesan cheese, and stir the yolk into the pasta at the table (if you are uncomfortable serving egg yolks at the table, stir the egg yolks into the pasta in the skillet to heat them through). Serve immediately. (Note that the mozzarella cheese can become gummy the longer the pasta sits, so eat immediately if possible. Leftovers can be reheated in a skillet, but may not have the same creamy texture.)</li>]\n"
     ]
    }
   ],
   "source": [
    "instructions_unparsed = soup.select_one(\".tasty-recipes-instructions\")\n",
    "instructions_unparsed = instructions_unparsed.findAll(\"li\")\n",
    "print(instructions_unparsed)"
   ]
  },
  {
   "cell_type": "markdown",
   "metadata": {
    "id": "wPWXuglfeMJ2"
   },
   "source": [
    "Let's finish off with the title:"
   ]
  },
  {
   "cell_type": "code",
   "execution_count": 8,
   "metadata": {
    "colab": {
     "base_uri": "https://localhost:8080/",
     "height": 35
    },
    "id": "yg1TnWe2eMJ3",
    "outputId": "05d39a2e-3779-45f1-ddeb-9c6d2ae5f494"
   },
   "outputs": [
    {
     "data": {
      "text/plain": "'Vegetarian Carbonara vegetarianJump to Recipeby Sonja OverhiserBuy Our Cookbook'"
     },
     "execution_count": 8,
     "metadata": {},
     "output_type": "execute_result"
    }
   ],
   "source": [
    "title_unparsed = soup.select_one(\".post-header\") # \n",
    "categorical_title = title_unparsed.text.split(\"›\") # website specific divider.\n",
    "recipe_title = categorical_title[-1].strip() # let's remove that ugly space at the beginning.\n",
    "recipe_title"
   ]
  },
  {
   "cell_type": "markdown",
   "metadata": {
    "id": "RYb6WtXYeMJ6"
   },
   "source": [
    "## Task 2.1\n",
    "Now it's your turn. Create a function that can scrape any recipe webpage from the same website (other websites will have different class tags). \n",
    "\n",
    "Make sure to:\n",
    "\n",
    "- return itemized content (e.g. ingredients) in a list. You may want to use a list comprehension here.\n",
    "- Not all items have been cleaned of their html markdown (see variables ```ingredients``` vs. ```instructions_unparsed```. Make sure to return a list with human readable content (i.e. by using the ```.text``` attribute).\n",
    "\n",
    "<b style=\"color: red\">Answer:</b> It seems below code is the answer to this task but we found better css selector to find recipe_title."
   ]
  },
  {
   "cell_type": "code",
   "execution_count": 9,
   "metadata": {
    "colab": {
     "base_uri": "https://localhost:8080/",
     "height": 54
    },
    "id": "UQu9ecLEeMJ6",
    "outputId": "a8aa0e14-a8fb-4279-cf32-8dca97ab3412"
   },
   "outputs": [
    {
     "name": "stdout",
     "output_type": "stream",
     "text": [
      "{'name': 'Mushroom Pasta with Goat Cheese', 'ingredients': ['8 ounces bowtie pasta (farfalle)**', '8 ounces mixed mushrooms (such as\\xa0baby bella aka\\xa0cremini, button, shiitake, and oyster)', '¼ cup finely chopped fresh thyme and oregano', '2 tablespoons olive oil', '1 tablespoon fresh lemon juice', '3 cups baby greens: baby kale or spinach', '¼ cup Parmesan cheese, grated', '3 to 4 ounces soft goat cheese*', 'Kosher salt and fresh ground pepper'], 'instructions': ['Cook the pasta in heavily salted boiling water until al dente. Pro tip: Set the timer for a few minutes less than the package instructions and then taste: the pasta should be just done, still with some firmness. The pasta should also taste salty from the salted water. Drain the pasta and save out ¼ cup pasta water.', 'Meanwhile, clean the mushrooms, then slice them. Chop the herbs.', 'In a saute pan or skillet, heat the olive oil to medium high heat and cook the herbs, mushrooms, and several pinches of kosher salt together for about 5 minutes, stirring occasionally. When mushrooms are cooked and tender, reduce heat to low, add lemon juice, greens and few more pinches of\\xa0kosher salt. Cook for about 2 minutes until greens are wilted but bright green. Add the Parmesan cheese and pasta water and stir until cheese is melted.', 'Add the drained pasta into the mushrooms. Add fresh ground black pepper and kosher salt to taste. Use your fingers to break off crumbles of the goat cheese and add it to the pasta; stir them in if desired. Serve immediately.']}\n"
     ]
    }
   ],
   "source": [
    "# -*- coding: utf-8 -*-\n",
    "\n",
    "import requests\n",
    "import json\n",
    "from bs4 import BeautifulSoup\n",
    "\n",
    "# Pass in a URL containing hRecipe, such as\n",
    "# https://www.jamieoliver.com/recipes/pasta-recipes/veggie-carbonara/\n",
    "\n",
    "URL = \"https://www.acouplecooks.com/mushroom-pasta-with-goat-cheese/\"#YOUR RECIPE HERE/\n",
    "\n",
    "# Parse out some of the pertinent information for a recipe.\n",
    "# See http://microformats.org/wiki/hrecipe.\n",
    "\n",
    "def parse_website(url):\n",
    "    page = requests.get(url)\n",
    "    soup = BeautifulSoup(page.content, 'html.parser')\n",
    "    \n",
    "    # You code here\n",
    "    # Parse header and get the title\n",
    "    title_unparsed = soup.select_one(\".post-header h1\") #\n",
    "    recipe_title = title_unparsed.text # website specific divider.\n",
    "    fn = recipe_title\n",
    "\n",
    "    # Ingredients\n",
    "    ingredients_unparsed = soup.select_one(\".tasty-recipes-ingredients\")\n",
    "    # let's get all the \"list item\" elements in a list:\n",
    "    ing_unp = ingredients_unparsed.findAll('li')\n",
    "    ingredients = [t.text for t in ing_unp]\n",
    "\n",
    "    # Instructions\n",
    "    instructions_unparsed = soup.select_one(\".tasty-recipes-instructions\")\n",
    "    instructions_unparsed = instructions_unparsed.findAll(\"li\")\n",
    "    instructions = [t.text for t in instructions_unparsed]\n",
    "\n",
    "    return {\n",
    "            'name': fn,\n",
    "            'ingredients': ingredients,\n",
    "            'instructions': instructions,\n",
    "            }\n",
    "    \n",
    "recipe = parse_website(URL)\n",
    "print (recipe)"
   ]
  },
  {
   "cell_type": "markdown",
   "metadata": {
    "id": "ccURluAIeMJ8"
   },
   "source": [
    "But How can we get information not only from one website,  but from all? \n",
    "\n",
    "The answer: microformats.\n",
    "\n",
    "But rather than extracting with information manually from the schema.org or hRecipe microformats, we can use a package, ```scrape-schema-recipe``` \n",
    "\n",
    "Feel free to experiment with it."
   ]
  },
  {
   "cell_type": "markdown",
   "source": [
    "### Task 2.2\n",
    "hRecipe is a microformat specifically created for recipes.\n",
    "Can you for example easily compare different dessert recipe ingredients? For inspiration you can look back at the exercises you did in Hands-on session 1 where you compared different sets of tweets.\n",
    "\n",
    "<b style=\"color: red\">Answer:</b> Answer is in the code section below."
   ],
   "metadata": {
    "collapsed": false
   }
  },
  {
   "cell_type": "code",
   "execution_count": 10,
   "outputs": [
    {
     "name": "stdout",
     "output_type": "stream",
     "text": [
      "{'name': 'Amazing Egg Tacos', 'ingredients': ['4 eggs', '½ tablespoon chili powder', '½ tablespoon garlic powder', '½ tablespoon cumin', '¼ teaspoon kosher salt', '½ tablespoon olive oil', '4 taco-sized flour tortillas or corn tortillas', 'Pico de gallo or salsa fresca', '1 handful thinly sliced red onion', 'Torn cilantro leaves', 'Hot sauce'], 'instructions': ['In a medium bowl, whisk together the 4 eggs. Add the chili powder, garlic powder, cumin, and kosher salt, and whisk until combined.', 'In a skillet, heat the olive oil. Add the eggs and cook over medium low heat, scraping as the eggs solidify, about 3 to 4 minutes total. As you scrape, they’ll start to form together into a meat-like texture. Don’t scrape too much or you’ll make too small of pieces: just enough for that it comes together!\\xa0', 'If time, warm and char the tortillas by placing them on an open gas flame on medium for a few seconds per side, flipping with tongs, until they are slightly blackened and warm. (See How to Warm Tortillas.)', 'Top with salsa fresca (drain extra liquid before serving), thin sliced red onions, torn cilantro leaves, and hot sauce.']}\n",
      "{'name': 'Mushroom Pasta with Goat Cheese', 'ingredients': ['8 ounces bowtie pasta (farfalle)**', '8 ounces mixed mushrooms (such as\\xa0baby bella aka\\xa0cremini, button, shiitake, and oyster)', '¼ cup finely chopped fresh thyme and oregano', '2 tablespoons olive oil', '1 tablespoon fresh lemon juice', '3 cups baby greens: baby kale or spinach', '¼ cup Parmesan cheese, grated', '3 to 4 ounces soft goat cheese*', 'Kosher salt and fresh ground pepper'], 'instructions': ['Cook the pasta in heavily salted boiling water until al dente. Pro tip: Set the timer for a few minutes less than the package instructions and then taste: the pasta should be just done, still with some firmness. The pasta should also taste salty from the salted water. Drain the pasta and save out ¼ cup pasta water.', 'Meanwhile, clean the mushrooms, then slice them. Chop the herbs.', 'In a saute pan or skillet, heat the olive oil to medium high heat and cook the herbs, mushrooms, and several pinches of kosher salt together for about 5 minutes, stirring occasionally. When mushrooms are cooked and tender, reduce heat to low, add lemon juice, greens and few more pinches of\\xa0kosher salt. Cook for about 2 minutes until greens are wilted but bright green. Add the Parmesan cheese and pasta water and stir until cheese is melted.', 'Add the drained pasta into the mushrooms. Add fresh ground black pepper and kosher salt to taste. Use your fingers to break off crumbles of the goat cheese and add it to the pasta; stir them in if desired. Serve immediately.']}\n"
     ]
    }
   ],
   "source": [
    "URL2 = 'https://www.acouplecooks.com/egg-tacos/'\n",
    "egg_tacos_recipe = parse_website(URL2)\n",
    "print(egg_tacos_recipe)\n",
    "print(recipe)\n",
    "\n",
    "# as it shows in the printed results the recipe ingredients are completely different. egg tacos contains eggs chili powder, garlic powder and etc.\n",
    "# but mushroom-pasta-with-goat-cheese contains mashroom, pasta, olive oil and etc\n",
    "# for the sake of better compare we printed the mushroom-pasta-with-goat-cheese recipe aswell."
   ],
   "metadata": {
    "collapsed": false,
    "pycharm": {
     "name": "#%%\n"
    }
   }
  },
  {
   "cell_type": "markdown",
   "metadata": {
    "id": "n-J8fiLbeMJ9"
   },
   "source": [
    "## Exercise 3"
   ]
  },
  {
   "cell_type": "markdown",
   "metadata": {
    "id": "7XBeqJHVeMJ9"
   },
   "source": [
    "Schema.org is one of the most widely used annotations formats. Schema.org is a multipurpose  template that has been created by a consortium consisting of Yahoo!, Google and Microsoft. It can describe entities, events, products etc. Check out the vocabulary specs on Schema.org."
   ]
  },
  {
   "cell_type": "markdown",
   "metadata": {
    "id": "fiw8JClyeMJ-"
   },
   "source": [
    "### Task 3\n",
    "\n",
    "Parsing schema.org microdata. To parse this data you need to install the rdflib-microdata package, which you have done in one of the previous steps.\n",
    "\n",
    "<b style=\"color: red\">Answer:</b> Answer you provided below returned the error because rdflib from version 6 only uses files. so we can not use http links. For that we downgraded the rdflib package to version 5 so we can use URL for the input."
   ]
  },
  {
   "cell_type": "code",
   "execution_count": 11,
   "metadata": {
    "colab": {
     "base_uri": "https://localhost:8080/",
     "height": 153
    },
    "id": "X2zr3fOOeMJ-",
    "outputId": "d123f981-d73f-470f-b5e9-8735819f894b"
   },
   "outputs": [
    {
     "name": "stdout",
     "output_type": "stream",
     "text": [
      "http://dbpedia.org/resource/Micheal_Jackson http://xmlns.com/foaf/0.1/isPrimaryTopicOf http://en.wikipedia.org/wiki/Micheal_Jackson\n",
      "http://dbpedia.org/resource/Micheal_Jackson http://www.w3.org/2000/01/rdf-schema#label Micheal Jackson\n",
      "http://dbpedia.org/resource/Micheal_Jackson http://dbpedia.org/ontology/wikiPageRedirects http://dbpedia.org/resource/Michael_Jackson\n",
      "http://dbpedia.org/resource/Micheal_Jackson http://dbpedia.org/ontology/wikiPageWikiLink http://dbpedia.org/resource/Michael_Jackson\n",
      "http://dbpedia.org/resource/Micheal_Jackson http://dbpedia.org/property/wikiPageUsesTemplate http://dbpedia.org/resource/Template:R_from_misspelling\n",
      "http://dbpedia.org/resource/Micheal_Jackson http://dbpedia.org/ontology/wikiPageID 14995602\n",
      "http://dbpedia.org/resource/Micheal_Jackson http://www.w3.org/2002/07/owl#sameAs http://dbpedia.org/resource/Micheal_Jackson\n",
      "http://dbpedia.org/resource/Micheal_Jackson http://xmlns.com/foaf/0.1/depiction http://commons.wikimedia.org/wiki/Special:FilePath/Riverdale_Park_Station_Dec_08.jpg\n",
      "http://dbpedia.org/resource/Micheal_Jackson http://dbpedia.org/ontology/wikiPageRevisionID 631226997\n",
      "http://en.wikipedia.org/wiki/Micheal_Jackson http://xmlns.com/foaf/0.1/primaryTopic http://dbpedia.org/resource/Micheal_Jackson\n",
      "http://dbpedia.org/resource/Micheal_Jackson http://www.w3.org/ns/prov#wasDerivedFrom http://en.wikipedia.org/wiki/Micheal_Jackson?oldid=631226997&ns=0\n"
     ]
    }
   ],
   "source": [
    "from rdflib import Graph\n",
    "\n",
    "# Source: https://www.youtube.com/watch?v=sCU214rbRZ0\n",
    "# Pass in a URL containing Schema.org microformats\n",
    "URL = \"http://dbpedia.org/resource/Micheal_Jackson\"\n",
    "\n",
    "# Initialize a graph\n",
    "g = Graph()\n",
    "\n",
    "# Parse in an RDF file graph dbpedia\n",
    "result = g.parse(location=URL)\n",
    "\n",
    "# Loop through first 10 triples in the graph\n",
    "for index, (sub, pred, obj) in enumerate(g):\n",
    "    print(sub, pred, obj)\n",
    "    if index == 10:\n",
    "        break"
   ]
  },
  {
   "cell_type": "code",
   "execution_count": 12,
   "metadata": {
    "colab": {
     "base_uri": "https://localhost:8080/",
     "height": 34
    },
    "id": "hrQ2EuY5JAn1",
    "outputId": "eba60ebb-7ac5-4451-c16e-3f68e66af7f3"
   },
   "outputs": [
    {
     "name": "stdout",
     "output_type": "stream",
     "text": [
      "Graph has 12 facts\n"
     ]
    }
   ],
   "source": [
    "# Print the size of the Graph\n",
    "print(f'Graph has {len(g)} facts')"
   ]
  },
  {
   "cell_type": "code",
   "execution_count": 13,
   "metadata": {
    "colab": {
     "base_uri": "https://localhost:8080/",
     "height": 323
    },
    "id": "IAO1JllwJMqO",
    "outputId": "08f5e32d-d1a6-4a30-878a-ce7b768a8811"
   },
   "outputs": [
    {
     "name": "stdout",
     "output_type": "stream",
     "text": [
      "b'@prefix dbo: <http://dbpedia.org/ontology/> .\\n@prefix dbp: <http://dbpedia.org/property/> .\\n@prefix foaf: <http://xmlns.com/foaf/0.1/> .\\n@prefix owl: <http://www.w3.org/2002/07/owl#> .\\n@prefix prov: <http://www.w3.org/ns/prov#> .\\n@prefix rdfs: <http://www.w3.org/2000/01/rdf-schema#> .\\n@prefix xsd: <http://www.w3.org/2001/XMLSchema#> .\\n\\n<http://en.wikipedia.org/wiki/Micheal_Jackson> foaf:primaryTopic <http://dbpedia.org/resource/Micheal_Jackson> .\\n\\n<http://dbpedia.org/resource/Micheal_Jackson> rdfs:label \"Micheal Jackson\"@en ;\\n    dbo:wikiPageID 14995602 ;\\n    dbo:wikiPageLength \"52\"^^xsd:nonNegativeInteger ;\\n    dbo:wikiPageRedirects <http://dbpedia.org/resource/Michael_Jackson> ;\\n    dbo:wikiPageRevisionID 631226997 ;\\n    dbo:wikiPageWikiLink <http://dbpedia.org/resource/Michael_Jackson> ;\\n    dbp:wikiPageUsesTemplate <http://dbpedia.org/resource/Template:R_from_misspelling> ;\\n    owl:sameAs <http://dbpedia.org/resource/Micheal_Jackson> ;\\n    prov:wasDerivedFrom <http://en.wikipedia.org/wiki/Micheal_Jackson?oldid=631226997&ns=0> ;\\n    foaf:depiction <http://commons.wikimedia.org/wiki/Special:FilePath/Riverdale_Park_Station_Dec_08.jpg> ;\\n    foaf:isPrimaryTopicOf <http://en.wikipedia.org/wiki/Micheal_Jackson> .\\n\\n'\n"
     ]
    }
   ],
   "source": [
    "# Print out the entire Graph in the RDF Turtle format\n",
    "print(g.serialize(format='ttl'))"
   ]
  },
  {
   "cell_type": "markdown",
   "metadata": {
    "id": "dzbynasAeMKA"
   },
   "source": [
    "### Task 3.1 \n",
    "Compare the schema.org information about a band on last.fm to the Facebook Open Graph information about the same band from Facebook. What are the differences? Which format do you think supports better interoperability?\n",
    "\n",
    "<b style=\"color: red\">Answer:</b> Based on our observation, In one hand, The schema.org presents data about the website to search engines. On the other hand, the facebook's Open Graph presents data to facebook and other social medias.\n",
    "As other point of view, in https://www.last.fm/music/Adele both Open Graph and Schema.org were used. The open graph contained information about title, description, type, site_name, image, image:width, image:height, url of the website. These information are presented as meta tag inside HTML code. And the content of these tags are pressented inside the HTML code, But in Schema.org markup the url to specific subject in schema.org website is presented in attribute of html element and the actual description is in the schema.org link so that google and other search engine can know what the website is about.\n",
    "\n",
    "for example look at the image below:\n",
    "\n",
    "<a href=\"https://ibb.co/41hcsvb\"><img src=\"https://i.ibb.co/g4kGvq0/Group28-Oncampus-schema-vs-og.png\" alt=\"Group28-Oncampus-schema-vs-og\" border=\"0\" /></a>\n",
    "\n",
    "The https://www.taylorswift.com/ only contains Open Graph data which means the developers focused on social media, specially on facebook. Because the information in open graph is ignored by the search engines.\n",
    "\n",
    "In term of interoperability, It depends on purpose of a website. Schema.org contains more information than Open Graph and widely used for search engines while Open Graph mainly focuses on social media websites (specifically facebook). In our opinion having them both in the website is best practice that is possible for a website."
   ]
  },
  {
   "cell_type": "code",
   "execution_count": 3,
   "outputs": [
    {
     "name": "stdout",
     "output_type": "stream",
     "text": [
      "{ 'microdata': [ { 'properties': { 'album': [ { 'properties': { 'byArtist': 'Adele',\n",
      "                                                                'image': 'https://lastfm.freetls.fastly.net/i/u/avatar170s/f3fec9ac6901bec13345f8f40a8b7f22.jpg',\n",
      "                                                                'name': '30',\n",
      "                                                                'url': 'https://www.last.fm/music/Adele/30'},\n",
      "                                                'type': 'http://schema.org/MusicAlbum'},\n",
      "                                              { 'properties': { 'byArtist': 'Adele',\n",
      "                                                                'image': 'https://lastfm.freetls.fastly.net/i/u/300x300/75075bd01c96465e54fc250b22f83296.jpg',\n",
      "                                                                'name': '21',\n",
      "                                                                'url': 'https://www.last.fm/music/Adele/21'},\n",
      "                                                'type': 'http://schema.org/MusicAlbum'},\n",
      "                                              { 'properties': { 'byArtist': 'Adele',\n",
      "                                                                'image': 'https://lastfm.freetls.fastly.net/i/u/300x300/dc991d53106f4d4fcd6576a2825f3e24.jpg',\n",
      "                                                                'name': '19',\n",
      "                                                                'url': 'https://www.last.fm/music/Adele/19'},\n",
      "                                                'type': 'http://schema.org/MusicAlbum'},\n",
      "                                              { 'properties': { 'byArtist': 'Adele',\n",
      "                                                                'image': 'https://lastfm.freetls.fastly.net/i/u/300x300/d7122689fe7250d072f7b10d824f6ca9.jpg',\n",
      "                                                                'name': '25',\n",
      "                                                                'url': 'https://www.last.fm/music/Adele/25'},\n",
      "                                                'type': 'http://schema.org/MusicAlbum'},\n",
      "                                              { 'properties': { 'byArtist': 'Adele',\n",
      "                                                                'image': 'https://lastfm.freetls.fastly.net/i/u/300x300/8170d38e81cf46db90bd7465fbf0e480.jpg',\n",
      "                                                                'name': 'Rolling '\n",
      "                                                                        'in '\n",
      "                                                                        'the '\n",
      "                                                                        'Deep',\n",
      "                                                                'url': 'https://www.last.fm/music/Adele/Rolling+in+the+Deep'},\n",
      "                                                'type': 'http://schema.org/MusicAlbum'}],\n",
      "                                   'event': [ { 'properties': { 'location': { 'properties': { 'address': 'London, '\n",
      "                                                                                                         'United '\n",
      "                                                                                                         'Kingdom',\n",
      "                                                                                              'name': 'Hyde '\n",
      "                                                                                                      'Park'},\n",
      "                                                                              'type': 'http://schema.org/Place'},\n",
      "                                                                'name': 'Adele',\n",
      "                                                                'startDate': '2022-07-01T00:00:00',\n",
      "                                                                'url': 'https://www.last.fm/event/4606695+Adele'},\n",
      "                                                'type': 'http://schema.org/MusicEvent'},\n",
      "                                              { 'properties': { 'location': { 'properties': { 'address': 'London, '\n",
      "                                                                                                         'United '\n",
      "                                                                                                         'Kingdom',\n",
      "                                                                                              'name': 'Hyde '\n",
      "                                                                                                      'Park'},\n",
      "                                                                              'type': 'http://schema.org/Place'},\n",
      "                                                                'name': 'Adele',\n",
      "                                                                'startDate': '2022-07-02T00:00:00',\n",
      "                                                                'url': 'https://www.last.fm/event/4606696+Adele'},\n",
      "                                                'type': 'http://schema.org/MusicEvent'},\n",
      "                                              { 'properties': { 'location': { 'properties': { 'address': 'London, '\n",
      "                                                                                                         'United '\n",
      "                                                                                                         'Kingdom',\n",
      "                                                                                              'name': 'Hyde '\n",
      "                                                                                                      'Park'},\n",
      "                                                                              'type': 'http://schema.org/Place'},\n",
      "                                                                'name': 'Adele',\n",
      "                                                                'startDate': '2022-07-01T00:00:00',\n",
      "                                                                'url': 'https://www.last.fm/event/4606695+Adele'},\n",
      "                                                'type': 'http://schema.org/MusicEvent'},\n",
      "                                              { 'properties': { 'location': { 'properties': { 'address': 'London, '\n",
      "                                                                                                         'United '\n",
      "                                                                                                         'Kingdom',\n",
      "                                                                                              'name': 'Hyde '\n",
      "                                                                                                      'Park'},\n",
      "                                                                              'type': 'http://schema.org/Place'},\n",
      "                                                                'name': 'Adele',\n",
      "                                                                'startDate': '2022-07-02T00:00:00',\n",
      "                                                                'url': 'https://www.last.fm/event/4606696+Adele'},\n",
      "                                                'type': 'http://schema.org/MusicEvent'}],\n",
      "                                   'image': 'https://lastfm.freetls.fastly.net/i/u/ar0/52f808749d3e561d3f360aa4f8b9b2c8.jpg',\n",
      "                                   'name': 'Adele',\n",
      "                                   'track': [ { 'properties': { 'byArtist': 'Adele',\n",
      "                                                                'name': 'Easy '\n",
      "                                                                        'on Me',\n",
      "                                                                'url': 'https://www.last.fm/music/Adele/_/Easy+on+Me'},\n",
      "                                                'type': 'http://schema.org/MusicRecording'},\n",
      "                                              { 'properties': { 'name': 'Easy '\n",
      "                                                                        'on '\n",
      "                                                                        'Me'},\n",
      "                                                'type': 'http://schema.org/MusicRecording'},\n",
      "                                              { 'properties': { 'name': 'Rolling '\n",
      "                                                                        'in '\n",
      "                                                                        'the '\n",
      "                                                                        'Deep'},\n",
      "                                                'type': 'http://schema.org/MusicRecording'},\n",
      "                                              { 'properties': { 'name': 'When '\n",
      "                                                                        'We '\n",
      "                                                                        'Were '\n",
      "                                                                        'Young'},\n",
      "                                                'type': 'http://schema.org/MusicRecording'},\n",
      "                                              { 'properties': { 'name': 'Someone '\n",
      "                                                                        'Like '\n",
      "                                                                        'You'},\n",
      "                                                'type': 'http://schema.org/MusicRecording'},\n",
      "                                              { 'properties': { 'name': 'Love '\n",
      "                                                                        'in '\n",
      "                                                                        'the '\n",
      "                                                                        'Dark'},\n",
      "                                                'type': 'http://schema.org/MusicRecording'},\n",
      "                                              { 'properties': { 'name': 'Set '\n",
      "                                                                        'Fire '\n",
      "                                                                        'to '\n",
      "                                                                        'the '\n",
      "                                                                        'Rain'},\n",
      "                                                'type': 'http://schema.org/MusicRecording'},\n",
      "                                              { 'properties': { 'name': 'Chasing '\n",
      "                                                                        'Pavements'},\n",
      "                                                'type': 'http://schema.org/MusicRecording'},\n",
      "                                              { 'properties': { 'name': 'Send '\n",
      "                                                                        'My '\n",
      "                                                                        'Love '\n",
      "                                                                        '(To '\n",
      "                                                                        'Your '\n",
      "                                                                        'New '\n",
      "                                                                        'Lover)'},\n",
      "                                                'type': 'http://schema.org/MusicRecording'},\n",
      "                                              { 'properties': { 'name': 'All I '\n",
      "                                                                        'Ask'},\n",
      "                                                'type': 'http://schema.org/MusicRecording'},\n",
      "                                              { 'properties': {'name': 'Hello'},\n",
      "                                                'type': 'http://schema.org/MusicRecording'}],\n",
      "                                   'url': 'https://www.last.fm/music/Adele'},\n",
      "                   'type': 'http://schema.org/MusicGroup'},\n",
      "                 { 'properties': { 'name': 'Daniel Merriweather',\n",
      "                                   'url': 'https://www.last.fm/music/Daniel+Merriweather'},\n",
      "                   'type': 'http://schema.org/MusicGroup'},\n",
      "                 { 'properties': { 'name': 'Lorde',\n",
      "                                   'url': 'https://www.last.fm/music/Lorde'},\n",
      "                   'type': 'http://schema.org/MusicGroup'},\n",
      "                 { 'properties': { 'name': 'Taylor Swift',\n",
      "                                   'url': 'https://www.last.fm/music/Taylor+Swift'},\n",
      "                   'type': 'http://schema.org/MusicGroup'},\n",
      "                 { 'properties': { 'name': 'Daniel Merriweather',\n",
      "                                   'url': 'https://www.last.fm/music/Daniel+Merriweather'},\n",
      "                   'type': 'http://schema.org/MusicGroup'},\n",
      "                 { 'properties': { 'name': 'Lorde',\n",
      "                                   'url': 'https://www.last.fm/music/Lorde'},\n",
      "                   'type': 'http://schema.org/MusicGroup'},\n",
      "                 { 'properties': { 'name': 'Taylor Swift',\n",
      "                                   'url': 'https://www.last.fm/music/Taylor+Swift'},\n",
      "                   'type': 'http://schema.org/MusicGroup'},\n",
      "                 { 'properties': { 'name': 'Sam Smith',\n",
      "                                   'url': 'https://www.last.fm/music/Sam+Smith'},\n",
      "                   'type': 'http://schema.org/MusicGroup'},\n",
      "                 { 'properties': { 'name': 'Lana Del Rey',\n",
      "                                   'url': 'https://www.last.fm/music/Lana+Del+Rey'},\n",
      "                   'type': 'http://schema.org/MusicGroup'},\n",
      "                 { 'properties': { 'name': 'Amy Winehouse',\n",
      "                                   'url': 'https://www.last.fm/music/Amy+Winehouse'},\n",
      "                   'type': 'http://schema.org/MusicGroup'},\n",
      "                 { 'properties': { 'name': 'Last.fm',\n",
      "                                   'sameAs': [ 'https://www.facebook.com/lastfm',\n",
      "                                               'https://twitter.com/lastfm',\n",
      "                                               'https://www.instagram.com/last_fm',\n",
      "                                               'https://www.youtube.com/user/lastfm'],\n",
      "                                   'url': 'https://www.last.fm'},\n",
      "                   'type': 'http://schema.org/Organization'}]}\n",
      "{ 'opengraph': [ { 'namespace': {'og': 'http://ogp.me/ns#'},\n",
      "                   'properties': [ ('og:title', 'Adele'),\n",
      "                                   ( 'og:description',\n",
      "                                     'Adele. 65.860.498 vind-ik-leuks · '\n",
      "                                     '457.498 personen praten hierover. 25 out '\n",
      "                                     'now\\n'\n",
      "                                     'http://adele.com'),\n",
      "                                   ('og:url', 'https://www.facebook.com/adele'),\n",
      "                                   ( 'og:image',\n",
      "                                     'https://scontent-ams4-1.xx.fbcdn.net/v/t39.30808-1/245742374_418348206314046_2586367729164210322_n.jpg?_nc_cat=1&ccb=1-5&_nc_sid=d36de4&_nc_ohc=_zszpBJJmP8AX8DYfVN&_nc_ht=scontent-ams4-1.xx&oh=262b042fa326db984dde584d109d3fad&oe=6196FD3D'),\n",
      "                                   ('og:image:alt', 'Adele'),\n",
      "                                   ('og:locale', 'en_US')]}]}\n"
     ]
    }
   ],
   "source": [
    "##\n",
    "\n",
    "import extruct\n",
    "import requests\n",
    "import pprint\n",
    "from w3lib.html import get_base_url\n",
    "\n",
    "pp = pprint.PrettyPrinter(indent=2)\n",
    "\n",
    "r = requests.get('https://www.last.fm/music/Adele')\n",
    "base_url = get_base_url(r.text, r.url)\n",
    "data = extruct.extract(r.text, base_url, syntaxes=['microdata'])\n",
    "\n",
    "pp.pprint(data)\n",
    "\n",
    "r = requests.get('https://www.facebook.com/adele/')\n",
    "base_url = get_base_url(r.text, r.url)\n",
    "data = extruct.extract(r.text, base_url, syntaxes=['opengraph'])\n",
    "\n",
    "pp.pprint(data)"
   ],
   "metadata": {
    "collapsed": false,
    "pycharm": {
     "name": "#%%\n"
    }
   }
  },
  {
   "cell_type": "code",
   "execution_count": 14,
   "outputs": [
    {
     "name": "stdout",
     "output_type": "stream",
     "text": [
      "http://en.wikipedia.org/wiki/Micheal_Jackson http://xmlns.com/foaf/0.1/primaryTopic http://dbpedia.org/resource/Micheal_Jackson\n",
      "http://dbpedia.org/resource/Micheal_Jackson http://www.w3.org/2000/01/rdf-schema#label Micheal Jackson\n",
      "http://dbpedia.org/resource/Micheal_Jackson http://dbpedia.org/ontology/wikiPageRedirects http://dbpedia.org/resource/Michael_Jackson\n",
      "http://dbpedia.org/resource/Micheal_Jackson http://www.w3.org/2002/07/owl#sameAs http://dbpedia.org/resource/Micheal_Jackson\n",
      "http://dbpedia.org/resource/Micheal_Jackson http://xmlns.com/foaf/0.1/isPrimaryTopicOf http://en.wikipedia.org/wiki/Micheal_Jackson\n",
      "http://dbpedia.org/resource/Micheal_Jackson http://dbpedia.org/ontology/wikiPageID 14995602\n",
      "http://dbpedia.org/resource/Micheal_Jackson http://dbpedia.org/ontology/wikiPageRevisionID 631226997\n",
      "http://dbpedia.org/resource/Micheal_Jackson http://dbpedia.org/ontology/wikiPageWikiLink http://dbpedia.org/resource/Michael_Jackson\n",
      "http://dbpedia.org/resource/Micheal_Jackson http://www.w3.org/ns/prov#wasDerivedFrom http://en.wikipedia.org/wiki/Micheal_Jackson?oldid=631226997&ns=0\n",
      "http://dbpedia.org/resource/Micheal_Jackson http://dbpedia.org/ontology/wikiPageLength 52\n",
      "http://dbpedia.org/resource/Micheal_Jackson http://xmlns.com/foaf/0.1/depiction http://commons.wikimedia.org/wiki/Special:FilePath/Riverdale_Park_Station_Dec_08.jpg\n"
     ]
    }
   ],
   "source": [
    "from rdflib import Graph\n",
    "\n",
    "# Source: https://www.youtube.com/watch?v=sCU214rbRZ0\n",
    "# Pass in a URL containing Schema.org microformats\n",
    "URL = \"http://dbpedia.org/resource/Micheal_Jackson\"\n",
    "\n",
    "# Initialize a graph\n",
    "g = Graph()\n",
    "\n",
    "# Parse in an RDF file graph dbpedia\n",
    "result = g.parse(location=URL)\n",
    "\n",
    "# Loop through first 10 triples in the graph\n",
    "for index, (sub, pred, obj) in enumerate(g):\n",
    "    print(sub, pred, obj)\n",
    "    if index == 10:\n",
    "        break"
   ],
   "metadata": {
    "collapsed": false,
    "pycharm": {
     "name": "#%%\n"
    }
   }
  },
  {
   "cell_type": "markdown",
   "metadata": {
    "id": "Nocs4YDPeMKB"
   },
   "source": [
    "### Task 3.2\n",
    "Explore the various microformats at http://microformats.org/ and compare the output of the exercises with the output of http://microformats.org/. Think about possible microformats you want to support in your final assignment and read up on how to parse them.\n",
    "\n",
    "<b style=\"color: red\">Answer:</b> In the last assignment we were talking about schema.org and open graph of music bands. the microformat tag for the music is \"hMedia\" and \"hAudio\". The microformat that we are going to use is highly dependent on the content of the website.\n",
    "for example The <a href=\"http://www.numblog.de/\">New Urban Music Blog</a> has hAudio marked up in its pages.\n",
    "\n",
    "<a href=\"https://imgbb.com/\"><img src=\"https://i.ibb.co/kcvtTTC/haudio.png\" alt=\"haudio\" border=\"0\" /></a>"
   ]
  }
 ],
 "metadata": {
  "colab": {
   "collapsed_sections": [],
   "name": "Hands-on_2_microformats.ipynb",
   "provenance": [],
   "toc_visible": true
  },
  "kernelspec": {
   "display_name": "Python 3 (ipykernel)",
   "language": "python",
   "name": "python3"
  },
  "language_info": {
   "codemirror_mode": {
    "name": "ipython",
    "version": 3
   },
   "file_extension": ".py",
   "mimetype": "text/x-python",
   "name": "python",
   "nbconvert_exporter": "python",
   "pygments_lexer": "ipython3",
   "version": "3.8.10"
  }
 },
 "nbformat": 4,
 "nbformat_minor": 1
}